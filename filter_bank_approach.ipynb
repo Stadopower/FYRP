{
 "cells": [
  {
   "cell_type": "code",
   "execution_count": 1,
   "metadata": {
    "collapsed": true,
    "pycharm": {
     "name": "#%%\n"
    }
   },
   "outputs": [],
   "source": [
    "import numpy as np\n",
    "import mne\n",
    "from mne.preprocessing import read_ica\n",
    "from sklearn.metrics import classification_report, ConfusionMatrixDisplay\n",
    "from sklearn.model_selection import cross_val_predict, GridSearchCV\n",
    "from sklearn.feature_selection import mutual_info_classif, SelectKBest\n",
    "from sklearn.svm import SVC, SVR\n",
    "from sklearn.pipeline import Pipeline\n",
    "from sklearn.linear_model import LogisticRegression\n",
    "from mne.decoding import CSP, SPoC\n",
    "from continuous_control_bci.util import emg_classes_to_eeg_classes, SUBJECT_IDS\n",
    "from tqdm import tqdm\n",
    "import matplotlib as plt\n",
    "\n",
    "from sklearn.pipeline import FeatureUnion\n",
    "from continuous_control_bci.data.load_data import load_calibration, load_driving\n",
    "from continuous_control_bci.data.preprocessing import make_epochs, epochs_to_train_test\n",
    "from continuous_control_bci.modelling.csp_classifier import create_csp_classifier, get_driving_epochs_for_csp\n",
    "from scipy.signal import cheby2, sosfiltfilt\n",
    "from sklearn.metrics import f1_score"
   ]
  },
  {
   "cell_type": "code",
   "execution_count": 2,
   "outputs": [
    {
     "name": "stdout",
     "output_type": "stream",
     "text": [
      "Extracting EDF parameters from D:\\RUG\\Term 2\\FYRP\\data\\ivo_data\\sub-P061\\motor-imagery-csp-061-acquisition-[2024.02.07-14.35.15].gdf...\n",
      "GDF file detected\n",
      "Setting channel info structure...\n",
      "Could not determine channel type of the following channels, they will be set as EEG:\n",
      "Channel 1, Channel 2, Channel 3, Channel 4, Channel 5, Channel 6, Channel 7, Channel 8, Channel 9, Channel 10, Channel 11, Channel 12, Channel 13, Channel 14, Channel 15, Channel 16, Channel 17, Channel 18, Channel 19, Channel 20, Channel 21, Channel 22, Channel 23, Channel 24, Channel 25, Channel 26, Channel 27, Channel 28, Channel 29, Channel 30, Channel 31, Channel 32, EX 1, EX 2, EX 3, EX 4, EX 5, EX 6, EX 7, EX 8\n",
      "Creating raw.info structure...\n",
      "Reading 0 ... 882783  =      0.000 ...   431.046 secs...\n",
      "EEG channel type selected for re-referencing\n",
      "Applying average reference.\n",
      "Applying a custom ('EEG',) reference.\n",
      "Filtering raw data in 1 contiguous segment\n",
      "Setting up band-pass filter from 5 - 35 Hz\n",
      "\n",
      "FIR filter parameters\n",
      "---------------------\n",
      "Designing a one-pass, zero-phase, non-causal bandpass filter:\n",
      "- Windowed time-domain design (firwin) method\n",
      "- Hamming window with 0.0194 passband ripple and 53 dB stopband attenuation\n",
      "- Lower passband edge: 5.00\n",
      "- Lower transition bandwidth: 2.00 Hz (-6 dB cutoff frequency: 4.00 Hz)\n",
      "- Upper passband edge: 35.00 Hz\n",
      "- Upper transition bandwidth: 8.75 Hz (-6 dB cutoff frequency: 39.38 Hz)\n",
      "- Filter length: 3381 samples (1.651 s)\n",
      "\n"
     ]
    },
    {
     "name": "stderr",
     "output_type": "stream",
     "text": [
      "[Parallel(n_jobs=1)]: Using backend SequentialBackend with 1 concurrent workers.\n",
      "[Parallel(n_jobs=1)]: Done   1 out of   1 | elapsed:    0.0s remaining:    0.0s\n",
      "[Parallel(n_jobs=1)]: Done   2 out of   2 | elapsed:    0.0s remaining:    0.0s\n",
      "[Parallel(n_jobs=1)]: Done   3 out of   3 | elapsed:    0.0s remaining:    0.0s\n",
      "[Parallel(n_jobs=1)]: Done   4 out of   4 | elapsed:    0.0s remaining:    0.0s\n"
     ]
    },
    {
     "name": "stdout",
     "output_type": "stream",
     "text": [
      "Reading D:/RUG/Term 2/FYRP/data/ica/P061-calibration-ica.fif ...\n",
      "Now restoring ICA solution ...\n",
      "Ready.\n",
      "Applying ICA to Raw instance\n"
     ]
    },
    {
     "name": "stderr",
     "output_type": "stream",
     "text": [
      "[Parallel(n_jobs=1)]: Done  32 out of  32 | elapsed:    0.4s finished\n"
     ]
    },
    {
     "name": "stdout",
     "output_type": "stream",
     "text": [
      "    Transforming to ICA space (32 components)\n",
      "    Zeroing out 2 ICA components\n",
      "    Projecting back using 32 PCA components\n",
      "Used Annotations descriptions: ['769', '770']\n",
      "Not setting metadata\n",
      "40 matching events found\n",
      "No baseline correction applied\n",
      "0 projection items activated\n",
      "Using data from preloaded Raw for 40 events and 7681 original time points ...\n",
      "0 bad epochs dropped\n",
      "Used Annotations descriptions: ['800']\n",
      "Not setting metadata\n",
      "40 matching events found\n",
      "No baseline correction applied\n",
      "0 projection items activated\n",
      "Using data from preloaded Raw for 40 events and 7681 original time points ...\n",
      "0 bad epochs dropped\n",
      "Not setting metadata\n",
      "80 matching events found\n",
      "No baseline correction applied\n",
      "Training classifier. This may take a while..\n"
     ]
    },
    {
     "name": "stderr",
     "output_type": "stream",
     "text": [
      "D:\\RUG\\Term 2\\FYRP\\continuous_control_bci\\continuous_control_bci\\data\\preprocessing.py:83: RuntimeWarning: Concatenation of Annotations within Epochs is not supported yet. All annotations will be dropped.\n",
      "  epochs = mne.concatenate_epochs([epochs, rest_epochs], add_offset=False)\n",
      "D:\\RUG\\Term 2\\FYRP\\continuous_control_bci\\continuous_control_bci\\data\\preprocessing.py:83: RuntimeWarning: The events passed to the Epochs constructor are not chronologically ordered.\n",
      "  epochs = mne.concatenate_epochs([epochs, rest_epochs], add_offset=False)\n"
     ]
    },
    {
     "name": "stdout",
     "output_type": "stream",
     "text": [
      "Computing rank from data with rank={'eeg': 30, 'mag': 32}\n",
      "    Setting small MAG eigenvalues to zero (without PCA)\n",
      "Reducing data rank from 32 -> 32\n",
      "Estimating covariance using SHRINKAGE\n",
      "Done.\n",
      "Computing rank from data with rank={'eeg': 30, 'mag': 32}\n",
      "    Setting small MAG eigenvalues to zero (without PCA)\n",
      "Reducing data rank from 32 -> 32\n",
      "Estimating covariance using SHRINKAGE\n",
      "Done.\n",
      "Computing rank from data with rank={'eeg': 30, 'mag': 32}\n",
      "    Setting small MAG eigenvalues to zero (without PCA)\n",
      "Reducing data rank from 32 -> 32\n",
      "Estimating covariance using SHRINKAGE\n",
      "Done.\n",
      "Computing rank from data with rank={'eeg': 30, 'mag': 32}\n",
      "    Setting small MAG eigenvalues to zero (without PCA)\n",
      "Reducing data rank from 32 -> 32\n",
      "Estimating covariance using SHRINKAGE\n",
      "Done.\n",
      "Computing rank from data with rank={'eeg': 30, 'mag': 32}\n",
      "    Setting small MAG eigenvalues to zero (without PCA)\n",
      "Reducing data rank from 32 -> 32\n",
      "Estimating covariance using SHRINKAGE\n",
      "Done.\n",
      "Computing rank from data with rank={'eeg': 30, 'mag': 32}\n",
      "    Setting small MAG eigenvalues to zero (without PCA)\n",
      "Reducing data rank from 32 -> 32\n",
      "Estimating covariance using SHRINKAGE\n",
      "Done.\n",
      "Computing rank from data with rank={'eeg': 30, 'mag': 32}\n",
      "    Setting small MAG eigenvalues to zero (without PCA)\n",
      "Reducing data rank from 32 -> 32\n",
      "Estimating covariance using SHRINKAGE\n",
      "Done.\n",
      "Computing rank from data with rank={'eeg': 30, 'mag': 32}\n",
      "    Setting small MAG eigenvalues to zero (without PCA)\n",
      "Reducing data rank from 32 -> 32\n",
      "Estimating covariance using SHRINKAGE\n",
      "Done.\n",
      "Computing rank from data with rank={'eeg': 30, 'mag': 32}\n",
      "    Setting small MAG eigenvalues to zero (without PCA)\n",
      "Reducing data rank from 32 -> 32\n",
      "Estimating covariance using SHRINKAGE\n",
      "Done.\n",
      "Computing rank from data with rank={'eeg': 30, 'mag': 32}\n",
      "    Setting small MAG eigenvalues to zero (without PCA)\n",
      "Reducing data rank from 32 -> 32\n",
      "Estimating covariance using SHRINKAGE\n",
      "Done.\n",
      "Computing rank from data with rank={'eeg': 30, 'mag': 32}\n",
      "    Setting small MAG eigenvalues to zero (without PCA)\n",
      "Reducing data rank from 32 -> 32\n",
      "Estimating covariance using SHRINKAGE\n",
      "Done.\n",
      "Computing rank from data with rank={'eeg': 30, 'mag': 32}\n",
      "    Setting small MAG eigenvalues to zero (without PCA)\n",
      "Reducing data rank from 32 -> 32\n",
      "Estimating covariance using SHRINKAGE\n",
      "Done.\n",
      "Computing rank from data with rank={'eeg': 30, 'mag': 32}\n",
      "    Setting small MAG eigenvalues to zero (without PCA)\n",
      "Reducing data rank from 32 -> 32\n",
      "Estimating covariance using SHRINKAGE\n",
      "Done.\n",
      "Computing rank from data with rank={'eeg': 30, 'mag': 32}\n",
      "    Setting small MAG eigenvalues to zero (without PCA)\n",
      "Reducing data rank from 32 -> 32\n",
      "Estimating covariance using SHRINKAGE\n",
      "Done.\n",
      "Computing rank from data with rank={'eeg': 30, 'mag': 32}\n",
      "    Setting small MAG eigenvalues to zero (without PCA)\n",
      "Reducing data rank from 32 -> 32\n",
      "Estimating covariance using SHRINKAGE\n",
      "Done.\n",
      "Computing rank from data with rank={'eeg': 30, 'mag': 32}\n",
      "    Setting small MAG eigenvalues to zero (without PCA)\n",
      "Reducing data rank from 32 -> 32\n",
      "Estimating covariance using SHRINKAGE\n",
      "Done.\n",
      "Computing rank from data with rank={'eeg': 30, 'mag': 32}\n",
      "    Setting small MAG eigenvalues to zero (without PCA)\n",
      "Reducing data rank from 32 -> 32\n",
      "Estimating covariance using SHRINKAGE\n",
      "Done.\n",
      "Computing rank from data with rank={'eeg': 30, 'mag': 32}\n",
      "    Setting small MAG eigenvalues to zero (without PCA)\n",
      "Reducing data rank from 32 -> 32\n",
      "Estimating covariance using SHRINKAGE\n",
      "Done.\n",
      "Classifier trained!\n"
     ]
    }
   ],
   "source": [
    "# Subject 61 should have fairly good EEG data and performance\n",
    "subject_id = \"061\"\n",
    "include_rest = True\n",
    "raw = load_calibration(subject_id)\n",
    "raw.set_eeg_reference()\n",
    "raw.filter(l_freq=5, h_freq=35)\n",
    "\n",
    "ica = read_ica(f'D:/RUG/Term 2/FYRP/data/ica/P{subject_id}-calibration-ica.fif')\n",
    "ica.apply(raw)\n",
    "\n",
    "epochs = make_epochs(raw, include_rest=include_rest)\n",
    "eeg_channel_indices = mne.pick_types(raw.info, eeg=True, emg=False)\n",
    "\n",
    "X_train, _, y_train, _ = epochs_to_train_test(epochs)\n",
    "print(\"Training classifier. This may take a while..\")\n",
    "rank = {\n",
    "    'eeg': X_train.shape[1] - len(ica.exclude),\n",
    "    'mag': 32,\n",
    "}\n",
    "clf, y_pred = create_csp_classifier(X_train, y_train, rank)\n",
    "#svm_model, y_svm_pred = create_csp_svm_classifier(X_train, y_train, rank)\n",
    "print(\"Classifier trained!\")\n"
   ],
   "metadata": {
    "collapsed": false,
    "pycharm": {
     "name": "#%%\n"
    }
   }
  },
  {
   "cell_type": "code",
   "execution_count": 3,
   "outputs": [
    {
     "name": "stdout",
     "output_type": "stream",
     "text": [
      "\n",
      "IIR filter parameters\n",
      "---------------------\n",
      "Chebyshev II bandpass zero-phase (two-pass forward and reverse) non-causal filter:\n",
      "- Filter order 16 (effective, after forward-backward)\n",
      "- Cutoffs at 4.00, 8.00 Hz: -20.00, -20.00 dB\n",
      "\n",
      "\n",
      "IIR filter parameters\n",
      "---------------------\n",
      "Chebyshev II bandpass zero-phase (two-pass forward and reverse) non-causal filter:\n",
      "- Filter order 16 (effective, after forward-backward)\n",
      "- Cutoffs at 4.00, 12.00 Hz: -20.00, -20.00 dB\n",
      "\n",
      "\n",
      "IIR filter parameters\n",
      "---------------------\n",
      "Chebyshev II bandpass zero-phase (two-pass forward and reverse) non-causal filter:\n",
      "- Filter order 16 (effective, after forward-backward)\n",
      "- Cutoffs at 8.00, 12.00 Hz: -20.00, -20.00 dB\n",
      "\n",
      "\n",
      "IIR filter parameters\n",
      "---------------------\n",
      "Chebyshev II bandpass zero-phase (two-pass forward and reverse) non-causal filter:\n",
      "- Filter order 16 (effective, after forward-backward)\n",
      "- Cutoffs at 10.00, 14.00 Hz: -20.00, -20.00 dB\n",
      "\n",
      "\n",
      "IIR filter parameters\n",
      "---------------------\n",
      "Chebyshev II bandpass zero-phase (two-pass forward and reverse) non-causal filter:\n",
      "- Filter order 16 (effective, after forward-backward)\n",
      "- Cutoffs at 12.00, 16.00 Hz: -20.00, -20.00 dB\n",
      "\n",
      "\n",
      "IIR filter parameters\n",
      "---------------------\n",
      "Chebyshev II bandpass zero-phase (two-pass forward and reverse) non-causal filter:\n",
      "- Filter order 16 (effective, after forward-backward)\n",
      "- Cutoffs at 13.00, 30.00 Hz: -20.00, -20.00 dB\n",
      "\n"
     ]
    }
   ],
   "source": [
    "# Function for filtering the signal\n",
    "freq_bands = [[4,8],[4,12],[8,12],[10,14],[12,16],[13,30]]\n",
    "\n",
    "def filter_bank(raw:np.ndarray, freq_bands, order:int):\n",
    "    filtered_signals = [[] for _ in range(len(freq_bands))]\n",
    "    for i, freq_band in enumerate(freq_bands):\n",
    "        iir_params = dict(order=order, ftype=\"cheby2\", output='sos', rs=10) # what exactly is rs? How do i know which order to use?\n",
    "        iir_params = mne.filter.construct_iir_filter(iir_params, f_pass=freq_band, sfreq=2048, btype=\"bandpass\")\n",
    "        filtered_raw = sosfiltfilt(iir_params['sos'], raw)\n",
    "        filtered_signals[i].append(filtered_raw)\n",
    "    filtered_signals = np.asarray(filtered_signals)\n",
    "    filtered_signals = filtered_signals[:,0]\n",
    "    return filtered_signals\n",
    "\n",
    "\n",
    "x = filter_bank(epochs.get_data(picks=eeg_channel_indices),freq_bands, 4)\n",
    "\n",
    "\n",
    "# Apply CSP to all filter bands\n",
    "# Then SKlearns mutual_info_classif to optain best features for SVM\n",
    "# Then make a pipeline for it"
   ],
   "metadata": {
    "collapsed": false,
    "pycharm": {
     "name": "#%%\n"
    }
   }
  },
  {
   "cell_type": "code",
   "execution_count": 4,
   "outputs": [
    {
     "name": "stdout",
     "output_type": "stream",
     "text": [
      "Computing rank from data with rank={'eeg': 30, 'mag': 32}\n",
      "    Setting small MAG eigenvalues to zero (without PCA)\n",
      "Reducing data rank from 32 -> 32\n",
      "Estimating covariance using SHRINKAGE\n",
      "Done.\n",
      "Computing rank from data with rank={'eeg': 30, 'mag': 32}\n",
      "    Setting small MAG eigenvalues to zero (without PCA)\n",
      "Reducing data rank from 32 -> 32\n",
      "Estimating covariance using SHRINKAGE\n",
      "Done.\n",
      "Computing rank from data with rank={'eeg': 30, 'mag': 32}\n",
      "    Setting small MAG eigenvalues to zero (without PCA)\n",
      "Reducing data rank from 32 -> 32\n",
      "Estimating covariance using SHRINKAGE\n",
      "Done.\n",
      "Computing rank from data with rank={'eeg': 30, 'mag': 32}\n",
      "    Setting small MAG eigenvalues to zero (without PCA)\n",
      "Reducing data rank from 32 -> 32\n",
      "Estimating covariance using SHRINKAGE\n",
      "Done.\n",
      "Computing rank from data with rank={'eeg': 30, 'mag': 32}\n",
      "    Setting small MAG eigenvalues to zero (without PCA)\n",
      "Reducing data rank from 32 -> 32\n",
      "Estimating covariance using SHRINKAGE\n",
      "Done.\n",
      "Computing rank from data with rank={'eeg': 30, 'mag': 32}\n",
      "    Setting small MAG eigenvalues to zero (without PCA)\n",
      "Reducing data rank from 32 -> 32\n",
      "Estimating covariance using SHRINKAGE\n",
      "Done.\n",
      "Computing rank from data with rank={'eeg': 30, 'mag': 32}\n",
      "    Setting small MAG eigenvalues to zero (without PCA)\n",
      "Reducing data rank from 32 -> 32\n",
      "Estimating covariance using SHRINKAGE\n",
      "Done.\n",
      "Computing rank from data with rank={'eeg': 30, 'mag': 32}\n",
      "    Setting small MAG eigenvalues to zero (without PCA)\n",
      "Reducing data rank from 32 -> 32\n",
      "Estimating covariance using SHRINKAGE\n",
      "Done.\n",
      "Computing rank from data with rank={'eeg': 30, 'mag': 32}\n",
      "    Setting small MAG eigenvalues to zero (without PCA)\n",
      "Reducing data rank from 32 -> 32\n",
      "Estimating covariance using SHRINKAGE\n",
      "Done.\n",
      "Computing rank from data with rank={'eeg': 30, 'mag': 32}\n",
      "    Setting small MAG eigenvalues to zero (without PCA)\n",
      "Reducing data rank from 32 -> 32\n",
      "Estimating covariance using SHRINKAGE\n",
      "Done.\n",
      "Computing rank from data with rank={'eeg': 30, 'mag': 32}\n",
      "    Setting small MAG eigenvalues to zero (without PCA)\n",
      "Reducing data rank from 32 -> 32\n",
      "Estimating covariance using SHRINKAGE\n",
      "Done.\n",
      "Computing rank from data with rank={'eeg': 30, 'mag': 32}\n",
      "    Setting small MAG eigenvalues to zero (without PCA)\n",
      "Reducing data rank from 32 -> 32\n",
      "Estimating covariance using SHRINKAGE\n",
      "Done.\n",
      "Computing rank from data with rank={'eeg': 30, 'mag': 32}\n",
      "    Setting small MAG eigenvalues to zero (without PCA)\n",
      "Reducing data rank from 32 -> 32\n",
      "Estimating covariance using SHRINKAGE\n",
      "Done.\n",
      "Computing rank from data with rank={'eeg': 30, 'mag': 32}\n",
      "    Setting small MAG eigenvalues to zero (without PCA)\n",
      "Reducing data rank from 32 -> 32\n",
      "Estimating covariance using SHRINKAGE\n",
      "Done.\n",
      "Computing rank from data with rank={'eeg': 30, 'mag': 32}\n",
      "    Setting small MAG eigenvalues to zero (without PCA)\n",
      "Reducing data rank from 32 -> 32\n",
      "Estimating covariance using SHRINKAGE\n",
      "Done.\n",
      "Computing rank from data with rank={'eeg': 30, 'mag': 32}\n",
      "    Setting small MAG eigenvalues to zero (without PCA)\n",
      "Reducing data rank from 32 -> 32\n",
      "Estimating covariance using SHRINKAGE\n",
      "Done.\n",
      "Computing rank from data with rank={'eeg': 30, 'mag': 32}\n",
      "    Setting small MAG eigenvalues to zero (without PCA)\n",
      "Reducing data rank from 32 -> 32\n",
      "Estimating covariance using SHRINKAGE\n",
      "Done.\n",
      "Computing rank from data with rank={'eeg': 30, 'mag': 32}\n",
      "    Setting small MAG eigenvalues to zero (without PCA)\n",
      "Reducing data rank from 32 -> 32\n",
      "Estimating covariance using SHRINKAGE\n",
      "Done.\n",
      "Computing rank from data with rank={'eeg': 30, 'mag': 32}\n",
      "    Setting small MAG eigenvalues to zero (without PCA)\n",
      "Reducing data rank from 32 -> 32\n",
      "Estimating covariance using SHRINKAGE\n",
      "Done.\n",
      "Computing rank from data with rank={'eeg': 30, 'mag': 32}\n",
      "    Setting small MAG eigenvalues to zero (without PCA)\n",
      "Reducing data rank from 32 -> 32\n",
      "Estimating covariance using SHRINKAGE\n",
      "Done.\n",
      "Computing rank from data with rank={'eeg': 30, 'mag': 32}\n",
      "    Setting small MAG eigenvalues to zero (without PCA)\n",
      "Reducing data rank from 32 -> 32\n",
      "Estimating covariance using SHRINKAGE\n",
      "Done.\n",
      "Computing rank from data with rank={'eeg': 30, 'mag': 32}\n",
      "    Setting small MAG eigenvalues to zero (without PCA)\n",
      "Reducing data rank from 32 -> 32\n",
      "Estimating covariance using SHRINKAGE\n",
      "Done.\n",
      "Computing rank from data with rank={'eeg': 30, 'mag': 32}\n",
      "    Setting small MAG eigenvalues to zero (without PCA)\n",
      "Reducing data rank from 32 -> 32\n",
      "Estimating covariance using SHRINKAGE\n",
      "Done.\n",
      "Computing rank from data with rank={'eeg': 30, 'mag': 32}\n",
      "    Setting small MAG eigenvalues to zero (without PCA)\n",
      "Reducing data rank from 32 -> 32\n",
      "Estimating covariance using SHRINKAGE\n",
      "Done.\n",
      "Computing rank from data with rank={'eeg': 30, 'mag': 32}\n",
      "    Setting small MAG eigenvalues to zero (without PCA)\n",
      "Reducing data rank from 32 -> 32\n",
      "Estimating covariance using SHRINKAGE\n",
      "Done.\n",
      "Computing rank from data with rank={'eeg': 30, 'mag': 32}\n",
      "    Setting small MAG eigenvalues to zero (without PCA)\n",
      "Reducing data rank from 32 -> 32\n",
      "Estimating covariance using SHRINKAGE\n",
      "Done.\n",
      "Computing rank from data with rank={'eeg': 30, 'mag': 32}\n",
      "    Setting small MAG eigenvalues to zero (without PCA)\n",
      "Reducing data rank from 32 -> 32\n",
      "Estimating covariance using SHRINKAGE\n",
      "Done.\n",
      "Computing rank from data with rank={'eeg': 30, 'mag': 32}\n",
      "    Setting small MAG eigenvalues to zero (without PCA)\n",
      "Reducing data rank from 32 -> 32\n",
      "Estimating covariance using SHRINKAGE\n",
      "Done.\n",
      "Computing rank from data with rank={'eeg': 30, 'mag': 32}\n",
      "    Setting small MAG eigenvalues to zero (without PCA)\n",
      "Reducing data rank from 32 -> 32\n",
      "Estimating covariance using SHRINKAGE\n",
      "Done.\n",
      "Computing rank from data with rank={'eeg': 30, 'mag': 32}\n",
      "    Setting small MAG eigenvalues to zero (without PCA)\n",
      "Reducing data rank from 32 -> 32\n",
      "Estimating covariance using SHRINKAGE\n",
      "Done.\n",
      "Computing rank from data with rank={'eeg': 30, 'mag': 32}\n",
      "    Setting small MAG eigenvalues to zero (without PCA)\n",
      "Reducing data rank from 32 -> 32\n",
      "Estimating covariance using SHRINKAGE\n",
      "Done.\n",
      "Computing rank from data with rank={'eeg': 30, 'mag': 32}\n",
      "    Setting small MAG eigenvalues to zero (without PCA)\n",
      "Reducing data rank from 32 -> 32\n",
      "Estimating covariance using SHRINKAGE\n",
      "Done.\n",
      "Computing rank from data with rank={'eeg': 30, 'mag': 32}\n",
      "    Setting small MAG eigenvalues to zero (without PCA)\n",
      "Reducing data rank from 32 -> 32\n",
      "Estimating covariance using SHRINKAGE\n",
      "Done.\n",
      "Computing rank from data with rank={'eeg': 30, 'mag': 32}\n",
      "    Setting small MAG eigenvalues to zero (without PCA)\n",
      "Reducing data rank from 32 -> 32\n",
      "Estimating covariance using SHRINKAGE\n",
      "Done.\n",
      "Computing rank from data with rank={'eeg': 30, 'mag': 32}\n",
      "    Setting small MAG eigenvalues to zero (without PCA)\n",
      "Reducing data rank from 32 -> 32\n",
      "Estimating covariance using SHRINKAGE\n",
      "Done.\n",
      "Computing rank from data with rank={'eeg': 30, 'mag': 32}\n",
      "    Setting small MAG eigenvalues to zero (without PCA)\n",
      "Reducing data rank from 32 -> 32\n",
      "Estimating covariance using SHRINKAGE\n",
      "Done.\n",
      "Computing rank from data with rank={'eeg': 30, 'mag': 32}\n",
      "    Setting small MAG eigenvalues to zero (without PCA)\n",
      "Reducing data rank from 32 -> 32\n",
      "Estimating covariance using SHRINKAGE\n",
      "Done.\n",
      "Computing rank from data with rank={'eeg': 30, 'mag': 32}\n",
      "    Setting small MAG eigenvalues to zero (without PCA)\n",
      "Reducing data rank from 32 -> 32\n",
      "Estimating covariance using SHRINKAGE\n",
      "Done.\n",
      "Computing rank from data with rank={'eeg': 30, 'mag': 32}\n",
      "    Setting small MAG eigenvalues to zero (without PCA)\n",
      "Reducing data rank from 32 -> 32\n",
      "Estimating covariance using SHRINKAGE\n",
      "Done.\n",
      "Computing rank from data with rank={'eeg': 30, 'mag': 32}\n",
      "    Setting small MAG eigenvalues to zero (without PCA)\n",
      "Reducing data rank from 32 -> 32\n",
      "Estimating covariance using SHRINKAGE\n",
      "Done.\n",
      "Computing rank from data with rank={'eeg': 30, 'mag': 32}\n",
      "    Setting small MAG eigenvalues to zero (without PCA)\n",
      "Reducing data rank from 32 -> 32\n",
      "Estimating covariance using SHRINKAGE\n",
      "Done.\n",
      "Computing rank from data with rank={'eeg': 30, 'mag': 32}\n",
      "    Setting small MAG eigenvalues to zero (without PCA)\n",
      "Reducing data rank from 32 -> 32\n",
      "Estimating covariance using SHRINKAGE\n",
      "Done.\n",
      "Computing rank from data with rank={'eeg': 30, 'mag': 32}\n",
      "    Setting small MAG eigenvalues to zero (without PCA)\n",
      "Reducing data rank from 32 -> 32\n",
      "Estimating covariance using SHRINKAGE\n",
      "Done.\n",
      "Computing rank from data with rank={'eeg': 30, 'mag': 32}\n",
      "    Setting small MAG eigenvalues to zero (without PCA)\n",
      "Reducing data rank from 32 -> 32\n",
      "Estimating covariance using SHRINKAGE\n",
      "Done.\n",
      "Computing rank from data with rank={'eeg': 30, 'mag': 32}\n",
      "    Setting small MAG eigenvalues to zero (without PCA)\n",
      "Reducing data rank from 32 -> 32\n",
      "Estimating covariance using SHRINKAGE\n",
      "Done.\n",
      "Computing rank from data with rank={'eeg': 30, 'mag': 32}\n",
      "    Setting small MAG eigenvalues to zero (without PCA)\n",
      "Reducing data rank from 32 -> 32\n",
      "Estimating covariance using SHRINKAGE\n",
      "Done.\n",
      "Computing rank from data with rank={'eeg': 30, 'mag': 32}\n",
      "    Setting small MAG eigenvalues to zero (without PCA)\n",
      "Reducing data rank from 32 -> 32\n",
      "Estimating covariance using SHRINKAGE\n",
      "Done.\n",
      "Computing rank from data with rank={'eeg': 30, 'mag': 32}\n",
      "    Setting small MAG eigenvalues to zero (without PCA)\n",
      "Reducing data rank from 32 -> 32\n",
      "Estimating covariance using SHRINKAGE\n",
      "Done.\n",
      "Computing rank from data with rank={'eeg': 30, 'mag': 32}\n",
      "    Setting small MAG eigenvalues to zero (without PCA)\n",
      "Reducing data rank from 32 -> 32\n",
      "Estimating covariance using SHRINKAGE\n",
      "Done.\n",
      "Computing rank from data with rank={'eeg': 30, 'mag': 32}\n",
      "    Setting small MAG eigenvalues to zero (without PCA)\n",
      "Reducing data rank from 32 -> 32\n",
      "Estimating covariance using SHRINKAGE\n",
      "Done.\n",
      "Computing rank from data with rank={'eeg': 30, 'mag': 32}\n",
      "    Setting small MAG eigenvalues to zero (without PCA)\n",
      "Reducing data rank from 32 -> 32\n",
      "Estimating covariance using SHRINKAGE\n",
      "Done.\n",
      "Computing rank from data with rank={'eeg': 30, 'mag': 32}\n",
      "    Setting small MAG eigenvalues to zero (without PCA)\n",
      "Reducing data rank from 32 -> 32\n",
      "Estimating covariance using SHRINKAGE\n",
      "Done.\n",
      "Computing rank from data with rank={'eeg': 30, 'mag': 32}\n",
      "    Setting small MAG eigenvalues to zero (without PCA)\n",
      "Reducing data rank from 32 -> 32\n",
      "Estimating covariance using SHRINKAGE\n",
      "Done.\n",
      "Computing rank from data with rank={'eeg': 30, 'mag': 32}\n",
      "    Setting small MAG eigenvalues to zero (without PCA)\n",
      "Reducing data rank from 32 -> 32\n",
      "Estimating covariance using SHRINKAGE\n",
      "Done.\n",
      "Computing rank from data with rank={'eeg': 30, 'mag': 32}\n",
      "    Setting small MAG eigenvalues to zero (without PCA)\n",
      "Reducing data rank from 32 -> 32\n",
      "Estimating covariance using SHRINKAGE\n",
      "Done.\n",
      "Computing rank from data with rank={'eeg': 30, 'mag': 32}\n",
      "    Setting small MAG eigenvalues to zero (without PCA)\n",
      "Reducing data rank from 32 -> 32\n",
      "Estimating covariance using SHRINKAGE\n",
      "Done.\n",
      "Computing rank from data with rank={'eeg': 30, 'mag': 32}\n",
      "    Setting small MAG eigenvalues to zero (without PCA)\n",
      "Reducing data rank from 32 -> 32\n",
      "Estimating covariance using SHRINKAGE\n",
      "Done.\n",
      "Computing rank from data with rank={'eeg': 30, 'mag': 32}\n",
      "    Setting small MAG eigenvalues to zero (without PCA)\n",
      "Reducing data rank from 32 -> 32\n",
      "Estimating covariance using SHRINKAGE\n",
      "Done.\n",
      "Computing rank from data with rank={'eeg': 30, 'mag': 32}\n",
      "    Setting small MAG eigenvalues to zero (without PCA)\n",
      "Reducing data rank from 32 -> 32\n",
      "Estimating covariance using SHRINKAGE\n",
      "Done.\n",
      "Computing rank from data with rank={'eeg': 30, 'mag': 32}\n",
      "    Setting small MAG eigenvalues to zero (without PCA)\n",
      "Reducing data rank from 32 -> 32\n",
      "Estimating covariance using SHRINKAGE\n",
      "Done.\n",
      "Computing rank from data with rank={'eeg': 30, 'mag': 32}\n",
      "    Setting small MAG eigenvalues to zero (without PCA)\n",
      "Reducing data rank from 32 -> 32\n",
      "Estimating covariance using SHRINKAGE\n",
      "Done.\n",
      "Computing rank from data with rank={'eeg': 30, 'mag': 32}\n",
      "    Setting small MAG eigenvalues to zero (without PCA)\n",
      "Reducing data rank from 32 -> 32\n",
      "Estimating covariance using SHRINKAGE\n",
      "Done.\n",
      "Computing rank from data with rank={'eeg': 30, 'mag': 32}\n",
      "    Setting small MAG eigenvalues to zero (without PCA)\n",
      "Reducing data rank from 32 -> 32\n",
      "Estimating covariance using SHRINKAGE\n",
      "Done.\n",
      "Computing rank from data with rank={'eeg': 30, 'mag': 32}\n",
      "    Setting small MAG eigenvalues to zero (without PCA)\n",
      "Reducing data rank from 32 -> 32\n",
      "Estimating covariance using SHRINKAGE\n",
      "Done.\n",
      "Computing rank from data with rank={'eeg': 30, 'mag': 32}\n",
      "    Setting small MAG eigenvalues to zero (without PCA)\n",
      "Reducing data rank from 32 -> 32\n",
      "Estimating covariance using SHRINKAGE\n",
      "Done.\n",
      "Computing rank from data with rank={'eeg': 30, 'mag': 32}\n",
      "    Setting small MAG eigenvalues to zero (without PCA)\n",
      "Reducing data rank from 32 -> 32\n",
      "Estimating covariance using SHRINKAGE\n",
      "Done.\n",
      "Computing rank from data with rank={'eeg': 30, 'mag': 32}\n",
      "    Setting small MAG eigenvalues to zero (without PCA)\n",
      "Reducing data rank from 32 -> 32\n",
      "Estimating covariance using SHRINKAGE\n",
      "Done.\n",
      "Computing rank from data with rank={'eeg': 30, 'mag': 32}\n",
      "    Setting small MAG eigenvalues to zero (without PCA)\n",
      "Reducing data rank from 32 -> 32\n",
      "Estimating covariance using SHRINKAGE\n",
      "Done.\n",
      "Computing rank from data with rank={'eeg': 30, 'mag': 32}\n",
      "    Setting small MAG eigenvalues to zero (without PCA)\n",
      "Reducing data rank from 32 -> 32\n",
      "Estimating covariance using SHRINKAGE\n",
      "Done.\n",
      "Computing rank from data with rank={'eeg': 30, 'mag': 32}\n",
      "    Setting small MAG eigenvalues to zero (without PCA)\n",
      "Reducing data rank from 32 -> 32\n",
      "Estimating covariance using SHRINKAGE\n",
      "Done.\n",
      "Computing rank from data with rank={'eeg': 30, 'mag': 32}\n",
      "    Setting small MAG eigenvalues to zero (without PCA)\n",
      "Reducing data rank from 32 -> 32\n",
      "Estimating covariance using SHRINKAGE\n",
      "Done.\n",
      "Computing rank from data with rank={'eeg': 30, 'mag': 32}\n",
      "    Setting small MAG eigenvalues to zero (without PCA)\n",
      "Reducing data rank from 32 -> 32\n",
      "Estimating covariance using SHRINKAGE\n",
      "Done.\n",
      "Computing rank from data with rank={'eeg': 30, 'mag': 32}\n",
      "    Setting small MAG eigenvalues to zero (without PCA)\n",
      "Reducing data rank from 32 -> 32\n",
      "Estimating covariance using SHRINKAGE\n",
      "Done.\n",
      "Computing rank from data with rank={'eeg': 30, 'mag': 32}\n",
      "    Setting small MAG eigenvalues to zero (without PCA)\n",
      "Reducing data rank from 32 -> 32\n",
      "Estimating covariance using SHRINKAGE\n",
      "Done.\n",
      "Computing rank from data with rank={'eeg': 30, 'mag': 32}\n",
      "    Setting small MAG eigenvalues to zero (without PCA)\n",
      "Reducing data rank from 32 -> 32\n",
      "Estimating covariance using SHRINKAGE\n",
      "Done.\n",
      "Computing rank from data with rank={'eeg': 30, 'mag': 32}\n",
      "    Setting small MAG eigenvalues to zero (without PCA)\n",
      "Reducing data rank from 32 -> 32\n",
      "Estimating covariance using SHRINKAGE\n",
      "Done.\n",
      "Computing rank from data with rank={'eeg': 30, 'mag': 32}\n",
      "    Setting small MAG eigenvalues to zero (without PCA)\n",
      "Reducing data rank from 32 -> 32\n",
      "Estimating covariance using SHRINKAGE\n",
      "Done.\n",
      "Computing rank from data with rank={'eeg': 30, 'mag': 32}\n",
      "    Setting small MAG eigenvalues to zero (without PCA)\n",
      "Reducing data rank from 32 -> 32\n",
      "Estimating covariance using SHRINKAGE\n",
      "Done.\n",
      "Computing rank from data with rank={'eeg': 30, 'mag': 32}\n",
      "    Setting small MAG eigenvalues to zero (without PCA)\n",
      "Reducing data rank from 32 -> 32\n",
      "Estimating covariance using SHRINKAGE\n",
      "Done.\n",
      "Computing rank from data with rank={'eeg': 30, 'mag': 32}\n",
      "    Setting small MAG eigenvalues to zero (without PCA)\n",
      "Reducing data rank from 32 -> 32\n",
      "Estimating covariance using SHRINKAGE\n",
      "Done.\n",
      "Computing rank from data with rank={'eeg': 30, 'mag': 32}\n",
      "    Setting small MAG eigenvalues to zero (without PCA)\n",
      "Reducing data rank from 32 -> 32\n",
      "Estimating covariance using SHRINKAGE\n",
      "Done.\n",
      "Computing rank from data with rank={'eeg': 30, 'mag': 32}\n",
      "    Setting small MAG eigenvalues to zero (without PCA)\n",
      "Reducing data rank from 32 -> 32\n",
      "Estimating covariance using SHRINKAGE\n",
      "Done.\n",
      "Computing rank from data with rank={'eeg': 30, 'mag': 32}\n",
      "    Setting small MAG eigenvalues to zero (without PCA)\n",
      "Reducing data rank from 32 -> 32\n",
      "Estimating covariance using SHRINKAGE\n",
      "Done.\n",
      "Computing rank from data with rank={'eeg': 30, 'mag': 32}\n",
      "    Setting small MAG eigenvalues to zero (without PCA)\n",
      "Reducing data rank from 32 -> 32\n",
      "Estimating covariance using SHRINKAGE\n",
      "Done.\n",
      "Computing rank from data with rank={'eeg': 30, 'mag': 32}\n",
      "    Setting small MAG eigenvalues to zero (without PCA)\n",
      "Reducing data rank from 32 -> 32\n",
      "Estimating covariance using SHRINKAGE\n",
      "Done.\n",
      "Computing rank from data with rank={'eeg': 30, 'mag': 32}\n",
      "    Setting small MAG eigenvalues to zero (without PCA)\n",
      "Reducing data rank from 32 -> 32\n",
      "Estimating covariance using SHRINKAGE\n",
      "Done.\n",
      "Computing rank from data with rank={'eeg': 30, 'mag': 32}\n",
      "    Setting small MAG eigenvalues to zero (without PCA)\n",
      "Reducing data rank from 32 -> 32\n",
      "Estimating covariance using SHRINKAGE\n",
      "Done.\n",
      "Computing rank from data with rank={'eeg': 30, 'mag': 32}\n",
      "    Setting small MAG eigenvalues to zero (without PCA)\n",
      "Reducing data rank from 32 -> 32\n",
      "Estimating covariance using SHRINKAGE\n",
      "Done.\n",
      "Computing rank from data with rank={'eeg': 30, 'mag': 32}\n",
      "    Setting small MAG eigenvalues to zero (without PCA)\n",
      "Reducing data rank from 32 -> 32\n",
      "Estimating covariance using SHRINKAGE\n",
      "Done.\n",
      "Computing rank from data with rank={'eeg': 30, 'mag': 32}\n",
      "    Setting small MAG eigenvalues to zero (without PCA)\n",
      "Reducing data rank from 32 -> 32\n",
      "Estimating covariance using SHRINKAGE\n",
      "Done.\n",
      "Computing rank from data with rank={'eeg': 30, 'mag': 32}\n",
      "    Setting small MAG eigenvalues to zero (without PCA)\n",
      "Reducing data rank from 32 -> 32\n",
      "Estimating covariance using SHRINKAGE\n",
      "Done.\n",
      "Computing rank from data with rank={'eeg': 30, 'mag': 32}\n",
      "    Setting small MAG eigenvalues to zero (without PCA)\n",
      "Reducing data rank from 32 -> 32\n",
      "Estimating covariance using SHRINKAGE\n",
      "Done.\n",
      "Computing rank from data with rank={'eeg': 30, 'mag': 32}\n",
      "    Setting small MAG eigenvalues to zero (without PCA)\n",
      "Reducing data rank from 32 -> 32\n",
      "Estimating covariance using SHRINKAGE\n",
      "Done.\n",
      "Computing rank from data with rank={'eeg': 30, 'mag': 32}\n",
      "    Setting small MAG eigenvalues to zero (without PCA)\n",
      "Reducing data rank from 32 -> 32\n",
      "Estimating covariance using SHRINKAGE\n",
      "Done.\n",
      "Computing rank from data with rank={'eeg': 30, 'mag': 32}\n",
      "    Setting small MAG eigenvalues to zero (without PCA)\n",
      "Reducing data rank from 32 -> 32\n",
      "Estimating covariance using SHRINKAGE\n",
      "Done.\n",
      "Computing rank from data with rank={'eeg': 30, 'mag': 32}\n",
      "    Setting small MAG eigenvalues to zero (without PCA)\n",
      "Reducing data rank from 32 -> 32\n",
      "Estimating covariance using SHRINKAGE\n",
      "Done.\n",
      "Computing rank from data with rank={'eeg': 30, 'mag': 32}\n",
      "    Setting small MAG eigenvalues to zero (without PCA)\n",
      "Reducing data rank from 32 -> 32\n",
      "Estimating covariance using SHRINKAGE\n",
      "Done.\n",
      "Computing rank from data with rank={'eeg': 30, 'mag': 32}\n",
      "    Setting small MAG eigenvalues to zero (without PCA)\n",
      "Reducing data rank from 32 -> 32\n",
      "Estimating covariance using SHRINKAGE\n",
      "Done.\n",
      "Computing rank from data with rank={'eeg': 30, 'mag': 32}\n",
      "    Setting small MAG eigenvalues to zero (without PCA)\n",
      "Reducing data rank from 32 -> 32\n",
      "Estimating covariance using SHRINKAGE\n",
      "Done.\n",
      "Computing rank from data with rank={'eeg': 30, 'mag': 32}\n",
      "    Setting small MAG eigenvalues to zero (without PCA)\n",
      "Reducing data rank from 32 -> 32\n",
      "Estimating covariance using SHRINKAGE\n",
      "Done.\n",
      "Computing rank from data with rank={'eeg': 30, 'mag': 32}\n",
      "    Setting small MAG eigenvalues to zero (without PCA)\n",
      "Reducing data rank from 32 -> 32\n",
      "Estimating covariance using SHRINKAGE\n",
      "Done.\n",
      "Computing rank from data with rank={'eeg': 30, 'mag': 32}\n",
      "    Setting small MAG eigenvalues to zero (without PCA)\n",
      "Reducing data rank from 32 -> 32\n",
      "Estimating covariance using SHRINKAGE\n",
      "Done.\n",
      "Computing rank from data with rank={'eeg': 30, 'mag': 32}\n",
      "    Setting small MAG eigenvalues to zero (without PCA)\n",
      "Reducing data rank from 32 -> 32\n",
      "Estimating covariance using SHRINKAGE\n",
      "Done.\n",
      "Computing rank from data with rank={'eeg': 30, 'mag': 32}\n",
      "    Setting small MAG eigenvalues to zero (without PCA)\n",
      "Reducing data rank from 32 -> 32\n",
      "Estimating covariance using SHRINKAGE\n",
      "Done.\n",
      "Computing rank from data with rank={'eeg': 30, 'mag': 32}\n",
      "    Setting small MAG eigenvalues to zero (without PCA)\n",
      "Reducing data rank from 32 -> 32\n",
      "Estimating covariance using SHRINKAGE\n",
      "Done.\n",
      "Computing rank from data with rank={'eeg': 30, 'mag': 32}\n",
      "    Setting small MAG eigenvalues to zero (without PCA)\n",
      "Reducing data rank from 32 -> 32\n",
      "Estimating covariance using SHRINKAGE\n",
      "Done.\n",
      "Computing rank from data with rank={'eeg': 30, 'mag': 32}\n",
      "    Setting small MAG eigenvalues to zero (without PCA)\n",
      "Reducing data rank from 32 -> 32\n",
      "Estimating covariance using SHRINKAGE\n",
      "Done.\n",
      "Computing rank from data with rank={'eeg': 30, 'mag': 32}\n",
      "    Setting small MAG eigenvalues to zero (without PCA)\n",
      "Reducing data rank from 32 -> 32\n",
      "Estimating covariance using SHRINKAGE\n",
      "Done.\n"
     ]
    }
   ],
   "source": [
    "# simply using the individual freq-ranges to make predictions\n",
    "y_preds = []\n",
    "clfs = []\n",
    "for data in x:\n",
    "    clf, y_pred = create_csp_classifier(data, y_train, rank)\n",
    "    clfs.append(clf)\n",
    "    y_preds.append(y_pred)"
   ],
   "metadata": {
    "collapsed": false,
    "pycharm": {
     "name": "#%%\n"
    }
   }
  },
  {
   "cell_type": "code",
   "execution_count": 5,
   "outputs": [
    {
     "name": "stdout",
     "output_type": "stream",
     "text": [
      "              precision    recall  f1-score   support\n",
      "\n",
      "        Left       0.44      0.40      0.42        20\n",
      "       Right       0.20      0.05      0.08        20\n",
      "        Rest       0.51      0.72      0.60        40\n",
      "\n",
      "    accuracy                           0.48        80\n",
      "   macro avg       0.38      0.39      0.37        80\n",
      "weighted avg       0.42      0.47      0.42        80\n",
      "\n",
      "              precision    recall  f1-score   support\n",
      "\n",
      "        Left       0.95      0.95      0.95        20\n",
      "       Right       0.81      0.85      0.83        20\n",
      "        Rest       0.92      0.90      0.91        40\n",
      "\n",
      "    accuracy                           0.90        80\n",
      "   macro avg       0.89      0.90      0.90        80\n",
      "weighted avg       0.90      0.90      0.90        80\n",
      "\n",
      "              precision    recall  f1-score   support\n",
      "\n",
      "        Left       0.94      0.85      0.89        20\n",
      "       Right       0.81      0.85      0.83        20\n",
      "        Rest       0.88      0.90      0.89        40\n",
      "\n",
      "    accuracy                           0.88        80\n",
      "   macro avg       0.88      0.87      0.87        80\n",
      "weighted avg       0.88      0.88      0.88        80\n",
      "\n",
      "              precision    recall  f1-score   support\n",
      "\n",
      "        Left       1.00      0.80      0.89        20\n",
      "       Right       0.82      0.70      0.76        20\n",
      "        Rest       0.81      0.95      0.87        40\n",
      "\n",
      "    accuracy                           0.85        80\n",
      "   macro avg       0.88      0.82      0.84        80\n",
      "weighted avg       0.86      0.85      0.85        80\n",
      "\n",
      "              precision    recall  f1-score   support\n",
      "\n",
      "        Left       0.53      0.40      0.46        20\n",
      "       Right       0.46      0.30      0.36        20\n",
      "        Rest       0.65      0.85      0.74        40\n",
      "\n",
      "    accuracy                           0.60        80\n",
      "   macro avg       0.55      0.52      0.52        80\n",
      "weighted avg       0.58      0.60      0.57        80\n",
      "\n",
      "              precision    recall  f1-score   support\n",
      "\n",
      "        Left       0.94      0.80      0.86        20\n",
      "       Right       0.93      0.70      0.80        20\n",
      "        Rest       0.81      0.97      0.89        40\n",
      "\n",
      "    accuracy                           0.86        80\n",
      "   macro avg       0.90      0.83      0.85        80\n",
      "weighted avg       0.87      0.86      0.86        80\n",
      "\n"
     ]
    }
   ],
   "source": [
    "for pred in y_preds:\n",
    "    print(classification_report(y_train, pred, target_names=[\"Left\", \"Right\", \"Rest\"]))"
   ],
   "metadata": {
    "collapsed": false,
    "pycharm": {
     "name": "#%%\n"
    }
   }
  },
  {
   "cell_type": "markdown",
   "source": [
    "# Now getting the CSP features from all bands and then finding the most informative ones"
   ],
   "metadata": {
    "collapsed": false,
    "pycharm": {
     "name": "#%% md\n"
    }
   }
  },
  {
   "cell_type": "code",
   "execution_count": 6,
   "outputs": [],
   "source": [
    "csp = CSP(n_components=6, reg='shrinkage', log=True, rank=rank, transform_into='average_power')\n",
    "def filter_bank_csp(raw:np.ndarray, y_train, freq_bands, order:int):\n",
    "    csp_channels = []\n",
    "    csp_info = []\n",
    "    for i, freq_band in enumerate(freq_bands):\n",
    "        iir_params = dict(order=order, ftype=\"cheby2\", output='sos', rs=10) # what exactly is rs? How do i know which order to use?\n",
    "        iir_params = mne.filter.construct_iir_filter(iir_params, f_pass=freq_band, sfreq=2048, btype=\"bandpass\")\n",
    "        filtered_raw = sosfiltfilt(iir_params['sos'], raw)\n",
    "        csp.fit(filtered_raw, y_train)\n",
    "        tmp = csp.transform(filtered_raw)\n",
    "        csp_info.append(csp)\n",
    "        if i == 0:\n",
    "            csp_channels = tmp\n",
    "        else:\n",
    "            csp_channels = np.concatenate((csp_channels, tmp), axis=1)\n",
    "    return csp_channels, csp_info"
   ],
   "metadata": {
    "collapsed": false,
    "pycharm": {
     "name": "#%%\n"
    }
   }
  },
  {
   "cell_type": "code",
   "execution_count": 7,
   "outputs": [
    {
     "name": "stdout",
     "output_type": "stream",
     "text": [
      "\n",
      "IIR filter parameters\n",
      "---------------------\n",
      "Chebyshev II bandpass zero-phase (two-pass forward and reverse) non-causal filter:\n",
      "- Filter order 16 (effective, after forward-backward)\n",
      "- Cutoffs at 4.00, 8.00 Hz: -20.00, -20.00 dB\n",
      "\n",
      "Computing rank from data with rank={'eeg': 30, 'mag': 32}\n",
      "    Setting small MAG eigenvalues to zero (without PCA)\n",
      "Reducing data rank from 32 -> 32\n",
      "Estimating covariance using SHRINKAGE\n",
      "Done.\n",
      "Computing rank from data with rank={'eeg': 30, 'mag': 32}\n",
      "    Setting small MAG eigenvalues to zero (without PCA)\n",
      "Reducing data rank from 32 -> 32\n",
      "Estimating covariance using SHRINKAGE\n",
      "Done.\n",
      "Computing rank from data with rank={'eeg': 30, 'mag': 32}\n",
      "    Setting small MAG eigenvalues to zero (without PCA)\n",
      "Reducing data rank from 32 -> 32\n",
      "Estimating covariance using SHRINKAGE\n",
      "Done.\n",
      "\n",
      "IIR filter parameters\n",
      "---------------------\n",
      "Chebyshev II bandpass zero-phase (two-pass forward and reverse) non-causal filter:\n",
      "- Filter order 16 (effective, after forward-backward)\n",
      "- Cutoffs at 4.00, 12.00 Hz: -20.00, -20.00 dB\n",
      "\n",
      "Computing rank from data with rank={'eeg': 30, 'mag': 32}\n",
      "    Setting small MAG eigenvalues to zero (without PCA)\n",
      "Reducing data rank from 32 -> 32\n",
      "Estimating covariance using SHRINKAGE\n",
      "Done.\n",
      "Computing rank from data with rank={'eeg': 30, 'mag': 32}\n",
      "    Setting small MAG eigenvalues to zero (without PCA)\n",
      "Reducing data rank from 32 -> 32\n",
      "Estimating covariance using SHRINKAGE\n",
      "Done.\n",
      "Computing rank from data with rank={'eeg': 30, 'mag': 32}\n",
      "    Setting small MAG eigenvalues to zero (without PCA)\n",
      "Reducing data rank from 32 -> 32\n",
      "Estimating covariance using SHRINKAGE\n",
      "Done.\n",
      "\n",
      "IIR filter parameters\n",
      "---------------------\n",
      "Chebyshev II bandpass zero-phase (two-pass forward and reverse) non-causal filter:\n",
      "- Filter order 16 (effective, after forward-backward)\n",
      "- Cutoffs at 8.00, 12.00 Hz: -20.00, -20.00 dB\n",
      "\n",
      "Computing rank from data with rank={'eeg': 30, 'mag': 32}\n",
      "    Setting small MAG eigenvalues to zero (without PCA)\n",
      "Reducing data rank from 32 -> 32\n",
      "Estimating covariance using SHRINKAGE\n",
      "Done.\n",
      "Computing rank from data with rank={'eeg': 30, 'mag': 32}\n",
      "    Setting small MAG eigenvalues to zero (without PCA)\n",
      "Reducing data rank from 32 -> 32\n",
      "Estimating covariance using SHRINKAGE\n",
      "Done.\n",
      "Computing rank from data with rank={'eeg': 30, 'mag': 32}\n",
      "    Setting small MAG eigenvalues to zero (without PCA)\n",
      "Reducing data rank from 32 -> 32\n",
      "Estimating covariance using SHRINKAGE\n",
      "Done.\n",
      "\n",
      "IIR filter parameters\n",
      "---------------------\n",
      "Chebyshev II bandpass zero-phase (two-pass forward and reverse) non-causal filter:\n",
      "- Filter order 16 (effective, after forward-backward)\n",
      "- Cutoffs at 10.00, 14.00 Hz: -20.00, -20.00 dB\n",
      "\n",
      "Computing rank from data with rank={'eeg': 30, 'mag': 32}\n",
      "    Setting small MAG eigenvalues to zero (without PCA)\n",
      "Reducing data rank from 32 -> 32\n",
      "Estimating covariance using SHRINKAGE\n",
      "Done.\n",
      "Computing rank from data with rank={'eeg': 30, 'mag': 32}\n",
      "    Setting small MAG eigenvalues to zero (without PCA)\n",
      "Reducing data rank from 32 -> 32\n",
      "Estimating covariance using SHRINKAGE\n",
      "Done.\n",
      "Computing rank from data with rank={'eeg': 30, 'mag': 32}\n",
      "    Setting small MAG eigenvalues to zero (without PCA)\n",
      "Reducing data rank from 32 -> 32\n",
      "Estimating covariance using SHRINKAGE\n",
      "Done.\n",
      "\n",
      "IIR filter parameters\n",
      "---------------------\n",
      "Chebyshev II bandpass zero-phase (two-pass forward and reverse) non-causal filter:\n",
      "- Filter order 16 (effective, after forward-backward)\n",
      "- Cutoffs at 12.00, 16.00 Hz: -20.00, -20.00 dB\n",
      "\n",
      "Computing rank from data with rank={'eeg': 30, 'mag': 32}\n",
      "    Setting small MAG eigenvalues to zero (without PCA)\n",
      "Reducing data rank from 32 -> 32\n",
      "Estimating covariance using SHRINKAGE\n",
      "Done.\n",
      "Computing rank from data with rank={'eeg': 30, 'mag': 32}\n",
      "    Setting small MAG eigenvalues to zero (without PCA)\n",
      "Reducing data rank from 32 -> 32\n",
      "Estimating covariance using SHRINKAGE\n",
      "Done.\n",
      "Computing rank from data with rank={'eeg': 30, 'mag': 32}\n",
      "    Setting small MAG eigenvalues to zero (without PCA)\n",
      "Reducing data rank from 32 -> 32\n",
      "Estimating covariance using SHRINKAGE\n",
      "Done.\n",
      "\n",
      "IIR filter parameters\n",
      "---------------------\n",
      "Chebyshev II bandpass zero-phase (two-pass forward and reverse) non-causal filter:\n",
      "- Filter order 16 (effective, after forward-backward)\n",
      "- Cutoffs at 13.00, 30.00 Hz: -20.00, -20.00 dB\n",
      "\n",
      "Computing rank from data with rank={'eeg': 30, 'mag': 32}\n",
      "    Setting small MAG eigenvalues to zero (without PCA)\n",
      "Reducing data rank from 32 -> 32\n",
      "Estimating covariance using SHRINKAGE\n",
      "Done.\n",
      "Computing rank from data with rank={'eeg': 30, 'mag': 32}\n",
      "    Setting small MAG eigenvalues to zero (without PCA)\n",
      "Reducing data rank from 32 -> 32\n",
      "Estimating covariance using SHRINKAGE\n",
      "Done.\n",
      "Computing rank from data with rank={'eeg': 30, 'mag': 32}\n",
      "    Setting small MAG eigenvalues to zero (without PCA)\n",
      "Reducing data rank from 32 -> 32\n",
      "Estimating covariance using SHRINKAGE\n",
      "Done.\n"
     ]
    },
    {
     "data": {
      "text/plain": "array([[-0.49640754, -0.72242938, -1.05047732, ..., -0.43396845,\n        -0.61082532, -0.20972365],\n       [-0.64518856, -1.08417172,  0.12367374, ..., -0.46880308,\n        -0.63132953, -0.443927  ],\n       [-0.84039391, -0.47078607,  0.55127967, ..., -0.54662501,\n        -0.86423456,  0.02998544],\n       ...,\n       [-0.51068572, -0.78608724, -0.40202641, ...,  0.08764144,\n         1.78820574, -0.03605475],\n       [-0.83349486, -0.58495126, -0.02367804, ..., -0.49518002,\n         0.30145204,  0.24704696],\n       [-0.26629352, -0.18727795, -0.49632512, ...,  0.20406627,\n         1.57326341,  0.10517648]])"
     },
     "execution_count": 7,
     "metadata": {},
     "output_type": "execute_result"
    }
   ],
   "source": [
    "a, csp_info = filter_bank_csp(X_train, y_train, freq_bands, 4)\n",
    "a"
   ],
   "metadata": {
    "collapsed": false,
    "pycharm": {
     "name": "#%%\n"
    }
   }
  },
  {
   "cell_type": "code",
   "execution_count": 8,
   "outputs": [
    {
     "data": {
      "text/plain": "(80, 36)"
     },
     "execution_count": 8,
     "metadata": {},
     "output_type": "execute_result"
    }
   ],
   "source": [
    "a.shape"
   ],
   "metadata": {
    "collapsed": false,
    "pycharm": {
     "name": "#%%\n"
    }
   }
  },
  {
   "cell_type": "code",
   "execution_count": 9,
   "outputs": [
    {
     "name": "stdout",
     "output_type": "stream",
     "text": [
      "              precision    recall  f1-score   support\n",
      "\n",
      "        Left       1.00      0.85      0.92        20\n",
      "       Right       0.90      0.95      0.93        20\n",
      "        Rest       0.93      0.97      0.95        40\n",
      "\n",
      "    accuracy                           0.94        80\n",
      "   macro avg       0.94      0.92      0.93        80\n",
      "weighted avg       0.94      0.94      0.94        80\n",
      "\n"
     ]
    }
   ],
   "source": [
    "clf = LogisticRegression()\n",
    "y_pred_fbcsp = cross_val_predict(clf, a, y_train, cv=5)\n",
    "print(classification_report(y_train, y_pred_fbcsp, target_names=[\"Left\", \"Right\", \"Rest\"]))"
   ],
   "metadata": {
    "collapsed": false,
    "pycharm": {
     "name": "#%%\n"
    }
   }
  },
  {
   "cell_type": "markdown",
   "source": [
    "# Using SelectKBest to find most informative 10 channels for prediction"
   ],
   "metadata": {
    "collapsed": false,
    "pycharm": {
     "name": "#%% md\n"
    }
   }
  },
  {
   "cell_type": "code",
   "execution_count": 10,
   "outputs": [
    {
     "data": {
      "text/plain": "array([[-1.03484160e+00,  2.77766479e-01, -1.66899207e+00,\n         3.35306829e-01,  2.58645662e-01, -1.94536848e+00,\n        -1.52635970e+00, -1.27797349e+00, -8.16106154e-01,\n        -3.20585955e-01],\n       [-1.16413969e+00, -2.71568809e-02, -1.08827299e+00,\n        -3.22567050e-02, -9.22489903e-01, -2.06840071e+00,\n        -1.07737891e+00, -1.91799325e+00, -6.79887145e-01,\n        -1.11463354e-01],\n       [-1.04570507e+00,  1.05129200e+00, -1.82142323e+00,\n         1.17914301e+00,  1.04592644e+00, -1.38138875e+00,\n        -1.29209656e+00, -1.41025344e+00, -6.31990360e-01,\n         4.67990977e-01],\n       [-4.10120974e-01, -1.26031997e+00, -2.73108348e-01,\n        -1.61780768e+00, -6.73736186e-01, -1.40108371e+00,\n         1.63949383e-01, -2.01697236e+00, -1.26846745e+00,\n        -1.16481772e+00],\n       [-1.34761044e+00,  6.43884086e-01, -2.09024807e+00,\n         8.61979975e-01, -1.61120736e-01, -2.51558301e+00,\n        -1.99750659e+00, -9.93440374e-01, -1.05254803e+00,\n        -1.57443566e-01],\n       [-1.11997832e+00, -1.02815566e-01, -1.63198532e+00,\n        -1.45438900e-01, -1.40085774e-02, -1.98894035e+00,\n        -1.53083026e+00, -1.48844144e+00, -3.82279390e-01,\n        -2.31467746e-01],\n       [-1.66832314e+00,  6.57693385e-01, -1.90563474e+00,\n         8.74372970e-01,  7.34920849e-01, -1.95990459e+00,\n        -1.26069116e+00, -6.98097676e-01, -1.26905109e+00,\n         3.55099885e-02],\n       [-5.92170705e-02, -1.24252944e+00,  1.86117031e-01,\n        -1.31960713e+00, -1.39803526e+00, -1.83364418e+00,\n         6.88398571e-01, -1.57111444e+00, -7.34765497e-01,\n        -1.03151601e+00],\n       [-8.94312831e-01,  3.32085654e-01, -1.32501812e+00,\n         4.61531227e-01,  4.11344948e-01, -1.57683992e+00,\n        -1.57377431e+00, -3.93014615e-01, -5.84818165e-01,\n        -8.63372356e-02],\n       [-1.31536391e+00,  3.45300559e-01, -1.62978496e+00,\n         4.64891097e-01, -1.44591447e-01, -9.87114083e-01,\n        -8.97886392e-01, -6.67859208e-01, -5.28850634e-01,\n         2.27986257e-01],\n       [-5.10021283e-01, -1.59317350e+00, -4.56953952e-01,\n        -1.92368292e+00, -1.55302439e+00, -1.10512308e+00,\n         9.25775090e-02, -4.41781947e-01, -7.49079286e-01,\n        -1.32786898e+00],\n       [ 2.94938278e-01, -1.67722363e+00,  2.62257678e-01,\n        -2.16162200e+00, -4.76335329e-01, -1.37395142e+00,\n         3.05158504e-01, -8.85282256e-01, -2.89848228e-01,\n        -1.13844117e+00],\n       [-1.22328946e+00,  6.21524846e-01, -1.32899934e+00,\n         7.89780696e-01, -8.82377639e-02, -9.71587380e-01,\n        -1.13978649e+00, -5.35159844e-01, -1.20894414e-01,\n        -2.07412119e-01],\n       [ 8.29830424e-01, -1.28781223e+00,  1.20679334e+00,\n        -1.67628444e+00, -1.74730459e+00, -1.76495046e+00,\n         6.54822497e-01, -5.09406881e-01, -8.96704803e-01,\n        -7.89514821e-01],\n       [-1.24266965e+00,  5.95913950e-01, -1.24055863e+00,\n         8.34950129e-01,  7.10974564e-02, -6.88069671e-01,\n        -6.03955238e-01, -4.20222052e-01, -5.88913434e-02,\n        -1.86571411e-01],\n       [-1.17280570e+00,  2.57045917e-01, -1.61220693e+00,\n         4.83104875e-01, -1.98516837e-01, -1.20448892e+00,\n        -9.03264780e-01, -1.08317125e+00, -1.70570708e-01,\n        -4.42444319e-01],\n       [-7.13654327e-01, -1.43439527e+00, -4.00561260e-01,\n        -1.76617252e+00, -1.60159966e+00, -7.52064214e-01,\n         4.07574768e-01, -1.47562828e+00, -3.83318868e-01,\n        -1.02346335e+00],\n       [-4.77969453e-01, -1.91309134e+00, -3.96795754e-01,\n        -2.21965159e+00, -1.18302904e+00, -7.20063799e-01,\n        -2.00019922e-01, -1.35372543e+00, -3.82235692e-01,\n        -1.13639341e+00],\n       [-1.09000832e+00,  3.08280761e-01, -1.64519682e+00,\n         5.25530793e-01, -3.93440503e-01, -1.33614215e+00,\n        -8.95323051e-01, -3.92381817e-01, -2.81807380e-01,\n         4.99976960e-02],\n       [ 1.10425556e+00, -1.99174541e+00,  1.32172459e+00,\n        -2.31394125e+00, -1.43249312e+00, -7.48541872e-01,\n         4.22024730e-01, -8.35501744e-01, -4.97181666e-01,\n        -9.11573453e-01],\n       [-1.03464845e+00,  4.91850075e-01, -1.40733734e+00,\n         3.90108741e-01,  5.27623215e-01, -1.09065492e+00,\n        -1.11736638e+00, -1.01181311e+00, -4.40519884e-01,\n         2.12056159e-01],\n       [ 1.83354988e-01, -1.58549925e+00,  3.12427157e-01,\n        -1.84772589e+00, -1.11136852e+00, -2.49778180e-01,\n         1.16282111e-01, -3.36482018e-01,  4.44623115e-01,\n        -1.18670222e+00],\n       [-1.27199945e+00,  4.78459313e-01, -1.75072654e+00,\n         4.62470711e-01,  3.09179398e-01, -1.88689239e+00,\n        -1.09187529e+00, -1.27907478e+00, -5.66343161e-01,\n         3.24372899e-01],\n       [ 8.56619772e-01, -1.87958220e+00,  1.06515078e+00,\n        -2.21928418e+00, -1.32536728e+00, -9.27116845e-01,\n        -3.37537785e-02, -8.67116471e-01, -4.07894604e-01,\n        -8.67247885e-01],\n       [-1.54386105e+00,  2.94216470e-01, -1.69788825e+00,\n         5.66615030e-01,  2.97798583e-02, -1.01719018e+00,\n        -7.78221661e-01, -4.24512388e-01, -3.94627361e-01,\n        -3.88908587e-02],\n       [-1.71763868e+00,  3.69226190e-01, -1.55040081e+00,\n         5.48203299e-01,  3.36575696e-01, -1.57842093e+00,\n        -8.20837442e-01, -1.26816622e+00, -8.02194690e-01,\n        -1.48571054e-01],\n       [-1.35181226e+00, -5.18623364e-03, -1.63555034e+00,\n         1.00463612e-01,  3.62597120e-01, -1.43501188e+00,\n        -1.04560626e+00, -4.17717626e-01, -5.78535761e-01,\n        -3.65576650e-01],\n       [-2.91243033e-01, -1.52958591e+00, -5.72753612e-02,\n        -1.35121612e+00, -8.24199226e-01, -6.98360722e-01,\n         1.34137259e-01, -7.24456113e-01, -6.51191023e-02,\n        -1.00291029e+00],\n       [-1.23022492e+00,  5.87391772e-01, -1.18091211e+00,\n         7.54900482e-01, -2.33715541e-01, -4.10775009e-01,\n        -7.33148149e-01,  2.20674563e-01, -2.18227244e-01,\n         2.19499420e-02],\n       [ 8.16169286e-01, -1.71611962e+00,  1.05270895e+00,\n        -1.92193592e+00, -1.37748274e+00, -8.86948232e-01,\n         6.07265266e-01, -8.54713687e-01,  2.32136212e-03,\n        -1.09475451e+00],\n       [ 1.09396351e+00, -1.25108696e+00,  1.21305895e+00,\n        -1.56849124e+00, -7.48136069e-01, -1.29323938e+00,\n         2.42703578e-01, -1.00954144e+00, -4.18412166e-01,\n        -9.53901746e-01],\n       [-1.47784938e-01, -1.43710984e+00, -1.93684793e-01,\n        -1.39310550e+00, -6.52907320e-01, -1.05712062e+00,\n        -1.44401880e-01, -8.62168114e-01, -9.43969528e-01,\n        -9.30212495e-01],\n       [ 3.46109749e-01, -9.15521739e-01,  4.81320426e-01,\n        -8.84812428e-01, -7.11328266e-01, -1.04336425e+00,\n        -2.62886113e-01, -8.87432839e-01, -2.56209608e-01,\n        -5.39294104e-01],\n       [ 5.71927606e-01, -2.09787235e+00,  6.85875801e-01,\n        -2.35239182e+00, -1.21746553e+00, -1.20338042e+00,\n         7.99541740e-01, -1.20375325e+00, -4.03535819e-01,\n        -6.53627893e-01],\n       [-1.14772220e+00,  3.74914582e-01, -1.53802437e+00,\n         2.56717266e-01,  7.05746691e-01, -1.63577688e-01,\n        -1.15724879e+00, -1.11211398e+00,  3.15503889e-01,\n         1.40609610e-01],\n       [ 1.02918618e+00, -1.74644656e+00,  1.28035305e+00,\n        -1.93904694e+00, -1.83463952e+00, -7.90632843e-01,\n         3.60845210e-01, -1.23876593e+00, -9.92542555e-01,\n        -1.05300067e+00],\n       [-1.26584857e+00, -1.24579781e-01, -1.48821245e+00,\n         3.49542904e-03,  8.06150563e-01, -4.47426042e-01,\n        -9.82636334e-01, -4.22069861e-01,  3.48726342e-01,\n        -1.82990988e-01],\n       [-1.35777226e+00,  3.05470093e-01, -1.57887085e+00,\n         4.98724885e-01,  3.70457837e-01, -8.84980865e-01,\n        -1.50213306e+00, -3.90784345e-01, -9.00299532e-02,\n        -2.80885196e-01],\n       [ 8.18785359e-01, -1.33406922e+00,  1.13105857e+00,\n        -1.65544762e+00, -6.14847087e-01, -3.14417746e-01,\n         4.86723198e-01, -4.63675879e-01, -1.08558851e-01,\n        -7.54565975e-01],\n       [ 1.68750047e-01, -1.31382437e+00,  1.83001931e-02,\n        -1.48654058e+00, -1.18062575e+00,  7.11424829e-01,\n         3.67478308e-01, -1.37358650e-01, -1.84664274e-01,\n        -6.60614726e-01],\n       [-9.15619779e-02, -4.32976260e-01, -5.10478181e-02,\n        -3.22749737e-01, -1.18351232e-01, -5.22275040e-01,\n        -7.52300420e-01, -1.30630138e+00,  1.17342924e-01,\n        -5.37587265e-01],\n       [-7.11578960e-01,  6.44979116e-02, -5.78952213e-01,\n         2.77940445e-01, -3.85520440e-02, -4.09785730e-01,\n        -2.76106285e-01, -1.75529751e-02,  4.07704894e-01,\n        -2.06352276e-01],\n       [-1.76912512e-01, -5.73645376e-02, -5.27295660e-01,\n         5.36289149e-02, -2.15949226e-01, -1.45862283e+00,\n        -8.36429901e-01, -5.67067837e-01,  2.48990798e-01,\n        -2.63973351e-01],\n       [-9.07134693e-01, -9.55870710e-02, -1.04220985e+00,\n         3.18669291e-02, -7.41211829e-01,  1.21104802e-01,\n        -8.67025748e-01,  1.30151072e-01,  5.26058785e-01,\n        -4.90069551e-02],\n       [-8.52305181e-01, -4.16891358e-01, -1.03795551e+00,\n        -4.95370104e-01, -2.60420779e-01,  2.29099461e-02,\n        -8.01383092e-01, -6.85744945e-01,  4.79012302e-01,\n        -3.81168755e-01],\n       [-1.11852193e-01, -7.25156691e-01, -6.21815069e-02,\n        -8.67760735e-01, -3.23649480e-01,  7.34372313e-01,\n         3.47888086e-01,  2.84277941e-01,  3.59995490e-01,\n        -4.24956121e-01],\n       [-4.56785485e-02,  2.92333889e-01,  6.57939397e-03,\n         2.23817979e-01,  8.15693212e-01, -1.13112755e+00,\n         5.13482419e-02, -6.94077624e-01, -4.73716048e-01,\n         1.96640583e-01],\n       [-3.53343372e-01, -6.06569374e-01, -1.12788720e+00,\n        -7.26783876e-01, -6.77108132e-01,  1.81070184e+00,\n        -4.49425147e-01,  3.90263111e-01,  3.01932690e-01,\n         3.92138006e-02],\n       [ 2.99350525e-02,  4.33386407e-01,  7.34641387e-02,\n         5.61448436e-01,  1.02074961e+00,  2.33538783e-01,\n         9.29478693e-02,  7.33423142e-02,  4.48708390e-01,\n         4.87048692e-02],\n       [-6.44673204e-02, -6.29654252e-01, -1.67132724e-01,\n        -5.83984319e-01, -4.33166775e-01,  1.65693730e+00,\n         1.03054961e-01,  4.52136146e-01,  2.68550977e-01,\n        -4.13577974e-01],\n       [-5.48582559e-01, -2.81074514e-02, -6.78943068e-01,\n        -9.01758075e-02, -5.52392848e-01, -2.21078097e-01,\n        -5.23948972e-01, -2.53920596e-01,  5.61708248e-01,\n        -4.32866591e-02],\n       [-8.95290091e-01, -7.82802644e-01, -7.39386579e-01,\n        -1.06171667e+00,  8.52086428e-02,  6.08858885e-01,\n        -3.95100656e-01, -2.57355241e-01,  4.00587833e-01,\n        -1.20511157e-01],\n       [-6.61509477e-02, -5.23524065e-01, -2.30522089e-01,\n        -4.14041035e-01, -8.77353586e-01,  1.73785144e+00,\n        -6.96541036e-01,  2.49340828e-01,  3.61753511e-01,\n        -3.91251550e-01],\n       [-1.26243994e+00, -1.02026295e+00, -1.53178906e+00,\n        -1.37075894e+00, -2.94774688e-01,  1.08531810e-01,\n        -8.32050717e-01, -2.50053913e-01,  6.52683865e-01,\n        -1.20668142e-01],\n       [ 1.97775836e-01,  3.38712562e-01,  2.13206307e-01,\n         3.25098604e-01,  1.01132852e+00, -5.37853878e-01,\n        -2.47189603e-01, -7.41099057e-01, -9.89515221e-02,\n         2.71496589e-01],\n       [-4.54483368e-01, -5.64378557e-01, -7.16699561e-01,\n        -5.90909807e-01, -6.40694321e-01,  1.38229807e-01,\n        -6.42414493e-01, -3.71378542e-01, -1.48804691e-01,\n        -2.99976080e-01],\n       [ 2.96270336e-04, -1.70641992e-01,  3.99969784e-02,\n        -3.06619205e-01,  2.56412924e-01,  6.47244898e-01,\n         4.58254993e-01, -3.60470960e-02, -2.57977472e-01,\n        -1.81258619e-01],\n       [-6.94719990e-01, -1.38589939e-01, -6.70109639e-01,\n        -2.52105449e-01, -7.88300228e-03,  1.62292580e+00,\n        -3.16331502e-01,  2.79267249e-01,  5.47377524e-01,\n         1.19728780e-02],\n       [-7.55718308e-02, -2.78644588e-01, -4.20812025e-02,\n        -4.44394258e-01, -4.53554113e-01, -1.10465652e+00,\n         6.78328796e-02, -5.32261830e-01, -4.53535987e-01,\n        -2.65044284e-01],\n       [-9.66710041e-01, -9.00869014e-01, -9.67840556e-01,\n        -8.95569171e-01, -7.05303531e-01, -3.22807606e-01,\n        -8.04955654e-01, -2.02702742e-01,  2.85910037e-01,\n        -5.27887943e-01],\n       [ 4.93105200e-01, -7.08243684e-01,  5.37432149e-01,\n        -3.55767124e-01,  4.15893247e-01,  1.10874799e+00,\n         7.10171714e-01,  4.75250488e-01,  5.01115924e-01,\n        -1.67530253e-01],\n       [ 3.21209482e-01, -3.89135429e-01,  4.73126689e-01,\n        -1.29224243e-01, -8.81157431e-02,  7.63063889e-01,\n         7.33281757e-01, -5.14537829e-02,  3.13625795e-01,\n         3.53638832e-01],\n       [-9.88925055e-02, -9.88300259e-01, -2.47305473e-01,\n        -1.03632178e+00, -1.88549283e-01, -9.61678094e-02,\n        -3.84012609e-01, -6.93183406e-01,  1.66210237e-01,\n        -5.31626536e-01],\n       [-3.16354292e-01, -1.62566202e-01, -3.78868390e-01,\n        -3.47645471e-01,  1.61685329e-01,  4.84798355e-03,\n        -1.99823745e-01, -2.56871594e-01,  7.41322330e-02,\n        -1.26568887e-01],\n       [-5.68459660e-01, -6.21790546e-01, -5.28841535e-01,\n        -3.87209911e-01, -4.64445164e-02,  7.53989022e-01,\n        -3.93554549e-01, -2.55095940e-01,  1.75909248e-01,\n        -4.83555432e-01],\n       [-4.05215483e-01,  2.61304593e-01, -3.11441288e-01,\n         4.35880012e-01,  1.12400023e+00,  1.66207673e+00,\n        -6.21873486e-01,  2.20465930e-01,  1.14144796e+00,\n         5.59762813e-02],\n       [-1.02497166e+00,  3.36984851e-01, -1.00637720e+00,\n         4.32406777e-01,  9.14010731e-01,  1.10461170e+00,\n        -7.21717171e-01,  3.40167051e-01,  2.80958724e-01,\n         1.31815002e-01],\n       [-9.85362068e-01, -6.23881102e-01, -8.70893314e-01,\n        -5.85299360e-01, -8.10766958e-01,  1.43859160e+00,\n        -4.77649362e-01, -5.29728125e-01,  3.22130367e-01,\n        -5.23256518e-01],\n       [-3.39266868e-01, -6.09933920e-01, -3.31199840e-01,\n        -3.93358609e-01, -7.57421566e-01,  1.38043948e-01,\n        -4.16729273e-01,  1.85348495e-01,  3.45349958e-01,\n        -1.18109368e+00],\n       [-5.84602713e-01, -1.54552858e-01, -5.34315576e-01,\n        -6.20625040e-01, -4.59309987e-01,  5.09745427e-01,\n        -1.02164680e-01,  9.34547609e-01,  6.96108152e-01,\n         1.85202449e-01],\n       [-1.01640093e+00, -3.66162899e-01, -1.17602323e+00,\n        -2.21687718e-01,  8.54657519e-02,  4.37164307e-02,\n        -2.68158948e-01,  1.01087093e-01,  3.87056065e-01,\n        -2.84656679e-01],\n       [-2.07418985e-01, -5.67570505e-01, -7.53875689e-02,\n        -5.49087589e-01,  1.08844588e-01,  9.59294447e-01,\n         2.65870138e-01,  3.39641587e-01,  3.38210485e-01,\n        -2.75364611e-01],\n       [-4.83268113e-01, -1.13977970e-01, -6.71975251e-01,\n         1.08642034e-01, -2.72256407e-01,  1.89300720e+00,\n        -5.70154353e-01,  5.94471800e-01,  8.80752721e-01,\n        -1.17910054e-01],\n       [-3.83003153e-01, -9.02427839e-01, -4.58928706e-01,\n        -1.06304690e+00, -3.12638219e-01,  4.71805517e-01,\n        -5.70141594e-02, -6.00439436e-01,  4.13756565e-01,\n        -2.08897610e-01],\n       [-1.08536090e-01, -1.75598093e-01,  5.18972523e-02,\n        -1.86491764e-01, -7.19256976e-03,  6.77062799e-02,\n        -1.30005912e-01, -2.84400322e-01,  6.79823683e-02,\n        -1.09873288e-01],\n       [ 3.93304043e-01, -7.32682832e-01,  5.57869404e-01,\n        -8.88224063e-01, -7.77277813e-01,  1.24970866e-01,\n         4.47334818e-01, -5.53443960e-01,  1.84687635e-02,\n        -2.96588279e-01],\n       [ 1.36857367e-01, -2.26564522e-01,  1.61585214e-01,\n        -7.41052459e-02, -1.60061350e-01,  1.61994058e+00,\n        -3.65719697e-01,  1.34795934e-01,  6.46005788e-01,\n        -2.38078927e-01],\n       [-9.86609070e-01,  7.27618371e-02, -1.37282195e+00,\n         3.02937837e-01,  2.12437784e-01,  7.21464188e-01,\n        -7.32546032e-01,  6.70517765e-01,  3.98183258e-01,\n        -2.61952475e-01],\n       [-2.93535705e-01, -5.44984055e-01, -2.44800613e-01,\n        -5.29213674e-01, -5.84156650e-01,  5.98659678e-01,\n         6.18425352e-02,  4.51925694e-01,  1.93121432e-01,\n         4.65453413e-02],\n       [ 7.86334253e-01, -5.88296620e-01,  1.00422901e+00,\n        -5.54713770e-01,  2.73784099e-02,  8.67580054e-01,\n         1.06293084e+00, -9.73462519e-03,  1.13790472e-01,\n         1.94699493e-02]])"
     },
     "execution_count": 10,
     "metadata": {},
     "output_type": "execute_result"
    }
   ],
   "source": [
    "sel_K = SelectKBest(mutual_info_classif, k=10).fit(a,y_train)\n",
    "new_train = sel_K.transform(a)\n",
    "new_train"
   ],
   "metadata": {
    "collapsed": false,
    "pycharm": {
     "name": "#%%\n"
    }
   }
  },
  {
   "cell_type": "code",
   "execution_count": 20,
   "outputs": [
    {
     "name": "stdout",
     "output_type": "stream",
     "text": [
      "              precision    recall  f1-score   support\n",
      "\n",
      "        Left       0.95      0.90      0.92        20\n",
      "       Right       0.90      0.90      0.90        20\n",
      "        Rest       0.93      0.95      0.94        40\n",
      "\n",
      "    accuracy                           0.93        80\n",
      "   macro avg       0.92      0.92      0.92        80\n",
      "weighted avg       0.93      0.93      0.92        80\n",
      "\n"
     ]
    }
   ],
   "source": [
    "clf = LogisticRegression()\n",
    "y_pred_fbcsp = cross_val_predict(clf, new_train, y_train, cv=5)\n",
    "clf.fit(new_train, y_train)\n",
    "print(classification_report(y_train, y_pred_fbcsp, target_names=[\"Left\", \"Right\", \"Rest\"]))"
   ],
   "metadata": {
    "collapsed": false,
    "pycharm": {
     "name": "#%%\n"
    }
   }
  },
  {
   "cell_type": "markdown",
   "source": [
    "# Now apply the filters and predictor to the driving Data\n",
    " - 200ms time windows, no overlap\n",
    "\n",
    " - First Filtering, then CSP then predicting"
   ],
   "metadata": {
    "collapsed": false,
    "pycharm": {
     "name": "#%% md\n"
    }
   }
  },
  {
   "cell_type": "code",
   "execution_count": 12,
   "outputs": [
    {
     "name": "stdout",
     "output_type": "stream",
     "text": [
      "Creating RawArray with float64 data, n_channels=40, n_times=5494682\n",
      "    Range : 0 ... 5494681 =      0.000 ...  2682.950 secs\n",
      "Ready.\n",
      "EEG channel type selected for re-referencing\n",
      "Applying average reference.\n",
      "Applying a custom ('EEG',) reference.\n"
     ]
    },
    {
     "name": "stderr",
     "output_type": "stream",
     "text": [
      "D:\\RUG\\Term 2\\FYRP\\continuous_control_bci\\continuous_control_bci\\data\\load_data.py:28: RuntimeWarning: The unit for channel(s) AF3, AF4, C3, C4, CP1, CP2, CP5, CP6, Cz, F3, F4, F7, F8, FC1, FC2, FC5, FC6, Fp1, Fp2, Fz, LHEOG, LVEOG, Left-extension, Left-flexion, O1, O2, Oz, P3, P4, P7, P8, PO3, PO4, Pz, RHEOG, Right-extension, Right-flexion, T7, T8, UVEOG has changed from NA to V.\n",
      "  streams.raw.set_channel_types(CHANNEL_TYPE_MAPPING)\n"
     ]
    },
    {
     "name": "stdout",
     "output_type": "stream",
     "text": [
      "Filtering raw data in 1 contiguous segment\n",
      "Setting up band-pass filter from 5 - 35 Hz\n",
      "\n",
      "FIR filter parameters\n",
      "---------------------\n",
      "Designing a one-pass, zero-phase, non-causal bandpass filter:\n",
      "- Windowed time-domain design (firwin) method\n",
      "- Hamming window with 0.0194 passband ripple and 53 dB stopband attenuation\n",
      "- Lower passband edge: 5.00\n",
      "- Lower transition bandwidth: 2.00 Hz (-6 dB cutoff frequency: 4.00 Hz)\n",
      "- Upper passband edge: 35.00 Hz\n",
      "- Upper transition bandwidth: 8.75 Hz (-6 dB cutoff frequency: 39.38 Hz)\n",
      "- Filter length: 3381 samples (1.651 s)\n",
      "\n"
     ]
    },
    {
     "name": "stderr",
     "output_type": "stream",
     "text": [
      "[Parallel(n_jobs=1)]: Using backend SequentialBackend with 1 concurrent workers.\n",
      "[Parallel(n_jobs=1)]: Done   1 out of   1 | elapsed:    0.0s remaining:    0.0s\n",
      "[Parallel(n_jobs=1)]: Done   2 out of   2 | elapsed:    0.2s remaining:    0.0s\n",
      "[Parallel(n_jobs=1)]: Done   3 out of   3 | elapsed:    0.3s remaining:    0.0s\n",
      "[Parallel(n_jobs=1)]: Done   4 out of   4 | elapsed:    0.4s remaining:    0.0s\n",
      "[Parallel(n_jobs=1)]: Done  32 out of  32 | elapsed:    3.9s finished\n"
     ]
    },
    {
     "name": "stdout",
     "output_type": "stream",
     "text": [
      "Applying ICA to Raw instance\n",
      "    Transforming to ICA space (32 components)\n",
      "    Zeroing out 2 ICA components\n",
      "    Projecting back using 32 PCA components\n",
      "Not setting metadata\n",
      "13414 matching events found\n",
      "No baseline correction applied\n",
      "0 projection items activated\n",
      "Using data from preloaded Raw for 13414 events and 410 original time points ...\n",
      "0 bad epochs dropped\n",
      "(13414, 32, 410)\n",
      "(13414,)\n"
     ]
    }
   ],
   "source": [
    "driving = load_driving(subject_id)\n",
    "driving.raw.set_eeg_reference()\n",
    "driving.raw.filter(l_freq=5, h_freq=35)\n",
    "ica.apply(driving.raw)\n",
    "\n",
    "# EEG Data Stream\n",
    "eeg_channel_indices = mne.pick_types(raw.info, eeg=True, emg=False)\n",
    "eeg_data, eeg_time = driving.raw[eeg_channel_indices]\n",
    "# Those windows are basically my epochs on which I try to predict something, if a certain amount of windows have the same prediction (3.5 sec or smth) this can then be used to controll the car\n",
    "eeg_windows = mne.make_fixed_length_epochs(driving.raw, duration=0.2, preload=True, reject_by_annotation=False)\n",
    "\n",
    "X_driving = eeg_windows.get_data(copy=False, picks=eeg_channel_indices)\n",
    "\n",
    "# Making predictions based on EEG windows\n",
    "# -1 left, 0 rest, 1 right\n",
    "y_driving = driving.emg_prediction_stream['time_series']\n",
    "y_driving = emg_classes_to_eeg_classes(y_driving)\n",
    "y_driving = np.squeeze(y_driving)\n",
    "print(X_driving.shape)\n",
    "print(y_driving[:-1].shape)"
   ],
   "metadata": {
    "collapsed": false,
    "pycharm": {
     "name": "#%%\n"
    }
   }
  },
  {
   "cell_type": "code",
   "execution_count": 13,
   "outputs": [
    {
     "name": "stdout",
     "output_type": "stream",
     "text": [
      "(13414, 32, 410) (13415,)\n"
     ]
    }
   ],
   "source": [
    "print(X_driving.shape, y_driving.shape)"
   ],
   "metadata": {
    "collapsed": false,
    "pycharm": {
     "name": "#%%\n"
    }
   }
  },
  {
   "cell_type": "code",
   "execution_count": 15,
   "outputs": [
    {
     "name": "stdout",
     "output_type": "stream",
     "text": [
      "\n",
      "IIR filter parameters\n",
      "---------------------\n",
      "Chebyshev II bandpass zero-phase (two-pass forward and reverse) non-causal filter:\n",
      "- Filter order 16 (effective, after forward-backward)\n",
      "- Cutoffs at 4.00, 8.00 Hz: -20.00, -20.00 dB\n",
      "\n",
      "\n",
      "IIR filter parameters\n",
      "---------------------\n",
      "Chebyshev II bandpass zero-phase (two-pass forward and reverse) non-causal filter:\n",
      "- Filter order 16 (effective, after forward-backward)\n",
      "- Cutoffs at 4.00, 12.00 Hz: -20.00, -20.00 dB\n",
      "\n",
      "\n",
      "IIR filter parameters\n",
      "---------------------\n",
      "Chebyshev II bandpass zero-phase (two-pass forward and reverse) non-causal filter:\n",
      "- Filter order 16 (effective, after forward-backward)\n",
      "- Cutoffs at 8.00, 12.00 Hz: -20.00, -20.00 dB\n",
      "\n",
      "\n",
      "IIR filter parameters\n",
      "---------------------\n",
      "Chebyshev II bandpass zero-phase (two-pass forward and reverse) non-causal filter:\n",
      "- Filter order 16 (effective, after forward-backward)\n",
      "- Cutoffs at 10.00, 14.00 Hz: -20.00, -20.00 dB\n",
      "\n",
      "\n",
      "IIR filter parameters\n",
      "---------------------\n",
      "Chebyshev II bandpass zero-phase (two-pass forward and reverse) non-causal filter:\n",
      "- Filter order 16 (effective, after forward-backward)\n",
      "- Cutoffs at 12.00, 16.00 Hz: -20.00, -20.00 dB\n",
      "\n",
      "\n",
      "IIR filter parameters\n",
      "---------------------\n",
      "Chebyshev II bandpass zero-phase (two-pass forward and reverse) non-causal filter:\n",
      "- Filter order 16 (effective, after forward-backward)\n",
      "- Cutoffs at 13.00, 30.00 Hz: -20.00, -20.00 dB\n",
      "\n"
     ]
    }
   ],
   "source": [
    "#driving_filtered = filter_bank_csp(X_driving, y_driving[:-1], freq_bands, 4)\n",
    "driving_filtered = filter_bank(X_driving, freq_bands, 4)"
   ],
   "metadata": {
    "collapsed": false,
    "pycharm": {
     "name": "#%%\n"
    }
   }
  },
  {
   "cell_type": "code",
   "execution_count": 16,
   "outputs": [
    {
     "data": {
      "text/plain": "(6, 13414, 32, 410)"
     },
     "execution_count": 16,
     "metadata": {},
     "output_type": "execute_result"
    }
   ],
   "source": [
    "#driving_filtered = sel_K.transform(driving_filtered)\n",
    "driving_filtered.shape"
   ],
   "metadata": {
    "collapsed": false,
    "pycharm": {
     "name": "#%%\n"
    }
   }
  },
  {
   "cell_type": "code",
   "execution_count": 29,
   "outputs": [
    {
     "name": "stdout",
     "output_type": "stream",
     "text": [
      "(13414, 12)\n",
      "(13414, 18)\n",
      "(13414, 24)\n",
      "(13414, 30)\n",
      "(13414, 36)\n"
     ]
    },
    {
     "data": {
      "text/plain": "array([[-1.41688882, -4.37609279, -2.93298977, ..., -0.32958378,\n        -0.71580626, -0.2202402 ],\n       [-2.92825547, -2.20330822, -0.95556354, ..., -1.28139552,\n         0.5874292 , -1.31938844],\n       [-2.22333912, -0.49398921, -3.3312014 , ..., -0.32545936,\n         0.29348704,  0.46837213],\n       ...,\n       [-1.53125519, -4.34464196, -2.23880999, ...,  1.12210198,\n         0.96720295, -0.07231587],\n       [-0.99952928, -1.74691633,  0.4984999 , ...,  2.39258957,\n         0.40657072, -0.12102583],\n       [-1.96987686, -1.94537543,  0.96942868, ...,  1.15907897,\n         0.80036494,  0.49198014]])"
     },
     "execution_count": 29,
     "metadata": {},
     "output_type": "execute_result"
    }
   ],
   "source": [
    "driving_csp = []\n",
    "for i in range(driving_filtered.shape[0]):\n",
    "    driving_ = csp_info[i].transform(driving_filtered[i])\n",
    "    if i == 0:\n",
    "        driving_csp = driving_\n",
    "    else:\n",
    "        driving_csp = np.concatenate((driving_csp, driving_), axis=1)\n"
   ],
   "metadata": {
    "collapsed": false,
    "pycharm": {
     "name": "#%%\n"
    }
   }
  },
  {
   "cell_type": "code",
   "execution_count": 31,
   "outputs": [],
   "source": [
    "driving_csp = sel_K.transform(driving_csp)"
   ],
   "metadata": {
    "collapsed": false,
    "pycharm": {
     "name": "#%%\n"
    }
   }
  },
  {
   "cell_type": "code",
   "execution_count": 18,
   "outputs": [],
   "source": [
    "def predict_against_threshold(clf, X, t):\n",
    "    y_driving_pred_prob = clf.predict_proba(X)\n",
    "    rest = y_driving_pred_prob[:, 2] > t\n",
    "    y_driving_pred = np.array([2] * len(rest))\n",
    "    y_driving_pred[~rest] = y_driving_pred_prob[~rest, :2].argmax(axis=1)\n",
    "    return y_driving_pred\n",
    "\n",
    "def predict_against_threshold_indiv(clf, X, t):\n",
    "    y_driving_pred_prob = clf.predict_proba(X)\n",
    "    if y_driving_pred_prob [:, 2] > t:\n",
    "        y_pred = 2\n",
    "    elif y_driving_pred_prob [:, 0] > y_driving_pred_prob [:, 1]:\n",
    "        y_pred = 0\n",
    "    else:\n",
    "        y_pred = 1\n",
    "\n",
    "    return y_pred\n",
    "\n"
   ],
   "metadata": {
    "collapsed": false,
    "pycharm": {
     "name": "#%%\n"
    }
   }
  },
  {
   "cell_type": "code",
   "execution_count": 33,
   "outputs": [],
   "source": [
    "driving_y_pred = predict_against_threshold(clf, driving_csp, 0.2)"
   ],
   "metadata": {
    "collapsed": false,
    "pycharm": {
     "name": "#%%\n"
    }
   }
  },
  {
   "cell_type": "code",
   "execution_count": 35,
   "outputs": [],
   "source": [
    "y_preds = []\n",
    "majority_pred = []\n",
    "# left, right, rest\n",
    "pred_direct = [0,0,0]\n",
    "for i, epoch in enumerate(X_driving):\n",
    "    # Predicting each 200ms windows individually\n",
    "    y_driving_pred = predict_against_threshold_indiv(clf, driving_csp[i:i+1,:], 0.2)\n",
    "    pred_direct[y_driving_pred] += 1\n",
    "    y_preds.append(y_driving_pred)\n",
    "\n",
    "\n",
    "    # Now aggregate over 2sec time window\n",
    "    if i % 10 == 0:\n",
    "        majority_pred.append(pred_direct.index(max(pred_direct)))\n",
    "        pred_direct = [0,0,0]\n",
    "\n",
    "\n",
    "y_preds = np.asarray(y_preds)\n",
    "majority_pred = np.asarray(majority_pred)"
   ],
   "metadata": {
    "collapsed": false,
    "pycharm": {
     "name": "#%%\n"
    }
   }
  },
  {
   "cell_type": "markdown",
   "source": [
    "driving = load_driving(subject_id)\n",
    "driving.raw.set_eeg_reference()\n",
    "driving.raw.filter(l_freq=5, h_freq=35)\n",
    "ica.apply(driving.raw)"
   ],
   "metadata": {
    "collapsed": false,
    "pycharm": {
     "name": "#%% md\n"
    }
   }
  },
  {
   "cell_type": "code",
   "execution_count": 39,
   "outputs": [
    {
     "name": "stdout",
     "output_type": "stream",
     "text": [
      "              precision    recall  f1-score   support\n",
      "\n",
      "        Left       0.32      0.93      0.48      4338\n",
      "       Right       0.05      0.01      0.02      2923\n",
      "        Rest       0.85      0.03      0.06      6153\n",
      "\n",
      "    accuracy                           0.32     13414\n",
      "   macro avg       0.41      0.32      0.18     13414\n",
      "weighted avg       0.50      0.32      0.18     13414\n",
      "\n"
     ]
    }
   ],
   "source": [
    "print(classification_report(y_driving[:-1], driving_y_pred, target_names=[\"Left\", \"Right\", \"Rest\"]))"
   ],
   "metadata": {
    "collapsed": false,
    "pycharm": {
     "name": "#%%\n"
    }
   }
  },
  {
   "cell_type": "code",
   "execution_count": 49,
   "outputs": [
    {
     "name": "stdout",
     "output_type": "stream",
     "text": [
      "              precision    recall  f1-score   support\n",
      "\n",
      "        Left       0.33      1.00      0.50       444\n",
      "       Right       0.00      0.00      0.00       290\n",
      "        Rest       0.80      0.01      0.01       608\n",
      "\n",
      "    accuracy                           0.33      1342\n",
      "   macro avg       0.38      0.34      0.17      1342\n",
      "weighted avg       0.47      0.33      0.17      1342\n",
      "\n"
     ]
    }
   ],
   "source": [
    "print(classification_report(y_driving[:-1:10], majority_pred, target_names=[\"Left\", \"Right\", \"Rest\"]))"
   ],
   "metadata": {
    "collapsed": false,
    "pycharm": {
     "name": "#%%\n"
    }
   }
  },
  {
   "cell_type": "code",
   "execution_count": 44,
   "outputs": [
    {
     "data": {
      "text/plain": "array([0, 0, 0, ..., 0, 0, 0])"
     },
     "execution_count": 44,
     "metadata": {},
     "output_type": "execute_result"
    }
   ],
   "source": [],
   "metadata": {
    "collapsed": false,
    "pycharm": {
     "name": "#%%\n"
    }
   }
  },
  {
   "cell_type": "code",
   "execution_count": null,
   "outputs": [],
   "source": [],
   "metadata": {
    "collapsed": false,
    "pycharm": {
     "name": "#%%\n"
    }
   }
  }
 ],
 "metadata": {
  "kernelspec": {
   "display_name": "Python 3",
   "language": "python",
   "name": "python3"
  },
  "language_info": {
   "codemirror_mode": {
    "name": "ipython",
    "version": 2
   },
   "file_extension": ".py",
   "mimetype": "text/x-python",
   "name": "python",
   "nbconvert_exporter": "python",
   "pygments_lexer": "ipython2",
   "version": "2.7.6"
  }
 },
 "nbformat": 4,
 "nbformat_minor": 0
}