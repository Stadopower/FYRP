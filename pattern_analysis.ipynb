{
 "cells": [
  {
   "cell_type": "code",
   "execution_count": null,
   "metadata": {
    "collapsed": true,
    "pycharm": {
     "name": "#%%\n"
    }
   },
   "outputs": [],
   "source": [
    "import numpy as np\n",
    "import mne\n",
    "import pickle\n",
    "from mne.preprocessing import read_ica\n",
    "from sklearn.metrics import classification_report, ConfusionMatrixDisplay\n",
    "from sklearn.svm import SVC, SVR\n",
    "\n",
    "from tqdm import tqdm\n",
    "from matplotlib import pyplot as plt\n",
    "\n",
    "from continuous_control_bci.visualisation.erds import plot_tfr\n",
    "from continuous_control_bci.util import emg_classes_to_eeg_classes, SUBJECT_IDS\n",
    "from continuous_control_bci.data.load_data import load_calibration, load_driving\n",
    "from continuous_control_bci.data.preprocessing import make_epochs, epochs_to_train_test\n",
    "from continuous_control_bci.modelling.csp_classifier import create_csp_classifier, get_driving_epochs_for_csp\n",
    "from sklearn.metrics import f1_score\n",
    "from filterbank_csp import filter_bank, filter_bank_csp, predict_against_threshold, predict_against_threshold_indiv, create_csp_svm_classifier, majority_pred"
   ]
  },
  {
   "cell_type": "markdown",
   "source": [
    "# This notebook tries to find if there is a difference in the Patterns found in Calibration and Driving data"
   ],
   "metadata": {
    "collapsed": false,
    "pycharm": {
     "name": "#%% md\n"
    }
   }
  },
  {
   "cell_type": "code",
   "execution_count": null,
   "outputs": [],
   "source": [
    "subject_id = \"061\"\n",
    "include_rest = True\n",
    "if include_rest:\n",
    "    target_names = [\"Left\", \"Right\", \"Rest\"]\n",
    "else:\n",
    "    target_names = [\"Left\", \"Right\"]\n",
    "raw = load_calibration(subject_id)\n",
    "raw.set_eeg_reference()\n",
    "raw.filter(l_freq=5, h_freq=35)\n",
    "eeg_channel_indices = mne.pick_types(raw.info, eeg=True, emg=False)\n",
    "ica = read_ica(f'D:/RUG/Term 2/FYRP/data/ica/P{subject_id}-calibration-ica.fif')\n",
    "ica.apply(raw)\n",
    "epochs = make_epochs(raw, include_rest=include_rest)\n",
    "X_train, _, y_train, _ = epochs_to_train_test(epochs)"
   ],
   "metadata": {
    "collapsed": false,
    "pycharm": {
     "name": "#%%\n"
    }
   }
  },
  {
   "cell_type": "code",
   "execution_count": null,
   "outputs": [],
   "source": [
    "epochs.compute_psd(fmin=6, fmax=15, exclude='bads', picks='eeg', method='welch').plot(average=True)"
   ],
   "metadata": {
    "collapsed": false,
    "pycharm": {
     "name": "#%%\n"
    }
   }
  },
  {
   "cell_type": "code",
   "execution_count": null,
   "outputs": [],
   "source": [],
   "metadata": {
    "collapsed": false,
    "pycharm": {
     "name": "#%%\n"
    }
   }
  }
 ],
 "metadata": {
  "kernelspec": {
   "display_name": "Python 3",
   "language": "python",
   "name": "python3"
  },
  "language_info": {
   "codemirror_mode": {
    "name": "ipython",
    "version": 2
   },
   "file_extension": ".py",
   "mimetype": "text/x-python",
   "name": "python",
   "nbconvert_exporter": "python",
   "pygments_lexer": "ipython2",
   "version": "2.7.6"
  }
 },
 "nbformat": 4,
 "nbformat_minor": 0
}