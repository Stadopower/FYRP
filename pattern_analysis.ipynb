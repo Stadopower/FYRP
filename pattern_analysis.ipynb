{
 "cells": [
  {
   "cell_type": "code",
   "execution_count": 1,
   "metadata": {
    "collapsed": true,
    "pycharm": {
     "name": "#%%\n"
    }
   },
   "outputs": [],
   "source": [
    "import numpy as np\n",
    "import mne\n",
    "import pickle\n",
    "import matplotlib\n",
    "from mne.preprocessing import read_ica\n",
    "from sklearn.metrics import classification_report, ConfusionMatrixDisplay\n",
    "from sklearn.svm import SVC, SVR\n",
    "\n",
    "from tqdm import tqdm\n",
    "from matplotlib import pyplot as plt\n",
    "\n",
    "from continuous_control_bci.visualisation.erds import plot_tfr\n",
    "from continuous_control_bci.util import emg_classes_to_eeg_classes, SUBJECT_IDS\n",
    "from continuous_control_bci.data.load_data import load_calibration, load_driving\n",
    "from continuous_control_bci.data.preprocessing import make_epochs, epochs_to_train_test\n",
    "from continuous_control_bci.data.emg_events import make_rough_emg_events\n",
    "from continuous_control_bci.modelling.csp_classifier import create_csp_classifier, get_driving_epochs_for_csp\n",
    "from sklearn.metrics import f1_score\n",
    "from filterbank_csp import filter_bank, filter_bank_csp, predict_against_threshold, predict_against_threshold_indiv, create_csp_svm_classifier, majority_pred"
   ]
  },
  {
   "cell_type": "markdown",
   "source": [
    "# This notebook tries to find if there is a difference in the Patterns found in Calibration and Driving data\n",
    "- erds\n",
    "- psd"
   ],
   "metadata": {
    "collapsed": false,
    "pycharm": {
     "name": "#%% md\n"
    }
   }
  },
  {
   "cell_type": "code",
   "execution_count": 4,
   "outputs": [],
   "source": [
    "subject_id = \"061\"\n",
    "include_rest = True\n",
    "if include_rest:\n",
    "    target_names = [\"Left\", \"Right\", \"Rest\"]\n",
    "else:\n",
    "    target_names = [\"Left\", \"Right\"]\n",
    "#raw = load_calibration(subject_id)\n",
    "#raw.set_eeg_reference()\n",
    "#raw.filter(l_freq=5, h_freq=35)\n",
    "#eeg_channel_indices = mne.pick_types(raw.info, eeg=True, emg=False)\n",
    "#ica = read_ica(f'D:/RUG/Term 2/FYRP/data/ica/P{subject_id}-calibration-ica.fif')\n",
    "#ica.apply(raw)\n",
    "#epochs = make_epochs(raw, include_rest=include_rest)\n",
    "#X_train, _, y_train, _ = epochs_to_train_test(epochs)"
   ],
   "metadata": {
    "collapsed": false,
    "pycharm": {
     "name": "#%%\n"
    }
   }
  },
  {
   "cell_type": "code",
   "execution_count": 3,
   "outputs": [
    {
     "name": "stdout",
     "output_type": "stream",
     "text": [
      "Extracting EDF parameters from D:\\RUG\\Term 2\\FYRP\\data\\ivo_data\\sub-P066\\motor-imagery-csp-066-acquisition-[2024.01.30-18.30.01].gdf...\n",
      "GDF file detected\n",
      "Setting channel info structure...\n",
      "Could not determine channel type of the following channels, they will be set as EEG:\n",
      "Channel 1, Channel 2, Channel 3, Channel 4, Channel 5, Channel 6, Channel 7, Channel 8, Channel 9, Channel 10, Channel 11, Channel 12, Channel 13, Channel 14, Channel 15, Channel 16, Channel 17, Channel 18, Channel 19, Channel 20, Channel 21, Channel 22, Channel 23, Channel 24, Channel 25, Channel 26, Channel 27, Channel 28, Channel 29, Channel 30, Channel 31, Channel 32, EX 1, EX 2, EX 3, EX 4, EX 5, EX 6, EX 7, EX 8\n",
      "Creating raw.info structure...\n",
      "Reading 0 ... 882815  =      0.000 ...   431.062 secs...\n",
      "EEG channel type selected for re-referencing\n",
      "Applying average reference.\n",
      "Applying a custom ('EEG',) reference.\n",
      "Filtering raw data in 1 contiguous segment\n",
      "Setting up band-pass filter from 1 - 35 Hz\n",
      "\n",
      "FIR filter parameters\n",
      "---------------------\n",
      "Designing a one-pass, zero-phase, non-causal bandpass filter:\n",
      "- Windowed time-domain design (firwin) method\n",
      "- Hamming window with 0.0194 passband ripple and 53 dB stopband attenuation\n",
      "- Lower passband edge: 1.00\n",
      "- Lower transition bandwidth: 1.00 Hz (-6 dB cutoff frequency: 0.50 Hz)\n",
      "- Upper passband edge: 35.00 Hz\n",
      "- Upper transition bandwidth: 8.75 Hz (-6 dB cutoff frequency: 39.38 Hz)\n",
      "- Filter length: 6759 samples (3.300 s)\n",
      "\n"
     ]
    },
    {
     "name": "stderr",
     "output_type": "stream",
     "text": [
      "[Parallel(n_jobs=1)]: Using backend SequentialBackend with 1 concurrent workers.\n",
      "[Parallel(n_jobs=1)]: Done   1 out of   1 | elapsed:    0.0s remaining:    0.0s\n",
      "[Parallel(n_jobs=1)]: Done   2 out of   2 | elapsed:    0.0s remaining:    0.0s\n",
      "[Parallel(n_jobs=1)]: Done   3 out of   3 | elapsed:    0.0s remaining:    0.0s\n",
      "[Parallel(n_jobs=1)]: Done   4 out of   4 | elapsed:    0.0s remaining:    0.0s\n"
     ]
    },
    {
     "name": "stdout",
     "output_type": "stream",
     "text": [
      "Reading D:/RUG/Term 2/FYRP/data/ica/P066-calibration-ica.fif ...\n",
      "Now restoring ICA solution ...\n",
      "Ready.\n",
      "Applying ICA to Raw instance\n"
     ]
    },
    {
     "name": "stderr",
     "output_type": "stream",
     "text": [
      "[Parallel(n_jobs=1)]: Done  32 out of  32 | elapsed:    0.4s finished\n"
     ]
    },
    {
     "name": "stdout",
     "output_type": "stream",
     "text": [
      "    Transforming to ICA space (32 components)\n",
      "    Zeroing out 2 ICA components\n",
      "    Projecting back using 32 PCA components\n",
      "Fitted sphere radius:         95.0 mm\n",
      "Origin head coordinates:      0.0 -0.0 40.1 mm\n",
      "Origin device coordinates:    0.0 -0.0 40.1 mm\n",
      "Used Annotations descriptions: ['769', '770']\n",
      "Not setting metadata\n",
      "40 matching events found\n",
      "No baseline correction applied\n",
      "0 projection items activated\n",
      "Using data from preloaded Raw for 40 events and 18433 original time points ...\n",
      "0 bad epochs dropped\n"
     ]
    },
    {
     "name": "stderr",
     "output_type": "stream",
     "text": [
      "[Parallel(n_jobs=1)]: Using backend SequentialBackend with 1 concurrent workers.\n",
      "[Parallel(n_jobs=1)]: Done   1 out of   1 | elapsed:    1.0s remaining:    0.0s\n"
     ]
    },
    {
     "name": "stdout",
     "output_type": "stream",
     "text": [
      "Not setting metadata\n",
      "Applying baseline correction (mode: percent)\n"
     ]
    },
    {
     "name": "stderr",
     "output_type": "stream",
     "text": [
      "[Parallel(n_jobs=1)]: Done   2 out of   2 | elapsed:    2.2s remaining:    0.0s\n",
      "[Parallel(n_jobs=1)]: Done   2 out of   2 | elapsed:    2.2s finished\n"
     ]
    },
    {
     "name": "stdout",
     "output_type": "stream",
     "text": [
      "Using a threshold of 1.729133\n",
      "stat_fun(H1): min=-19.681609 max=3.966988\n",
      "Running initial clustering …\n",
      "Found 34 clusters\n"
     ]
    },
    {
     "data": {
      "text/plain": "  0%|          | Permuting : 0/99 [00:00<?,       ?it/s]",
      "application/vnd.jupyter.widget-view+json": {
       "version_major": 2,
       "version_minor": 0,
       "model_id": "a7f1a7466a7642cb80371deb51a28ab6"
      }
     },
     "metadata": {},
     "output_type": "display_data"
    },
    {
     "name": "stdout",
     "output_type": "stream",
     "text": [
      "Step-down-in-jumps iteration #1 found 0 clusters to exclude from subsequent iterations\n",
      "Using a threshold of -1.729133\n",
      "stat_fun(H1): min=-19.681609 max=3.966988\n",
      "Running initial clustering …\n",
      "Found 62 clusters\n"
     ]
    },
    {
     "data": {
      "text/plain": "  0%|          | Permuting : 0/99 [00:00<?,       ?it/s]",
      "application/vnd.jupyter.widget-view+json": {
       "version_major": 2,
       "version_minor": 0,
       "model_id": "db211f0c905d4cd0b539ef0052331f52"
      }
     },
     "metadata": {},
     "output_type": "display_data"
    },
    {
     "name": "stdout",
     "output_type": "stream",
     "text": [
      "Step-down-in-jumps iteration #1 found 1 cluster to exclude from subsequent iterations\n"
     ]
    },
    {
     "data": {
      "text/plain": "  0%|          | Permuting : 0/99 [00:00<?,       ?it/s]",
      "application/vnd.jupyter.widget-view+json": {
       "version_major": 2,
       "version_minor": 0,
       "model_id": "2900a1b144bc4d0b9d11c1bb36f493c4"
      }
     },
     "metadata": {},
     "output_type": "display_data"
    },
    {
     "name": "stdout",
     "output_type": "stream",
     "text": [
      "Step-down-in-jumps iteration #2 found 0 additional clusters to exclude from subsequent iterations\n",
      "No baseline correction applied\n",
      "Using a threshold of 1.729133\n",
      "stat_fun(H1): min=-29.463638 max=6.088455\n",
      "Running initial clustering …\n",
      "Found 38 clusters\n"
     ]
    },
    {
     "data": {
      "text/plain": "  0%|          | Permuting : 0/99 [00:00<?,       ?it/s]",
      "application/vnd.jupyter.widget-view+json": {
       "version_major": 2,
       "version_minor": 0,
       "model_id": "90c4f7726f4944659bc5333df8205758"
      }
     },
     "metadata": {},
     "output_type": "display_data"
    },
    {
     "name": "stdout",
     "output_type": "stream",
     "text": [
      "Step-down-in-jumps iteration #1 found 0 clusters to exclude from subsequent iterations\n",
      "Using a threshold of -1.729133\n",
      "stat_fun(H1): min=-29.463638 max=6.088455\n",
      "Running initial clustering …\n",
      "Found 46 clusters\n"
     ]
    },
    {
     "data": {
      "text/plain": "  0%|          | Permuting : 0/99 [00:00<?,       ?it/s]",
      "application/vnd.jupyter.widget-view+json": {
       "version_major": 2,
       "version_minor": 0,
       "model_id": "c0fbe0f7ebdd43578d29679bda3fe5f2"
      }
     },
     "metadata": {},
     "output_type": "display_data"
    },
    {
     "name": "stdout",
     "output_type": "stream",
     "text": [
      "Step-down-in-jumps iteration #1 found 1 cluster to exclude from subsequent iterations\n"
     ]
    },
    {
     "data": {
      "text/plain": "  0%|          | Permuting : 0/99 [00:00<?,       ?it/s]",
      "application/vnd.jupyter.widget-view+json": {
       "version_major": 2,
       "version_minor": 0,
       "model_id": "706b9304c88f40dda604bb9d4a565097"
      }
     },
     "metadata": {},
     "output_type": "display_data"
    },
    {
     "name": "stdout",
     "output_type": "stream",
     "text": [
      "Step-down-in-jumps iteration #2 found 0 additional clusters to exclude from subsequent iterations\n",
      "No baseline correction applied\n",
      "Using a threshold of 1.729133\n",
      "stat_fun(H1): min=-14.723914 max=3.792193\n",
      "Running initial clustering …\n",
      "Found 46 clusters\n"
     ]
    },
    {
     "data": {
      "text/plain": "  0%|          | Permuting : 0/99 [00:00<?,       ?it/s]",
      "application/vnd.jupyter.widget-view+json": {
       "version_major": 2,
       "version_minor": 0,
       "model_id": "ad8b3669a1dc47488d583d650b568366"
      }
     },
     "metadata": {},
     "output_type": "display_data"
    },
    {
     "name": "stdout",
     "output_type": "stream",
     "text": [
      "Step-down-in-jumps iteration #1 found 0 clusters to exclude from subsequent iterations\n",
      "Using a threshold of -1.729133\n",
      "stat_fun(H1): min=-14.723914 max=3.792193\n",
      "Running initial clustering …\n",
      "Found 50 clusters\n"
     ]
    },
    {
     "data": {
      "text/plain": "  0%|          | Permuting : 0/99 [00:00<?,       ?it/s]",
      "application/vnd.jupyter.widget-view+json": {
       "version_major": 2,
       "version_minor": 0,
       "model_id": "3422482657be43989942bb0afd0543e6"
      }
     },
     "metadata": {},
     "output_type": "display_data"
    },
    {
     "name": "stdout",
     "output_type": "stream",
     "text": [
      "Step-down-in-jumps iteration #1 found 1 cluster to exclude from subsequent iterations\n"
     ]
    },
    {
     "data": {
      "text/plain": "  0%|          | Permuting : 0/99 [00:00<?,       ?it/s]",
      "application/vnd.jupyter.widget-view+json": {
       "version_major": 2,
       "version_minor": 0,
       "model_id": "c6cb5476b29f47fba44581a949231bef"
      }
     },
     "metadata": {},
     "output_type": "display_data"
    },
    {
     "name": "stdout",
     "output_type": "stream",
     "text": [
      "Step-down-in-jumps iteration #2 found 0 additional clusters to exclude from subsequent iterations\n",
      "No baseline correction applied\n",
      "Using a threshold of 1.729133\n",
      "stat_fun(H1): min=-12.091118 max=4.320785\n",
      "Running initial clustering …\n",
      "Found 53 clusters\n"
     ]
    },
    {
     "data": {
      "text/plain": "  0%|          | Permuting : 0/99 [00:00<?,       ?it/s]",
      "application/vnd.jupyter.widget-view+json": {
       "version_major": 2,
       "version_minor": 0,
       "model_id": "b225605fe5dd4fa38b4d0860543774f5"
      }
     },
     "metadata": {},
     "output_type": "display_data"
    },
    {
     "name": "stdout",
     "output_type": "stream",
     "text": [
      "Step-down-in-jumps iteration #1 found 2 clusters to exclude from subsequent iterations\n"
     ]
    },
    {
     "data": {
      "text/plain": "  0%|          | Permuting : 0/99 [00:00<?,       ?it/s]",
      "application/vnd.jupyter.widget-view+json": {
       "version_major": 2,
       "version_minor": 0,
       "model_id": "3390fc216b07427a87286e43738f7ebd"
      }
     },
     "metadata": {},
     "output_type": "display_data"
    },
    {
     "name": "stdout",
     "output_type": "stream",
     "text": [
      "Step-down-in-jumps iteration #2 found 0 additional clusters to exclude from subsequent iterations\n",
      "Using a threshold of -1.729133\n",
      "stat_fun(H1): min=-12.091118 max=4.320785\n",
      "Running initial clustering …\n",
      "Found 56 clusters\n"
     ]
    },
    {
     "data": {
      "text/plain": "  0%|          | Permuting : 0/99 [00:00<?,       ?it/s]",
      "application/vnd.jupyter.widget-view+json": {
       "version_major": 2,
       "version_minor": 0,
       "model_id": "9502b77cd2fd4316af26276d4ed01dc2"
      }
     },
     "metadata": {},
     "output_type": "display_data"
    },
    {
     "name": "stdout",
     "output_type": "stream",
     "text": [
      "Step-down-in-jumps iteration #1 found 1 cluster to exclude from subsequent iterations\n"
     ]
    },
    {
     "data": {
      "text/plain": "  0%|          | Permuting : 0/99 [00:00<?,       ?it/s]",
      "application/vnd.jupyter.widget-view+json": {
       "version_major": 2,
       "version_minor": 0,
       "model_id": "2767e2b3a21d453cba1bd9e93590875d"
      }
     },
     "metadata": {},
     "output_type": "display_data"
    },
    {
     "name": "stdout",
     "output_type": "stream",
     "text": [
      "Step-down-in-jumps iteration #2 found 2 additional clusters to exclude from subsequent iterations\n"
     ]
    },
    {
     "data": {
      "text/plain": "  0%|          | Permuting : 0/99 [00:00<?,       ?it/s]",
      "application/vnd.jupyter.widget-view+json": {
       "version_major": 2,
       "version_minor": 0,
       "model_id": "c736f85156064541b0eb9beacfea5ff1"
      }
     },
     "metadata": {},
     "output_type": "display_data"
    },
    {
     "name": "stdout",
     "output_type": "stream",
     "text": [
      "Step-down-in-jumps iteration #3 found 0 additional clusters to exclude from subsequent iterations\n",
      "No baseline correction applied\n"
     ]
    },
    {
     "name": "stderr",
     "output_type": "stream",
     "text": [
      "[Parallel(n_jobs=1)]: Using backend SequentialBackend with 1 concurrent workers.\n",
      "[Parallel(n_jobs=1)]: Done   1 out of   1 | elapsed:    1.0s remaining:    0.0s\n"
     ]
    },
    {
     "name": "stdout",
     "output_type": "stream",
     "text": [
      "Not setting metadata\n"
     ]
    },
    {
     "name": "stderr",
     "output_type": "stream",
     "text": [
      "[Parallel(n_jobs=1)]: Done   2 out of   2 | elapsed:    2.1s remaining:    0.0s\n",
      "[Parallel(n_jobs=1)]: Done   2 out of   2 | elapsed:    2.1s finished\n"
     ]
    },
    {
     "name": "stdout",
     "output_type": "stream",
     "text": [
      "No baseline correction applied\n",
      "No baseline correction applied\n",
      "No baseline correction applied\n",
      "No baseline correction applied\n",
      "Extracting EDF parameters from D:\\RUG\\Term 2\\FYRP\\data\\ivo_data\\sub-P126\\motor-imagery-csp-126-acquisition-[2024.02.08-15.59.48].gdf...\n",
      "GDF file detected\n",
      "Setting channel info structure...\n",
      "Could not determine channel type of the following channels, they will be set as EEG:\n",
      "Channel 1, Channel 2, Channel 3, Channel 4, Channel 5, Channel 6, Channel 7, Channel 8, Channel 9, Channel 10, Channel 11, Channel 12, Channel 13, Channel 14, Channel 15, Channel 16, Channel 17, Channel 18, Channel 19, Channel 20, Channel 21, Channel 22, Channel 23, Channel 24, Channel 25, Channel 26, Channel 27, Channel 28, Channel 29, Channel 30, Channel 31, Channel 32, EX 1, EX 2, EX 3, EX 4, EX 5, EX 6, EX 7, EX 8\n",
      "Creating raw.info structure...\n",
      "Reading 0 ... 882783  =      0.000 ...   431.046 secs...\n",
      "EEG channel type selected for re-referencing\n",
      "Applying average reference.\n",
      "Applying a custom ('EEG',) reference.\n",
      "Filtering raw data in 1 contiguous segment\n",
      "Setting up band-pass filter from 1 - 35 Hz\n",
      "\n",
      "FIR filter parameters\n",
      "---------------------\n",
      "Designing a one-pass, zero-phase, non-causal bandpass filter:\n",
      "- Windowed time-domain design (firwin) method\n",
      "- Hamming window with 0.0194 passband ripple and 53 dB stopband attenuation\n",
      "- Lower passband edge: 1.00\n",
      "- Lower transition bandwidth: 1.00 Hz (-6 dB cutoff frequency: 0.50 Hz)\n",
      "- Upper passband edge: 35.00 Hz\n",
      "- Upper transition bandwidth: 8.75 Hz (-6 dB cutoff frequency: 39.38 Hz)\n",
      "- Filter length: 6759 samples (3.300 s)\n",
      "\n"
     ]
    },
    {
     "name": "stderr",
     "output_type": "stream",
     "text": [
      "[Parallel(n_jobs=1)]: Using backend SequentialBackend with 1 concurrent workers.\n",
      "[Parallel(n_jobs=1)]: Done   1 out of   1 | elapsed:    0.0s remaining:    0.0s\n",
      "[Parallel(n_jobs=1)]: Done   2 out of   2 | elapsed:    0.0s remaining:    0.0s\n",
      "[Parallel(n_jobs=1)]: Done   3 out of   3 | elapsed:    0.0s remaining:    0.0s\n",
      "[Parallel(n_jobs=1)]: Done   4 out of   4 | elapsed:    0.0s remaining:    0.0s\n"
     ]
    },
    {
     "name": "stdout",
     "output_type": "stream",
     "text": [
      "Reading D:/RUG/Term 2/FYRP/data/ica/P126-calibration-ica.fif ...\n",
      "Now restoring ICA solution ...\n",
      "Ready.\n",
      "Applying ICA to Raw instance\n",
      "    Transforming to ICA space (32 components)\n",
      "    Zeroing out 6 ICA components\n",
      "    Projecting back using 32 PCA components\n"
     ]
    },
    {
     "name": "stderr",
     "output_type": "stream",
     "text": [
      "[Parallel(n_jobs=1)]: Done  32 out of  32 | elapsed:    0.4s finished\n"
     ]
    },
    {
     "name": "stdout",
     "output_type": "stream",
     "text": [
      "Fitted sphere radius:         95.0 mm\n",
      "Origin head coordinates:      0.0 -0.0 40.1 mm\n",
      "Origin device coordinates:    0.0 -0.0 40.1 mm\n",
      "Used Annotations descriptions: ['769', '770']\n",
      "Not setting metadata\n",
      "40 matching events found\n",
      "No baseline correction applied\n",
      "0 projection items activated\n",
      "Using data from preloaded Raw for 40 events and 18433 original time points ...\n",
      "    Rejecting  epoch based on CSD : ['C3']\n",
      "    Rejecting  epoch based on CSD : ['O2', 'PO4']\n",
      "    Rejecting  epoch based on CSD : ['PO4']\n",
      "    Rejecting  epoch based on CSD : ['PO4', 'P8', 'CP6', 'FC6', 'F8']\n",
      "    Rejecting  epoch based on CSD : ['PO4']\n",
      "    Rejecting  epoch based on CSD : ['FC6']\n",
      "    Rejecting  epoch based on CSD : ['PO4']\n",
      "7 bad epochs dropped\n"
     ]
    },
    {
     "name": "stderr",
     "output_type": "stream",
     "text": [
      "[Parallel(n_jobs=1)]: Using backend SequentialBackend with 1 concurrent workers.\n",
      "[Parallel(n_jobs=1)]: Done   1 out of   1 | elapsed:    0.9s remaining:    0.0s\n"
     ]
    },
    {
     "name": "stdout",
     "output_type": "stream",
     "text": [
      "Not setting metadata\n",
      "Applying baseline correction (mode: percent)\n"
     ]
    },
    {
     "name": "stderr",
     "output_type": "stream",
     "text": [
      "[Parallel(n_jobs=1)]: Done   2 out of   2 | elapsed:    2.0s remaining:    0.0s\n",
      "[Parallel(n_jobs=1)]: Done   2 out of   2 | elapsed:    2.0s finished\n"
     ]
    },
    {
     "name": "stdout",
     "output_type": "stream",
     "text": [
      "Using a threshold of 1.753050\n",
      "stat_fun(H1): min=-11.435428 max=2.869863\n",
      "Running initial clustering …\n",
      "Found 45 clusters\n"
     ]
    },
    {
     "data": {
      "text/plain": "  0%|          | Permuting : 0/99 [00:00<?,       ?it/s]",
      "application/vnd.jupyter.widget-view+json": {
       "version_major": 2,
       "version_minor": 0,
       "model_id": "6870d501a6304281a5f9eaf136b10833"
      }
     },
     "metadata": {},
     "output_type": "display_data"
    },
    {
     "name": "stdout",
     "output_type": "stream",
     "text": [
      "Step-down-in-jumps iteration #1 found 0 clusters to exclude from subsequent iterations\n",
      "Using a threshold of -1.753050\n",
      "stat_fun(H1): min=-11.435428 max=2.869863\n",
      "Running initial clustering …\n",
      "Found 93 clusters\n"
     ]
    },
    {
     "data": {
      "text/plain": "  0%|          | Permuting : 0/99 [00:00<?,       ?it/s]",
      "application/vnd.jupyter.widget-view+json": {
       "version_major": 2,
       "version_minor": 0,
       "model_id": "3b7ab26193424e5496e0ddf6fb80a714"
      }
     },
     "metadata": {},
     "output_type": "display_data"
    },
    {
     "name": "stdout",
     "output_type": "stream",
     "text": [
      "Step-down-in-jumps iteration #1 found 1 cluster to exclude from subsequent iterations\n"
     ]
    },
    {
     "data": {
      "text/plain": "  0%|          | Permuting : 0/99 [00:00<?,       ?it/s]",
      "application/vnd.jupyter.widget-view+json": {
       "version_major": 2,
       "version_minor": 0,
       "model_id": "3eb3096ee12c4409a4842946c1a867a6"
      }
     },
     "metadata": {},
     "output_type": "display_data"
    },
    {
     "name": "stdout",
     "output_type": "stream",
     "text": [
      "Step-down-in-jumps iteration #2 found 1 additional cluster to exclude from subsequent iterations\n"
     ]
    },
    {
     "data": {
      "text/plain": "  0%|          | Permuting : 0/99 [00:00<?,       ?it/s]",
      "application/vnd.jupyter.widget-view+json": {
       "version_major": 2,
       "version_minor": 0,
       "model_id": "39d985cf32564268bcc852a236247a76"
      }
     },
     "metadata": {},
     "output_type": "display_data"
    },
    {
     "name": "stdout",
     "output_type": "stream",
     "text": [
      "Step-down-in-jumps iteration #3 found 0 additional clusters to exclude from subsequent iterations\n",
      "No baseline correction applied\n",
      "Using a threshold of 1.753050\n",
      "stat_fun(H1): min=-11.454874 max=3.105125\n",
      "Running initial clustering …\n",
      "Found 36 clusters\n"
     ]
    },
    {
     "data": {
      "text/plain": "  0%|          | Permuting : 0/99 [00:00<?,       ?it/s]",
      "application/vnd.jupyter.widget-view+json": {
       "version_major": 2,
       "version_minor": 0,
       "model_id": "aeb1602d59714eb2aa6ae2a336d015a4"
      }
     },
     "metadata": {},
     "output_type": "display_data"
    },
    {
     "name": "stdout",
     "output_type": "stream",
     "text": [
      "Step-down-in-jumps iteration #1 found 0 clusters to exclude from subsequent iterations\n",
      "Using a threshold of -1.753050\n",
      "stat_fun(H1): min=-11.454874 max=3.105125\n",
      "Running initial clustering …\n",
      "Found 80 clusters\n"
     ]
    },
    {
     "data": {
      "text/plain": "  0%|          | Permuting : 0/99 [00:00<?,       ?it/s]",
      "application/vnd.jupyter.widget-view+json": {
       "version_major": 2,
       "version_minor": 0,
       "model_id": "1b73665199d94f549a678b7711a94607"
      }
     },
     "metadata": {},
     "output_type": "display_data"
    },
    {
     "name": "stdout",
     "output_type": "stream",
     "text": [
      "Step-down-in-jumps iteration #1 found 1 cluster to exclude from subsequent iterations\n"
     ]
    },
    {
     "data": {
      "text/plain": "  0%|          | Permuting : 0/99 [00:00<?,       ?it/s]",
      "application/vnd.jupyter.widget-view+json": {
       "version_major": 2,
       "version_minor": 0,
       "model_id": "5652826069cf480482e1bf3fdd72d4fd"
      }
     },
     "metadata": {},
     "output_type": "display_data"
    },
    {
     "name": "stdout",
     "output_type": "stream",
     "text": [
      "Step-down-in-jumps iteration #2 found 0 additional clusters to exclude from subsequent iterations\n",
      "No baseline correction applied\n",
      "Using a threshold of 1.745884\n",
      "stat_fun(H1): min=-19.030942 max=3.220208\n",
      "Running initial clustering …\n",
      "Found 37 clusters\n"
     ]
    },
    {
     "data": {
      "text/plain": "  0%|          | Permuting : 0/99 [00:00<?,       ?it/s]",
      "application/vnd.jupyter.widget-view+json": {
       "version_major": 2,
       "version_minor": 0,
       "model_id": "edb561441a304aa5bafef9cad12256d6"
      }
     },
     "metadata": {},
     "output_type": "display_data"
    },
    {
     "name": "stdout",
     "output_type": "stream",
     "text": [
      "Step-down-in-jumps iteration #1 found 0 clusters to exclude from subsequent iterations\n",
      "Using a threshold of -1.745884\n",
      "stat_fun(H1): min=-19.030942 max=3.220208\n",
      "Running initial clustering …\n",
      "Found 76 clusters\n"
     ]
    },
    {
     "data": {
      "text/plain": "  0%|          | Permuting : 0/99 [00:00<?,       ?it/s]",
      "application/vnd.jupyter.widget-view+json": {
       "version_major": 2,
       "version_minor": 0,
       "model_id": "25dfbb4cecb74ce9b42b499889d702cc"
      }
     },
     "metadata": {},
     "output_type": "display_data"
    },
    {
     "name": "stdout",
     "output_type": "stream",
     "text": [
      "Step-down-in-jumps iteration #1 found 1 cluster to exclude from subsequent iterations\n"
     ]
    },
    {
     "data": {
      "text/plain": "  0%|          | Permuting : 0/99 [00:00<?,       ?it/s]",
      "application/vnd.jupyter.widget-view+json": {
       "version_major": 2,
       "version_minor": 0,
       "model_id": "062f1baea5424770a0c4766f8a559ded"
      }
     },
     "metadata": {},
     "output_type": "display_data"
    },
    {
     "name": "stdout",
     "output_type": "stream",
     "text": [
      "Step-down-in-jumps iteration #2 found 0 additional clusters to exclude from subsequent iterations\n",
      "No baseline correction applied\n",
      "Using a threshold of 1.745884\n",
      "stat_fun(H1): min=-7.067742 max=3.134023\n",
      "Running initial clustering …\n",
      "Found 40 clusters\n"
     ]
    },
    {
     "data": {
      "text/plain": "  0%|          | Permuting : 0/99 [00:00<?,       ?it/s]",
      "application/vnd.jupyter.widget-view+json": {
       "version_major": 2,
       "version_minor": 0,
       "model_id": "1ab9f25d1e844a66af5e8deb2566e76f"
      }
     },
     "metadata": {},
     "output_type": "display_data"
    },
    {
     "name": "stdout",
     "output_type": "stream",
     "text": [
      "Step-down-in-jumps iteration #1 found 0 clusters to exclude from subsequent iterations\n",
      "Using a threshold of -1.745884\n",
      "stat_fun(H1): min=-7.067742 max=3.134023\n",
      "Running initial clustering …\n",
      "Found 95 clusters\n"
     ]
    },
    {
     "data": {
      "text/plain": "  0%|          | Permuting : 0/99 [00:00<?,       ?it/s]",
      "application/vnd.jupyter.widget-view+json": {
       "version_major": 2,
       "version_minor": 0,
       "model_id": "f1bc48fb6c774021b1eb46b95201dc9f"
      }
     },
     "metadata": {},
     "output_type": "display_data"
    },
    {
     "name": "stdout",
     "output_type": "stream",
     "text": [
      "Step-down-in-jumps iteration #1 found 0 clusters to exclude from subsequent iterations\n",
      "No baseline correction applied\n"
     ]
    },
    {
     "name": "stderr",
     "output_type": "stream",
     "text": [
      "[Parallel(n_jobs=1)]: Using backend SequentialBackend with 1 concurrent workers.\n",
      "[Parallel(n_jobs=1)]: Done   1 out of   1 | elapsed:    0.9s remaining:    0.0s\n"
     ]
    },
    {
     "name": "stdout",
     "output_type": "stream",
     "text": [
      "Not setting metadata\n"
     ]
    },
    {
     "name": "stderr",
     "output_type": "stream",
     "text": [
      "[Parallel(n_jobs=1)]: Done   2 out of   2 | elapsed:    2.0s remaining:    0.0s\n",
      "[Parallel(n_jobs=1)]: Done   2 out of   2 | elapsed:    2.0s finished\n"
     ]
    },
    {
     "name": "stdout",
     "output_type": "stream",
     "text": [
      "No baseline correction applied\n",
      "No baseline correction applied\n",
      "No baseline correction applied\n",
      "No baseline correction applied\n",
      "Extracting EDF parameters from D:\\RUG\\Term 2\\FYRP\\data\\ivo_data\\sub-P336\\motor-imagery-csp-336-acquisition-[2024.02.08-14.04.05].gdf...\n",
      "GDF file detected\n",
      "Setting channel info structure...\n",
      "Could not determine channel type of the following channels, they will be set as EEG:\n",
      "Channel 1, Channel 2, Channel 3, Channel 4, Channel 5, Channel 6, Channel 7, Channel 8, Channel 9, Channel 10, Channel 11, Channel 12, Channel 13, Channel 14, Channel 15, Channel 16, Channel 17, Channel 18, Channel 19, Channel 20, Channel 21, Channel 22, Channel 23, Channel 24, Channel 25, Channel 26, Channel 27, Channel 28, Channel 29, Channel 30, Channel 31, Channel 32, EX 1, EX 2, EX 3, EX 4, EX 5, EX 6, EX 7, EX 8\n",
      "Creating raw.info structure...\n",
      "Reading 0 ... 882751  =      0.000 ...   431.031 secs...\n",
      "EEG channel type selected for re-referencing\n",
      "Applying average reference.\n",
      "Applying a custom ('EEG',) reference.\n",
      "Filtering raw data in 1 contiguous segment\n",
      "Setting up band-pass filter from 1 - 35 Hz\n",
      "\n",
      "FIR filter parameters\n",
      "---------------------\n",
      "Designing a one-pass, zero-phase, non-causal bandpass filter:\n",
      "- Windowed time-domain design (firwin) method\n",
      "- Hamming window with 0.0194 passband ripple and 53 dB stopband attenuation\n",
      "- Lower passband edge: 1.00\n",
      "- Lower transition bandwidth: 1.00 Hz (-6 dB cutoff frequency: 0.50 Hz)\n",
      "- Upper passband edge: 35.00 Hz\n",
      "- Upper transition bandwidth: 8.75 Hz (-6 dB cutoff frequency: 39.38 Hz)\n",
      "- Filter length: 6759 samples (3.300 s)\n",
      "\n"
     ]
    },
    {
     "name": "stderr",
     "output_type": "stream",
     "text": [
      "[Parallel(n_jobs=1)]: Using backend SequentialBackend with 1 concurrent workers.\n",
      "[Parallel(n_jobs=1)]: Done   1 out of   1 | elapsed:    0.0s remaining:    0.0s\n",
      "[Parallel(n_jobs=1)]: Done   2 out of   2 | elapsed:    0.0s remaining:    0.0s\n",
      "[Parallel(n_jobs=1)]: Done   3 out of   3 | elapsed:    0.0s remaining:    0.0s\n",
      "[Parallel(n_jobs=1)]: Done   4 out of   4 | elapsed:    0.0s remaining:    0.0s\n"
     ]
    },
    {
     "name": "stdout",
     "output_type": "stream",
     "text": [
      "Reading D:/RUG/Term 2/FYRP/data/ica/P336-calibration-ica.fif ...\n",
      "Now restoring ICA solution ...\n",
      "Ready.\n",
      "Applying ICA to Raw instance\n",
      "    Transforming to ICA space (32 components)\n",
      "    Zeroing out 4 ICA components\n",
      "    Projecting back using 32 PCA components\n"
     ]
    },
    {
     "name": "stderr",
     "output_type": "stream",
     "text": [
      "[Parallel(n_jobs=1)]: Done  32 out of  32 | elapsed:    0.4s finished\n"
     ]
    },
    {
     "name": "stdout",
     "output_type": "stream",
     "text": [
      "Fitted sphere radius:         95.0 mm\n",
      "Origin head coordinates:      0.0 -0.0 40.1 mm\n",
      "Origin device coordinates:    0.0 -0.0 40.1 mm\n",
      "Used Annotations descriptions: ['769', '770']\n",
      "Not setting metadata\n",
      "40 matching events found\n",
      "No baseline correction applied\n",
      "0 projection items activated\n",
      "Using data from preloaded Raw for 40 events and 18433 original time points ...\n",
      "0 bad epochs dropped\n"
     ]
    },
    {
     "name": "stderr",
     "output_type": "stream",
     "text": [
      "[Parallel(n_jobs=1)]: Using backend SequentialBackend with 1 concurrent workers.\n",
      "[Parallel(n_jobs=1)]: Done   1 out of   1 | elapsed:    1.1s remaining:    0.0s\n"
     ]
    },
    {
     "name": "stdout",
     "output_type": "stream",
     "text": [
      "Not setting metadata\n"
     ]
    },
    {
     "name": "stderr",
     "output_type": "stream",
     "text": [
      "[Parallel(n_jobs=1)]: Done   2 out of   2 | elapsed:    2.4s remaining:    0.0s\n",
      "[Parallel(n_jobs=1)]: Done   2 out of   2 | elapsed:    2.4s finished\n"
     ]
    },
    {
     "name": "stdout",
     "output_type": "stream",
     "text": [
      "Applying baseline correction (mode: percent)\n",
      "Using a threshold of 1.729133\n",
      "stat_fun(H1): min=-7.447499 max=3.186405\n",
      "Running initial clustering …\n",
      "Found 50 clusters\n"
     ]
    },
    {
     "data": {
      "text/plain": "  0%|          | Permuting : 0/99 [00:00<?,       ?it/s]",
      "application/vnd.jupyter.widget-view+json": {
       "version_major": 2,
       "version_minor": 0,
       "model_id": "8670b71273d64d459fb269801bee757a"
      }
     },
     "metadata": {},
     "output_type": "display_data"
    },
    {
     "name": "stdout",
     "output_type": "stream",
     "text": [
      "Step-down-in-jumps iteration #1 found 0 clusters to exclude from subsequent iterations\n",
      "Using a threshold of -1.729133\n",
      "stat_fun(H1): min=-7.447499 max=3.186405\n",
      "Running initial clustering …\n",
      "Found 79 clusters\n"
     ]
    },
    {
     "data": {
      "text/plain": "  0%|          | Permuting : 0/99 [00:00<?,       ?it/s]",
      "application/vnd.jupyter.widget-view+json": {
       "version_major": 2,
       "version_minor": 0,
       "model_id": "8355186d790e4eb296b7afe15360a8f7"
      }
     },
     "metadata": {},
     "output_type": "display_data"
    },
    {
     "name": "stdout",
     "output_type": "stream",
     "text": [
      "Step-down-in-jumps iteration #1 found 0 clusters to exclude from subsequent iterations\n",
      "No baseline correction applied\n",
      "Using a threshold of 1.729133\n",
      "stat_fun(H1): min=-8.750432 max=3.234899\n",
      "Running initial clustering …\n",
      "Found 64 clusters\n"
     ]
    },
    {
     "data": {
      "text/plain": "  0%|          | Permuting : 0/99 [00:00<?,       ?it/s]",
      "application/vnd.jupyter.widget-view+json": {
       "version_major": 2,
       "version_minor": 0,
       "model_id": "0b274097920146d8ba57e78cf056e8a2"
      }
     },
     "metadata": {},
     "output_type": "display_data"
    },
    {
     "name": "stdout",
     "output_type": "stream",
     "text": [
      "Step-down-in-jumps iteration #1 found 0 clusters to exclude from subsequent iterations\n",
      "Using a threshold of -1.729133\n",
      "stat_fun(H1): min=-8.750432 max=3.234899\n",
      "Running initial clustering …\n",
      "Found 71 clusters\n"
     ]
    },
    {
     "data": {
      "text/plain": "  0%|          | Permuting : 0/99 [00:00<?,       ?it/s]",
      "application/vnd.jupyter.widget-view+json": {
       "version_major": 2,
       "version_minor": 0,
       "model_id": "0943d12a9ccf462baceb47f9f96feff4"
      }
     },
     "metadata": {},
     "output_type": "display_data"
    },
    {
     "name": "stdout",
     "output_type": "stream",
     "text": [
      "Step-down-in-jumps iteration #1 found 0 clusters to exclude from subsequent iterations\n",
      "No baseline correction applied\n",
      "Using a threshold of 1.729133\n",
      "stat_fun(H1): min=-6.673714 max=4.446899\n",
      "Running initial clustering …\n",
      "Found 30 clusters\n"
     ]
    },
    {
     "data": {
      "text/plain": "  0%|          | Permuting : 0/99 [00:00<?,       ?it/s]",
      "application/vnd.jupyter.widget-view+json": {
       "version_major": 2,
       "version_minor": 0,
       "model_id": "d61330737a074a7cafd9734eb69bfcb5"
      }
     },
     "metadata": {},
     "output_type": "display_data"
    },
    {
     "name": "stdout",
     "output_type": "stream",
     "text": [
      "Step-down-in-jumps iteration #1 found 0 clusters to exclude from subsequent iterations\n",
      "Using a threshold of -1.729133\n",
      "stat_fun(H1): min=-6.673714 max=4.446899\n",
      "Running initial clustering …\n",
      "Found 58 clusters\n"
     ]
    },
    {
     "data": {
      "text/plain": "  0%|          | Permuting : 0/99 [00:00<?,       ?it/s]",
      "application/vnd.jupyter.widget-view+json": {
       "version_major": 2,
       "version_minor": 0,
       "model_id": "e366a29c13dd439d8a009d56c0487bb1"
      }
     },
     "metadata": {},
     "output_type": "display_data"
    },
    {
     "name": "stdout",
     "output_type": "stream",
     "text": [
      "Step-down-in-jumps iteration #1 found 1 cluster to exclude from subsequent iterations\n"
     ]
    },
    {
     "data": {
      "text/plain": "  0%|          | Permuting : 0/99 [00:00<?,       ?it/s]",
      "application/vnd.jupyter.widget-view+json": {
       "version_major": 2,
       "version_minor": 0,
       "model_id": "379ba71d8e3041f0a93d58941ea5c3b3"
      }
     },
     "metadata": {},
     "output_type": "display_data"
    },
    {
     "name": "stdout",
     "output_type": "stream",
     "text": [
      "Step-down-in-jumps iteration #2 found 0 additional clusters to exclude from subsequent iterations\n",
      "No baseline correction applied\n",
      "Using a threshold of 1.729133\n",
      "stat_fun(H1): min=-5.421072 max=3.946856\n",
      "Running initial clustering …\n",
      "Found 69 clusters\n"
     ]
    },
    {
     "data": {
      "text/plain": "  0%|          | Permuting : 0/99 [00:00<?,       ?it/s]",
      "application/vnd.jupyter.widget-view+json": {
       "version_major": 2,
       "version_minor": 0,
       "model_id": "8dd0333b91da49fda2cd7b98d90c6f3f"
      }
     },
     "metadata": {},
     "output_type": "display_data"
    },
    {
     "name": "stdout",
     "output_type": "stream",
     "text": [
      "Step-down-in-jumps iteration #1 found 0 clusters to exclude from subsequent iterations\n",
      "Using a threshold of -1.729133\n",
      "stat_fun(H1): min=-5.421072 max=3.946856\n",
      "Running initial clustering …\n",
      "Found 72 clusters\n"
     ]
    },
    {
     "data": {
      "text/plain": "  0%|          | Permuting : 0/99 [00:00<?,       ?it/s]",
      "application/vnd.jupyter.widget-view+json": {
       "version_major": 2,
       "version_minor": 0,
       "model_id": "db4d2c2514cc4a55b254b88225acbd89"
      }
     },
     "metadata": {},
     "output_type": "display_data"
    },
    {
     "name": "stdout",
     "output_type": "stream",
     "text": [
      "Step-down-in-jumps iteration #1 found 0 clusters to exclude from subsequent iterations\n",
      "No baseline correction applied\n"
     ]
    },
    {
     "name": "stderr",
     "output_type": "stream",
     "text": [
      "[Parallel(n_jobs=1)]: Using backend SequentialBackend with 1 concurrent workers.\n",
      "[Parallel(n_jobs=1)]: Done   1 out of   1 | elapsed:    1.3s remaining:    0.0s\n"
     ]
    },
    {
     "name": "stdout",
     "output_type": "stream",
     "text": [
      "Not setting metadata\n"
     ]
    },
    {
     "name": "stderr",
     "output_type": "stream",
     "text": [
      "[Parallel(n_jobs=1)]: Done   2 out of   2 | elapsed:    2.8s remaining:    0.0s\n",
      "[Parallel(n_jobs=1)]: Done   2 out of   2 | elapsed:    2.8s finished\n"
     ]
    },
    {
     "name": "stdout",
     "output_type": "stream",
     "text": [
      "No baseline correction applied\n",
      "No baseline correction applied\n",
      "No baseline correction applied\n",
      "No baseline correction applied\n",
      "Extracting EDF parameters from D:\\RUG\\Term 2\\FYRP\\data\\ivo_data\\sub-P530\\motor-imagery-csp-530-acquisition-[2024.02.02-12.04.47].gdf...\n",
      "GDF file detected\n",
      "Setting channel info structure...\n",
      "Could not determine channel type of the following channels, they will be set as EEG:\n",
      "Channel 1, Channel 2, Channel 3, Channel 4, Channel 5, Channel 6, Channel 7, Channel 8, Channel 9, Channel 10, Channel 11, Channel 12, Channel 13, Channel 14, Channel 15, Channel 16, Channel 17, Channel 18, Channel 19, Channel 20, Channel 21, Channel 22, Channel 23, Channel 24, Channel 25, Channel 26, Channel 27, Channel 28, Channel 29, Channel 30, Channel 31, Channel 32, EX 1, EX 2, EX 3, EX 4, EX 5, EX 6, EX 7, EX 8\n",
      "Creating raw.info structure...\n",
      "Reading 0 ... 882783  =      0.000 ...   431.046 secs...\n",
      "EEG channel type selected for re-referencing\n",
      "Applying average reference.\n",
      "Applying a custom ('EEG',) reference.\n",
      "Filtering raw data in 1 contiguous segment\n",
      "Setting up band-pass filter from 1 - 35 Hz\n",
      "\n",
      "FIR filter parameters\n",
      "---------------------\n",
      "Designing a one-pass, zero-phase, non-causal bandpass filter:\n",
      "- Windowed time-domain design (firwin) method\n",
      "- Hamming window with 0.0194 passband ripple and 53 dB stopband attenuation\n",
      "- Lower passband edge: 1.00\n",
      "- Lower transition bandwidth: 1.00 Hz (-6 dB cutoff frequency: 0.50 Hz)\n",
      "- Upper passband edge: 35.00 Hz\n",
      "- Upper transition bandwidth: 8.75 Hz (-6 dB cutoff frequency: 39.38 Hz)\n",
      "- Filter length: 6759 samples (3.300 s)\n",
      "\n"
     ]
    },
    {
     "name": "stderr",
     "output_type": "stream",
     "text": [
      "[Parallel(n_jobs=1)]: Using backend SequentialBackend with 1 concurrent workers.\n",
      "[Parallel(n_jobs=1)]: Done   1 out of   1 | elapsed:    0.0s remaining:    0.0s\n",
      "[Parallel(n_jobs=1)]: Done   2 out of   2 | elapsed:    0.0s remaining:    0.0s\n",
      "[Parallel(n_jobs=1)]: Done   3 out of   3 | elapsed:    0.0s remaining:    0.0s\n",
      "[Parallel(n_jobs=1)]: Done   4 out of   4 | elapsed:    0.0s remaining:    0.0s\n"
     ]
    },
    {
     "name": "stdout",
     "output_type": "stream",
     "text": [
      "Reading D:/RUG/Term 2/FYRP/data/ica/P530-calibration-ica.fif ...\n",
      "Now restoring ICA solution ...\n",
      "Ready.\n",
      "Applying ICA to Raw instance\n",
      "    Transforming to ICA space (32 components)\n",
      "    Zeroing out 7 ICA components\n",
      "    Projecting back using 32 PCA components\n"
     ]
    },
    {
     "name": "stderr",
     "output_type": "stream",
     "text": [
      "[Parallel(n_jobs=1)]: Done  32 out of  32 | elapsed:    0.4s finished\n"
     ]
    },
    {
     "name": "stdout",
     "output_type": "stream",
     "text": [
      "Fitted sphere radius:         95.0 mm\n",
      "Origin head coordinates:      0.0 -0.0 40.1 mm\n",
      "Origin device coordinates:    0.0 -0.0 40.1 mm\n",
      "Used Annotations descriptions: ['769', '770']\n",
      "Not setting metadata\n",
      "40 matching events found\n",
      "No baseline correction applied\n",
      "0 projection items activated\n",
      "Using data from preloaded Raw for 40 events and 18433 original time points ...\n",
      "    Rejecting  epoch based on CSD : ['CP6', 'C4', 'T8', 'F4', 'Fp2']\n",
      "1 bad epochs dropped\n"
     ]
    },
    {
     "name": "stderr",
     "output_type": "stream",
     "text": [
      "[Parallel(n_jobs=1)]: Using backend SequentialBackend with 1 concurrent workers.\n",
      "[Parallel(n_jobs=1)]: Done   1 out of   1 | elapsed:    1.4s remaining:    0.0s\n"
     ]
    },
    {
     "name": "stdout",
     "output_type": "stream",
     "text": [
      "Not setting metadata\n",
      "Applying baseline correction (mode: percent)\n"
     ]
    },
    {
     "name": "stderr",
     "output_type": "stream",
     "text": [
      "[Parallel(n_jobs=1)]: Done   2 out of   2 | elapsed:    2.8s remaining:    0.0s\n",
      "[Parallel(n_jobs=1)]: Done   2 out of   2 | elapsed:    2.8s finished\n"
     ]
    },
    {
     "name": "stdout",
     "output_type": "stream",
     "text": [
      "Using a threshold of 1.729133\n",
      "stat_fun(H1): min=-36.598005 max=3.837423\n",
      "Running initial clustering …\n",
      "Found 41 clusters\n"
     ]
    },
    {
     "data": {
      "text/plain": "  0%|          | Permuting : 0/99 [00:00<?,       ?it/s]",
      "application/vnd.jupyter.widget-view+json": {
       "version_major": 2,
       "version_minor": 0,
       "model_id": "9961b07236c440efa2c77d75e073c822"
      }
     },
     "metadata": {},
     "output_type": "display_data"
    },
    {
     "name": "stdout",
     "output_type": "stream",
     "text": [
      "Step-down-in-jumps iteration #1 found 0 clusters to exclude from subsequent iterations\n",
      "Using a threshold of -1.729133\n",
      "stat_fun(H1): min=-36.598005 max=3.837423\n",
      "Running initial clustering …\n",
      "Found 76 clusters\n"
     ]
    },
    {
     "data": {
      "text/plain": "  0%|          | Permuting : 0/99 [00:00<?,       ?it/s]",
      "application/vnd.jupyter.widget-view+json": {
       "version_major": 2,
       "version_minor": 0,
       "model_id": "5e90c9dfd5d8403eb861503a861c372f"
      }
     },
     "metadata": {},
     "output_type": "display_data"
    },
    {
     "name": "stdout",
     "output_type": "stream",
     "text": [
      "Step-down-in-jumps iteration #1 found 1 cluster to exclude from subsequent iterations\n"
     ]
    },
    {
     "data": {
      "text/plain": "  0%|          | Permuting : 0/99 [00:00<?,       ?it/s]",
      "application/vnd.jupyter.widget-view+json": {
       "version_major": 2,
       "version_minor": 0,
       "model_id": "8b7cc300ab134cb29980479f4e37af09"
      }
     },
     "metadata": {},
     "output_type": "display_data"
    },
    {
     "name": "stdout",
     "output_type": "stream",
     "text": [
      "Step-down-in-jumps iteration #2 found 0 additional clusters to exclude from subsequent iterations\n",
      "No baseline correction applied\n",
      "Using a threshold of 1.729133\n",
      "stat_fun(H1): min=-18.984617 max=3.493889\n",
      "Running initial clustering …\n",
      "Found 53 clusters\n"
     ]
    },
    {
     "data": {
      "text/plain": "  0%|          | Permuting : 0/99 [00:00<?,       ?it/s]",
      "application/vnd.jupyter.widget-view+json": {
       "version_major": 2,
       "version_minor": 0,
       "model_id": "a1d2e010095f4d7d84138ecdb61a6b0a"
      }
     },
     "metadata": {},
     "output_type": "display_data"
    },
    {
     "name": "stdout",
     "output_type": "stream",
     "text": [
      "Step-down-in-jumps iteration #1 found 0 clusters to exclude from subsequent iterations\n",
      "Using a threshold of -1.729133\n",
      "stat_fun(H1): min=-18.984617 max=3.493889\n",
      "Running initial clustering …\n",
      "Found 76 clusters\n"
     ]
    },
    {
     "data": {
      "text/plain": "  0%|          | Permuting : 0/99 [00:00<?,       ?it/s]",
      "application/vnd.jupyter.widget-view+json": {
       "version_major": 2,
       "version_minor": 0,
       "model_id": "7c4df4d1f3bb44bb987a1e6a8da0482b"
      }
     },
     "metadata": {},
     "output_type": "display_data"
    },
    {
     "name": "stdout",
     "output_type": "stream",
     "text": [
      "Step-down-in-jumps iteration #1 found 1 cluster to exclude from subsequent iterations\n"
     ]
    },
    {
     "data": {
      "text/plain": "  0%|          | Permuting : 0/99 [00:00<?,       ?it/s]",
      "application/vnd.jupyter.widget-view+json": {
       "version_major": 2,
       "version_minor": 0,
       "model_id": "057c19c8fa2a43d78339d0f58ad58967"
      }
     },
     "metadata": {},
     "output_type": "display_data"
    },
    {
     "name": "stdout",
     "output_type": "stream",
     "text": [
      "Step-down-in-jumps iteration #2 found 0 additional clusters to exclude from subsequent iterations\n",
      "No baseline correction applied\n",
      "Using a threshold of 1.734064\n",
      "stat_fun(H1): min=-22.145139 max=3.182413\n",
      "Running initial clustering …\n",
      "Found 35 clusters\n"
     ]
    },
    {
     "data": {
      "text/plain": "  0%|          | Permuting : 0/99 [00:00<?,       ?it/s]",
      "application/vnd.jupyter.widget-view+json": {
       "version_major": 2,
       "version_minor": 0,
       "model_id": "2db0959072c34b9c8889720b90b783c0"
      }
     },
     "metadata": {},
     "output_type": "display_data"
    },
    {
     "name": "stdout",
     "output_type": "stream",
     "text": [
      "Step-down-in-jumps iteration #1 found 0 clusters to exclude from subsequent iterations\n",
      "Using a threshold of -1.734064\n",
      "stat_fun(H1): min=-22.145139 max=3.182413\n",
      "Running initial clustering …\n",
      "Found 60 clusters\n"
     ]
    },
    {
     "data": {
      "text/plain": "  0%|          | Permuting : 0/99 [00:00<?,       ?it/s]",
      "application/vnd.jupyter.widget-view+json": {
       "version_major": 2,
       "version_minor": 0,
       "model_id": "d500748c88bd4cda8e27c9ce3570a9f0"
      }
     },
     "metadata": {},
     "output_type": "display_data"
    },
    {
     "name": "stdout",
     "output_type": "stream",
     "text": [
      "Step-down-in-jumps iteration #1 found 1 cluster to exclude from subsequent iterations\n"
     ]
    },
    {
     "data": {
      "text/plain": "  0%|          | Permuting : 0/99 [00:00<?,       ?it/s]",
      "application/vnd.jupyter.widget-view+json": {
       "version_major": 2,
       "version_minor": 0,
       "model_id": "4b9994fc95b34ab89376eea8657ebe89"
      }
     },
     "metadata": {},
     "output_type": "display_data"
    },
    {
     "name": "stdout",
     "output_type": "stream",
     "text": [
      "Step-down-in-jumps iteration #2 found 0 additional clusters to exclude from subsequent iterations\n",
      "No baseline correction applied\n",
      "Using a threshold of 1.734064\n",
      "stat_fun(H1): min=-24.659393 max=3.282636\n",
      "Running initial clustering …\n",
      "Found 44 clusters\n"
     ]
    },
    {
     "data": {
      "text/plain": "  0%|          | Permuting : 0/99 [00:00<?,       ?it/s]",
      "application/vnd.jupyter.widget-view+json": {
       "version_major": 2,
       "version_minor": 0,
       "model_id": "9986b276db5f455d943565c6998b19f5"
      }
     },
     "metadata": {},
     "output_type": "display_data"
    },
    {
     "name": "stdout",
     "output_type": "stream",
     "text": [
      "Step-down-in-jumps iteration #1 found 0 clusters to exclude from subsequent iterations\n",
      "Using a threshold of -1.734064\n",
      "stat_fun(H1): min=-24.659393 max=3.282636\n",
      "Running initial clustering …\n",
      "Found 57 clusters\n"
     ]
    },
    {
     "data": {
      "text/plain": "  0%|          | Permuting : 0/99 [00:00<?,       ?it/s]",
      "application/vnd.jupyter.widget-view+json": {
       "version_major": 2,
       "version_minor": 0,
       "model_id": "1825d900680e45b68fcb44f0480ef3e1"
      }
     },
     "metadata": {},
     "output_type": "display_data"
    },
    {
     "name": "stdout",
     "output_type": "stream",
     "text": [
      "Step-down-in-jumps iteration #1 found 1 cluster to exclude from subsequent iterations\n"
     ]
    },
    {
     "data": {
      "text/plain": "  0%|          | Permuting : 0/99 [00:00<?,       ?it/s]",
      "application/vnd.jupyter.widget-view+json": {
       "version_major": 2,
       "version_minor": 0,
       "model_id": "7f09861ba46e4888baf66a60d175c914"
      }
     },
     "metadata": {},
     "output_type": "display_data"
    },
    {
     "name": "stdout",
     "output_type": "stream",
     "text": [
      "Step-down-in-jumps iteration #2 found 0 additional clusters to exclude from subsequent iterations\n",
      "No baseline correction applied\n"
     ]
    },
    {
     "name": "stderr",
     "output_type": "stream",
     "text": [
      "[Parallel(n_jobs=1)]: Using backend SequentialBackend with 1 concurrent workers.\n",
      "[Parallel(n_jobs=1)]: Done   1 out of   1 | elapsed:    1.3s remaining:    0.0s\n"
     ]
    },
    {
     "name": "stdout",
     "output_type": "stream",
     "text": [
      "Not setting metadata\n",
      "No baseline correction applied\n"
     ]
    },
    {
     "name": "stderr",
     "output_type": "stream",
     "text": [
      "[Parallel(n_jobs=1)]: Done   2 out of   2 | elapsed:    2.5s remaining:    0.0s\n",
      "[Parallel(n_jobs=1)]: Done   2 out of   2 | elapsed:    2.5s finished\n"
     ]
    },
    {
     "name": "stdout",
     "output_type": "stream",
     "text": [
      "No baseline correction applied\n",
      "No baseline correction applied\n",
      "No baseline correction applied\n"
     ]
    }
   ],
   "source": [
    "subject_ids = ['066', '126', '336', '530']\n",
    "for subject_id in subject_ids:\n",
    "    tmin = -3.0\n",
    "    tmax = 5.0\n",
    "    buffer = 0.5\n",
    "    event_ids = dict(left=0, right=1)\n",
    "    raw = load_calibration(subject_id)\n",
    "    raw.set_eeg_reference()\n",
    "    raw.filter(l_freq=1, h_freq=35)\n",
    "\n",
    "    ica = read_ica(f'D:/RUG/Term 2/FYRP/data/ica/P{subject_id}-calibration-ica.fif')\n",
    "    ica.apply(raw)\n",
    "\n",
    "    raw = mne.preprocessing.compute_current_source_density(raw)\n",
    "\n",
    "    matplotlib.use('Agg')\n",
    "\n",
    "    epochs = make_epochs(raw, tmin=tmin-buffer, tmax=tmax+buffer, include_rest=False)\n",
    "    #epochs.compute_psd(fmin=6, fmax=15, exclude='bads', picks='eeg', method='welch').plot(average=True)\n",
    "    epochs.pick([\"C3\", \"C4\"])\n",
    "\n",
    "    plot_tfr(epochs, subject_id, baseline=(-3, 0), tmin=tmin, tmax=tmax, event_ids=event_ids, kind='calibration')\n",
    "    plot_tfr(epochs, subject_id, baseline=None, tmin=tmin, tmax=tmax, event_ids=event_ids, kind='calibration')"
   ],
   "metadata": {
    "collapsed": false,
    "pycharm": {
     "name": "#%%\n"
    }
   }
  },
  {
   "cell_type": "code",
   "execution_count": 4,
   "outputs": [
    {
     "name": "stdout",
     "output_type": "stream",
     "text": [
      "Creating RawArray with float64 data, n_channels=40, n_times=3390353\n",
      "    Range : 0 ... 3390352 =      0.000 ...  1655.445 secs\n",
      "Ready.\n",
      "EEG channel type selected for re-referencing\n",
      "Applying average reference.\n",
      "Applying a custom ('EEG',) reference.\n"
     ]
    },
    {
     "name": "stderr",
     "output_type": "stream",
     "text": [
      "D:\\RUG\\Term 2\\FYRP\\FYRP\\continuous_control_bci\\data\\load_data.py:28: RuntimeWarning: The unit for channel(s) AF3, AF4, C3, C4, CP1, CP2, CP5, CP6, Cz, F3, F4, F7, F8, FC1, FC2, FC5, FC6, Fp1, Fp2, Fz, LHEOG, LVEOG, Left-extension, Left-flexion, O1, O2, Oz, P3, P4, P7, P8, PO3, PO4, Pz, RHEOG, Right-extension, Right-flexion, T7, T8, UVEOG has changed from NA to V.\n",
      "  streams.raw.set_channel_types(CHANNEL_TYPE_MAPPING)\n"
     ]
    },
    {
     "name": "stdout",
     "output_type": "stream",
     "text": [
      "Filtering raw data in 1 contiguous segment\n",
      "Setting up band-pass filter from 1 - 35 Hz\n",
      "\n",
      "FIR filter parameters\n",
      "---------------------\n",
      "Designing a one-pass, zero-phase, non-causal bandpass filter:\n",
      "- Windowed time-domain design (firwin) method\n",
      "- Hamming window with 0.0194 passband ripple and 53 dB stopband attenuation\n",
      "- Lower passband edge: 1.00\n",
      "- Lower transition bandwidth: 1.00 Hz (-6 dB cutoff frequency: 0.50 Hz)\n",
      "- Upper passband edge: 35.00 Hz\n",
      "- Upper transition bandwidth: 8.75 Hz (-6 dB cutoff frequency: 39.38 Hz)\n",
      "- Filter length: 6759 samples (3.300 s)\n",
      "\n"
     ]
    },
    {
     "name": "stderr",
     "output_type": "stream",
     "text": [
      "[Parallel(n_jobs=1)]: Using backend SequentialBackend with 1 concurrent workers.\n",
      "[Parallel(n_jobs=1)]: Done   1 out of   1 | elapsed:    0.0s remaining:    0.0s\n",
      "[Parallel(n_jobs=1)]: Done   2 out of   2 | elapsed:    0.1s remaining:    0.0s\n",
      "[Parallel(n_jobs=1)]: Done   3 out of   3 | elapsed:    0.2s remaining:    0.0s\n",
      "[Parallel(n_jobs=1)]: Done   4 out of   4 | elapsed:    0.2s remaining:    0.0s\n",
      "[Parallel(n_jobs=1)]: Done  32 out of  32 | elapsed:    2.5s finished\n"
     ]
    },
    {
     "name": "stdout",
     "output_type": "stream",
     "text": [
      "Reading D:/RUG/Term 2/FYRP/data/ica/P066-calibration-ica.fif ...\n",
      "Now restoring ICA solution ...\n",
      "Ready.\n",
      "Applying ICA to Raw instance\n",
      "    Transforming to ICA space (32 components)\n",
      "    Zeroing out 2 ICA components\n",
      "    Projecting back using 32 PCA components\n",
      "Fitted sphere radius:         95.0 mm\n",
      "Origin head coordinates:      0.0 -0.0 40.1 mm\n",
      "Origin device coordinates:    0.0 -0.0 40.1 mm\n",
      "Not setting metadata\n",
      "76 matching events found\n",
      "No baseline correction applied\n",
      "0 projection items activated\n",
      "Using data from preloaded Raw for 76 events and 18433 original time points ...\n",
      "    Rejecting  epoch based on CSD : ['CP2']\n",
      "    Rejecting  epoch based on CSD : ['Fp1', 'AF3', 'F4', 'F8']\n",
      "    Rejecting  epoch based on CSD : ['Fp1', 'AF3', 'F7', 'T8', 'FC6', 'F4', 'F8', 'AF4']\n",
      "    Rejecting  epoch based on CSD : ['Fp1', 'F8']\n",
      "    Rejecting  epoch based on CSD : ['Fp1', 'AF3', 'F4', 'F8']\n",
      "    Rejecting  epoch based on CSD : ['Fp1', 'AF3', 'F7', 'F8']\n",
      "    Rejecting  epoch based on CSD : ['AF3', 'F8', 'AF4']\n",
      "7 bad epochs dropped\n"
     ]
    },
    {
     "name": "stderr",
     "output_type": "stream",
     "text": [
      "[Parallel(n_jobs=1)]: Using backend SequentialBackend with 1 concurrent workers.\n",
      "[Parallel(n_jobs=1)]: Done   1 out of   1 | elapsed:    1.7s remaining:    0.0s\n"
     ]
    },
    {
     "name": "stdout",
     "output_type": "stream",
     "text": [
      "Not setting metadata\n"
     ]
    },
    {
     "name": "stderr",
     "output_type": "stream",
     "text": [
      "[Parallel(n_jobs=1)]: Done   2 out of   2 | elapsed:    3.6s remaining:    0.0s\n",
      "[Parallel(n_jobs=1)]: Done   2 out of   2 | elapsed:    3.6s finished\n"
     ]
    },
    {
     "name": "stdout",
     "output_type": "stream",
     "text": [
      "Applying baseline correction (mode: percent)\n",
      "Using a threshold of 1.678660\n",
      "stat_fun(H1): min=-3.186377 max=5.619566\n",
      "Running initial clustering …\n",
      "Found 44 clusters\n"
     ]
    },
    {
     "data": {
      "text/plain": "  0%|          | Permuting : 0/99 [00:00<?,       ?it/s]",
      "application/vnd.jupyter.widget-view+json": {
       "version_major": 2,
       "version_minor": 0,
       "model_id": "d7ee0aaff9b5458ea20f5095c7e715fa"
      }
     },
     "metadata": {},
     "output_type": "display_data"
    },
    {
     "name": "stdout",
     "output_type": "stream",
     "text": [
      "Step-down-in-jumps iteration #1 found 1 cluster to exclude from subsequent iterations\n"
     ]
    },
    {
     "data": {
      "text/plain": "  0%|          | Permuting : 0/99 [00:00<?,       ?it/s]",
      "application/vnd.jupyter.widget-view+json": {
       "version_major": 2,
       "version_minor": 0,
       "model_id": "ae5e420ec0ca4ae2bde071ffd56e0726"
      }
     },
     "metadata": {},
     "output_type": "display_data"
    },
    {
     "name": "stdout",
     "output_type": "stream",
     "text": [
      "Step-down-in-jumps iteration #2 found 0 additional clusters to exclude from subsequent iterations\n",
      "Using a threshold of -1.678660\n",
      "stat_fun(H1): min=-3.186377 max=5.619566\n",
      "Running initial clustering …\n",
      "Found 35 clusters\n"
     ]
    },
    {
     "data": {
      "text/plain": "  0%|          | Permuting : 0/99 [00:00<?,       ?it/s]",
      "application/vnd.jupyter.widget-view+json": {
       "version_major": 2,
       "version_minor": 0,
       "model_id": "bf7622daebce47d49ae2c42a4e9518c3"
      }
     },
     "metadata": {},
     "output_type": "display_data"
    },
    {
     "name": "stdout",
     "output_type": "stream",
     "text": [
      "Step-down-in-jumps iteration #1 found 0 clusters to exclude from subsequent iterations\n",
      "No baseline correction applied\n",
      "Using a threshold of 1.678660\n",
      "stat_fun(H1): min=-12.466155 max=3.632830\n",
      "Running initial clustering …\n",
      "Found 39 clusters\n"
     ]
    },
    {
     "data": {
      "text/plain": "  0%|          | Permuting : 0/99 [00:00<?,       ?it/s]",
      "application/vnd.jupyter.widget-view+json": {
       "version_major": 2,
       "version_minor": 0,
       "model_id": "e744be1759df46c89b3ae3f9931961ff"
      }
     },
     "metadata": {},
     "output_type": "display_data"
    },
    {
     "name": "stdout",
     "output_type": "stream",
     "text": [
      "Step-down-in-jumps iteration #1 found 1 cluster to exclude from subsequent iterations\n"
     ]
    },
    {
     "data": {
      "text/plain": "  0%|          | Permuting : 0/99 [00:00<?,       ?it/s]",
      "application/vnd.jupyter.widget-view+json": {
       "version_major": 2,
       "version_minor": 0,
       "model_id": "c48fc636359e4fe6a716b32ff44d5dfe"
      }
     },
     "metadata": {},
     "output_type": "display_data"
    },
    {
     "name": "stdout",
     "output_type": "stream",
     "text": [
      "Step-down-in-jumps iteration #2 found 0 additional clusters to exclude from subsequent iterations\n",
      "Using a threshold of -1.678660\n",
      "stat_fun(H1): min=-12.466155 max=3.632830\n",
      "Running initial clustering …\n",
      "Found 44 clusters\n"
     ]
    },
    {
     "data": {
      "text/plain": "  0%|          | Permuting : 0/99 [00:00<?,       ?it/s]",
      "application/vnd.jupyter.widget-view+json": {
       "version_major": 2,
       "version_minor": 0,
       "model_id": "73478b0e15b946498fadff1a0a2421fb"
      }
     },
     "metadata": {},
     "output_type": "display_data"
    },
    {
     "name": "stdout",
     "output_type": "stream",
     "text": [
      "Step-down-in-jumps iteration #1 found 1 cluster to exclude from subsequent iterations\n"
     ]
    },
    {
     "data": {
      "text/plain": "  0%|          | Permuting : 0/99 [00:00<?,       ?it/s]",
      "application/vnd.jupyter.widget-view+json": {
       "version_major": 2,
       "version_minor": 0,
       "model_id": "8fd3690588c3430089fede62f4bac9c2"
      }
     },
     "metadata": {},
     "output_type": "display_data"
    },
    {
     "name": "stdout",
     "output_type": "stream",
     "text": [
      "Step-down-in-jumps iteration #2 found 0 additional clusters to exclude from subsequent iterations\n",
      "No baseline correction applied\n",
      "Using a threshold of 1.720743\n",
      "stat_fun(H1): min=-14.332594 max=4.338472\n",
      "Running initial clustering …\n",
      "Found 35 clusters\n"
     ]
    },
    {
     "data": {
      "text/plain": "  0%|          | Permuting : 0/99 [00:00<?,       ?it/s]",
      "application/vnd.jupyter.widget-view+json": {
       "version_major": 2,
       "version_minor": 0,
       "model_id": "2cc7b445e6a84f20b7e65c788998daa6"
      }
     },
     "metadata": {},
     "output_type": "display_data"
    },
    {
     "name": "stdout",
     "output_type": "stream",
     "text": [
      "Step-down-in-jumps iteration #1 found 0 clusters to exclude from subsequent iterations\n",
      "Using a threshold of -1.720743\n",
      "stat_fun(H1): min=-14.332594 max=4.338472\n",
      "Running initial clustering …\n",
      "Found 55 clusters\n"
     ]
    },
    {
     "data": {
      "text/plain": "  0%|          | Permuting : 0/99 [00:00<?,       ?it/s]",
      "application/vnd.jupyter.widget-view+json": {
       "version_major": 2,
       "version_minor": 0,
       "model_id": "c1780562ddca4b979189a2cc6bb664e6"
      }
     },
     "metadata": {},
     "output_type": "display_data"
    },
    {
     "name": "stdout",
     "output_type": "stream",
     "text": [
      "Step-down-in-jumps iteration #1 found 2 clusters to exclude from subsequent iterations\n"
     ]
    },
    {
     "data": {
      "text/plain": "  0%|          | Permuting : 0/99 [00:00<?,       ?it/s]",
      "application/vnd.jupyter.widget-view+json": {
       "version_major": 2,
       "version_minor": 0,
       "model_id": "af567e11a6be4ac0bbfebacd80a96499"
      }
     },
     "metadata": {},
     "output_type": "display_data"
    },
    {
     "name": "stdout",
     "output_type": "stream",
     "text": [
      "Step-down-in-jumps iteration #2 found 1 additional cluster to exclude from subsequent iterations\n"
     ]
    },
    {
     "data": {
      "text/plain": "  0%|          | Permuting : 0/99 [00:00<?,       ?it/s]",
      "application/vnd.jupyter.widget-view+json": {
       "version_major": 2,
       "version_minor": 0,
       "model_id": "5bb0fb049b904d36b33784ae01a399ef"
      }
     },
     "metadata": {},
     "output_type": "display_data"
    },
    {
     "name": "stdout",
     "output_type": "stream",
     "text": [
      "Step-down-in-jumps iteration #3 found 0 additional clusters to exclude from subsequent iterations\n",
      "No baseline correction applied\n",
      "Using a threshold of 1.720743\n",
      "stat_fun(H1): min=-6.228250 max=5.559547\n",
      "Running initial clustering …\n",
      "Found 60 clusters\n"
     ]
    },
    {
     "data": {
      "text/plain": "  0%|          | Permuting : 0/99 [00:00<?,       ?it/s]",
      "application/vnd.jupyter.widget-view+json": {
       "version_major": 2,
       "version_minor": 0,
       "model_id": "4e4e80da71c642a9bccdaaaefece9314"
      }
     },
     "metadata": {},
     "output_type": "display_data"
    },
    {
     "name": "stdout",
     "output_type": "stream",
     "text": [
      "Step-down-in-jumps iteration #1 found 1 cluster to exclude from subsequent iterations\n"
     ]
    },
    {
     "data": {
      "text/plain": "  0%|          | Permuting : 0/99 [00:00<?,       ?it/s]",
      "application/vnd.jupyter.widget-view+json": {
       "version_major": 2,
       "version_minor": 0,
       "model_id": "370c24c8f115488b8a03c860193e21d6"
      }
     },
     "metadata": {},
     "output_type": "display_data"
    },
    {
     "name": "stdout",
     "output_type": "stream",
     "text": [
      "Step-down-in-jumps iteration #2 found 0 additional clusters to exclude from subsequent iterations\n",
      "Using a threshold of -1.720743\n",
      "stat_fun(H1): min=-6.228250 max=5.559547\n",
      "Running initial clustering …\n",
      "Found 32 clusters\n"
     ]
    },
    {
     "data": {
      "text/plain": "  0%|          | Permuting : 0/99 [00:00<?,       ?it/s]",
      "application/vnd.jupyter.widget-view+json": {
       "version_major": 2,
       "version_minor": 0,
       "model_id": "6261feb16efe475997d709ae3545dfee"
      }
     },
     "metadata": {},
     "output_type": "display_data"
    },
    {
     "name": "stdout",
     "output_type": "stream",
     "text": [
      "Step-down-in-jumps iteration #1 found 0 clusters to exclude from subsequent iterations\n",
      "No baseline correction applied\n"
     ]
    },
    {
     "name": "stderr",
     "output_type": "stream",
     "text": [
      "[Parallel(n_jobs=1)]: Using backend SequentialBackend with 1 concurrent workers.\n",
      "[Parallel(n_jobs=1)]: Done   1 out of   1 | elapsed:    1.7s remaining:    0.0s\n"
     ]
    },
    {
     "name": "stdout",
     "output_type": "stream",
     "text": [
      "Not setting metadata\n"
     ]
    },
    {
     "name": "stderr",
     "output_type": "stream",
     "text": [
      "[Parallel(n_jobs=1)]: Done   2 out of   2 | elapsed:    3.4s remaining:    0.0s\n",
      "[Parallel(n_jobs=1)]: Done   2 out of   2 | elapsed:    3.4s finished\n"
     ]
    },
    {
     "name": "stdout",
     "output_type": "stream",
     "text": [
      "No baseline correction applied\n",
      "No baseline correction applied\n",
      "No baseline correction applied\n",
      "No baseline correction applied\n",
      "Creating RawArray with float64 data, n_channels=40, n_times=5414722\n",
      "    Range : 0 ... 5414721 =      0.000 ...  2643.907 secs\n",
      "Ready.\n",
      "EEG channel type selected for re-referencing\n",
      "Applying average reference.\n",
      "Applying a custom ('EEG',) reference.\n"
     ]
    },
    {
     "name": "stderr",
     "output_type": "stream",
     "text": [
      "D:\\RUG\\Term 2\\FYRP\\FYRP\\continuous_control_bci\\data\\load_data.py:28: RuntimeWarning: The unit for channel(s) AF3, AF4, C3, C4, CP1, CP2, CP5, CP6, Cz, F3, F4, F7, F8, FC1, FC2, FC5, FC6, Fp1, Fp2, Fz, LHEOG, LVEOG, Left-extension, Left-flexion, O1, O2, Oz, P3, P4, P7, P8, PO3, PO4, Pz, RHEOG, Right-extension, Right-flexion, T7, T8, UVEOG has changed from NA to V.\n",
      "  streams.raw.set_channel_types(CHANNEL_TYPE_MAPPING)\n"
     ]
    },
    {
     "name": "stdout",
     "output_type": "stream",
     "text": [
      "Filtering raw data in 1 contiguous segment\n",
      "Setting up band-pass filter from 1 - 35 Hz\n",
      "\n",
      "FIR filter parameters\n",
      "---------------------\n",
      "Designing a one-pass, zero-phase, non-causal bandpass filter:\n",
      "- Windowed time-domain design (firwin) method\n",
      "- Hamming window with 0.0194 passband ripple and 53 dB stopband attenuation\n",
      "- Lower passband edge: 1.00\n",
      "- Lower transition bandwidth: 1.00 Hz (-6 dB cutoff frequency: 0.50 Hz)\n",
      "- Upper passband edge: 35.00 Hz\n",
      "- Upper transition bandwidth: 8.75 Hz (-6 dB cutoff frequency: 39.38 Hz)\n",
      "- Filter length: 6759 samples (3.300 s)\n",
      "\n"
     ]
    },
    {
     "name": "stderr",
     "output_type": "stream",
     "text": [
      "[Parallel(n_jobs=1)]: Using backend SequentialBackend with 1 concurrent workers.\n",
      "[Parallel(n_jobs=1)]: Done   1 out of   1 | elapsed:    0.0s remaining:    0.0s\n",
      "[Parallel(n_jobs=1)]: Done   2 out of   2 | elapsed:    0.2s remaining:    0.0s\n",
      "[Parallel(n_jobs=1)]: Done   3 out of   3 | elapsed:    0.3s remaining:    0.0s\n",
      "[Parallel(n_jobs=1)]: Done   4 out of   4 | elapsed:    0.4s remaining:    0.0s\n",
      "[Parallel(n_jobs=1)]: Done  32 out of  32 | elapsed:    3.8s finished\n"
     ]
    },
    {
     "name": "stdout",
     "output_type": "stream",
     "text": [
      "Reading D:/RUG/Term 2/FYRP/data/ica/P126-calibration-ica.fif ...\n",
      "Now restoring ICA solution ...\n",
      "Ready.\n",
      "Applying ICA to Raw instance\n",
      "    Transforming to ICA space (32 components)\n",
      "    Zeroing out 6 ICA components\n",
      "    Projecting back using 32 PCA components\n",
      "Fitted sphere radius:         95.0 mm\n",
      "Origin head coordinates:      0.0 -0.0 40.1 mm\n",
      "Origin device coordinates:    0.0 -0.0 40.1 mm\n",
      "Not setting metadata\n",
      "63 matching events found\n",
      "No baseline correction applied\n",
      "0 projection items activated\n",
      "Using data from preloaded Raw for 63 events and 18433 original time points ...\n",
      "    Rejecting  epoch based on CSD : ['P8', 'CP6', 'FC6', 'F8']\n",
      "    Rejecting  epoch based on CSD : ['C3']\n",
      "    Rejecting  epoch based on CSD : ['FC6']\n",
      "    Rejecting  epoch based on CSD : ['FC6']\n",
      "    Rejecting  epoch based on CSD : ['FC6']\n",
      "    Rejecting  epoch based on CSD : ['O1', 'O2', 'PO4']\n",
      "    Rejecting  epoch based on CSD : ['FC6']\n",
      "    Rejecting  epoch based on CSD : ['FC6']\n",
      "    Rejecting  epoch based on CSD : ['FC6']\n",
      "    Rejecting  epoch based on CSD : ['F3', 'O2', 'PO4']\n",
      "    Rejecting  epoch based on CSD : ['P8', 'CP6', 'T8', 'FC6', 'F8']\n",
      "    Rejecting  epoch based on CSD : ['AF3', 'F3', 'FC6', 'F4']\n",
      "14 bad epochs dropped\n"
     ]
    },
    {
     "name": "stderr",
     "output_type": "stream",
     "text": [
      "[Parallel(n_jobs=1)]: Using backend SequentialBackend with 1 concurrent workers.\n",
      "[Parallel(n_jobs=1)]: Done   1 out of   1 | elapsed:    1.4s remaining:    0.0s\n"
     ]
    },
    {
     "name": "stdout",
     "output_type": "stream",
     "text": [
      "Not setting metadata\n"
     ]
    },
    {
     "name": "stderr",
     "output_type": "stream",
     "text": [
      "[Parallel(n_jobs=1)]: Done   2 out of   2 | elapsed:    2.8s remaining:    0.0s\n",
      "[Parallel(n_jobs=1)]: Done   2 out of   2 | elapsed:    2.8s finished\n"
     ]
    },
    {
     "name": "stdout",
     "output_type": "stream",
     "text": [
      "Applying baseline correction (mode: percent)\n",
      "Using a threshold of 1.692360\n",
      "stat_fun(H1): min=-4.149288 max=3.828483\n",
      "Running initial clustering …\n",
      "Found 74 clusters\n"
     ]
    },
    {
     "data": {
      "text/plain": "  0%|          | Permuting : 0/99 [00:00<?,       ?it/s]",
      "application/vnd.jupyter.widget-view+json": {
       "version_major": 2,
       "version_minor": 0,
       "model_id": "0767502670e949409c08b686f6f7a63a"
      }
     },
     "metadata": {},
     "output_type": "display_data"
    },
    {
     "name": "stdout",
     "output_type": "stream",
     "text": [
      "Step-down-in-jumps iteration #1 found 2 clusters to exclude from subsequent iterations\n"
     ]
    },
    {
     "data": {
      "text/plain": "  0%|          | Permuting : 0/99 [00:00<?,       ?it/s]",
      "application/vnd.jupyter.widget-view+json": {
       "version_major": 2,
       "version_minor": 0,
       "model_id": "f13675d8736b4c66a0772675aa652736"
      }
     },
     "metadata": {},
     "output_type": "display_data"
    },
    {
     "name": "stdout",
     "output_type": "stream",
     "text": [
      "Step-down-in-jumps iteration #2 found 0 additional clusters to exclude from subsequent iterations\n",
      "Using a threshold of -1.692360\n",
      "stat_fun(H1): min=-4.149288 max=3.828483\n",
      "Running initial clustering …\n",
      "Found 57 clusters\n"
     ]
    },
    {
     "data": {
      "text/plain": "  0%|          | Permuting : 0/99 [00:00<?,       ?it/s]",
      "application/vnd.jupyter.widget-view+json": {
       "version_major": 2,
       "version_minor": 0,
       "model_id": "e3c9ec97fe8c4a8fa2992bed258b1367"
      }
     },
     "metadata": {},
     "output_type": "display_data"
    },
    {
     "name": "stdout",
     "output_type": "stream",
     "text": [
      "Step-down-in-jumps iteration #1 found 0 clusters to exclude from subsequent iterations\n",
      "No baseline correction applied\n",
      "Using a threshold of 1.692360\n",
      "stat_fun(H1): min=-6.919649 max=2.670934\n",
      "Running initial clustering …\n",
      "Found 45 clusters\n"
     ]
    },
    {
     "data": {
      "text/plain": "  0%|          | Permuting : 0/99 [00:00<?,       ?it/s]",
      "application/vnd.jupyter.widget-view+json": {
       "version_major": 2,
       "version_minor": 0,
       "model_id": "bc8487815a164176b35fd78dbef737bf"
      }
     },
     "metadata": {},
     "output_type": "display_data"
    },
    {
     "name": "stdout",
     "output_type": "stream",
     "text": [
      "Step-down-in-jumps iteration #1 found 0 clusters to exclude from subsequent iterations\n",
      "Using a threshold of -1.692360\n",
      "stat_fun(H1): min=-6.919649 max=2.670934\n",
      "Running initial clustering …\n",
      "Found 59 clusters\n"
     ]
    },
    {
     "data": {
      "text/plain": "  0%|          | Permuting : 0/99 [00:00<?,       ?it/s]",
      "application/vnd.jupyter.widget-view+json": {
       "version_major": 2,
       "version_minor": 0,
       "model_id": "6b6d88965ba645e2944e6a4b24fd95b3"
      }
     },
     "metadata": {},
     "output_type": "display_data"
    },
    {
     "name": "stdout",
     "output_type": "stream",
     "text": [
      "Step-down-in-jumps iteration #1 found 0 clusters to exclude from subsequent iterations\n",
      "No baseline correction applied\n",
      "Using a threshold of 1.761310\n",
      "stat_fun(H1): min=-8.874231 max=3.166545\n",
      "Running initial clustering …\n",
      "Found 56 clusters\n"
     ]
    },
    {
     "data": {
      "text/plain": "  0%|          | Permuting : 0/99 [00:00<?,       ?it/s]",
      "application/vnd.jupyter.widget-view+json": {
       "version_major": 2,
       "version_minor": 0,
       "model_id": "b4a4f5c3b53f45dcb895aa032259ad57"
      }
     },
     "metadata": {},
     "output_type": "display_data"
    },
    {
     "name": "stdout",
     "output_type": "stream",
     "text": [
      "Step-down-in-jumps iteration #1 found 0 clusters to exclude from subsequent iterations\n",
      "Using a threshold of -1.761310\n",
      "stat_fun(H1): min=-8.874231 max=3.166545\n",
      "Running initial clustering …\n",
      "Found 71 clusters\n"
     ]
    },
    {
     "data": {
      "text/plain": "  0%|          | Permuting : 0/99 [00:00<?,       ?it/s]",
      "application/vnd.jupyter.widget-view+json": {
       "version_major": 2,
       "version_minor": 0,
       "model_id": "ce0eadebd37941ce9da91f363b0bdc6f"
      }
     },
     "metadata": {},
     "output_type": "display_data"
    },
    {
     "name": "stdout",
     "output_type": "stream",
     "text": [
      "Step-down-in-jumps iteration #1 found 0 clusters to exclude from subsequent iterations\n",
      "No baseline correction applied\n",
      "Using a threshold of 1.761310\n",
      "stat_fun(H1): min=-4.682989 max=3.618238\n",
      "Running initial clustering …\n",
      "Found 67 clusters\n"
     ]
    },
    {
     "data": {
      "text/plain": "  0%|          | Permuting : 0/99 [00:00<?,       ?it/s]",
      "application/vnd.jupyter.widget-view+json": {
       "version_major": 2,
       "version_minor": 0,
       "model_id": "23d5d21c1e144310b01882cbb1bdb958"
      }
     },
     "metadata": {},
     "output_type": "display_data"
    },
    {
     "name": "stdout",
     "output_type": "stream",
     "text": [
      "Step-down-in-jumps iteration #1 found 2 clusters to exclude from subsequent iterations\n"
     ]
    },
    {
     "data": {
      "text/plain": "  0%|          | Permuting : 0/99 [00:00<?,       ?it/s]",
      "application/vnd.jupyter.widget-view+json": {
       "version_major": 2,
       "version_minor": 0,
       "model_id": "13fd50dda9244de49a8660ac1888f5f0"
      }
     },
     "metadata": {},
     "output_type": "display_data"
    },
    {
     "name": "stdout",
     "output_type": "stream",
     "text": [
      "Step-down-in-jumps iteration #2 found 0 additional clusters to exclude from subsequent iterations\n",
      "Using a threshold of -1.761310\n",
      "stat_fun(H1): min=-4.682989 max=3.618238\n",
      "Running initial clustering …\n",
      "Found 51 clusters\n"
     ]
    },
    {
     "data": {
      "text/plain": "  0%|          | Permuting : 0/99 [00:00<?,       ?it/s]",
      "application/vnd.jupyter.widget-view+json": {
       "version_major": 2,
       "version_minor": 0,
       "model_id": "2cadfb7673a548a5b849030a68517bc1"
      }
     },
     "metadata": {},
     "output_type": "display_data"
    },
    {
     "name": "stdout",
     "output_type": "stream",
     "text": [
      "Step-down-in-jumps iteration #1 found 0 clusters to exclude from subsequent iterations\n",
      "No baseline correction applied\n"
     ]
    },
    {
     "name": "stderr",
     "output_type": "stream",
     "text": [
      "[Parallel(n_jobs=1)]: Using backend SequentialBackend with 1 concurrent workers.\n",
      "[Parallel(n_jobs=1)]: Done   1 out of   1 | elapsed:    1.3s remaining:    0.0s\n"
     ]
    },
    {
     "name": "stdout",
     "output_type": "stream",
     "text": [
      "Not setting metadata\n"
     ]
    },
    {
     "name": "stderr",
     "output_type": "stream",
     "text": [
      "[Parallel(n_jobs=1)]: Done   2 out of   2 | elapsed:    2.7s remaining:    0.0s\n",
      "[Parallel(n_jobs=1)]: Done   2 out of   2 | elapsed:    2.7s finished\n"
     ]
    },
    {
     "name": "stdout",
     "output_type": "stream",
     "text": [
      "No baseline correction applied\n",
      "No baseline correction applied\n",
      "No baseline correction applied\n",
      "No baseline correction applied\n",
      "Creating RawArray with float64 data, n_channels=40, n_times=4187102\n",
      "    Range : 0 ... 4187101 =      0.000 ...  2044.483 secs\n",
      "Ready.\n"
     ]
    },
    {
     "name": "stderr",
     "output_type": "stream",
     "text": [
      "D:\\RUG\\Term 2\\FYRP\\FYRP\\continuous_control_bci\\data\\load_data.py:28: RuntimeWarning: The unit for channel(s) AF3, AF4, C3, C4, CP1, CP2, CP5, CP6, Cz, F3, F4, F7, F8, FC1, FC2, FC5, FC6, Fp1, Fp2, Fz, LHEOG, LVEOG, Left-extension, Left-flexion, O1, O2, Oz, P3, P4, P7, P8, PO3, PO4, Pz, RHEOG, Right-extension, Right-flexion, T7, T8, UVEOG has changed from NA to V.\n",
      "  streams.raw.set_channel_types(CHANNEL_TYPE_MAPPING)\n"
     ]
    },
    {
     "name": "stdout",
     "output_type": "stream",
     "text": [
      "EEG channel type selected for re-referencing\n",
      "Applying average reference.\n",
      "Applying a custom ('EEG',) reference.\n",
      "Filtering raw data in 1 contiguous segment\n",
      "Setting up band-pass filter from 1 - 35 Hz\n",
      "\n",
      "FIR filter parameters\n",
      "---------------------\n",
      "Designing a one-pass, zero-phase, non-causal bandpass filter:\n",
      "- Windowed time-domain design (firwin) method\n",
      "- Hamming window with 0.0194 passband ripple and 53 dB stopband attenuation\n",
      "- Lower passband edge: 1.00\n",
      "- Lower transition bandwidth: 1.00 Hz (-6 dB cutoff frequency: 0.50 Hz)\n",
      "- Upper passband edge: 35.00 Hz\n",
      "- Upper transition bandwidth: 8.75 Hz (-6 dB cutoff frequency: 39.38 Hz)\n",
      "- Filter length: 6759 samples (3.300 s)\n",
      "\n"
     ]
    },
    {
     "name": "stderr",
     "output_type": "stream",
     "text": [
      "[Parallel(n_jobs=1)]: Using backend SequentialBackend with 1 concurrent workers.\n",
      "[Parallel(n_jobs=1)]: Done   1 out of   1 | elapsed:    0.0s remaining:    0.0s\n",
      "[Parallel(n_jobs=1)]: Done   2 out of   2 | elapsed:    0.2s remaining:    0.0s\n",
      "[Parallel(n_jobs=1)]: Done   3 out of   3 | elapsed:    0.3s remaining:    0.0s\n",
      "[Parallel(n_jobs=1)]: Done   4 out of   4 | elapsed:    0.4s remaining:    0.0s\n",
      "[Parallel(n_jobs=1)]: Done  32 out of  32 | elapsed:    3.1s finished\n"
     ]
    },
    {
     "name": "stdout",
     "output_type": "stream",
     "text": [
      "Reading D:/RUG/Term 2/FYRP/data/ica/P336-calibration-ica.fif ...\n",
      "Now restoring ICA solution ...\n",
      "Ready.\n",
      "Applying ICA to Raw instance\n",
      "    Transforming to ICA space (32 components)\n",
      "    Zeroing out 4 ICA components\n",
      "    Projecting back using 32 PCA components\n",
      "Fitted sphere radius:         95.0 mm\n",
      "Origin head coordinates:      0.0 -0.0 40.1 mm\n",
      "Origin device coordinates:    0.0 -0.0 40.1 mm\n",
      "Not setting metadata\n",
      "74 matching events found\n",
      "No baseline correction applied\n",
      "0 projection items activated\n",
      "Using data from preloaded Raw for 74 events and 18433 original time points ...\n",
      "    Rejecting  epoch based on CSD : ['FC5', 'T7']\n",
      "    Rejecting  epoch based on CSD : ['FC5']\n",
      "3 bad epochs dropped\n"
     ]
    },
    {
     "name": "stderr",
     "output_type": "stream",
     "text": [
      "[Parallel(n_jobs=1)]: Using backend SequentialBackend with 1 concurrent workers.\n",
      "[Parallel(n_jobs=1)]: Done   1 out of   1 | elapsed:    2.0s remaining:    0.0s\n"
     ]
    },
    {
     "name": "stdout",
     "output_type": "stream",
     "text": [
      "Not setting metadata\n"
     ]
    },
    {
     "name": "stderr",
     "output_type": "stream",
     "text": [
      "[Parallel(n_jobs=1)]: Done   2 out of   2 | elapsed:    4.1s remaining:    0.0s\n",
      "[Parallel(n_jobs=1)]: Done   2 out of   2 | elapsed:    4.1s finished\n"
     ]
    },
    {
     "name": "stdout",
     "output_type": "stream",
     "text": [
      "Applying baseline correction (mode: percent)\n",
      "Using a threshold of 1.682878\n",
      "stat_fun(H1): min=-3.203019 max=4.171513\n",
      "Running initial clustering …\n",
      "Found 48 clusters\n"
     ]
    },
    {
     "data": {
      "text/plain": "  0%|          | Permuting : 0/99 [00:00<?,       ?it/s]",
      "application/vnd.jupyter.widget-view+json": {
       "version_major": 2,
       "version_minor": 0,
       "model_id": "433cd2da9ca7493c8bd851a925d9b124"
      }
     },
     "metadata": {},
     "output_type": "display_data"
    },
    {
     "name": "stdout",
     "output_type": "stream",
     "text": [
      "Step-down-in-jumps iteration #1 found 1 cluster to exclude from subsequent iterations\n"
     ]
    },
    {
     "data": {
      "text/plain": "  0%|          | Permuting : 0/99 [00:00<?,       ?it/s]",
      "application/vnd.jupyter.widget-view+json": {
       "version_major": 2,
       "version_minor": 0,
       "model_id": "0c673875ac0b47bbb2a8e124ed3c2954"
      }
     },
     "metadata": {},
     "output_type": "display_data"
    },
    {
     "name": "stdout",
     "output_type": "stream",
     "text": [
      "Step-down-in-jumps iteration #2 found 1 additional cluster to exclude from subsequent iterations\n"
     ]
    },
    {
     "data": {
      "text/plain": "  0%|          | Permuting : 0/99 [00:00<?,       ?it/s]",
      "application/vnd.jupyter.widget-view+json": {
       "version_major": 2,
       "version_minor": 0,
       "model_id": "556a3983122a4ab18cca6c100552b303"
      }
     },
     "metadata": {},
     "output_type": "display_data"
    },
    {
     "name": "stdout",
     "output_type": "stream",
     "text": [
      "Step-down-in-jumps iteration #3 found 0 additional clusters to exclude from subsequent iterations\n",
      "Using a threshold of -1.682878\n",
      "stat_fun(H1): min=-3.203019 max=4.171513\n",
      "Running initial clustering …\n",
      "Found 53 clusters\n"
     ]
    },
    {
     "data": {
      "text/plain": "  0%|          | Permuting : 0/99 [00:00<?,       ?it/s]",
      "application/vnd.jupyter.widget-view+json": {
       "version_major": 2,
       "version_minor": 0,
       "model_id": "5fdafa00a16f4fcf8fc313866484d742"
      }
     },
     "metadata": {},
     "output_type": "display_data"
    },
    {
     "name": "stdout",
     "output_type": "stream",
     "text": [
      "Step-down-in-jumps iteration #1 found 0 clusters to exclude from subsequent iterations\n",
      "No baseline correction applied\n",
      "Using a threshold of 1.682878\n",
      "stat_fun(H1): min=-3.754754 max=3.793866\n",
      "Running initial clustering …\n",
      "Found 48 clusters\n"
     ]
    },
    {
     "data": {
      "text/plain": "  0%|          | Permuting : 0/99 [00:00<?,       ?it/s]",
      "application/vnd.jupyter.widget-view+json": {
       "version_major": 2,
       "version_minor": 0,
       "model_id": "1f2e7b448a2843c08872aed85d000a42"
      }
     },
     "metadata": {},
     "output_type": "display_data"
    },
    {
     "name": "stdout",
     "output_type": "stream",
     "text": [
      "Step-down-in-jumps iteration #1 found 1 cluster to exclude from subsequent iterations\n"
     ]
    },
    {
     "data": {
      "text/plain": "  0%|          | Permuting : 0/99 [00:00<?,       ?it/s]",
      "application/vnd.jupyter.widget-view+json": {
       "version_major": 2,
       "version_minor": 0,
       "model_id": "830a8e3b23f04c0095c686b0a8c7878e"
      }
     },
     "metadata": {},
     "output_type": "display_data"
    },
    {
     "name": "stdout",
     "output_type": "stream",
     "text": [
      "Step-down-in-jumps iteration #2 found 0 additional clusters to exclude from subsequent iterations\n",
      "Using a threshold of -1.682878\n",
      "stat_fun(H1): min=-3.754754 max=3.793866\n",
      "Running initial clustering …\n",
      "Found 46 clusters\n"
     ]
    },
    {
     "data": {
      "text/plain": "  0%|          | Permuting : 0/99 [00:00<?,       ?it/s]",
      "application/vnd.jupyter.widget-view+json": {
       "version_major": 2,
       "version_minor": 0,
       "model_id": "b32f03293cb4472684b3400b7d526831"
      }
     },
     "metadata": {},
     "output_type": "display_data"
    },
    {
     "name": "stdout",
     "output_type": "stream",
     "text": [
      "Step-down-in-jumps iteration #1 found 0 clusters to exclude from subsequent iterations\n",
      "No baseline correction applied\n",
      "Using a threshold of 1.701131\n",
      "stat_fun(H1): min=-5.643657 max=3.384286\n",
      "Running initial clustering …\n",
      "Found 48 clusters\n"
     ]
    },
    {
     "data": {
      "text/plain": "  0%|          | Permuting : 0/99 [00:00<?,       ?it/s]",
      "application/vnd.jupyter.widget-view+json": {
       "version_major": 2,
       "version_minor": 0,
       "model_id": "6dfe191f0f1749b5b86cde224cd396dc"
      }
     },
     "metadata": {},
     "output_type": "display_data"
    },
    {
     "name": "stdout",
     "output_type": "stream",
     "text": [
      "Step-down-in-jumps iteration #1 found 0 clusters to exclude from subsequent iterations\n",
      "Using a threshold of -1.701131\n",
      "stat_fun(H1): min=-5.643657 max=3.384286\n",
      "Running initial clustering …\n",
      "Found 53 clusters\n"
     ]
    },
    {
     "data": {
      "text/plain": "  0%|          | Permuting : 0/99 [00:00<?,       ?it/s]",
      "application/vnd.jupyter.widget-view+json": {
       "version_major": 2,
       "version_minor": 0,
       "model_id": "4a6596860daf47f9a5c0d7e4e82b88f9"
      }
     },
     "metadata": {},
     "output_type": "display_data"
    },
    {
     "name": "stdout",
     "output_type": "stream",
     "text": [
      "Step-down-in-jumps iteration #1 found 0 clusters to exclude from subsequent iterations\n",
      "No baseline correction applied\n",
      "Using a threshold of 1.701131\n",
      "stat_fun(H1): min=-6.536681 max=3.432390\n",
      "Running initial clustering …\n",
      "Found 38 clusters\n"
     ]
    },
    {
     "data": {
      "text/plain": "  0%|          | Permuting : 0/99 [00:00<?,       ?it/s]",
      "application/vnd.jupyter.widget-view+json": {
       "version_major": 2,
       "version_minor": 0,
       "model_id": "3777b87129514c23839f0c79142719e6"
      }
     },
     "metadata": {},
     "output_type": "display_data"
    },
    {
     "name": "stdout",
     "output_type": "stream",
     "text": [
      "Step-down-in-jumps iteration #1 found 2 clusters to exclude from subsequent iterations\n"
     ]
    },
    {
     "data": {
      "text/plain": "  0%|          | Permuting : 0/99 [00:00<?,       ?it/s]",
      "application/vnd.jupyter.widget-view+json": {
       "version_major": 2,
       "version_minor": 0,
       "model_id": "8a494fb2b012458ebee0e69211b080db"
      }
     },
     "metadata": {},
     "output_type": "display_data"
    },
    {
     "name": "stdout",
     "output_type": "stream",
     "text": [
      "Step-down-in-jumps iteration #2 found 0 additional clusters to exclude from subsequent iterations\n",
      "Using a threshold of -1.701131\n",
      "stat_fun(H1): min=-6.536681 max=3.432390\n",
      "Running initial clustering …\n",
      "Found 46 clusters\n"
     ]
    },
    {
     "data": {
      "text/plain": "  0%|          | Permuting : 0/99 [00:00<?,       ?it/s]",
      "application/vnd.jupyter.widget-view+json": {
       "version_major": 2,
       "version_minor": 0,
       "model_id": "4df2634f1cdf44249a0635c7010187f4"
      }
     },
     "metadata": {},
     "output_type": "display_data"
    },
    {
     "name": "stdout",
     "output_type": "stream",
     "text": [
      "Step-down-in-jumps iteration #1 found 0 clusters to exclude from subsequent iterations\n",
      "No baseline correction applied\n"
     ]
    },
    {
     "name": "stderr",
     "output_type": "stream",
     "text": [
      "[Parallel(n_jobs=1)]: Using backend SequentialBackend with 1 concurrent workers.\n",
      "[Parallel(n_jobs=1)]: Done   1 out of   1 | elapsed:    1.8s remaining:    0.0s\n"
     ]
    },
    {
     "name": "stdout",
     "output_type": "stream",
     "text": [
      "Not setting metadata\n"
     ]
    },
    {
     "name": "stderr",
     "output_type": "stream",
     "text": [
      "[Parallel(n_jobs=1)]: Done   2 out of   2 | elapsed:    3.8s remaining:    0.0s\n",
      "[Parallel(n_jobs=1)]: Done   2 out of   2 | elapsed:    3.8s finished\n"
     ]
    },
    {
     "name": "stdout",
     "output_type": "stream",
     "text": [
      "No baseline correction applied\n",
      "No baseline correction applied\n",
      "No baseline correction applied\n",
      "No baseline correction applied\n",
      "Creating RawArray with float64 data, n_channels=40, n_times=3545010\n",
      "    Range : 0 ... 3545009 =      0.000 ...  1730.961 secs\n",
      "Ready.\n"
     ]
    },
    {
     "name": "stderr",
     "output_type": "stream",
     "text": [
      "D:\\RUG\\Term 2\\FYRP\\FYRP\\continuous_control_bci\\data\\load_data.py:28: RuntimeWarning: The unit for channel(s) AF3, AF4, C3, C4, CP1, CP2, CP5, CP6, Cz, F3, F4, F7, F8, FC1, FC2, FC5, FC6, Fp1, Fp2, Fz, LHEOG, LVEOG, Left-extension, Left-flexion, O1, O2, Oz, P3, P4, P7, P8, PO3, PO4, Pz, RHEOG, Right-extension, Right-flexion, T7, T8, UVEOG has changed from NA to V.\n",
      "  streams.raw.set_channel_types(CHANNEL_TYPE_MAPPING)\n"
     ]
    },
    {
     "name": "stdout",
     "output_type": "stream",
     "text": [
      "EEG channel type selected for re-referencing\n",
      "Applying average reference.\n",
      "Applying a custom ('EEG',) reference.\n",
      "Filtering raw data in 1 contiguous segment\n",
      "Setting up band-pass filter from 1 - 35 Hz\n",
      "\n",
      "FIR filter parameters\n",
      "---------------------\n",
      "Designing a one-pass, zero-phase, non-causal bandpass filter:\n",
      "- Windowed time-domain design (firwin) method\n",
      "- Hamming window with 0.0194 passband ripple and 53 dB stopband attenuation\n",
      "- Lower passband edge: 1.00\n",
      "- Lower transition bandwidth: 1.00 Hz (-6 dB cutoff frequency: 0.50 Hz)\n",
      "- Upper passband edge: 35.00 Hz\n",
      "- Upper transition bandwidth: 8.75 Hz (-6 dB cutoff frequency: 39.38 Hz)\n",
      "- Filter length: 6759 samples (3.300 s)\n",
      "\n"
     ]
    },
    {
     "name": "stderr",
     "output_type": "stream",
     "text": [
      "[Parallel(n_jobs=1)]: Using backend SequentialBackend with 1 concurrent workers.\n",
      "[Parallel(n_jobs=1)]: Done   1 out of   1 | elapsed:    0.0s remaining:    0.0s\n",
      "[Parallel(n_jobs=1)]: Done   2 out of   2 | elapsed:    0.1s remaining:    0.0s\n",
      "[Parallel(n_jobs=1)]: Done   3 out of   3 | elapsed:    0.2s remaining:    0.0s\n",
      "[Parallel(n_jobs=1)]: Done   4 out of   4 | elapsed:    0.2s remaining:    0.0s\n",
      "[Parallel(n_jobs=1)]: Done  32 out of  32 | elapsed:    2.5s finished\n"
     ]
    },
    {
     "name": "stdout",
     "output_type": "stream",
     "text": [
      "Reading D:/RUG/Term 2/FYRP/data/ica/P530-calibration-ica.fif ...\n",
      "Now restoring ICA solution ...\n",
      "Ready.\n",
      "Applying ICA to Raw instance\n",
      "    Transforming to ICA space (32 components)\n",
      "    Zeroing out 7 ICA components\n",
      "    Projecting back using 32 PCA components\n",
      "Fitted sphere radius:         95.0 mm\n",
      "Origin head coordinates:      0.0 -0.0 40.1 mm\n",
      "Origin device coordinates:    0.0 -0.0 40.1 mm\n",
      "Not setting metadata\n",
      "65 matching events found\n",
      "No baseline correction applied\n",
      "0 projection items activated\n",
      "Using data from preloaded Raw for 65 events and 18433 original time points ...\n",
      "    Rejecting  epoch based on CSD : ['Fp1', 'C4', 'T8', 'FC6', 'F4', 'AF4', 'Fp2']\n",
      "    Rejecting  epoch based on CSD : ['Fp1', 'P8', 'CP6', 'C4', 'T8', 'FC6', 'F4', 'AF4', 'Fp2']\n",
      "4 bad epochs dropped\n"
     ]
    },
    {
     "name": "stderr",
     "output_type": "stream",
     "text": [
      "[Parallel(n_jobs=1)]: Using backend SequentialBackend with 1 concurrent workers.\n",
      "[Parallel(n_jobs=1)]: Done   1 out of   1 | elapsed:    1.6s remaining:    0.0s\n"
     ]
    },
    {
     "name": "stdout",
     "output_type": "stream",
     "text": [
      "Not setting metadata\n"
     ]
    },
    {
     "name": "stderr",
     "output_type": "stream",
     "text": [
      "[Parallel(n_jobs=1)]: Done   2 out of   2 | elapsed:    3.4s remaining:    0.0s\n",
      "[Parallel(n_jobs=1)]: Done   2 out of   2 | elapsed:    3.4s finished\n"
     ]
    },
    {
     "name": "stdout",
     "output_type": "stream",
     "text": [
      "Applying baseline correction (mode: percent)\n",
      "Using a threshold of 1.689572\n",
      "stat_fun(H1): min=-5.515748 max=3.546440\n",
      "Running initial clustering …\n",
      "Found 53 clusters\n"
     ]
    },
    {
     "data": {
      "text/plain": "  0%|          | Permuting : 0/99 [00:00<?,       ?it/s]",
      "application/vnd.jupyter.widget-view+json": {
       "version_major": 2,
       "version_minor": 0,
       "model_id": "d015c92bbc8040b7ade062c7f7f64667"
      }
     },
     "metadata": {},
     "output_type": "display_data"
    },
    {
     "name": "stdout",
     "output_type": "stream",
     "text": [
      "Step-down-in-jumps iteration #1 found 0 clusters to exclude from subsequent iterations\n",
      "Using a threshold of -1.689572\n",
      "stat_fun(H1): min=-5.515748 max=3.546440\n",
      "Running initial clustering …\n",
      "Found 50 clusters\n"
     ]
    },
    {
     "data": {
      "text/plain": "  0%|          | Permuting : 0/99 [00:00<?,       ?it/s]",
      "application/vnd.jupyter.widget-view+json": {
       "version_major": 2,
       "version_minor": 0,
       "model_id": "b55d5c7b2af34e7aa43a04b68c691727"
      }
     },
     "metadata": {},
     "output_type": "display_data"
    },
    {
     "name": "stdout",
     "output_type": "stream",
     "text": [
      "Step-down-in-jumps iteration #1 found 0 clusters to exclude from subsequent iterations\n",
      "No baseline correction applied\n",
      "Using a threshold of 1.689572\n",
      "stat_fun(H1): min=-5.367127 max=2.837030\n",
      "Running initial clustering …\n",
      "Found 59 clusters\n"
     ]
    },
    {
     "data": {
      "text/plain": "  0%|          | Permuting : 0/99 [00:00<?,       ?it/s]",
      "application/vnd.jupyter.widget-view+json": {
       "version_major": 2,
       "version_minor": 0,
       "model_id": "2081b96b39874ea5bc43a6af8742db4f"
      }
     },
     "metadata": {},
     "output_type": "display_data"
    },
    {
     "name": "stdout",
     "output_type": "stream",
     "text": [
      "Step-down-in-jumps iteration #1 found 0 clusters to exclude from subsequent iterations\n",
      "Using a threshold of -1.689572\n",
      "stat_fun(H1): min=-5.367127 max=2.837030\n",
      "Running initial clustering …\n",
      "Found 57 clusters\n"
     ]
    },
    {
     "data": {
      "text/plain": "  0%|          | Permuting : 0/99 [00:00<?,       ?it/s]",
      "application/vnd.jupyter.widget-view+json": {
       "version_major": 2,
       "version_minor": 0,
       "model_id": "d17c4ef5232e4b02b5c29359214a45f7"
      }
     },
     "metadata": {},
     "output_type": "display_data"
    },
    {
     "name": "stdout",
     "output_type": "stream",
     "text": [
      "Step-down-in-jumps iteration #1 found 0 clusters to exclude from subsequent iterations\n",
      "No baseline correction applied\n",
      "Using a threshold of 1.710882\n",
      "stat_fun(H1): min=-4.913911 max=3.824453\n",
      "Running initial clustering …\n",
      "Found 55 clusters\n"
     ]
    },
    {
     "data": {
      "text/plain": "  0%|          | Permuting : 0/99 [00:00<?,       ?it/s]",
      "application/vnd.jupyter.widget-view+json": {
       "version_major": 2,
       "version_minor": 0,
       "model_id": "76e329302807493f9b4f46f4424b65a9"
      }
     },
     "metadata": {},
     "output_type": "display_data"
    },
    {
     "name": "stdout",
     "output_type": "stream",
     "text": [
      "Step-down-in-jumps iteration #1 found 1 cluster to exclude from subsequent iterations\n"
     ]
    },
    {
     "data": {
      "text/plain": "  0%|          | Permuting : 0/99 [00:00<?,       ?it/s]",
      "application/vnd.jupyter.widget-view+json": {
       "version_major": 2,
       "version_minor": 0,
       "model_id": "7f9ceb1fe87644598fbf8b87d91bb8e0"
      }
     },
     "metadata": {},
     "output_type": "display_data"
    },
    {
     "name": "stdout",
     "output_type": "stream",
     "text": [
      "Step-down-in-jumps iteration #2 found 0 additional clusters to exclude from subsequent iterations\n",
      "Using a threshold of -1.710882\n",
      "stat_fun(H1): min=-4.913911 max=3.824453\n",
      "Running initial clustering …\n",
      "Found 61 clusters\n"
     ]
    },
    {
     "data": {
      "text/plain": "  0%|          | Permuting : 0/99 [00:00<?,       ?it/s]",
      "application/vnd.jupyter.widget-view+json": {
       "version_major": 2,
       "version_minor": 0,
       "model_id": "5aa3f49c59b54bc88c4c7c79c41b0d5f"
      }
     },
     "metadata": {},
     "output_type": "display_data"
    },
    {
     "name": "stdout",
     "output_type": "stream",
     "text": [
      "Step-down-in-jumps iteration #1 found 0 clusters to exclude from subsequent iterations\n",
      "No baseline correction applied\n",
      "Using a threshold of 1.710882\n",
      "stat_fun(H1): min=-4.262330 max=3.012728\n",
      "Running initial clustering …\n",
      "Found 47 clusters\n"
     ]
    },
    {
     "data": {
      "text/plain": "  0%|          | Permuting : 0/99 [00:00<?,       ?it/s]",
      "application/vnd.jupyter.widget-view+json": {
       "version_major": 2,
       "version_minor": 0,
       "model_id": "2e276f0efb664e38a987fc1f7e68cf35"
      }
     },
     "metadata": {},
     "output_type": "display_data"
    },
    {
     "name": "stdout",
     "output_type": "stream",
     "text": [
      "Step-down-in-jumps iteration #1 found 0 clusters to exclude from subsequent iterations\n",
      "Using a threshold of -1.710882\n",
      "stat_fun(H1): min=-4.262330 max=3.012728\n",
      "Running initial clustering …\n",
      "Found 65 clusters\n"
     ]
    },
    {
     "data": {
      "text/plain": "  0%|          | Permuting : 0/99 [00:00<?,       ?it/s]",
      "application/vnd.jupyter.widget-view+json": {
       "version_major": 2,
       "version_minor": 0,
       "model_id": "f9071a37508548188b6d1924bcb9dee5"
      }
     },
     "metadata": {},
     "output_type": "display_data"
    },
    {
     "name": "stdout",
     "output_type": "stream",
     "text": [
      "Step-down-in-jumps iteration #1 found 0 clusters to exclude from subsequent iterations\n",
      "No baseline correction applied\n"
     ]
    },
    {
     "name": "stderr",
     "output_type": "stream",
     "text": [
      "[Parallel(n_jobs=1)]: Using backend SequentialBackend with 1 concurrent workers.\n",
      "[Parallel(n_jobs=1)]: Done   1 out of   1 | elapsed:    1.6s remaining:    0.0s\n"
     ]
    },
    {
     "name": "stdout",
     "output_type": "stream",
     "text": [
      "Not setting metadata\n"
     ]
    },
    {
     "name": "stderr",
     "output_type": "stream",
     "text": [
      "[Parallel(n_jobs=1)]: Done   2 out of   2 | elapsed:    3.3s remaining:    0.0s\n",
      "[Parallel(n_jobs=1)]: Done   2 out of   2 | elapsed:    3.3s finished\n"
     ]
    },
    {
     "name": "stdout",
     "output_type": "stream",
     "text": [
      "No baseline correction applied\n",
      "No baseline correction applied\n",
      "No baseline correction applied\n",
      "No baseline correction applied\n"
     ]
    }
   ],
   "source": [
    "subject_ids = ['066', '126', '336', '530'] #['061', '381', '812']\n",
    "for subject_id in subject_ids:\n",
    "    tmin = -3\n",
    "    tmax = 5\n",
    "    buffer = 0.5\n",
    "    time_offset = 1.25\n",
    "    event_ids = dict(left=-1, right=1)\n",
    "    driving_recording = load_driving(subject_id)\n",
    "    driving_recording.raw.set_eeg_reference()\n",
    "\n",
    "    driving_recording.raw.filter(l_freq=1, h_freq=35)\n",
    "\n",
    "    ica = read_ica(f'D:/RUG/Term 2/FYRP/data/ica/P{subject_id}-calibration-ica.fif')\n",
    "    ica.apply(driving_recording.raw)\n",
    "\n",
    "    driving_recording.raw = mne.preprocessing.compute_current_source_density(driving_recording.raw)\n",
    "\n",
    "\n",
    "    matplotlib.use('Agg')\n",
    "    events = make_rough_emg_events(driving_recording.eeg_stream, driving_recording.emg_prediction_stream)\n",
    "\n",
    "    reject_threshold = 100e-3\n",
    "    epochs = mne.Epochs(\n",
    "        driving_recording.raw,\n",
    "        events,\n",
    "        event_ids,\n",
    "        tmin=tmin - buffer - time_offset,\n",
    "        tmax=tmax + buffer - time_offset,\n",
    "        reject={\"csd\": reject_threshold},\n",
    "        baseline=None,\n",
    "        preload=True,\n",
    "    )\n",
    "\n",
    "    epochs.pick([\"C3\", \"C4\"])\n",
    "    epochs.shift_time(time_offset)\n",
    "\n",
    "    event_ids = dict(left=-1, right=1)\n",
    "    plot_tfr(epochs, subject_id, baseline=(-3, 0), tmin=tmin, tmax=tmax, event_ids=event_ids, kind='driving')\n",
    "    plot_tfr(epochs, subject_id, baseline=None, tmin=tmin, tmax=tmax, event_ids=event_ids, kind='driving')"
   ],
   "metadata": {
    "collapsed": false,
    "pycharm": {
     "name": "#%%\n"
    }
   }
  },
  {
   "cell_type": "code",
   "execution_count": 17,
   "outputs": [
    {
     "name": "stdout",
     "output_type": "stream",
     "text": [
      "Creating RawArray with float64 data, n_channels=40, n_times=5494682\n",
      "    Range : 0 ... 5494681 =      0.000 ...  2682.950 secs\n",
      "Ready.\n"
     ]
    },
    {
     "name": "stderr",
     "output_type": "stream",
     "text": [
      "D:\\RUG\\Term 2\\FYRP\\FYRP\\continuous_control_bci\\data\\load_data.py:28: RuntimeWarning: The unit for channel(s) AF3, AF4, C3, C4, CP1, CP2, CP5, CP6, Cz, F3, F4, F7, F8, FC1, FC2, FC5, FC6, Fp1, Fp2, Fz, LHEOG, LVEOG, Left-extension, Left-flexion, O1, O2, Oz, P3, P4, P7, P8, PO3, PO4, Pz, RHEOG, Right-extension, Right-flexion, T7, T8, UVEOG has changed from NA to V.\n",
      "  streams.raw.set_channel_types(CHANNEL_TYPE_MAPPING)\n"
     ]
    },
    {
     "name": "stdout",
     "output_type": "stream",
     "text": [
      "EEG channel type selected for re-referencing\n",
      "Applying average reference.\n",
      "Applying a custom ('EEG',) reference.\n",
      "Filtering raw data in 1 contiguous segment\n",
      "Setting up band-pass filter from 1 - 35 Hz\n",
      "\n",
      "FIR filter parameters\n",
      "---------------------\n",
      "Designing a one-pass, zero-phase, non-causal bandpass filter:\n",
      "- Windowed time-domain design (firwin) method\n",
      "- Hamming window with 0.0194 passband ripple and 53 dB stopband attenuation\n",
      "- Lower passband edge: 1.00\n",
      "- Lower transition bandwidth: 1.00 Hz (-6 dB cutoff frequency: 0.50 Hz)\n",
      "- Upper passband edge: 35.00 Hz\n",
      "- Upper transition bandwidth: 8.75 Hz (-6 dB cutoff frequency: 39.38 Hz)\n",
      "- Filter length: 6759 samples (3.300 s)\n",
      "\n"
     ]
    },
    {
     "name": "stderr",
     "output_type": "stream",
     "text": [
      "[Parallel(n_jobs=1)]: Using backend SequentialBackend with 1 concurrent workers.\n",
      "[Parallel(n_jobs=1)]: Done   1 out of   1 | elapsed:    0.1s remaining:    0.0s\n",
      "[Parallel(n_jobs=1)]: Done   2 out of   2 | elapsed:    0.2s remaining:    0.0s\n",
      "[Parallel(n_jobs=1)]: Done   3 out of   3 | elapsed:    0.3s remaining:    0.0s\n",
      "[Parallel(n_jobs=1)]: Done   4 out of   4 | elapsed:    0.4s remaining:    0.0s\n",
      "[Parallel(n_jobs=1)]: Done  32 out of  32 | elapsed:    4.1s finished\n"
     ]
    },
    {
     "name": "stdout",
     "output_type": "stream",
     "text": [
      "Reading D:/RUG/Term 2/FYRP/data/ica/P061-calibration-ica.fif ...\n",
      "Now restoring ICA solution ...\n",
      "Ready.\n",
      "Applying ICA to Raw instance\n",
      "    Transforming to ICA space (32 components)\n",
      "    Zeroing out 2 ICA components\n",
      "    Projecting back using 32 PCA components\n",
      "Fitted sphere radius:         95.0 mm\n",
      "Origin head coordinates:      0.0 -0.0 40.1 mm\n",
      "Origin device coordinates:    0.0 -0.0 40.1 mm\n",
      "Not setting metadata\n",
      "97 matching events found\n",
      "No baseline correction applied\n",
      "0 projection items activated\n",
      "Using data from preloaded Raw for 97 events and 18433 original time points ...\n",
      "    Rejecting  epoch based on CSD : ['Fp1', 'AF3', 'F7', 'F3', 'FC1', 'FC5', 'T7', 'C3', 'CP1', 'CP5', 'P7', 'F8']\n",
      "    Rejecting  epoch based on CSD : ['Fp1', 'AF3', 'F7', 'FC5', 'T7', 'F8', 'Fp2']\n",
      "    Rejecting  epoch based on CSD : ['T7', 'CP5', 'P8', 'CP6', 'C4', 'T8', 'FC6', 'F8']\n",
      "    Rejecting  epoch based on CSD : ['Fp1', 'AF3', 'F7', 'F3', 'FC1', 'FC5', 'T7', 'C3', 'CP1', 'CP5', 'P7', 'P3', 'Oz', 'F8', 'Fp2']\n",
      "    Rejecting  epoch based on CSD : ['CP5']\n",
      "    Rejecting  epoch based on CSD : ['Fp1', 'AF3', 'F7', 'F3', 'FC1', 'FC5', 'T7', 'C3', 'CP1', 'CP5', 'P7', 'P8', 'CP6', 'T8', 'FC6', 'F8', 'Fp2']\n",
      "6 bad epochs dropped\n"
     ]
    },
    {
     "name": "stderr",
     "output_type": "stream",
     "text": [
      "[Parallel(n_jobs=1)]: Using backend SequentialBackend with 1 concurrent workers.\n",
      "[Parallel(n_jobs=1)]: Done   1 out of   1 | elapsed:    2.5s remaining:    0.0s\n"
     ]
    },
    {
     "name": "stdout",
     "output_type": "stream",
     "text": [
      "Not setting metadata\n"
     ]
    },
    {
     "name": "stderr",
     "output_type": "stream",
     "text": [
      "[Parallel(n_jobs=1)]: Done   2 out of   2 | elapsed:    5.1s remaining:    0.0s\n",
      "[Parallel(n_jobs=1)]: Done   2 out of   2 | elapsed:    5.1s finished\n"
     ]
    },
    {
     "name": "stdout",
     "output_type": "stream",
     "text": [
      "Applying baseline correction (mode: percent)\n",
      "Using a threshold of 1.672522\n",
      "stat_fun(H1): min=-4.591227 max=5.820745\n",
      "Running initial clustering …\n",
      "Found 28 clusters\n"
     ]
    },
    {
     "data": {
      "text/plain": "  0%|          | Permuting : 0/99 [00:00<?,       ?it/s]",
      "application/vnd.jupyter.widget-view+json": {
       "version_major": 2,
       "version_minor": 0,
       "model_id": "66e46c94dfcc45f298204b546bb9f75f"
      }
     },
     "metadata": {},
     "output_type": "display_data"
    },
    {
     "name": "stdout",
     "output_type": "stream",
     "text": [
      "Step-down-in-jumps iteration #1 found 1 cluster to exclude from subsequent iterations\n"
     ]
    },
    {
     "data": {
      "text/plain": "  0%|          | Permuting : 0/99 [00:00<?,       ?it/s]",
      "application/vnd.jupyter.widget-view+json": {
       "version_major": 2,
       "version_minor": 0,
       "model_id": "6d0530fd3e0c4a2a9f26649f53344552"
      }
     },
     "metadata": {},
     "output_type": "display_data"
    },
    {
     "name": "stdout",
     "output_type": "stream",
     "text": [
      "Step-down-in-jumps iteration #2 found 0 additional clusters to exclude from subsequent iterations\n",
      "Using a threshold of -1.672522\n",
      "stat_fun(H1): min=-4.591227 max=5.820745\n",
      "Running initial clustering …\n",
      "Found 46 clusters\n"
     ]
    },
    {
     "data": {
      "text/plain": "  0%|          | Permuting : 0/99 [00:00<?,       ?it/s]",
      "application/vnd.jupyter.widget-view+json": {
       "version_major": 2,
       "version_minor": 0,
       "model_id": "725602bcb81942f5889eb799e70e0318"
      }
     },
     "metadata": {},
     "output_type": "display_data"
    },
    {
     "name": "stdout",
     "output_type": "stream",
     "text": [
      "Step-down-in-jumps iteration #1 found 0 clusters to exclude from subsequent iterations\n",
      "No baseline correction applied\n",
      "Using a threshold of 1.672522\n",
      "stat_fun(H1): min=-7.165887 max=2.557890\n",
      "Running initial clustering …\n",
      "Found 28 clusters\n"
     ]
    },
    {
     "data": {
      "text/plain": "  0%|          | Permuting : 0/99 [00:00<?,       ?it/s]",
      "application/vnd.jupyter.widget-view+json": {
       "version_major": 2,
       "version_minor": 0,
       "model_id": "8c0fcdf7f39641a6a6ff94bfef2739c4"
      }
     },
     "metadata": {},
     "output_type": "display_data"
    },
    {
     "name": "stdout",
     "output_type": "stream",
     "text": [
      "Step-down-in-jumps iteration #1 found 0 clusters to exclude from subsequent iterations\n",
      "Using a threshold of -1.672522\n",
      "stat_fun(H1): min=-7.165887 max=2.557890\n",
      "Running initial clustering …\n",
      "Found 80 clusters\n"
     ]
    },
    {
     "data": {
      "text/plain": "  0%|          | Permuting : 0/99 [00:00<?,       ?it/s]",
      "application/vnd.jupyter.widget-view+json": {
       "version_major": 2,
       "version_minor": 0,
       "model_id": "132c0233fec446c9b20f7daf5b17a8e6"
      }
     },
     "metadata": {},
     "output_type": "display_data"
    },
    {
     "name": "stdout",
     "output_type": "stream",
     "text": [
      "Step-down-in-jumps iteration #1 found 2 clusters to exclude from subsequent iterations\n"
     ]
    },
    {
     "data": {
      "text/plain": "  0%|          | Permuting : 0/99 [00:00<?,       ?it/s]",
      "application/vnd.jupyter.widget-view+json": {
       "version_major": 2,
       "version_minor": 0,
       "model_id": "4d0c89cbbe724d86a1a0b5746492b1fc"
      }
     },
     "metadata": {},
     "output_type": "display_data"
    },
    {
     "name": "stdout",
     "output_type": "stream",
     "text": [
      "Step-down-in-jumps iteration #2 found 0 additional clusters to exclude from subsequent iterations\n",
      "No baseline correction applied\n",
      "Using a threshold of 1.692360\n",
      "stat_fun(H1): min=-18.741274 max=2.589136\n",
      "Running initial clustering …\n",
      "Found 16 clusters\n"
     ]
    },
    {
     "data": {
      "text/plain": "  0%|          | Permuting : 0/99 [00:00<?,       ?it/s]",
      "application/vnd.jupyter.widget-view+json": {
       "version_major": 2,
       "version_minor": 0,
       "model_id": "a894fc72b16d4a88ad56050ca9f1a9c0"
      }
     },
     "metadata": {},
     "output_type": "display_data"
    },
    {
     "name": "stdout",
     "output_type": "stream",
     "text": [
      "Step-down-in-jumps iteration #1 found 0 clusters to exclude from subsequent iterations\n",
      "Using a threshold of -1.692360\n",
      "stat_fun(H1): min=-18.741274 max=2.589136\n",
      "Running initial clustering …\n",
      "Found 83 clusters\n"
     ]
    },
    {
     "data": {
      "text/plain": "  0%|          | Permuting : 0/99 [00:00<?,       ?it/s]",
      "application/vnd.jupyter.widget-view+json": {
       "version_major": 2,
       "version_minor": 0,
       "model_id": "cd9a334863a1433b8e0bf07ea81c1879"
      }
     },
     "metadata": {},
     "output_type": "display_data"
    },
    {
     "name": "stdout",
     "output_type": "stream",
     "text": [
      "Step-down-in-jumps iteration #1 found 1 cluster to exclude from subsequent iterations\n"
     ]
    },
    {
     "data": {
      "text/plain": "  0%|          | Permuting : 0/99 [00:00<?,       ?it/s]",
      "application/vnd.jupyter.widget-view+json": {
       "version_major": 2,
       "version_minor": 0,
       "model_id": "eb7bf59a8a2d4db49b945a07c292e281"
      }
     },
     "metadata": {},
     "output_type": "display_data"
    },
    {
     "name": "stdout",
     "output_type": "stream",
     "text": [
      "Step-down-in-jumps iteration #2 found 0 additional clusters to exclude from subsequent iterations\n",
      "No baseline correction applied\n",
      "Using a threshold of 1.692360\n",
      "stat_fun(H1): min=-4.118174 max=7.674919\n",
      "Running initial clustering …\n",
      "Found 39 clusters\n"
     ]
    },
    {
     "data": {
      "text/plain": "  0%|          | Permuting : 0/99 [00:00<?,       ?it/s]",
      "application/vnd.jupyter.widget-view+json": {
       "version_major": 2,
       "version_minor": 0,
       "model_id": "88de7b2c7d724a48832fa0faaed28674"
      }
     },
     "metadata": {},
     "output_type": "display_data"
    },
    {
     "name": "stdout",
     "output_type": "stream",
     "text": [
      "Step-down-in-jumps iteration #1 found 1 cluster to exclude from subsequent iterations\n"
     ]
    },
    {
     "data": {
      "text/plain": "  0%|          | Permuting : 0/99 [00:00<?,       ?it/s]",
      "application/vnd.jupyter.widget-view+json": {
       "version_major": 2,
       "version_minor": 0,
       "model_id": "e95299dbef3243c0994fd905cc3b4558"
      }
     },
     "metadata": {},
     "output_type": "display_data"
    },
    {
     "name": "stdout",
     "output_type": "stream",
     "text": [
      "Step-down-in-jumps iteration #2 found 0 additional clusters to exclude from subsequent iterations\n",
      "Using a threshold of -1.692360\n",
      "stat_fun(H1): min=-4.118174 max=7.674919\n",
      "Running initial clustering …\n",
      "Found 41 clusters\n"
     ]
    },
    {
     "data": {
      "text/plain": "  0%|          | Permuting : 0/99 [00:00<?,       ?it/s]",
      "application/vnd.jupyter.widget-view+json": {
       "version_major": 2,
       "version_minor": 0,
       "model_id": "b3a045b10f5343b592f2f43952cd6423"
      }
     },
     "metadata": {},
     "output_type": "display_data"
    },
    {
     "name": "stdout",
     "output_type": "stream",
     "text": [
      "Step-down-in-jumps iteration #1 found 0 clusters to exclude from subsequent iterations\n",
      "No baseline correction applied\n"
     ]
    },
    {
     "name": "stderr",
     "output_type": "stream",
     "text": [
      "[Parallel(n_jobs=1)]: Using backend SequentialBackend with 1 concurrent workers.\n",
      "[Parallel(n_jobs=1)]: Done   1 out of   1 | elapsed:    2.4s remaining:    0.0s\n"
     ]
    },
    {
     "name": "stdout",
     "output_type": "stream",
     "text": [
      "Not setting metadata\n"
     ]
    },
    {
     "name": "stderr",
     "output_type": "stream",
     "text": [
      "[Parallel(n_jobs=1)]: Done   2 out of   2 | elapsed:    5.0s remaining:    0.0s\n",
      "[Parallel(n_jobs=1)]: Done   2 out of   2 | elapsed:    5.0s finished\n"
     ]
    },
    {
     "name": "stdout",
     "output_type": "stream",
     "text": [
      "No baseline correction applied\n",
      "No baseline correction applied\n",
      "No baseline correction applied\n",
      "No baseline correction applied\n"
     ]
    }
   ],
   "source": [
    "subject_id = \"061\"\n",
    "tmin = -3\n",
    "tmax = 5\n",
    "buffer = 0.5\n",
    "time_offset = 1.25\n",
    "event_ids = dict(left=-1, right=1)\n",
    "driving_recording = load_driving(subject_id)\n",
    "driving_recording.raw.set_eeg_reference()\n",
    "\n",
    "driving_recording.raw.filter(l_freq=1, h_freq=35)\n",
    "\n",
    "ica = read_ica(f'D:/RUG/Term 2/FYRP/data/ica/P{subject_id}-calibration-ica.fif')\n",
    "ica.apply(driving_recording.raw)\n",
    "\n",
    "driving_recording.raw = mne.preprocessing.compute_current_source_density(driving_recording.raw)\n",
    "\n",
    "matplotlib.use('Agg')\n",
    "events = make_rough_emg_events(driving_recording.eeg_stream, driving_recording.emg_prediction_stream)\n",
    "\n",
    "reject_threshold = 100e-3\n",
    "epochs = mne.Epochs(\n",
    "    driving_recording.raw,\n",
    "    events,\n",
    "    event_ids,\n",
    "    tmin=tmin - buffer - time_offset,\n",
    "    tmax=tmax + buffer - time_offset,\n",
    "    reject={\"csd\": reject_threshold},\n",
    "    baseline=None,\n",
    "    preload=True,\n",
    ")\n",
    "\n",
    "epochs.pick([\"C3\", \"C4\"])\n",
    "epochs.shift_time(time_offset)\n",
    "\n",
    "event_ids = dict(left=-1, right=1)\n",
    "plot_tfr(epochs, subject_id, baseline=(-3, 0), tmin=tmin, tmax=tmax, event_ids=event_ids, kind='driving')\n",
    "plot_tfr(epochs, subject_id, baseline=None, tmin=tmin, tmax=tmax, event_ids=event_ids, kind='driving')"
   ],
   "metadata": {
    "collapsed": false,
    "pycharm": {
     "name": "#%%\n"
    }
   }
  },
  {
   "cell_type": "markdown",
   "source": [
    "### Looking at CSP patterns\n",
    "Calib:"
   ],
   "metadata": {
    "collapsed": false,
    "pycharm": {
     "name": "#%% md\n"
    }
   }
  },
  {
   "cell_type": "code",
   "execution_count": 2,
   "outputs": [],
   "source": [
    "subject_id = \"061\"\n",
    "with open(f'./data/calib_IAFs_dict.pkl', 'rb') as fp1:\n",
    "    calib_IAFs = pickle.load(fp1)"
   ],
   "metadata": {
    "collapsed": false,
    "pycharm": {
     "name": "#%%\n"
    }
   }
  },
  {
   "cell_type": "code",
   "execution_count": 9,
   "outputs": [
    {
     "data": {
      "text/plain": "[9.0, 11.0]"
     },
     "execution_count": 9,
     "metadata": {},
     "output_type": "execute_result"
    }
   ],
   "source": [
    "calib_IAFs[0]"
   ],
   "metadata": {
    "collapsed": false,
    "pycharm": {
     "name": "#%%\n"
    }
   }
  },
  {
   "cell_type": "code",
   "execution_count": 10,
   "outputs": [
    {
     "name": "stdout",
     "output_type": "stream",
     "text": [
      "Extracting EDF parameters from D:\\RUG\\Term 2\\FYRP\\data\\ivo_data\\sub-P061\\motor-imagery-csp-061-acquisition-[2024.02.07-14.35.15].gdf...\n",
      "GDF file detected\n",
      "Setting channel info structure...\n",
      "Could not determine channel type of the following channels, they will be set as EEG:\n",
      "Channel 1, Channel 2, Channel 3, Channel 4, Channel 5, Channel 6, Channel 7, Channel 8, Channel 9, Channel 10, Channel 11, Channel 12, Channel 13, Channel 14, Channel 15, Channel 16, Channel 17, Channel 18, Channel 19, Channel 20, Channel 21, Channel 22, Channel 23, Channel 24, Channel 25, Channel 26, Channel 27, Channel 28, Channel 29, Channel 30, Channel 31, Channel 32, EX 1, EX 2, EX 3, EX 4, EX 5, EX 6, EX 7, EX 8\n",
      "Creating raw.info structure...\n",
      "Reading 0 ... 882783  =      0.000 ...   431.046 secs...\n",
      "EEG channel type selected for re-referencing\n",
      "Applying average reference.\n",
      "Applying a custom ('EEG',) reference.\n",
      "Filtering raw data in 1 contiguous segment\n",
      "Setting up band-pass filter from 5 - 35 Hz\n",
      "\n",
      "FIR filter parameters\n",
      "---------------------\n",
      "Designing a one-pass, zero-phase, non-causal bandpass filter:\n",
      "- Windowed time-domain design (firwin) method\n",
      "- Hamming window with 0.0194 passband ripple and 53 dB stopband attenuation\n",
      "- Lower passband edge: 5.00\n",
      "- Lower transition bandwidth: 2.00 Hz (-6 dB cutoff frequency: 4.00 Hz)\n",
      "- Upper passband edge: 35.00 Hz\n",
      "- Upper transition bandwidth: 8.75 Hz (-6 dB cutoff frequency: 39.38 Hz)\n",
      "- Filter length: 3381 samples (1.651 s)\n",
      "\n"
     ]
    },
    {
     "name": "stderr",
     "output_type": "stream",
     "text": [
      "[Parallel(n_jobs=1)]: Using backend SequentialBackend with 1 concurrent workers.\n",
      "[Parallel(n_jobs=1)]: Done   1 out of   1 | elapsed:    0.0s remaining:    0.0s\n",
      "[Parallel(n_jobs=1)]: Done   2 out of   2 | elapsed:    0.0s remaining:    0.0s\n",
      "[Parallel(n_jobs=1)]: Done   3 out of   3 | elapsed:    0.0s remaining:    0.0s\n",
      "[Parallel(n_jobs=1)]: Done   4 out of   4 | elapsed:    0.0s remaining:    0.0s\n"
     ]
    },
    {
     "name": "stdout",
     "output_type": "stream",
     "text": [
      "Reading D:/RUG/Term 2/FYRP/data/ica/P061-calibration-ica.fif ...\n",
      "Now restoring ICA solution ...\n"
     ]
    },
    {
     "name": "stderr",
     "output_type": "stream",
     "text": [
      "[Parallel(n_jobs=1)]: Done  32 out of  32 | elapsed:    0.5s finished\n"
     ]
    },
    {
     "name": "stdout",
     "output_type": "stream",
     "text": [
      "Ready.\n",
      "Applying ICA to Raw instance\n",
      "    Transforming to ICA space (32 components)\n",
      "    Zeroing out 2 ICA components\n",
      "    Projecting back using 32 PCA components\n",
      "Used Annotations descriptions: ['769', '770']\n",
      "Not setting metadata\n",
      "40 matching events found\n",
      "No baseline correction applied\n",
      "0 projection items activated\n",
      "Using data from preloaded Raw for 40 events and 7681 original time points ...\n",
      "0 bad epochs dropped\n",
      "Used Annotations descriptions: ['800']\n",
      "Not setting metadata\n",
      "40 matching events found\n",
      "No baseline correction applied\n",
      "0 projection items activated\n",
      "Using data from preloaded Raw for 40 events and 7681 original time points ...\n",
      "0 bad epochs dropped\n",
      "Not setting metadata\n",
      "80 matching events found\n",
      "No baseline correction applied\n",
      "Setting up band-pass filter from 9 - 11 Hz\n",
      "\n",
      "IIR filter parameters\n",
      "---------------------\n",
      "butterworth bandpass zero-phase (two-pass forward and reverse) non-causal filter:\n",
      "- Filter order 16 (effective, after forward-backward)\n"
     ]
    },
    {
     "name": "stderr",
     "output_type": "stream",
     "text": [
      "D:\\RUG\\Term 2\\FYRP\\FYRP\\continuous_control_bci\\data\\preprocessing.py:83: RuntimeWarning: Concatenation of Annotations within Epochs is not supported yet. All annotations will be dropped.\n",
      "  epochs = mne.concatenate_epochs([epochs, rest_epochs], add_offset=False)\n",
      "D:\\RUG\\Term 2\\FYRP\\FYRP\\continuous_control_bci\\data\\preprocessing.py:83: RuntimeWarning: The events passed to the Epochs constructor are not chronologically ordered.\n",
      "  epochs = mne.concatenate_epochs([epochs, rest_epochs], add_offset=False)\n"
     ]
    },
    {
     "name": "stdout",
     "output_type": "stream",
     "text": [
      "- Cutoffs at 9.00, 11.00 Hz: -6.02, -6.02 dB\n",
      "\n",
      "Computing rank from data with rank={'eeg': 30, 'mag': 32}\n",
      "    Setting small MAG eigenvalues to zero (without PCA)\n",
      "Reducing data rank from 32 -> 32\n",
      "Estimating covariance using SHRINKAGE\n",
      "Done.\n",
      "Computing rank from data with rank={'eeg': 30, 'mag': 32}\n",
      "    Setting small MAG eigenvalues to zero (without PCA)\n",
      "Reducing data rank from 32 -> 32\n",
      "Estimating covariance using SHRINKAGE\n",
      "Done.\n",
      "Computing rank from data with rank={'eeg': 30, 'mag': 32}\n",
      "    Setting small MAG eigenvalues to zero (without PCA)\n",
      "Reducing data rank from 32 -> 32\n",
      "Estimating covariance using SHRINKAGE\n",
      "Done.\n",
      "Computing rank from data with rank={'eeg': 30, 'mag': 32}\n",
      "    Setting small MAG eigenvalues to zero (without PCA)\n",
      "Reducing data rank from 32 -> 32\n",
      "Estimating covariance using SHRINKAGE\n",
      "Done.\n",
      "Computing rank from data with rank={'eeg': 30, 'mag': 32}\n",
      "    Setting small MAG eigenvalues to zero (without PCA)\n",
      "Reducing data rank from 32 -> 32\n",
      "Estimating covariance using SHRINKAGE\n",
      "Done.\n",
      "Computing rank from data with rank={'eeg': 30, 'mag': 32}\n",
      "    Setting small MAG eigenvalues to zero (without PCA)\n",
      "Reducing data rank from 32 -> 32\n",
      "Estimating covariance using SHRINKAGE\n",
      "Done.\n",
      "Computing rank from data with rank={'eeg': 30, 'mag': 32}\n",
      "    Setting small MAG eigenvalues to zero (without PCA)\n",
      "Reducing data rank from 32 -> 32\n",
      "Estimating covariance using SHRINKAGE\n",
      "Done.\n",
      "Computing rank from data with rank={'eeg': 30, 'mag': 32}\n",
      "    Setting small MAG eigenvalues to zero (without PCA)\n",
      "Reducing data rank from 32 -> 32\n",
      "Estimating covariance using SHRINKAGE\n",
      "Done.\n",
      "Computing rank from data with rank={'eeg': 30, 'mag': 32}\n",
      "    Setting small MAG eigenvalues to zero (without PCA)\n",
      "Reducing data rank from 32 -> 32\n",
      "Estimating covariance using SHRINKAGE\n",
      "Done.\n",
      "Computing rank from data with rank={'eeg': 30, 'mag': 32}\n",
      "    Setting small MAG eigenvalues to zero (without PCA)\n",
      "Reducing data rank from 32 -> 32\n",
      "Estimating covariance using SHRINKAGE\n",
      "Done.\n",
      "Computing rank from data with rank={'eeg': 30, 'mag': 32}\n",
      "    Setting small MAG eigenvalues to zero (without PCA)\n",
      "Reducing data rank from 32 -> 32\n",
      "Estimating covariance using SHRINKAGE\n",
      "Done.\n",
      "Computing rank from data with rank={'eeg': 30, 'mag': 32}\n",
      "    Setting small MAG eigenvalues to zero (without PCA)\n",
      "Reducing data rank from 32 -> 32\n",
      "Estimating covariance using SHRINKAGE\n",
      "Done.\n",
      "Computing rank from data with rank={'eeg': 30, 'mag': 32}\n",
      "    Setting small MAG eigenvalues to zero (without PCA)\n",
      "Reducing data rank from 32 -> 32\n",
      "Estimating covariance using SHRINKAGE\n",
      "Done.\n",
      "Computing rank from data with rank={'eeg': 30, 'mag': 32}\n",
      "    Setting small MAG eigenvalues to zero (without PCA)\n",
      "Reducing data rank from 32 -> 32\n",
      "Estimating covariance using SHRINKAGE\n",
      "Done.\n",
      "Computing rank from data with rank={'eeg': 30, 'mag': 32}\n",
      "    Setting small MAG eigenvalues to zero (without PCA)\n",
      "Reducing data rank from 32 -> 32\n",
      "Estimating covariance using SHRINKAGE\n",
      "Done.\n",
      "Computing rank from data with rank={'eeg': 30, 'mag': 32}\n",
      "    Setting small MAG eigenvalues to zero (without PCA)\n",
      "Reducing data rank from 32 -> 32\n",
      "Estimating covariance using SHRINKAGE\n",
      "Done.\n",
      "Computing rank from data with rank={'eeg': 30, 'mag': 32}\n",
      "    Setting small MAG eigenvalues to zero (without PCA)\n",
      "Reducing data rank from 32 -> 32\n",
      "Estimating covariance using SHRINKAGE\n",
      "Done.\n",
      "Computing rank from data with rank={'eeg': 30, 'mag': 32}\n",
      "    Setting small MAG eigenvalues to zero (without PCA)\n",
      "Reducing data rank from 32 -> 32\n",
      "Estimating covariance using SHRINKAGE\n",
      "Done.\n"
     ]
    }
   ],
   "source": [
    "include_rest = True\n",
    "if include_rest:\n",
    "    target_names = [\"Left\", \"Right\", \"Rest\"]\n",
    "else:\n",
    "    target_names = [\"Left\", \"Right\"]\n",
    "raw = load_calibration(subject_id)\n",
    "raw.set_eeg_reference()\n",
    "raw.filter(l_freq=5, h_freq=35)\n",
    "eeg_channel_indices = mne.pick_types(raw.info, eeg=True, emg=False, eog=False)\n",
    "raw.pick(picks=eeg_channel_indices)\n",
    "ica = read_ica(f'D:/RUG/Term 2/FYRP/data/ica/P{subject_id}-calibration-ica.fif')\n",
    "ica.apply(raw)\n",
    "epochs = make_epochs(raw, include_rest=include_rest)\n",
    "X_train, _, y_train, _ = epochs_to_train_test(epochs)\n",
    "iir_params = dict(order=4, ftype=\"butterworth\", output='sos')\n",
    "#iir_params = mne.filter.construct_iir_filter(iir_params, f_pass=[8,11], sfreq=2048, btype=\"bandpass\")\n",
    "X_train = mne.filter.filter_data(X_train, 2048, l_freq=calib_IAFs[0][0], h_freq=calib_IAFs[0][1], method='iir', iir_params=iir_params)\n",
    "rank = {\n",
    "    'eeg': X_train.shape[1] - len(ica.exclude),\n",
    "    'mag': 32,\n",
    "}\n",
    "clf, y_pred = create_csp_classifier(X_train, y_train, rank)"
   ],
   "metadata": {
    "collapsed": false,
    "pycharm": {
     "name": "#%%\n"
    }
   }
  },
  {
   "cell_type": "code",
   "execution_count": 11,
   "outputs": [],
   "source": [
    "matplotlib.use(\"Qt5Agg\")\n",
    "clf['CSP'].plot_patterns(epochs.info)\n",
    "plt.savefig(f\"figures/calib_csp_patterns_{subject_id}.pdf\")"
   ],
   "metadata": {
    "collapsed": false,
    "pycharm": {
     "name": "#%%\n"
    }
   }
  },
  {
   "cell_type": "code",
   "execution_count": 12,
   "outputs": [],
   "source": [
    "clf['CSP'].plot_filters(epochs.info)\n",
    "plt.savefig(f\"figures/calib_csp_filters_{subject_id}.pdf\")"
   ],
   "metadata": {
    "collapsed": false,
    "pycharm": {
     "name": "#%%\n"
    }
   }
  },
  {
   "cell_type": "markdown",
   "source": [
    "Driving CSP:"
   ],
   "metadata": {
    "collapsed": false,
    "pycharm": {
     "name": "#%% md\n"
    }
   }
  },
  {
   "cell_type": "code",
   "execution_count": 3,
   "outputs": [
    {
     "name": "stdout",
     "output_type": "stream",
     "text": [
      "Creating RawArray with float64 data, n_channels=40, n_times=5494682\n",
      "    Range : 0 ... 5494681 =      0.000 ...  2682.950 secs\n",
      "Ready.\n",
      "EEG channel type selected for re-referencing\n",
      "Applying average reference.\n",
      "Applying a custom ('EEG',) reference.\n"
     ]
    },
    {
     "name": "stderr",
     "output_type": "stream",
     "text": [
      "D:\\RUG\\Term 2\\FYRP\\FYRP\\continuous_control_bci\\data\\load_data.py:28: RuntimeWarning: The unit for channel(s) AF3, AF4, C3, C4, CP1, CP2, CP5, CP6, Cz, F3, F4, F7, F8, FC1, FC2, FC5, FC6, Fp1, Fp2, Fz, LHEOG, LVEOG, Left-extension, Left-flexion, O1, O2, Oz, P3, P4, P7, P8, PO3, PO4, Pz, RHEOG, Right-extension, Right-flexion, T7, T8, UVEOG has changed from NA to V.\n",
      "  streams.raw.set_channel_types(CHANNEL_TYPE_MAPPING)\n"
     ]
    },
    {
     "name": "stdout",
     "output_type": "stream",
     "text": [
      "Filtering raw data in 1 contiguous segment\n",
      "Setting up band-pass filter from 5 - 35 Hz\n",
      "\n",
      "FIR filter parameters\n",
      "---------------------\n",
      "Designing a one-pass, zero-phase, non-causal bandpass filter:\n",
      "- Windowed time-domain design (firwin) method\n",
      "- Hamming window with 0.0194 passband ripple and 53 dB stopband attenuation\n",
      "- Lower passband edge: 5.00\n",
      "- Lower transition bandwidth: 2.00 Hz (-6 dB cutoff frequency: 4.00 Hz)\n",
      "- Upper passband edge: 35.00 Hz\n",
      "- Upper transition bandwidth: 8.75 Hz (-6 dB cutoff frequency: 39.38 Hz)\n",
      "- Filter length: 3381 samples (1.651 s)\n",
      "\n"
     ]
    },
    {
     "name": "stderr",
     "output_type": "stream",
     "text": [
      "[Parallel(n_jobs=1)]: Using backend SequentialBackend with 1 concurrent workers.\n",
      "[Parallel(n_jobs=1)]: Done   1 out of   1 | elapsed:    0.0s remaining:    0.0s\n",
      "[Parallel(n_jobs=1)]: Done   2 out of   2 | elapsed:    0.1s remaining:    0.0s\n",
      "[Parallel(n_jobs=1)]: Done   3 out of   3 | elapsed:    0.3s remaining:    0.0s\n",
      "[Parallel(n_jobs=1)]: Done   4 out of   4 | elapsed:    0.4s remaining:    0.0s\n",
      "[Parallel(n_jobs=1)]: Done  32 out of  32 | elapsed:    3.7s finished\n"
     ]
    },
    {
     "name": "stdout",
     "output_type": "stream",
     "text": [
      "Reading D:/RUG/Term 2/FYRP/data/ica/P061-calibration-ica.fif ...\n",
      "Now restoring ICA solution ...\n",
      "Ready.\n",
      "Applying ICA to Raw instance\n",
      "    Transforming to ICA space (32 components)\n",
      "    Zeroing out 2 ICA components\n",
      "    Projecting back using 32 PCA components\n",
      "Not setting metadata\n",
      "13405 matching events found\n",
      "No baseline correction applied\n",
      "0 projection items activated\n",
      "Using data from preloaded Raw for 13405 events and 4096 original time points ...\n",
      "0 bad epochs dropped\n",
      "Setting up band-pass filter from 9 - 11 Hz\n",
      "\n",
      "IIR filter parameters\n",
      "---------------------\n",
      "butterworth bandpass zero-phase (two-pass forward and reverse) non-causal filter:\n",
      "- Filter order 16 (effective, after forward-backward)\n",
      "- Cutoffs at 9.00, 11.00 Hz: -6.02, -6.02 dB\n",
      "\n",
      "Shape of y_driving before adjusting (13415,)\n",
      "Shape of X_driving before adjustment (13405, 32, 2048)\n",
      "Computing rank from data with rank={'eeg': 30, 'mag': 32}\n",
      "    Setting small MAG eigenvalues to zero (without PCA)\n",
      "Reducing data rank from 32 -> 32\n",
      "Estimating covariance using SHRINKAGE\n",
      "Done.\n",
      "Computing rank from data with rank={'eeg': 30, 'mag': 32}\n",
      "    Setting small MAG eigenvalues to zero (without PCA)\n",
      "Reducing data rank from 32 -> 32\n",
      "Estimating covariance using SHRINKAGE\n",
      "Done.\n",
      "Computing rank from data with rank={'eeg': 30, 'mag': 32}\n",
      "    Setting small MAG eigenvalues to zero (without PCA)\n",
      "Reducing data rank from 32 -> 32\n",
      "Estimating covariance using SHRINKAGE\n",
      "Done.\n",
      "Computing rank from data with rank={'eeg': 30, 'mag': 32}\n",
      "    Setting small MAG eigenvalues to zero (without PCA)\n",
      "Reducing data rank from 32 -> 32\n",
      "Estimating covariance using SHRINKAGE\n",
      "Done.\n",
      "Computing rank from data with rank={'eeg': 30, 'mag': 32}\n",
      "    Setting small MAG eigenvalues to zero (without PCA)\n",
      "Reducing data rank from 32 -> 32\n",
      "Estimating covariance using SHRINKAGE\n",
      "Done.\n",
      "Computing rank from data with rank={'eeg': 30, 'mag': 32}\n",
      "    Setting small MAG eigenvalues to zero (without PCA)\n",
      "Reducing data rank from 32 -> 32\n",
      "Estimating covariance using SHRINKAGE\n",
      "Done.\n",
      "Computing rank from data with rank={'eeg': 30, 'mag': 32}\n",
      "    Setting small MAG eigenvalues to zero (without PCA)\n",
      "Reducing data rank from 32 -> 32\n",
      "Estimating covariance using SHRINKAGE\n",
      "Done.\n",
      "Computing rank from data with rank={'eeg': 30, 'mag': 32}\n",
      "    Setting small MAG eigenvalues to zero (without PCA)\n",
      "Reducing data rank from 32 -> 32\n",
      "Estimating covariance using SHRINKAGE\n",
      "Done.\n",
      "Computing rank from data with rank={'eeg': 30, 'mag': 32}\n",
      "    Setting small MAG eigenvalues to zero (without PCA)\n",
      "Reducing data rank from 32 -> 32\n",
      "Estimating covariance using SHRINKAGE\n",
      "Done.\n",
      "Computing rank from data with rank={'eeg': 30, 'mag': 32}\n",
      "    Setting small MAG eigenvalues to zero (without PCA)\n",
      "Reducing data rank from 32 -> 32\n",
      "Estimating covariance using SHRINKAGE\n",
      "Done.\n",
      "Computing rank from data with rank={'eeg': 30, 'mag': 32}\n",
      "    Setting small MAG eigenvalues to zero (without PCA)\n",
      "Reducing data rank from 32 -> 32\n",
      "Estimating covariance using SHRINKAGE\n",
      "Done.\n",
      "Computing rank from data with rank={'eeg': 30, 'mag': 32}\n",
      "    Setting small MAG eigenvalues to zero (without PCA)\n",
      "Reducing data rank from 32 -> 32\n",
      "Estimating covariance using SHRINKAGE\n",
      "Done.\n",
      "Computing rank from data with rank={'eeg': 30, 'mag': 32}\n",
      "    Setting small MAG eigenvalues to zero (without PCA)\n",
      "Reducing data rank from 32 -> 32\n",
      "Estimating covariance using SHRINKAGE\n",
      "Done.\n",
      "Computing rank from data with rank={'eeg': 30, 'mag': 32}\n",
      "    Setting small MAG eigenvalues to zero (without PCA)\n",
      "Reducing data rank from 32 -> 32\n",
      "Estimating covariance using SHRINKAGE\n",
      "Done.\n",
      "Computing rank from data with rank={'eeg': 30, 'mag': 32}\n",
      "    Setting small MAG eigenvalues to zero (without PCA)\n",
      "Reducing data rank from 32 -> 32\n",
      "Estimating covariance using SHRINKAGE\n",
      "Done.\n",
      "Computing rank from data with rank={'eeg': 30, 'mag': 32}\n",
      "    Setting small MAG eigenvalues to zero (without PCA)\n",
      "Reducing data rank from 32 -> 32\n",
      "Estimating covariance using SHRINKAGE\n",
      "Done.\n",
      "Computing rank from data with rank={'eeg': 30, 'mag': 32}\n",
      "    Setting small MAG eigenvalues to zero (without PCA)\n",
      "Reducing data rank from 32 -> 32\n",
      "Estimating covariance using SHRINKAGE\n",
      "Done.\n",
      "Computing rank from data with rank={'eeg': 30, 'mag': 32}\n",
      "    Setting small MAG eigenvalues to zero (without PCA)\n",
      "Reducing data rank from 32 -> 32\n",
      "Estimating covariance using SHRINKAGE\n",
      "Done.\n"
     ]
    }
   ],
   "source": [
    "#filters = [[9,11], [9,11], [10,12]]\n",
    "#subject_id = \"061\"\n",
    "#include_rest = True\n",
    "iir_params = dict(order=4, ftype=\"butterworth\", output='sos')\n",
    "driving = load_driving(subject_id)\n",
    "driving.raw.set_eeg_reference()\n",
    "driving.raw.filter(l_freq=5, h_freq=35)\n",
    "ica = read_ica(f'D:/RUG/Term 2/FYRP/data/ica/P{subject_id}-calibration-ica.fif')\n",
    "ica.apply(driving.raw)\n",
    "\n",
    "# EEG Data Stream\n",
    "eeg_channel_indices = mne.pick_types(driving.raw.info, eeg=True, emg=False)\n",
    "# Those windows are basically my epochs on which I try to predict something, if a certain amount of windows have the same prediction (3.5 sec or smth) this can then be used to controll the car\n",
    "eeg_windows = mne.make_fixed_length_epochs(driving.raw, duration=2,overlap=1.8, preload=True, reject_by_annotation=False)\n",
    "eeg_windows = eeg_windows.resample(1024)\n",
    "X_driving = eeg_windows.get_data(copy=False, picks=eeg_channel_indices)\n",
    "X_driving = mne.filter.filter_data(X_driving, 1024, l_freq=calib_IAFs[0][0], h_freq=calib_IAFs[0][1], method='iir', iir_params=iir_params)\n",
    "\n",
    "\n",
    "# EMG Stream\n",
    "# -1 left, 0 rest, 1 right\n",
    "y_driving = driving.emg_prediction_stream['time_series']\n",
    "y_driving = emg_classes_to_eeg_classes(y_driving)\n",
    "# 0 left, 1 right, 2 rest\n",
    "y_driving = np.squeeze(y_driving)\n",
    "print(\"Shape of y_driving before adjusting\",y_driving.shape)\n",
    "print(\"Shape of X_driving before adjustment\", X_driving.shape)\n",
    "if X_driving.shape[0] == y_driving.shape[0]:\n",
    "    pass\n",
    "elif X_driving.shape[0] > y_driving.shape[0]:\n",
    "    diff = X_driving.shape[0]-y_driving.shape[0]\n",
    "    X_driving = X_driving[:-diff,:,:]\n",
    "else:\n",
    "    diff = y_driving.shape[0]-X_driving.shape[0]\n",
    "    y_driving = y_driving[:-diff]\n",
    "    rank = {\n",
    "        'eeg': X_driving.shape[1] - len(ica.exclude),\n",
    "        'mag': 32,\n",
    "    }\n",
    "clf, y_driving_pred = create_csp_classifier(X_driving, y_driving, rank)"
   ],
   "metadata": {
    "collapsed": false,
    "pycharm": {
     "name": "#%%\n"
    }
   }
  },
  {
   "cell_type": "code",
   "execution_count": 11,
   "outputs": [],
   "source": [
    "matplotlib.use(\"Qt5Agg\")\n",
    "clf['CSP'].plot_patterns(driving.raw.pick(\"eeg\").info)\n",
    "plt.savefig(f\"figures/driving_csp_patterns_{subject_id}.pdf\")"
   ],
   "metadata": {
    "collapsed": false,
    "pycharm": {
     "name": "#%%\n"
    }
   }
  },
  {
   "cell_type": "code",
   "execution_count": 12,
   "outputs": [],
   "source": [
    "clf['CSP'].plot_filters(driving.raw.pick(\"eeg\").info)\n",
    "plt.savefig(f\"figures/driving_csp_filters_{subject_id}.pdf\")"
   ],
   "metadata": {
    "collapsed": false,
    "pycharm": {
     "name": "#%%\n"
    }
   }
  },
  {
   "cell_type": "code",
   "execution_count": 10,
   "outputs": [
    {
     "data": {
      "text/plain": "<Info | 9 non-empty values\n bads: []\n ch_names: Fp1, AF3, F7, F3, FC1, FC5, T7, C3, CP1, CP5, P7, P3, Pz, PO3, ...\n chs: 32 EEG\n custom_ref_applied: True\n dig: 35 items (3 Cardinal, 32 EEG)\n highpass: 5.0 Hz\n lowpass: 35.0 Hz\n meas_date: unspecified\n nchan: 32\n projs: []\n sfreq: 2048.0 Hz\n>",
      "text/html": "<details open>\n    <summary><strong>General</strong></summary>\n    <table class=\"table table-hover table-striped table-sm table-responsive small\">\n        <tr>\n            <th>Measurement date</th>\n            \n            <td>Unknown</td>\n            \n        </tr>\n        <tr>\n            <th>Experimenter</th>\n            \n            <td>Unknown</td>\n            \n        </tr>\n        <tr>\n            <th>Participant</th>\n            \n            <td>Unknown</td>\n            \n        </tr>\n    </table>\n    </details>\n    <details open>\n        <summary><strong>Channels</strong></summary>\n        <table class=\"table table-hover table-striped table-sm table-responsive small\">\n            <tr>\n                <th>Digitized points</th>\n                \n                <td>35 points</td>\n                \n            </tr>\n            <tr>\n                <th>Good channels</th>\n                <td>32 EEG</td>\n            </tr>\n            <tr>\n                <th>Bad channels</th>\n                <td>None</td>\n            </tr>\n            <tr>\n                <th>EOG channels</th>\n                <td>Not available</td>\n            </tr>\n            <tr>\n                <th>ECG channels</th>\n                <td>Not available</td>\n            </tr>\n        </table>\n        </details>\n        <details open>\n            <summary><strong>Data</strong></summary>\n            <table class=\"table table-hover table-striped table-sm table-responsive small\">\n                \n                <tr>\n                    <th>Sampling frequency</th>\n                    <td>2048.00 Hz</td>\n                </tr>\n                \n                \n                <tr>\n                    <th>Highpass</th>\n                    <td>5.00 Hz</td>\n                </tr>\n                \n                \n                <tr>\n                    <th>Lowpass</th>\n                    <td>35.00 Hz</td>\n                </tr>\n                \n                \n                \n                \n            </table>\n            </details>"
     },
     "execution_count": 10,
     "metadata": {},
     "output_type": "execute_result"
    }
   ],
   "source": [
    "driving.raw.pick(\"eeg\").info"
   ],
   "metadata": {
    "collapsed": false,
    "pycharm": {
     "name": "#%%\n"
    }
   }
  },
  {
   "cell_type": "code",
   "execution_count": null,
   "outputs": [],
   "source": [],
   "metadata": {
    "collapsed": false,
    "pycharm": {
     "name": "#%%\n"
    }
   }
  }
 ],
 "metadata": {
  "kernelspec": {
   "display_name": "Python 3",
   "language": "python",
   "name": "python3"
  },
  "language_info": {
   "codemirror_mode": {
    "name": "ipython",
    "version": 2
   },
   "file_extension": ".py",
   "mimetype": "text/x-python",
   "name": "python",
   "nbconvert_exporter": "python",
   "pygments_lexer": "ipython2",
   "version": "2.7.6"
  }
 },
 "nbformat": 4,
 "nbformat_minor": 0
}
