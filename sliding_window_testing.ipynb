{
 "cells": [
  {
   "cell_type": "code",
   "execution_count": 3,
   "outputs": [],
   "source": [
    "import numpy as np\n",
    "import mne\n",
    "from mne.preprocessing import read_ica\n",
    "from sklearn.metrics import classification_report, ConfusionMatrixDisplay\n",
    "from sklearn.model_selection import cross_val_predict, GridSearchCV\n",
    "from sklearn.svm import SVC, SVR\n",
    "from sklearn.pipeline import Pipeline\n",
    "from sklearn.linear_model import LogisticRegression\n",
    "from mne.decoding import CSP, SPoC\n",
    "from continuous_control_bci.util import emg_classes_to_eeg_classes, SUBJECT_IDS\n",
    "from tqdm import tqdm\n",
    "import matplotlib as plt\n",
    "\n",
    "from continuous_control_bci.data.load_data import load_calibration, load_driving\n",
    "from continuous_control_bci.data.preprocessing import make_epochs, epochs_to_train_test\n",
    "from continuous_control_bci.modelling.csp_classifier import create_csp_classifier, get_driving_epochs_for_csp\n",
    "from sklearn.metrics import f1_score"
   ],
   "metadata": {
    "collapsed": false,
    "pycharm": {
     "name": "#%%\n"
    }
   }
  },
  {
   "cell_type": "markdown",
   "source": [
    "How many and which channels should i specifically look at? C3, C4 and surrounding?\n",
    "TODO:\n",
    "First train the algorithm based on the calibration data, then load eeg data and use sliding window on that to make cont predictions.\n",
    "Try both CSP and SPoC, how do i evaluate the predictions?\n",
    "\n",
    "After that think of a way to combine EEG and EMG\n",
    "\n",
    "Use this in a more online setting with datastreams (if possible)"
   ],
   "metadata": {
    "collapsed": false,
    "pycharm": {
     "name": "#%% md\n"
    }
   }
  },
  {
   "cell_type": "code",
   "execution_count": 4,
   "outputs": [],
   "source": [
    "# Define used functions here:\n",
    "def get_windows(data, window_size, sample_rate):\n",
    "    \"\"\"\"\n",
    "    Sliding window for the EEG data, currently steps 1 second\n",
    "    - data: numpy array\n",
    "    - window size: size in seconds\n",
    "\n",
    "    - returns: a numpy array for that current window\n",
    "    \"\"\"\n",
    "    step = int(sample_rate*window_size)\n",
    "    windows = []\n",
    "    for start in range(0, data.shape[1]-step+1, step):\n",
    "        end = start + step\n",
    "        windows.append(data[:,start:end])\n",
    "    return windows\n",
    "\n",
    "def create_csp_svm_classifier(X_train: np.ndarray, y_train: np.ndarray, rank):\n",
    "    \"\"\"\n",
    "    Trains a CSP classifier on all the data.\n",
    "    First, however it runs 5-fold cross validation to make cross-validated predictions.\n",
    "    This the resulting predictions are returns for a fair evaluation, with an optimal model for the training data.\n",
    "    :param X_train:\n",
    "    :param y_train:\n",
    "    :return:\n",
    "    \"\"\"\n",
    "    clf_eeg = Pipeline([\n",
    "        (\"CSP\", CSP(n_components=6, reg='shrinkage', log=True, rank=rank)),\n",
    "        (\"SVC\", SVC(C=10, gamma=0.1, kernel=\"rbf\"))]) #'SVC__C': 10, 'SVC__gamma': 0.1, 'SVC__kernel': 'rbf'\n",
    "    param_grid = {'SVC__C': [0.1, 1, 10, 100, 1000],\n",
    "                  'SVC__gamma': [1, 0.1, 0.01, 0.001, 0.0001],\n",
    "                  'SVC__kernel': ['rbf', 'gauss']}\n",
    "#    search = GridSearchCV(clf_eeg, param_grid, n_jobs=2, cv=5)\n",
    "#    search.fit(X_train, y_train)\n",
    "#    print(\"BEST PARAMETERS!!!!!!!\",search.best_params_)\n",
    "#    params = search.get_params()\n",
    "\n",
    "    y_pred = cross_val_predict(clf_eeg, X_train, y_train, cv=5)\n",
    "\n",
    "    clf_eeg.fit(X_train, y_train)\n",
    "\n",
    "    return clf_eeg, y_pred #params\n",
    "\n",
    "def create_csp_svr_classifier(X_train: np.ndarray, y_train: np.ndarray, rank):\n",
    "    \"\"\"\n",
    "    Trains a CSP classifier on all the data.\n",
    "    First, however it runs 5-fold cross validation to make cross-validated predictions.\n",
    "    This the resulting predictions are returns for a fair evaluation, with an optimal model for the training data.\n",
    "    :param X_train:\n",
    "    :param y_train:\n",
    "    :return:\n",
    "    \"\"\"\n",
    "\n",
    "    clf_eeg = Pipeline([\n",
    "        (\"CSP\", CSP(n_components=6, reg='shrinkage', log=True, rank=rank)),\n",
    "        (\"SVR\", SVR())])\n",
    "\n",
    "    y_pred = cross_val_predict(clf_eeg, X_train, y_train, cv=5)\n",
    "\n",
    "    clf_eeg.fit(X_train, y_train)\n",
    "\n",
    "    return clf_eeg, y_pred"
   ],
   "metadata": {
    "collapsed": false,
    "pycharm": {
     "name": "#%%\n"
    }
   }
  },
  {
   "cell_type": "markdown",
   "source": [
    "First ill only take a look at one participant and if that is working ill make a python file and loop over all subjects:"
   ],
   "metadata": {
    "collapsed": false,
    "pycharm": {
     "name": "#%% md\n"
    }
   }
  },
  {
   "cell_type": "code",
   "execution_count": 3,
   "outputs": [
    {
     "name": "stdout",
     "output_type": "stream",
     "text": [
      "Extracting EDF parameters from D:\\RUG\\Term 2\\FYRP\\data\\ivo_data\\sub-P280\\motor-imagery-csp-280-acquisition-[2024.02.02-16.08.52].gdf...\n",
      "GDF file detected\n",
      "Setting channel info structure...\n",
      "Could not determine channel type of the following channels, they will be set as EEG:\n",
      "Channel 1, Channel 2, Channel 3, Channel 4, Channel 5, Channel 6, Channel 7, Channel 8, Channel 9, Channel 10, Channel 11, Channel 12, Channel 13, Channel 14, Channel 15, Channel 16, Channel 17, Channel 18, Channel 19, Channel 20, Channel 21, Channel 22, Channel 23, Channel 24, Channel 25, Channel 26, Channel 27, Channel 28, Channel 29, Channel 30, Channel 31, Channel 32, EX 1, EX 2, EX 3, EX 4, EX 5, EX 6, EX 7, EX 8\n",
      "Creating raw.info structure...\n",
      "Reading 0 ... 882783  =      0.000 ...   431.046 secs...\n",
      "EEG channel type selected for re-referencing\n",
      "Applying average reference.\n",
      "Applying a custom ('EEG',) reference.\n",
      "Filtering raw data in 1 contiguous segment\n",
      "Setting up band-pass filter from 5 - 35 Hz\n",
      "\n",
      "FIR filter parameters\n",
      "---------------------\n",
      "Designing a one-pass, zero-phase, non-causal bandpass filter:\n",
      "- Windowed time-domain design (firwin) method\n",
      "- Hamming window with 0.0194 passband ripple and 53 dB stopband attenuation\n",
      "- Lower passband edge: 5.00\n",
      "- Lower transition bandwidth: 2.00 Hz (-6 dB cutoff frequency: 4.00 Hz)\n",
      "- Upper passband edge: 35.00 Hz\n",
      "- Upper transition bandwidth: 8.75 Hz (-6 dB cutoff frequency: 39.38 Hz)\n",
      "- Filter length: 3381 samples (1.651 s)\n",
      "\n"
     ]
    },
    {
     "name": "stderr",
     "output_type": "stream",
     "text": [
      "[Parallel(n_jobs=1)]: Using backend SequentialBackend with 1 concurrent workers.\n",
      "[Parallel(n_jobs=1)]: Done   1 out of   1 | elapsed:    0.0s remaining:    0.0s\n",
      "[Parallel(n_jobs=1)]: Done   2 out of   2 | elapsed:    0.0s remaining:    0.0s\n",
      "[Parallel(n_jobs=1)]: Done   3 out of   3 | elapsed:    0.0s remaining:    0.0s\n",
      "[Parallel(n_jobs=1)]: Done   4 out of   4 | elapsed:    0.0s remaining:    0.0s\n"
     ]
    },
    {
     "name": "stdout",
     "output_type": "stream",
     "text": [
      "Reading D:/RUG/Term 2/FYRP/data/ica/P280-calibration-ica.fif ...\n",
      "Now restoring ICA solution ...\n",
      "Ready.\n",
      "Applying ICA to Raw instance\n",
      "    Transforming to ICA space (32 components)\n",
      "    Zeroing out 3 ICA components\n",
      "    Projecting back using 32 PCA components\n"
     ]
    },
    {
     "name": "stderr",
     "output_type": "stream",
     "text": [
      "[Parallel(n_jobs=1)]: Done  32 out of  32 | elapsed:    0.4s finished\n"
     ]
    },
    {
     "name": "stdout",
     "output_type": "stream",
     "text": [
      "Used Annotations descriptions: ['769', '770']\n",
      "Not setting metadata\n",
      "40 matching events found\n",
      "No baseline correction applied\n",
      "0 projection items activated\n",
      "Using data from preloaded Raw for 40 events and 7681 original time points ...\n",
      "    Rejecting  epoch based on EEG : ['O1', 'Oz', 'O2']\n",
      "1 bad epochs dropped\n",
      "Used Annotations descriptions: ['800']\n",
      "Not setting metadata\n",
      "40 matching events found\n",
      "No baseline correction applied\n",
      "0 projection items activated\n",
      "Using data from preloaded Raw for 40 events and 7681 original time points ...\n",
      "0 bad epochs dropped\n",
      "Not setting metadata\n",
      "79 matching events found\n",
      "No baseline correction applied\n",
      "Training classifier. This may take a while..\n"
     ]
    },
    {
     "name": "stderr",
     "output_type": "stream",
     "text": [
      "D:\\RUG\\Term 2\\FYRP\\continuous_control_bci\\continuous_control_bci\\data\\preprocessing.py:83: RuntimeWarning: Concatenation of Annotations within Epochs is not supported yet. All annotations will be dropped.\n",
      "  epochs = mne.concatenate_epochs([epochs, rest_epochs], add_offset=False)\n",
      "D:\\RUG\\Term 2\\FYRP\\continuous_control_bci\\continuous_control_bci\\data\\preprocessing.py:83: RuntimeWarning: The events passed to the Epochs constructor are not chronologically ordered.\n",
      "  epochs = mne.concatenate_epochs([epochs, rest_epochs], add_offset=False)\n"
     ]
    },
    {
     "name": "stdout",
     "output_type": "stream",
     "text": [
      "Computing rank from data with rank={'eeg': 29, 'mag': 32}\n",
      "    Setting small MAG eigenvalues to zero (without PCA)\n",
      "Reducing data rank from 32 -> 32\n",
      "Estimating covariance using SHRINKAGE\n",
      "Done.\n",
      "Computing rank from data with rank={'eeg': 29, 'mag': 32}\n",
      "    Setting small MAG eigenvalues to zero (without PCA)\n",
      "Reducing data rank from 32 -> 32\n",
      "Estimating covariance using SHRINKAGE\n",
      "Done.\n",
      "Computing rank from data with rank={'eeg': 29, 'mag': 32}\n",
      "    Setting small MAG eigenvalues to zero (without PCA)\n",
      "Reducing data rank from 32 -> 32\n",
      "Estimating covariance using SHRINKAGE\n",
      "Done.\n",
      "Computing rank from data with rank={'eeg': 29, 'mag': 32}\n",
      "    Setting small MAG eigenvalues to zero (without PCA)\n",
      "Reducing data rank from 32 -> 32\n",
      "Estimating covariance using SHRINKAGE\n",
      "Done.\n",
      "Computing rank from data with rank={'eeg': 29, 'mag': 32}\n",
      "    Setting small MAG eigenvalues to zero (without PCA)\n",
      "Reducing data rank from 32 -> 32\n",
      "Estimating covariance using SHRINKAGE\n",
      "Done.\n",
      "Computing rank from data with rank={'eeg': 29, 'mag': 32}\n",
      "    Setting small MAG eigenvalues to zero (without PCA)\n",
      "Reducing data rank from 32 -> 32\n",
      "Estimating covariance using SHRINKAGE\n",
      "Done.\n",
      "Computing rank from data with rank={'eeg': 29, 'mag': 32}\n",
      "    Setting small MAG eigenvalues to zero (without PCA)\n",
      "Reducing data rank from 32 -> 32\n",
      "Estimating covariance using SHRINKAGE\n",
      "Done.\n",
      "Computing rank from data with rank={'eeg': 29, 'mag': 32}\n",
      "    Setting small MAG eigenvalues to zero (without PCA)\n",
      "Reducing data rank from 32 -> 32\n",
      "Estimating covariance using SHRINKAGE\n",
      "Done.\n",
      "Computing rank from data with rank={'eeg': 29, 'mag': 32}\n",
      "    Setting small MAG eigenvalues to zero (without PCA)\n",
      "Reducing data rank from 32 -> 32\n",
      "Estimating covariance using SHRINKAGE\n",
      "Done.\n",
      "Computing rank from data with rank={'eeg': 29, 'mag': 32}\n",
      "    Setting small MAG eigenvalues to zero (without PCA)\n",
      "Reducing data rank from 32 -> 32\n",
      "Estimating covariance using SHRINKAGE\n",
      "Done.\n",
      "Computing rank from data with rank={'eeg': 29, 'mag': 32}\n",
      "    Setting small MAG eigenvalues to zero (without PCA)\n",
      "Reducing data rank from 32 -> 32\n",
      "Estimating covariance using SHRINKAGE\n",
      "Done.\n",
      "Computing rank from data with rank={'eeg': 29, 'mag': 32}\n",
      "    Setting small MAG eigenvalues to zero (without PCA)\n",
      "Reducing data rank from 32 -> 32\n",
      "Estimating covariance using SHRINKAGE\n",
      "Done.\n",
      "Computing rank from data with rank={'eeg': 29, 'mag': 32}\n",
      "    Setting small MAG eigenvalues to zero (without PCA)\n",
      "Reducing data rank from 32 -> 32\n",
      "Estimating covariance using SHRINKAGE\n",
      "Done.\n",
      "Computing rank from data with rank={'eeg': 29, 'mag': 32}\n",
      "    Setting small MAG eigenvalues to zero (without PCA)\n",
      "Reducing data rank from 32 -> 32\n",
      "Estimating covariance using SHRINKAGE\n",
      "Done.\n",
      "Computing rank from data with rank={'eeg': 29, 'mag': 32}\n",
      "    Setting small MAG eigenvalues to zero (without PCA)\n",
      "Reducing data rank from 32 -> 32\n",
      "Estimating covariance using SHRINKAGE\n",
      "Done.\n",
      "Computing rank from data with rank={'eeg': 29, 'mag': 32}\n",
      "    Setting small MAG eigenvalues to zero (without PCA)\n",
      "Reducing data rank from 32 -> 32\n",
      "Estimating covariance using SHRINKAGE\n",
      "Done.\n",
      "Computing rank from data with rank={'eeg': 29, 'mag': 32}\n",
      "    Setting small MAG eigenvalues to zero (without PCA)\n",
      "Reducing data rank from 32 -> 32\n",
      "Estimating covariance using SHRINKAGE\n",
      "Done.\n",
      "Computing rank from data with rank={'eeg': 29, 'mag': 32}\n",
      "    Setting small MAG eigenvalues to zero (without PCA)\n",
      "Reducing data rank from 32 -> 32\n",
      "Estimating covariance using SHRINKAGE\n",
      "Done.\n",
      "Computing rank from data with rank={'eeg': 29, 'mag': 32}\n",
      "    Setting small MAG eigenvalues to zero (without PCA)\n",
      "Reducing data rank from 32 -> 32\n",
      "Estimating covariance using SHRINKAGE\n",
      "Done.\n",
      "Computing rank from data with rank={'eeg': 29, 'mag': 32}\n",
      "    Setting small MAG eigenvalues to zero (without PCA)\n",
      "Reducing data rank from 32 -> 32\n",
      "Estimating covariance using SHRINKAGE\n",
      "Done.\n",
      "Computing rank from data with rank={'eeg': 29, 'mag': 32}\n",
      "    Setting small MAG eigenvalues to zero (without PCA)\n",
      "Reducing data rank from 32 -> 32\n",
      "Estimating covariance using SHRINKAGE\n",
      "Done.\n",
      "Computing rank from data with rank={'eeg': 29, 'mag': 32}\n",
      "    Setting small MAG eigenvalues to zero (without PCA)\n",
      "Reducing data rank from 32 -> 32\n",
      "Estimating covariance using SHRINKAGE\n",
      "Done.\n",
      "Computing rank from data with rank={'eeg': 29, 'mag': 32}\n",
      "    Setting small MAG eigenvalues to zero (without PCA)\n",
      "Reducing data rank from 32 -> 32\n",
      "Estimating covariance using SHRINKAGE\n",
      "Done.\n",
      "Computing rank from data with rank={'eeg': 29, 'mag': 32}\n",
      "    Setting small MAG eigenvalues to zero (without PCA)\n",
      "Reducing data rank from 32 -> 32\n",
      "Estimating covariance using SHRINKAGE\n",
      "Done.\n",
      "Computing rank from data with rank={'eeg': 29, 'mag': 32}\n",
      "    Setting small MAG eigenvalues to zero (without PCA)\n",
      "Reducing data rank from 32 -> 32\n",
      "Estimating covariance using SHRINKAGE\n",
      "Done.\n",
      "Computing rank from data with rank={'eeg': 29, 'mag': 32}\n",
      "    Setting small MAG eigenvalues to zero (without PCA)\n",
      "Reducing data rank from 32 -> 32\n",
      "Estimating covariance using SHRINKAGE\n",
      "Done.\n",
      "Computing rank from data with rank={'eeg': 29, 'mag': 32}\n",
      "    Setting small MAG eigenvalues to zero (without PCA)\n",
      "Reducing data rank from 32 -> 32\n",
      "Estimating covariance using SHRINKAGE\n",
      "Done.\n",
      "Computing rank from data with rank={'eeg': 29, 'mag': 32}\n",
      "    Setting small MAG eigenvalues to zero (without PCA)\n",
      "Reducing data rank from 32 -> 32\n",
      "Estimating covariance using SHRINKAGE\n",
      "Done.\n",
      "Computing rank from data with rank={'eeg': 29, 'mag': 32}\n",
      "    Setting small MAG eigenvalues to zero (without PCA)\n",
      "Reducing data rank from 32 -> 32\n",
      "Estimating covariance using SHRINKAGE\n",
      "Done.\n",
      "Computing rank from data with rank={'eeg': 29, 'mag': 32}\n",
      "    Setting small MAG eigenvalues to zero (without PCA)\n",
      "Reducing data rank from 32 -> 32\n",
      "Estimating covariance using SHRINKAGE\n",
      "Done.\n",
      "Computing rank from data with rank={'eeg': 29, 'mag': 32}\n",
      "    Setting small MAG eigenvalues to zero (without PCA)\n",
      "Reducing data rank from 32 -> 32\n",
      "Estimating covariance using SHRINKAGE\n",
      "Done.\n",
      "Computing rank from data with rank={'eeg': 29, 'mag': 32}\n",
      "    Setting small MAG eigenvalues to zero (without PCA)\n",
      "Reducing data rank from 32 -> 32\n",
      "Estimating covariance using SHRINKAGE\n",
      "Done.\n",
      "Computing rank from data with rank={'eeg': 29, 'mag': 32}\n",
      "    Setting small MAG eigenvalues to zero (without PCA)\n",
      "Reducing data rank from 32 -> 32\n",
      "Estimating covariance using SHRINKAGE\n",
      "Done.\n",
      "Computing rank from data with rank={'eeg': 29, 'mag': 32}\n",
      "    Setting small MAG eigenvalues to zero (without PCA)\n",
      "Reducing data rank from 32 -> 32\n",
      "Estimating covariance using SHRINKAGE\n",
      "Done.\n",
      "Computing rank from data with rank={'eeg': 29, 'mag': 32}\n",
      "    Setting small MAG eigenvalues to zero (without PCA)\n",
      "Reducing data rank from 32 -> 32\n",
      "Estimating covariance using SHRINKAGE\n",
      "Done.\n",
      "Computing rank from data with rank={'eeg': 29, 'mag': 32}\n",
      "    Setting small MAG eigenvalues to zero (without PCA)\n",
      "Reducing data rank from 32 -> 32\n",
      "Estimating covariance using SHRINKAGE\n",
      "Done.\n",
      "Classifier trained!\n"
     ]
    }
   ],
   "source": [
    "subject_id = 280\n",
    "include_rest = True\n",
    "raw = load_calibration(subject_id)\n",
    "raw.set_eeg_reference()\n",
    "raw.filter(l_freq=5, h_freq=35)\n",
    "\n",
    "ica = read_ica(f'D:/RUG/Term 2/FYRP/data/ica/P{subject_id}-calibration-ica.fif')\n",
    "ica.apply(raw)\n",
    "\n",
    "epochs = make_epochs(raw, include_rest=include_rest)\n",
    "X_train, _, y_train, _ = epochs_to_train_test(epochs)\n",
    "print(\"Training classifier. This may take a while..\")\n",
    "rank = {\n",
    "    'eeg': X_train.shape[1] - len(ica.exclude),\n",
    "    'mag': 32,\n",
    "}\n",
    "clf, y_pred = create_csp_classifier(X_train, y_train, rank)\n",
    "svm_model, y_svm_pred = create_csp_svm_classifier(X_train, y_train, rank)\n",
    "print(\"Classifier trained!\")\n"
   ],
   "metadata": {
    "collapsed": false,
    "pycharm": {
     "name": "#%%\n"
    }
   }
  },
  {
   "cell_type": "code",
   "execution_count": 4,
   "outputs": [
    {
     "name": "stdout",
     "output_type": "stream",
     "text": [
      "Subject 280 calibration\n",
      "              precision    recall  f1-score   support\n",
      "\n",
      "        Left       0.47      0.42      0.44        19\n",
      "       Right       0.50      0.30      0.37        20\n",
      "        Rest       0.62      0.78      0.69        40\n",
      "\n",
      "    accuracy                           0.57        79\n",
      "   macro avg       0.53      0.50      0.50        79\n",
      "weighted avg       0.55      0.57      0.55        79\n",
      "\n",
      "Subject 280 SVM calibration\n",
      "              precision    recall  f1-score   support\n",
      "\n",
      "        Left       0.44      0.42      0.43        19\n",
      "       Right       0.54      0.35      0.42        20\n",
      "        Rest       0.60      0.72      0.66        40\n",
      "\n",
      "    accuracy                           0.56        79\n",
      "   macro avg       0.53      0.50      0.51        79\n",
      "weighted avg       0.55      0.56      0.55        79\n",
      "\n"
     ]
    }
   ],
   "source": [
    "print(f\"Subject {subject_id} calibration\")\n",
    "print(classification_report(y_train, y_pred, target_names=[\"Left\", \"Right\", \"Rest\"]))\n",
    "\n",
    "\n",
    "print(f\"Subject {subject_id} SVM calibration\")\n",
    "print(classification_report(y_train, y_svm_pred, target_names=[\"Left\", \"Right\", \"Rest\"]))\n"
   ],
   "metadata": {
    "collapsed": false,
    "pycharm": {
     "name": "#%%\n"
    }
   }
  },
  {
   "cell_type": "code",
   "execution_count": 4,
   "outputs": [],
   "source": [],
   "metadata": {
    "collapsed": false,
    "pycharm": {
     "name": "#%%\n"
    }
   }
  },
  {
   "cell_type": "code",
   "execution_count": 5,
   "outputs": [
    {
     "name": "stdout",
     "output_type": "stream",
     "text": [
      "Creating RawArray with float64 data, n_channels=40, n_times=5527501\n",
      "    Range : 0 ... 5527500 =      0.000 ...  2698.975 secs\n",
      "Ready.\n",
      "EEG channel type selected for re-referencing\n",
      "Applying average reference.\n",
      "Applying a custom ('EEG',) reference.\n"
     ]
    },
    {
     "name": "stderr",
     "output_type": "stream",
     "text": [
      "D:\\RUG\\Term 2\\FYRP\\continuous_control_bci\\continuous_control_bci\\data\\load_data.py:28: RuntimeWarning: The unit for channel(s) AF3, AF4, C3, C4, CP1, CP2, CP5, CP6, Cz, F3, F4, F7, F8, FC1, FC2, FC5, FC6, Fp1, Fp2, Fz, LHEOG, LVEOG, Left-extension, Left-flexion, O1, O2, Oz, P3, P4, P7, P8, PO3, PO4, Pz, RHEOG, Right-extension, Right-flexion, T7, T8, UVEOG has changed from NA to V.\n",
      "  streams.raw.set_channel_types(CHANNEL_TYPE_MAPPING)\n"
     ]
    },
    {
     "name": "stdout",
     "output_type": "stream",
     "text": [
      "Filtering raw data in 1 contiguous segment\n",
      "Setting up band-pass filter from 5 - 35 Hz\n",
      "\n",
      "FIR filter parameters\n",
      "---------------------\n",
      "Designing a one-pass, zero-phase, non-causal bandpass filter:\n",
      "- Windowed time-domain design (firwin) method\n",
      "- Hamming window with 0.0194 passband ripple and 53 dB stopband attenuation\n",
      "- Lower passband edge: 5.00\n",
      "- Lower transition bandwidth: 2.00 Hz (-6 dB cutoff frequency: 4.00 Hz)\n",
      "- Upper passband edge: 35.00 Hz\n",
      "- Upper transition bandwidth: 8.75 Hz (-6 dB cutoff frequency: 39.38 Hz)\n",
      "- Filter length: 3381 samples (1.651 s)\n",
      "\n"
     ]
    },
    {
     "name": "stderr",
     "output_type": "stream",
     "text": [
      "[Parallel(n_jobs=1)]: Using backend SequentialBackend with 1 concurrent workers.\n",
      "[Parallel(n_jobs=1)]: Done   1 out of   1 | elapsed:    0.0s remaining:    0.0s\n",
      "[Parallel(n_jobs=1)]: Done   2 out of   2 | elapsed:    0.2s remaining:    0.0s\n",
      "[Parallel(n_jobs=1)]: Done   3 out of   3 | elapsed:    0.3s remaining:    0.0s\n",
      "[Parallel(n_jobs=1)]: Done   4 out of   4 | elapsed:    0.4s remaining:    0.0s\n",
      "[Parallel(n_jobs=1)]: Done  32 out of  32 | elapsed:    4.0s finished\n"
     ]
    },
    {
     "name": "stdout",
     "output_type": "stream",
     "text": [
      "Applying ICA to Raw instance\n",
      "    Transforming to ICA space (32 components)\n",
      "    Zeroing out 3 ICA components\n",
      "    Projecting back using 32 PCA components\n"
     ]
    },
    {
     "data": {
      "text/plain": "<RawArray | 40 x 5527501 (2699.0 s), ~1.65 GB, data loaded>",
      "text/html": "<details open>\n    <summary><strong>General</strong></summary>\n    <table class=\"table table-hover table-striped table-sm table-responsive small\">\n        <tr>\n            <th>Measurement date</th>\n            \n            <td>Unknown</td>\n            \n        </tr>\n        <tr>\n            <th>Experimenter</th>\n            \n            <td>Unknown</td>\n            \n        </tr>\n        <tr>\n            <th>Participant</th>\n            \n            <td>Unknown</td>\n            \n        </tr>\n    </table>\n    </details>\n    <details open>\n        <summary><strong>Channels</strong></summary>\n        <table class=\"table table-hover table-striped table-sm table-responsive small\">\n            <tr>\n                <th>Digitized points</th>\n                \n                <td>35 points</td>\n                \n            </tr>\n            <tr>\n                <th>Good channels</th>\n                <td>32 EEG, 4 EMG, 4 EOG</td>\n            </tr>\n            <tr>\n                <th>Bad channels</th>\n                <td>None</td>\n            </tr>\n            <tr>\n                <th>EOG channels</th>\n                <td>LHEOG, RHEOG, UVEOG, LVEOG</td>\n            </tr>\n            <tr>\n                <th>ECG channels</th>\n                <td>Not available</td>\n            </tr>\n        </table>\n        </details>\n        <details open>\n            <summary><strong>Data</strong></summary>\n            <table class=\"table table-hover table-striped table-sm table-responsive small\">\n                \n                <tr>\n                    <th>Sampling frequency</th>\n                    <td>2048.00 Hz</td>\n                </tr>\n                \n                \n                <tr>\n                    <th>Highpass</th>\n                    <td>5.00 Hz</td>\n                </tr>\n                \n                \n                <tr>\n                    <th>Lowpass</th>\n                    <td>35.00 Hz</td>\n                </tr>\n                \n                \n                \n                \n                <tr>\n                    <th>Duration</th>\n                    <td>00:44:59 (HH:MM:SS)</td>\n                </tr>\n                \n            </table>\n            </details>"
     },
     "execution_count": 5,
     "metadata": {},
     "output_type": "execute_result"
    }
   ],
   "source": [
    "driving = load_driving(subject_id)\n",
    "driving.raw.set_eeg_reference()\n",
    "driving.raw.filter(l_freq=5, h_freq=35)\n",
    "ica.apply(driving.raw)\n"
   ],
   "metadata": {
    "collapsed": false,
    "pycharm": {
     "name": "#%%\n"
    }
   }
  },
  {
   "cell_type": "code",
   "execution_count": 6,
   "outputs": [
    {
     "name": "stdout",
     "output_type": "stream",
     "text": [
      "Not setting metadata\n",
      "13494 matching events found\n",
      "No baseline correction applied\n",
      "0 projection items activated\n",
      "Using data from preloaded Raw for 13494 events and 410 original time points ...\n",
      "0 bad epochs dropped\n"
     ]
    }
   ],
   "source": [
    "# EEG Data Stream\n",
    "eeg_channel_indices = mne.pick_types(raw.info, eeg=True, emg=False)\n",
    "eeg_data, eeg_time = driving.raw[eeg_channel_indices]\n",
    "# Those windows are basically my epochs on which I try to predict something, if a certain amount of windows have the same prediction (3.5 sec or smth) this can then be used to controll the car\n",
    "eeg_channel_indices = mne.pick_types(raw.info, eeg=True, emg=False)\n",
    "eeg_windows = mne.make_fixed_length_epochs(driving.raw, duration=0.2, preload=True, reject_by_annotation=False)\n"
   ],
   "metadata": {
    "collapsed": false,
    "pycharm": {
     "name": "#%%\n"
    }
   }
  },
  {
   "cell_type": "code",
   "execution_count": 7,
   "outputs": [
    {
     "data": {
      "text/plain": "(13494, 32, 410)"
     },
     "execution_count": 7,
     "metadata": {},
     "output_type": "execute_result"
    }
   ],
   "source": [
    "X_driving = eeg_windows.get_data(copy=False, picks=eeg_channel_indices)\n",
    "X_driving.shape"
   ],
   "metadata": {
    "collapsed": false,
    "pycharm": {
     "name": "#%%\n"
    }
   }
  },
  {
   "cell_type": "code",
   "execution_count": 7,
   "outputs": [],
   "source": [],
   "metadata": {
    "collapsed": false,
    "pycharm": {
     "name": "#%%\n"
    }
   }
  },
  {
   "cell_type": "markdown",
   "source": [
    "# EMG Data Stream (for ground truth?)\n",
    "emg_channel_indices = mne.pick_types(raw.info, eeg=False, emg=True)\n",
    "emg_data, emg_times = driving.raw[emg_channel_indices]\n",
    "emg_windows = get_windows(emg_data, 0.2, 2048)\n"
   ],
   "metadata": {
    "collapsed": false,
    "pycharm": {
     "name": "#%% md\n"
    }
   }
  },
  {
   "cell_type": "code",
   "execution_count": 8,
   "outputs": [
    {
     "name": "stdout",
     "output_type": "stream",
     "text": [
      "(13494, 32, 410)\n",
      "(13492,)\n"
     ]
    }
   ],
   "source": [
    "# Making predictions based on EEG windows\n",
    "# -1 left, 0 rest, 1 right\n",
    "y_driving = driving.emg_prediction_stream['time_series']\n",
    "#smth wrong\n",
    "y_driving = emg_classes_to_eeg_classes(y_driving)\n",
    "y_driving = np.squeeze(y_driving)\n",
    "print(X_driving.shape)\n",
    "print(y_driving[:-1].shape)"
   ],
   "metadata": {
    "collapsed": false,
    "pycharm": {
     "name": "#%%\n"
    }
   }
  },
  {
   "cell_type": "code",
   "execution_count": 9,
   "outputs": [
    {
     "data": {
      "text/plain": "array([[ 1.15268703e-06,  8.21771666e-07,  5.05895474e-07, ...,\n         2.43544512e-06,  2.82993581e-06,  3.20963376e-06],\n       [ 2.39290455e-06,  2.12661805e-06,  1.85241871e-06, ...,\n         1.68894412e-06,  1.72081524e-06,  1.73773717e-06],\n       [ 5.52135644e-06,  5.72458768e-06,  5.89750409e-06, ...,\n         4.42515120e-06,  4.73946333e-06,  5.03452066e-06],\n       ...,\n       [ 1.73574825e-06,  1.41242651e-06,  1.09476585e-06, ...,\n         4.95142683e-07,  6.15329645e-07,  7.25358686e-07],\n       [-3.35048987e-07, -8.01573796e-07, -1.25154866e-06, ...,\n         5.04749707e-08,  7.87593081e-08,  9.95949961e-08],\n       [-2.06555809e-07, -5.09961907e-07, -7.96158333e-07, ...,\n        -3.20115414e-06, -3.35781629e-06, -3.49674843e-06]])"
     },
     "execution_count": 9,
     "metadata": {},
     "output_type": "execute_result"
    }
   ],
   "source": [
    "X_driving[1,:,:]"
   ],
   "metadata": {
    "collapsed": false,
    "pycharm": {
     "name": "#%%\n"
    }
   }
  },
  {
   "cell_type": "code",
   "execution_count": 10,
   "outputs": [
    {
     "name": "stdout",
     "output_type": "stream",
     "text": [
      "[2 0 0 ... 1 1 1]\n"
     ]
    },
    {
     "ename": "ValueError",
     "evalue": "Found input variables with inconsistent numbers of samples: [13492, 13494]",
     "output_type": "error",
     "traceback": [
      "\u001B[1;31m---------------------------------------------------------------------------\u001B[0m",
      "\u001B[1;31mValueError\u001B[0m                                Traceback (most recent call last)",
      "Cell \u001B[1;32mIn[10], line 4\u001B[0m\n\u001B[0;32m      2\u001B[0m y_pred_driving \u001B[38;5;241m=\u001B[39m svm_model\u001B[38;5;241m.\u001B[39mpredict(X_driving[:, :, :])\n\u001B[0;32m      3\u001B[0m \u001B[38;5;28mprint\u001B[39m(y_pred_driving)\n\u001B[1;32m----> 4\u001B[0m \u001B[38;5;28mprint\u001B[39m(\u001B[43mclassification_report\u001B[49m\u001B[43m(\u001B[49m\u001B[43my_driving\u001B[49m\u001B[43m[\u001B[49m\u001B[43m:\u001B[49m\u001B[38;5;241;43m-\u001B[39;49m\u001B[38;5;241;43m1\u001B[39;49m\u001B[43m]\u001B[49m\u001B[43m,\u001B[49m\u001B[43m \u001B[49m\u001B[43my_pred_driving\u001B[49m\u001B[43m,\u001B[49m\u001B[43m \u001B[49m\u001B[43mtarget_names\u001B[49m\u001B[38;5;241;43m=\u001B[39;49m\u001B[43m[\u001B[49m\u001B[38;5;124;43m\"\u001B[39;49m\u001B[38;5;124;43mLeft\u001B[39;49m\u001B[38;5;124;43m\"\u001B[39;49m\u001B[43m,\u001B[49m\u001B[43m \u001B[49m\u001B[38;5;124;43m\"\u001B[39;49m\u001B[38;5;124;43mRight\u001B[39;49m\u001B[38;5;124;43m\"\u001B[39;49m\u001B[43m,\u001B[49m\u001B[43m \u001B[49m\u001B[38;5;124;43m\"\u001B[39;49m\u001B[38;5;124;43mRest\u001B[39;49m\u001B[38;5;124;43m\"\u001B[39;49m\u001B[43m]\u001B[49m\u001B[43m)\u001B[49m)\n",
      "File \u001B[1;32mD:\\Artificial Intelligence\\Bac Thesis\\Thesis_code\\venv\\lib\\site-packages\\sklearn\\metrics\\_classification.py:2310\u001B[0m, in \u001B[0;36mclassification_report\u001B[1;34m(y_true, y_pred, labels, target_names, sample_weight, digits, output_dict, zero_division)\u001B[0m\n\u001B[0;32m   2195\u001B[0m \u001B[38;5;28;01mdef\u001B[39;00m \u001B[38;5;21mclassification_report\u001B[39m(\n\u001B[0;32m   2196\u001B[0m     y_true,\n\u001B[0;32m   2197\u001B[0m     y_pred,\n\u001B[1;32m   (...)\u001B[0m\n\u001B[0;32m   2204\u001B[0m     zero_division\u001B[38;5;241m=\u001B[39m\u001B[38;5;124m\"\u001B[39m\u001B[38;5;124mwarn\u001B[39m\u001B[38;5;124m\"\u001B[39m,\n\u001B[0;32m   2205\u001B[0m ):\n\u001B[0;32m   2206\u001B[0m \u001B[38;5;250m    \u001B[39m\u001B[38;5;124;03m\"\"\"Build a text report showing the main classification metrics.\u001B[39;00m\n\u001B[0;32m   2207\u001B[0m \n\u001B[0;32m   2208\u001B[0m \u001B[38;5;124;03m    Read more in the :ref:`User Guide <classification_report>`.\u001B[39;00m\n\u001B[1;32m   (...)\u001B[0m\n\u001B[0;32m   2307\u001B[0m \u001B[38;5;124;03m    <BLANKLINE>\u001B[39;00m\n\u001B[0;32m   2308\u001B[0m \u001B[38;5;124;03m    \"\"\"\u001B[39;00m\n\u001B[1;32m-> 2310\u001B[0m     y_type, y_true, y_pred \u001B[38;5;241m=\u001B[39m \u001B[43m_check_targets\u001B[49m\u001B[43m(\u001B[49m\u001B[43my_true\u001B[49m\u001B[43m,\u001B[49m\u001B[43m \u001B[49m\u001B[43my_pred\u001B[49m\u001B[43m)\u001B[49m\n\u001B[0;32m   2312\u001B[0m     \u001B[38;5;28;01mif\u001B[39;00m labels \u001B[38;5;129;01mis\u001B[39;00m \u001B[38;5;28;01mNone\u001B[39;00m:\n\u001B[0;32m   2313\u001B[0m         labels \u001B[38;5;241m=\u001B[39m unique_labels(y_true, y_pred)\n",
      "File \u001B[1;32mD:\\Artificial Intelligence\\Bac Thesis\\Thesis_code\\venv\\lib\\site-packages\\sklearn\\metrics\\_classification.py:86\u001B[0m, in \u001B[0;36m_check_targets\u001B[1;34m(y_true, y_pred)\u001B[0m\n\u001B[0;32m     59\u001B[0m \u001B[38;5;28;01mdef\u001B[39;00m \u001B[38;5;21m_check_targets\u001B[39m(y_true, y_pred):\n\u001B[0;32m     60\u001B[0m \u001B[38;5;250m    \u001B[39m\u001B[38;5;124;03m\"\"\"Check that y_true and y_pred belong to the same classification task.\u001B[39;00m\n\u001B[0;32m     61\u001B[0m \n\u001B[0;32m     62\u001B[0m \u001B[38;5;124;03m    This converts multiclass or binary types to a common shape, and raises a\u001B[39;00m\n\u001B[1;32m   (...)\u001B[0m\n\u001B[0;32m     84\u001B[0m \u001B[38;5;124;03m    y_pred : array or indicator matrix\u001B[39;00m\n\u001B[0;32m     85\u001B[0m \u001B[38;5;124;03m    \"\"\"\u001B[39;00m\n\u001B[1;32m---> 86\u001B[0m     \u001B[43mcheck_consistent_length\u001B[49m\u001B[43m(\u001B[49m\u001B[43my_true\u001B[49m\u001B[43m,\u001B[49m\u001B[43m \u001B[49m\u001B[43my_pred\u001B[49m\u001B[43m)\u001B[49m\n\u001B[0;32m     87\u001B[0m     type_true \u001B[38;5;241m=\u001B[39m type_of_target(y_true, input_name\u001B[38;5;241m=\u001B[39m\u001B[38;5;124m\"\u001B[39m\u001B[38;5;124my_true\u001B[39m\u001B[38;5;124m\"\u001B[39m)\n\u001B[0;32m     88\u001B[0m     type_pred \u001B[38;5;241m=\u001B[39m type_of_target(y_pred, input_name\u001B[38;5;241m=\u001B[39m\u001B[38;5;124m\"\u001B[39m\u001B[38;5;124my_pred\u001B[39m\u001B[38;5;124m\"\u001B[39m)\n",
      "File \u001B[1;32mD:\\Artificial Intelligence\\Bac Thesis\\Thesis_code\\venv\\lib\\site-packages\\sklearn\\utils\\validation.py:397\u001B[0m, in \u001B[0;36mcheck_consistent_length\u001B[1;34m(*arrays)\u001B[0m\n\u001B[0;32m    395\u001B[0m uniques \u001B[38;5;241m=\u001B[39m np\u001B[38;5;241m.\u001B[39munique(lengths)\n\u001B[0;32m    396\u001B[0m \u001B[38;5;28;01mif\u001B[39;00m \u001B[38;5;28mlen\u001B[39m(uniques) \u001B[38;5;241m>\u001B[39m \u001B[38;5;241m1\u001B[39m:\n\u001B[1;32m--> 397\u001B[0m     \u001B[38;5;28;01mraise\u001B[39;00m \u001B[38;5;167;01mValueError\u001B[39;00m(\n\u001B[0;32m    398\u001B[0m         \u001B[38;5;124m\"\u001B[39m\u001B[38;5;124mFound input variables with inconsistent numbers of samples: \u001B[39m\u001B[38;5;132;01m%r\u001B[39;00m\u001B[38;5;124m\"\u001B[39m\n\u001B[0;32m    399\u001B[0m         \u001B[38;5;241m%\u001B[39m [\u001B[38;5;28mint\u001B[39m(l) \u001B[38;5;28;01mfor\u001B[39;00m l \u001B[38;5;129;01min\u001B[39;00m lengths]\n\u001B[0;32m    400\u001B[0m     )\n",
      "\u001B[1;31mValueError\u001B[0m: Found input variables with inconsistent numbers of samples: [13492, 13494]"
     ]
    }
   ],
   "source": [
    "#for i in X_driving.shape[2]:\n",
    "y_pred_driving = svm_model.predict(X_driving[:, :, :])\n",
    "print(y_pred_driving)\n",
    "print(classification_report(y_driving[:-1], y_pred_driving, target_names=[\"Left\", \"Right\", \"Rest\"]))"
   ],
   "metadata": {
    "collapsed": false,
    "pycharm": {
     "name": "#%%\n"
    }
   }
  },
  {
   "cell_type": "code",
   "execution_count": 11,
   "outputs": [
    {
     "data": {
      "text/plain": "array([0, 1, 2])"
     },
     "execution_count": 11,
     "metadata": {},
     "output_type": "execute_result"
    }
   ],
   "source": [
    "np.unique(y_pred_driving)"
   ],
   "metadata": {
    "collapsed": false,
    "pycharm": {
     "name": "#%%\n"
    }
   }
  },
  {
   "cell_type": "code",
   "execution_count": 12,
   "outputs": [
    {
     "data": {
      "text/plain": "array([[0.70045208, 0.07065882, 0.2288891 ],\n       [0.92622564, 0.00585616, 0.06791819],\n       [0.35212158, 0.56474265, 0.08313578],\n       ...,\n       [0.19594748, 0.74663519, 0.05741733],\n       [0.22255279, 0.66525178, 0.11219543],\n       [0.0085502 , 0.98997545, 0.00147435]])"
     },
     "execution_count": 12,
     "metadata": {},
     "output_type": "execute_result"
    }
   ],
   "source": [
    "threshold_samples = int(X_driving.shape[0] * 0.1)\n",
    "clf.predict_proba(X_driving[threshold_samples:])"
   ],
   "metadata": {
    "collapsed": false,
    "pycharm": {
     "name": "#%%\n"
    }
   }
  },
  {
   "cell_type": "code",
   "execution_count": null,
   "outputs": [],
   "source": [
    "# We're using 10% of the driving data to find the optimal threshold\n",
    "def predict_against_threshold(clf, X, t):\n",
    "    y_driving_pred_prob = clf.predict_proba(X)\n",
    "    rest = y_driving_pred_prob[:, 2] > t\n",
    "    y_driving_pred = np.array([2] * len(rest))\n",
    "    y_driving_pred[~rest] = y_driving_pred_prob[~rest, :2].argmax(axis=1)\n",
    "    return y_driving_pred\n",
    "\n",
    "threshold_samples = int(X_driving.shape[0] * 0.1)\n",
    "print(threshold_samples)\n",
    "ts = np.linspace(0, 1, 30)\n",
    "t_scores = [f1_score(y_driving[:threshold_samples], predict_against_threshold(clf, X_driving[:threshold_samples], t), average='micro') for t in ts]\n",
    "best_t = ts[np.argmax(t_scores)]\n",
    "y_driving_pred = predict_against_threshold(clf, X_driving[threshold_samples:], 0.2)"
   ],
   "metadata": {
    "collapsed": false,
    "pycharm": {
     "name": "#%%\n"
    }
   }
  },
  {
   "cell_type": "code",
   "execution_count": null,
   "outputs": [],
   "source": [
    "print(y_driving_pred.shape)\n",
    "print(y_driving[threshold_samples:].shape)\n",
    "print(y_driving_pred.shape[0]-y_driving[threshold_samples:].shape[0])\n",
    "print(y_driving_pred.shape)\n",
    "\n",
    "print(t_scores)"
   ],
   "metadata": {
    "collapsed": false,
    "pycharm": {
     "name": "#%%\n"
    }
   }
  },
  {
   "cell_type": "code",
   "execution_count": null,
   "outputs": [],
   "source": [
    "target_names = [\"Left\", \"Right\", \"Rest\"]\n",
    "\n",
    "print(classification_report(y_driving[threshold_samples:-1], y_driving_pred[:], target_names=target_names))\n",
    "print(classification_report(y_driving[:-1], y_pred_driving, target_names=[\"Left\", \"Right\", \"Rest\"]))"
   ],
   "metadata": {
    "collapsed": false,
    "pycharm": {
     "name": "#%%\n"
    }
   }
  },
  {
   "cell_type": "code",
   "execution_count": null,
   "outputs": [],
   "source": [
    "np.unique(y_driving_pred)\n",
    "clf.predict_proba"
   ],
   "metadata": {
    "collapsed": false,
    "pycharm": {
     "name": "#%%\n"
    }
   }
  },
  {
   "cell_type": "code",
   "execution_count": 13,
   "outputs": [],
   "source": [
    "def get_sliding_driving_epochs_data(subject_id, duration):\n",
    "    driving = load_driving(subject_id)\n",
    "    driving.raw.set_eeg_reference()\n",
    "    driving.raw.filter(l_freq=5, h_freq=35)\n",
    "    ica = read_ica(f'D:/RUG/Term 2/FYRP/data/ica/P{subject_id}-calibration-ica.fif')\n",
    "    ica.apply(driving.raw)\n",
    "\n",
    "    eeg_channel_indices = mne.pick_types(raw.info, eeg=True, emg=False)\n",
    "    eeg_windows = mne.make_fixed_length_epochs(driving.raw, duration=duration, preload=True, reject_by_annotation=False)\n",
    "    X_driving = eeg_windows.get_data(copy=False, picks=eeg_channel_indices)\n",
    "\n",
    "    y_driving = driving.emg_prediction_stream['time_series']\n",
    "    y_driving = emg_classes_to_eeg_classes(y_driving)\n",
    "    y_driving = np.squeeze(y_driving)\n",
    "\n",
    "    return X_driving, y_driving\n",
    "\n",
    "# We're using 10% of the driving data to find the optimal threshold\n",
    "def predict_against_threshold(clf, X, t):\n",
    "    y_driving_pred_prob = clf.predict_proba(X)\n",
    "    rest = y_driving_pred_prob[:, 2] > t\n",
    "    y_driving_pred = np.array([2] * len(rest))\n",
    "    y_driving_pred[~rest] = y_driving_pred_prob[~rest, :2].argmax(axis=1)\n",
    "    return y_driving_pred\n",
    "\n",
    "\n"
   ],
   "metadata": {
    "collapsed": false,
    "pycharm": {
     "name": "#%%\n"
    }
   }
  },
  {
   "cell_type": "code",
   "execution_count": 14,
   "outputs": [
    {
     "name": "stderr",
     "output_type": "stream",
     "text": [
      "  0%|          | 0/18 [00:00<?, ?it/s]"
     ]
    },
    {
     "name": "stdout",
     "output_type": "stream",
     "text": [
      "Extracting EDF parameters from D:\\RUG\\Term 2\\FYRP\\data\\ivo_data\\sub-P061\\motor-imagery-csp-061-acquisition-[2024.02.07-14.35.15].gdf...\n",
      "GDF file detected\n",
      "Setting channel info structure...\n",
      "Could not determine channel type of the following channels, they will be set as EEG:\n",
      "Channel 1, Channel 2, Channel 3, Channel 4, Channel 5, Channel 6, Channel 7, Channel 8, Channel 9, Channel 10, Channel 11, Channel 12, Channel 13, Channel 14, Channel 15, Channel 16, Channel 17, Channel 18, Channel 19, Channel 20, Channel 21, Channel 22, Channel 23, Channel 24, Channel 25, Channel 26, Channel 27, Channel 28, Channel 29, Channel 30, Channel 31, Channel 32, EX 1, EX 2, EX 3, EX 4, EX 5, EX 6, EX 7, EX 8\n",
      "Creating raw.info structure...\n",
      "Reading 0 ... 882783  =      0.000 ...   431.046 secs...\n",
      "EEG channel type selected for re-referencing\n",
      "Applying average reference.\n",
      "Applying a custom ('EEG',) reference.\n",
      "Filtering raw data in 1 contiguous segment\n",
      "Setting up band-pass filter from 5 - 35 Hz\n",
      "\n",
      "FIR filter parameters\n",
      "---------------------\n",
      "Designing a one-pass, zero-phase, non-causal bandpass filter:\n",
      "- Windowed time-domain design (firwin) method\n",
      "- Hamming window with 0.0194 passband ripple and 53 dB stopband attenuation\n",
      "- Lower passband edge: 5.00\n",
      "- Lower transition bandwidth: 2.00 Hz (-6 dB cutoff frequency: 4.00 Hz)\n",
      "- Upper passband edge: 35.00 Hz\n",
      "- Upper transition bandwidth: 8.75 Hz (-6 dB cutoff frequency: 39.38 Hz)\n",
      "- Filter length: 3381 samples (1.651 s)\n",
      "\n"
     ]
    },
    {
     "name": "stderr",
     "output_type": "stream",
     "text": [
      "[Parallel(n_jobs=1)]: Using backend SequentialBackend with 1 concurrent workers.\n",
      "[Parallel(n_jobs=1)]: Done   1 out of   1 | elapsed:    0.0s remaining:    0.0s\n",
      "[Parallel(n_jobs=1)]: Done   2 out of   2 | elapsed:    0.0s remaining:    0.0s\n",
      "[Parallel(n_jobs=1)]: Done   3 out of   3 | elapsed:    0.0s remaining:    0.0s\n",
      "[Parallel(n_jobs=1)]: Done   4 out of   4 | elapsed:    0.0s remaining:    0.0s\n"
     ]
    },
    {
     "name": "stdout",
     "output_type": "stream",
     "text": [
      "Reading D:/RUG/Term 2/FYRP/data/ica/P061-calibration-ica.fif ...\n",
      "Now restoring ICA solution ...\n",
      "Ready.\n",
      "Applying ICA to Raw instance\n"
     ]
    },
    {
     "name": "stderr",
     "output_type": "stream",
     "text": [
      "[Parallel(n_jobs=1)]: Done  32 out of  32 | elapsed:    0.5s finished\n"
     ]
    },
    {
     "name": "stdout",
     "output_type": "stream",
     "text": [
      "    Transforming to ICA space (32 components)\n",
      "    Zeroing out 2 ICA components\n",
      "    Projecting back using 32 PCA components\n",
      "Used Annotations descriptions: ['769', '770']\n",
      "Not setting metadata\n",
      "40 matching events found\n",
      "No baseline correction applied\n",
      "0 projection items activated\n",
      "Using data from preloaded Raw for 40 events and 7681 original time points ...\n",
      "0 bad epochs dropped\n",
      "Used Annotations descriptions: ['800']\n",
      "Not setting metadata\n",
      "40 matching events found\n",
      "No baseline correction applied\n",
      "0 projection items activated\n",
      "Using data from preloaded Raw for 40 events and 7681 original time points ...\n",
      "0 bad epochs dropped\n",
      "Not setting metadata\n",
      "80 matching events found\n",
      "No baseline correction applied\n",
      "Training classifier. This may take a while.."
     ]
    },
    {
     "name": "stderr",
     "output_type": "stream",
     "text": [
      "D:\\RUG\\Term 2\\FYRP\\continuous_control_bci\\continuous_control_bci\\data\\preprocessing.py:83: RuntimeWarning: Concatenation of Annotations within Epochs is not supported yet. All annotations will be dropped.\n",
      "  epochs = mne.concatenate_epochs([epochs, rest_epochs], add_offset=False)\n",
      "D:\\RUG\\Term 2\\FYRP\\continuous_control_bci\\continuous_control_bci\\data\\preprocessing.py:83: RuntimeWarning: The events passed to the Epochs constructor are not chronologically ordered.\n",
      "  epochs = mne.concatenate_epochs([epochs, rest_epochs], add_offset=False)\n"
     ]
    },
    {
     "name": "stdout",
     "output_type": "stream",
     "text": [
      "\n",
      "Computing rank from data with rank={'eeg': 30, 'mag': 32}\n",
      "    Setting small MAG eigenvalues to zero (without PCA)\n",
      "Reducing data rank from 32 -> 32\n",
      "Estimating covariance using SHRINKAGE\n",
      "Done.\n",
      "Computing rank from data with rank={'eeg': 30, 'mag': 32}\n",
      "    Setting small MAG eigenvalues to zero (without PCA)\n",
      "Reducing data rank from 32 -> 32\n",
      "Estimating covariance using SHRINKAGE\n",
      "Done.\n",
      "Computing rank from data with rank={'eeg': 30, 'mag': 32}\n",
      "    Setting small MAG eigenvalues to zero (without PCA)\n",
      "Reducing data rank from 32 -> 32\n",
      "Estimating covariance using SHRINKAGE\n",
      "Done.\n",
      "Computing rank from data with rank={'eeg': 30, 'mag': 32}\n",
      "    Setting small MAG eigenvalues to zero (without PCA)\n",
      "Reducing data rank from 32 -> 32\n",
      "Estimating covariance using SHRINKAGE\n",
      "Done.\n",
      "Computing rank from data with rank={'eeg': 30, 'mag': 32}\n",
      "    Setting small MAG eigenvalues to zero (without PCA)\n",
      "Reducing data rank from 32 -> 32\n",
      "Estimating covariance using SHRINKAGE\n",
      "Done.\n",
      "Computing rank from data with rank={'eeg': 30, 'mag': 32}\n",
      "    Setting small MAG eigenvalues to zero (without PCA)\n",
      "Reducing data rank from 32 -> 32\n",
      "Estimating covariance using SHRINKAGE\n",
      "Done.\n",
      "Computing rank from data with rank={'eeg': 30, 'mag': 32}\n",
      "    Setting small MAG eigenvalues to zero (without PCA)\n",
      "Reducing data rank from 32 -> 32\n",
      "Estimating covariance using SHRINKAGE\n",
      "Done.\n",
      "Computing rank from data with rank={'eeg': 30, 'mag': 32}\n",
      "    Setting small MAG eigenvalues to zero (without PCA)\n",
      "Reducing data rank from 32 -> 32\n",
      "Estimating covariance using SHRINKAGE\n",
      "Done.\n",
      "Computing rank from data with rank={'eeg': 30, 'mag': 32}\n",
      "    Setting small MAG eigenvalues to zero (without PCA)\n",
      "Reducing data rank from 32 -> 32\n",
      "Estimating covariance using SHRINKAGE\n",
      "Done.\n",
      "Computing rank from data with rank={'eeg': 30, 'mag': 32}\n",
      "    Setting small MAG eigenvalues to zero (without PCA)\n",
      "Reducing data rank from 32 -> 32\n",
      "Estimating covariance using SHRINKAGE\n",
      "Done.\n",
      "Computing rank from data with rank={'eeg': 30, 'mag': 32}\n",
      "    Setting small MAG eigenvalues to zero (without PCA)\n",
      "Reducing data rank from 32 -> 32\n",
      "Estimating covariance using SHRINKAGE\n",
      "Done.\n",
      "Computing rank from data with rank={'eeg': 30, 'mag': 32}\n",
      "    Setting small MAG eigenvalues to zero (without PCA)\n",
      "Reducing data rank from 32 -> 32\n",
      "Estimating covariance using SHRINKAGE\n",
      "Done.\n",
      "Computing rank from data with rank={'eeg': 30, 'mag': 32}\n",
      "    Setting small MAG eigenvalues to zero (without PCA)\n",
      "Reducing data rank from 32 -> 32\n",
      "Estimating covariance using SHRINKAGE\n",
      "Done.\n",
      "Computing rank from data with rank={'eeg': 30, 'mag': 32}\n",
      "    Setting small MAG eigenvalues to zero (without PCA)\n",
      "Reducing data rank from 32 -> 32\n",
      "Estimating covariance using SHRINKAGE\n",
      "Done.\n",
      "Computing rank from data with rank={'eeg': 30, 'mag': 32}\n",
      "    Setting small MAG eigenvalues to zero (without PCA)\n",
      "Reducing data rank from 32 -> 32\n",
      "Estimating covariance using SHRINKAGE\n",
      "Done.\n",
      "Computing rank from data with rank={'eeg': 30, 'mag': 32}\n",
      "    Setting small MAG eigenvalues to zero (without PCA)\n",
      "Reducing data rank from 32 -> 32\n",
      "Estimating covariance using SHRINKAGE\n",
      "Done.\n",
      "Computing rank from data with rank={'eeg': 30, 'mag': 32}\n",
      "    Setting small MAG eigenvalues to zero (without PCA)\n",
      "Reducing data rank from 32 -> 32\n",
      "Estimating covariance using SHRINKAGE\n",
      "Done.\n",
      "Computing rank from data with rank={'eeg': 30, 'mag': 32}\n",
      "    Setting small MAG eigenvalues to zero (without PCA)\n",
      "Reducing data rank from 32 -> 32\n",
      "Estimating covariance using SHRINKAGE\n",
      "Done.\n",
      "Classifier trained!\n",
      "Subject 061 calibration\n",
      "              precision    recall  f1-score   support\n",
      "\n",
      "        Left       0.95      0.90      0.92        20\n",
      "       Right       0.81      0.85      0.83        20\n",
      "        Rest       0.90      0.90      0.90        40\n",
      "\n",
      "    accuracy                           0.89        80\n",
      "   macro avg       0.89      0.88      0.88        80\n",
      "weighted avg       0.89      0.89      0.89        80\n",
      "\n",
      "Creating RawArray with float64 data, n_channels=40, n_times=5494682\n",
      "    Range : 0 ... 5494681 =      0.000 ...  2682.950 secs\n",
      "Ready.\n",
      "EEG channel type selected for re-referencing\n",
      "Applying average reference.\n",
      "Applying a custom ('EEG',) reference.\n"
     ]
    },
    {
     "name": "stderr",
     "output_type": "stream",
     "text": [
      "D:\\RUG\\Term 2\\FYRP\\continuous_control_bci\\continuous_control_bci\\data\\load_data.py:28: RuntimeWarning: The unit for channel(s) AF3, AF4, C3, C4, CP1, CP2, CP5, CP6, Cz, F3, F4, F7, F8, FC1, FC2, FC5, FC6, Fp1, Fp2, Fz, LHEOG, LVEOG, Left-extension, Left-flexion, O1, O2, Oz, P3, P4, P7, P8, PO3, PO4, Pz, RHEOG, Right-extension, Right-flexion, T7, T8, UVEOG has changed from NA to V.\n",
      "  streams.raw.set_channel_types(CHANNEL_TYPE_MAPPING)\n"
     ]
    },
    {
     "name": "stdout",
     "output_type": "stream",
     "text": [
      "Filtering raw data in 1 contiguous segment\n",
      "Setting up band-pass filter from 5 - 35 Hz\n",
      "\n",
      "FIR filter parameters\n",
      "---------------------\n",
      "Designing a one-pass, zero-phase, non-causal bandpass filter:\n",
      "- Windowed time-domain design (firwin) method\n",
      "- Hamming window with 0.0194 passband ripple and 53 dB stopband attenuation\n",
      "- Lower passband edge: 5.00\n",
      "- Lower transition bandwidth: 2.00 Hz (-6 dB cutoff frequency: 4.00 Hz)\n",
      "- Upper passband edge: 35.00 Hz\n",
      "- Upper transition bandwidth: 8.75 Hz (-6 dB cutoff frequency: 39.38 Hz)\n",
      "- Filter length: 3381 samples (1.651 s)\n",
      "\n"
     ]
    },
    {
     "name": "stderr",
     "output_type": "stream",
     "text": [
      "[Parallel(n_jobs=1)]: Using backend SequentialBackend with 1 concurrent workers.\n",
      "[Parallel(n_jobs=1)]: Done   1 out of   1 | elapsed:    0.0s remaining:    0.0s\n",
      "[Parallel(n_jobs=1)]: Done   2 out of   2 | elapsed:    0.2s remaining:    0.0s\n",
      "[Parallel(n_jobs=1)]: Done   3 out of   3 | elapsed:    0.3s remaining:    0.0s\n",
      "[Parallel(n_jobs=1)]: Done   4 out of   4 | elapsed:    0.5s remaining:    0.0s\n",
      "[Parallel(n_jobs=1)]: Done  32 out of  32 | elapsed:    4.2s finished\n"
     ]
    },
    {
     "name": "stdout",
     "output_type": "stream",
     "text": [
      "Reading D:/RUG/Term 2/FYRP/data/ica/P061-calibration-ica.fif ...\n",
      "Now restoring ICA solution ...\n",
      "Ready.\n",
      "Applying ICA to Raw instance\n",
      "    Transforming to ICA space (32 components)\n",
      "    Zeroing out 2 ICA components\n",
      "    Projecting back using 32 PCA components\n",
      "Not setting metadata\n",
      "13414 matching events found\n",
      "No baseline correction applied\n",
      "0 projection items activated\n",
      "Using data from preloaded Raw for 13414 events and 410 original time points ...\n",
      "0 bad epochs dropped\n",
      "Transfer performance\n",
      "              precision    recall  f1-score   support\n",
      "\n",
      "        Left       0.50      0.80      0.61      4338\n",
      "       Right       0.57      0.52      0.54      2923\n",
      "        Rest       0.61      0.37      0.46      6153\n",
      "\n",
      "    accuracy                           0.54     13414\n",
      "   macro avg       0.56      0.56      0.54     13414\n",
      "weighted avg       0.56      0.54      0.53     13414\n",
      "\n"
     ]
    },
    {
     "name": "stderr",
     "output_type": "stream",
     "text": [
      "  6%|▌         | 1/18 [00:44<12:36, 44.48s/it]"
     ]
    },
    {
     "name": "stdout",
     "output_type": "stream",
     "text": [
      "Extracting EDF parameters from D:\\RUG\\Term 2\\FYRP\\data\\ivo_data\\sub-P066\\motor-imagery-csp-066-acquisition-[2024.01.30-18.30.01].gdf...\n",
      "GDF file detected\n",
      "Setting channel info structure...\n",
      "Could not determine channel type of the following channels, they will be set as EEG:\n",
      "Channel 1, Channel 2, Channel 3, Channel 4, Channel 5, Channel 6, Channel 7, Channel 8, Channel 9, Channel 10, Channel 11, Channel 12, Channel 13, Channel 14, Channel 15, Channel 16, Channel 17, Channel 18, Channel 19, Channel 20, Channel 21, Channel 22, Channel 23, Channel 24, Channel 25, Channel 26, Channel 27, Channel 28, Channel 29, Channel 30, Channel 31, Channel 32, EX 1, EX 2, EX 3, EX 4, EX 5, EX 6, EX 7, EX 8\n",
      "Creating raw.info structure...\n",
      "Reading 0 ... 882815  =      0.000 ...   431.062 secs...\n",
      "EEG channel type selected for re-referencing\n",
      "Applying average reference.\n",
      "Applying a custom ('EEG',) reference.\n",
      "Filtering raw data in 1 contiguous segment\n",
      "Setting up band-pass filter from 5 - 35 Hz\n",
      "\n",
      "FIR filter parameters\n",
      "---------------------\n",
      "Designing a one-pass, zero-phase, non-causal bandpass filter:\n",
      "- Windowed time-domain design (firwin) method\n",
      "- Hamming window with 0.0194 passband ripple and 53 dB stopband attenuation\n",
      "- Lower passband edge: 5.00\n",
      "- Lower transition bandwidth: 2.00 Hz (-6 dB cutoff frequency: 4.00 Hz)\n",
      "- Upper passband edge: 35.00 Hz\n",
      "- Upper transition bandwidth: 8.75 Hz (-6 dB cutoff frequency: 39.38 Hz)\n",
      "- Filter length: 3381 samples (1.651 s)\n",
      "\n"
     ]
    },
    {
     "name": "stderr",
     "output_type": "stream",
     "text": [
      "[Parallel(n_jobs=1)]: Using backend SequentialBackend with 1 concurrent workers.\n",
      "[Parallel(n_jobs=1)]: Done   1 out of   1 | elapsed:    0.0s remaining:    0.0s\n",
      "[Parallel(n_jobs=1)]: Done   2 out of   2 | elapsed:    0.0s remaining:    0.0s\n",
      "[Parallel(n_jobs=1)]: Done   3 out of   3 | elapsed:    0.0s remaining:    0.0s\n",
      "[Parallel(n_jobs=1)]: Done   4 out of   4 | elapsed:    0.0s remaining:    0.0s\n"
     ]
    },
    {
     "name": "stdout",
     "output_type": "stream",
     "text": [
      "Reading D:/RUG/Term 2/FYRP/data/ica/P066-calibration-ica.fif ...\n",
      "Now restoring ICA solution ...\n"
     ]
    },
    {
     "name": "stderr",
     "output_type": "stream",
     "text": [
      "[Parallel(n_jobs=1)]: Done  32 out of  32 | elapsed:    0.5s finished\n"
     ]
    },
    {
     "name": "stdout",
     "output_type": "stream",
     "text": [
      "Ready.\n",
      "Applying ICA to Raw instance\n",
      "    Transforming to ICA space (32 components)\n",
      "    Zeroing out 2 ICA components\n",
      "    Projecting back using 32 PCA components\n",
      "Used Annotations descriptions: ['769', '770']\n",
      "Not setting metadata\n",
      "40 matching events found\n",
      "No baseline correction applied\n",
      "0 projection items activated\n",
      "Using data from preloaded Raw for 40 events and 7681 original time points ...\n",
      "0 bad epochs dropped\n",
      "Used Annotations descriptions: ['800']\n",
      "Not setting metadata\n",
      "40 matching events found\n",
      "No baseline correction applied\n",
      "0 projection items activated\n",
      "Using data from preloaded Raw for 40 events and 7681 original time points ...\n",
      "    Rejecting  epoch based on EEG : ['O2']\n",
      "    Rejecting  epoch based on EEG : ['O2']\n",
      "2 bad epochs dropped\n",
      "Not setting metadata\n",
      "78 matching events found\n",
      "No baseline correction applied\n",
      "Training classifier. This may take a while..\n"
     ]
    },
    {
     "name": "stderr",
     "output_type": "stream",
     "text": [
      "D:\\RUG\\Term 2\\FYRP\\continuous_control_bci\\continuous_control_bci\\data\\preprocessing.py:83: RuntimeWarning: Concatenation of Annotations within Epochs is not supported yet. All annotations will be dropped.\n",
      "  epochs = mne.concatenate_epochs([epochs, rest_epochs], add_offset=False)\n",
      "D:\\RUG\\Term 2\\FYRP\\continuous_control_bci\\continuous_control_bci\\data\\preprocessing.py:83: RuntimeWarning: The events passed to the Epochs constructor are not chronologically ordered.\n",
      "  epochs = mne.concatenate_epochs([epochs, rest_epochs], add_offset=False)\n"
     ]
    },
    {
     "name": "stdout",
     "output_type": "stream",
     "text": [
      "Computing rank from data with rank={'eeg': 30, 'mag': 32}\n",
      "    Setting small MAG eigenvalues to zero (without PCA)\n",
      "Reducing data rank from 32 -> 32\n",
      "Estimating covariance using SHRINKAGE\n",
      "Done.\n",
      "Computing rank from data with rank={'eeg': 30, 'mag': 32}\n",
      "    Setting small MAG eigenvalues to zero (without PCA)\n",
      "Reducing data rank from 32 -> 32\n",
      "Estimating covariance using SHRINKAGE\n",
      "Done.\n",
      "Computing rank from data with rank={'eeg': 30, 'mag': 32}\n",
      "    Setting small MAG eigenvalues to zero (without PCA)\n",
      "Reducing data rank from 32 -> 32\n",
      "Estimating covariance using SHRINKAGE\n",
      "Done.\n",
      "Computing rank from data with rank={'eeg': 30, 'mag': 32}\n",
      "    Setting small MAG eigenvalues to zero (without PCA)\n",
      "Reducing data rank from 32 -> 32\n",
      "Estimating covariance using SHRINKAGE\n",
      "Done.\n",
      "Computing rank from data with rank={'eeg': 30, 'mag': 32}\n",
      "    Setting small MAG eigenvalues to zero (without PCA)\n",
      "Reducing data rank from 32 -> 32\n",
      "Estimating covariance using SHRINKAGE\n",
      "Done.\n",
      "Computing rank from data with rank={'eeg': 30, 'mag': 32}\n",
      "    Setting small MAG eigenvalues to zero (without PCA)\n",
      "Reducing data rank from 32 -> 32\n",
      "Estimating covariance using SHRINKAGE\n",
      "Done.\n",
      "Computing rank from data with rank={'eeg': 30, 'mag': 32}\n",
      "    Setting small MAG eigenvalues to zero (without PCA)\n",
      "Reducing data rank from 32 -> 32\n",
      "Estimating covariance using SHRINKAGE\n",
      "Done.\n",
      "Computing rank from data with rank={'eeg': 30, 'mag': 32}\n",
      "    Setting small MAG eigenvalues to zero (without PCA)\n",
      "Reducing data rank from 32 -> 32\n",
      "Estimating covariance using SHRINKAGE\n",
      "Done.\n",
      "Computing rank from data with rank={'eeg': 30, 'mag': 32}\n",
      "    Setting small MAG eigenvalues to zero (without PCA)\n",
      "Reducing data rank from 32 -> 32\n",
      "Estimating covariance using SHRINKAGE\n",
      "Done.\n",
      "Computing rank from data with rank={'eeg': 30, 'mag': 32}\n",
      "    Setting small MAG eigenvalues to zero (without PCA)\n",
      "Reducing data rank from 32 -> 32\n",
      "Estimating covariance using SHRINKAGE\n",
      "Done.\n",
      "Computing rank from data with rank={'eeg': 30, 'mag': 32}\n",
      "    Setting small MAG eigenvalues to zero (without PCA)\n",
      "Reducing data rank from 32 -> 32\n",
      "Estimating covariance using SHRINKAGE\n",
      "Done.\n",
      "Computing rank from data with rank={'eeg': 30, 'mag': 32}\n",
      "    Setting small MAG eigenvalues to zero (without PCA)\n",
      "Reducing data rank from 32 -> 32\n",
      "Estimating covariance using SHRINKAGE\n",
      "Done.\n",
      "Computing rank from data with rank={'eeg': 30, 'mag': 32}\n",
      "    Setting small MAG eigenvalues to zero (without PCA)\n",
      "Reducing data rank from 32 -> 32\n",
      "Estimating covariance using SHRINKAGE\n",
      "Done.\n",
      "Computing rank from data with rank={'eeg': 30, 'mag': 32}\n",
      "    Setting small MAG eigenvalues to zero (without PCA)\n",
      "Reducing data rank from 32 -> 32\n",
      "Estimating covariance using SHRINKAGE\n",
      "Done.\n",
      "Computing rank from data with rank={'eeg': 30, 'mag': 32}\n",
      "    Setting small MAG eigenvalues to zero (without PCA)\n",
      "Reducing data rank from 32 -> 32\n",
      "Estimating covariance using SHRINKAGE\n",
      "Done.\n",
      "Computing rank from data with rank={'eeg': 30, 'mag': 32}\n",
      "    Setting small MAG eigenvalues to zero (without PCA)\n",
      "Reducing data rank from 32 -> 32\n",
      "Estimating covariance using SHRINKAGE\n",
      "Done.\n",
      "Computing rank from data with rank={'eeg': 30, 'mag': 32}\n",
      "    Setting small MAG eigenvalues to zero (without PCA)\n",
      "Reducing data rank from 32 -> 32\n",
      "Estimating covariance using SHRINKAGE\n",
      "Done.\n",
      "Computing rank from data with rank={'eeg': 30, 'mag': 32}\n",
      "    Setting small MAG eigenvalues to zero (without PCA)\n",
      "Reducing data rank from 32 -> 32\n",
      "Estimating covariance using SHRINKAGE\n",
      "Done.\n",
      "Classifier trained!\n",
      "Subject 066 calibration\n",
      "              precision    recall  f1-score   support\n",
      "\n",
      "        Left       0.85      0.85      0.85        20\n",
      "       Right       0.90      0.90      0.90        20\n",
      "        Rest       0.87      0.87      0.87        38\n",
      "\n",
      "    accuracy                           0.87        78\n",
      "   macro avg       0.87      0.87      0.87        78\n",
      "weighted avg       0.87      0.87      0.87        78\n",
      "\n",
      "Creating RawArray with float64 data, n_channels=40, n_times=3390353\n",
      "    Range : 0 ... 3390352 =      0.000 ...  1655.445 secs\n",
      "Ready.\n",
      "EEG channel type selected for re-referencing\n",
      "Applying average reference.\n",
      "Applying a custom ('EEG',) reference.\n"
     ]
    },
    {
     "name": "stderr",
     "output_type": "stream",
     "text": [
      "D:\\RUG\\Term 2\\FYRP\\continuous_control_bci\\continuous_control_bci\\data\\load_data.py:28: RuntimeWarning: The unit for channel(s) AF3, AF4, C3, C4, CP1, CP2, CP5, CP6, Cz, F3, F4, F7, F8, FC1, FC2, FC5, FC6, Fp1, Fp2, Fz, LHEOG, LVEOG, Left-extension, Left-flexion, O1, O2, Oz, P3, P4, P7, P8, PO3, PO4, Pz, RHEOG, Right-extension, Right-flexion, T7, T8, UVEOG has changed from NA to V.\n",
      "  streams.raw.set_channel_types(CHANNEL_TYPE_MAPPING)\n"
     ]
    },
    {
     "name": "stdout",
     "output_type": "stream",
     "text": [
      "Filtering raw data in 1 contiguous segment\n",
      "Setting up band-pass filter from 5 - 35 Hz\n",
      "\n",
      "FIR filter parameters\n",
      "---------------------\n",
      "Designing a one-pass, zero-phase, non-causal bandpass filter:\n",
      "- Windowed time-domain design (firwin) method\n",
      "- Hamming window with 0.0194 passband ripple and 53 dB stopband attenuation\n",
      "- Lower passband edge: 5.00\n",
      "- Lower transition bandwidth: 2.00 Hz (-6 dB cutoff frequency: 4.00 Hz)\n",
      "- Upper passband edge: 35.00 Hz\n",
      "- Upper transition bandwidth: 8.75 Hz (-6 dB cutoff frequency: 39.38 Hz)\n",
      "- Filter length: 3381 samples (1.651 s)\n",
      "\n"
     ]
    },
    {
     "name": "stderr",
     "output_type": "stream",
     "text": [
      "[Parallel(n_jobs=1)]: Using backend SequentialBackend with 1 concurrent workers.\n",
      "[Parallel(n_jobs=1)]: Done   1 out of   1 | elapsed:    0.0s remaining:    0.0s\n",
      "[Parallel(n_jobs=1)]: Done   2 out of   2 | elapsed:    0.1s remaining:    0.0s\n",
      "[Parallel(n_jobs=1)]: Done   3 out of   3 | elapsed:    0.2s remaining:    0.0s\n",
      "[Parallel(n_jobs=1)]: Done   4 out of   4 | elapsed:    0.2s remaining:    0.0s\n",
      "[Parallel(n_jobs=1)]: Done  32 out of  32 | elapsed:    2.6s finished\n"
     ]
    },
    {
     "name": "stdout",
     "output_type": "stream",
     "text": [
      "Reading D:/RUG/Term 2/FYRP/data/ica/P066-calibration-ica.fif ...\n",
      "Now restoring ICA solution ...\n",
      "Ready.\n",
      "Applying ICA to Raw instance\n",
      "    Transforming to ICA space (32 components)\n",
      "    Zeroing out 2 ICA components\n",
      "    Projecting back using 32 PCA components\n",
      "Not setting metadata\n",
      "8277 matching events found\n",
      "No baseline correction applied\n",
      "0 projection items activated\n",
      "Using data from preloaded Raw for 8277 events and 410 original time points ...\n",
      "0 bad epochs dropped\n"
     ]
    },
    {
     "name": "stderr",
     "output_type": "stream",
     "text": [
      " 11%|█         | 2/18 [01:14<09:37, 36.09s/it]"
     ]
    },
    {
     "name": "stdout",
     "output_type": "stream",
     "text": [
      "Transfer performance\n",
      "              precision    recall  f1-score   support\n",
      "\n",
      "        Left       0.41      0.15      0.22      2635\n",
      "       Right       0.45      0.26      0.33      1682\n",
      "        Rest       0.47      0.76      0.58      3960\n",
      "\n",
      "    accuracy                           0.46      8277\n",
      "   macro avg       0.44      0.39      0.38      8277\n",
      "weighted avg       0.45      0.46      0.41      8277\n",
      "\n",
      "Extracting EDF parameters from D:\\RUG\\Term 2\\FYRP\\data\\ivo_data\\sub-P126\\motor-imagery-csp-126-acquisition-[2024.02.08-15.59.48].gdf...\n",
      "GDF file detected\n",
      "Setting channel info structure...\n",
      "Could not determine channel type of the following channels, they will be set as EEG:\n",
      "Channel 1, Channel 2, Channel 3, Channel 4, Channel 5, Channel 6, Channel 7, Channel 8, Channel 9, Channel 10, Channel 11, Channel 12, Channel 13, Channel 14, Channel 15, Channel 16, Channel 17, Channel 18, Channel 19, Channel 20, Channel 21, Channel 22, Channel 23, Channel 24, Channel 25, Channel 26, Channel 27, Channel 28, Channel 29, Channel 30, Channel 31, Channel 32, EX 1, EX 2, EX 3, EX 4, EX 5, EX 6, EX 7, EX 8\n",
      "Creating raw.info structure...\n",
      "Reading 0 ... 882783  =      0.000 ...   431.046 secs...\n",
      "EEG channel type selected for re-referencing\n",
      "Applying average reference.\n",
      "Applying a custom ('EEG',) reference.\n",
      "Filtering raw data in 1 contiguous segment\n",
      "Setting up band-pass filter from 5 - 35 Hz\n",
      "\n",
      "FIR filter parameters\n",
      "---------------------\n",
      "Designing a one-pass, zero-phase, non-causal bandpass filter:\n",
      "- Windowed time-domain design (firwin) method\n",
      "- Hamming window with 0.0194 passband ripple and 53 dB stopband attenuation\n",
      "- Lower passband edge: 5.00\n",
      "- Lower transition bandwidth: 2.00 Hz (-6 dB cutoff frequency: 4.00 Hz)\n",
      "- Upper passband edge: 35.00 Hz\n",
      "- Upper transition bandwidth: 8.75 Hz (-6 dB cutoff frequency: 39.38 Hz)\n",
      "- Filter length: 3381 samples (1.651 s)\n",
      "\n"
     ]
    },
    {
     "name": "stderr",
     "output_type": "stream",
     "text": [
      "[Parallel(n_jobs=1)]: Using backend SequentialBackend with 1 concurrent workers.\n",
      "[Parallel(n_jobs=1)]: Done   1 out of   1 | elapsed:    0.0s remaining:    0.0s\n",
      "[Parallel(n_jobs=1)]: Done   2 out of   2 | elapsed:    0.0s remaining:    0.0s\n",
      "[Parallel(n_jobs=1)]: Done   3 out of   3 | elapsed:    0.0s remaining:    0.0s\n",
      "[Parallel(n_jobs=1)]: Done   4 out of   4 | elapsed:    0.0s remaining:    0.0s\n"
     ]
    },
    {
     "name": "stdout",
     "output_type": "stream",
     "text": [
      "Reading D:/RUG/Term 2/FYRP/data/ica/P126-calibration-ica.fif ...\n",
      "Now restoring ICA solution ...\n",
      "Ready.\n",
      "Applying ICA to Raw instance\n",
      "    Transforming to ICA space (32 components)\n"
     ]
    },
    {
     "name": "stderr",
     "output_type": "stream",
     "text": [
      "[Parallel(n_jobs=1)]: Done  32 out of  32 | elapsed:    0.4s finished\n"
     ]
    },
    {
     "name": "stdout",
     "output_type": "stream",
     "text": [
      "    Zeroing out 6 ICA components\n",
      "    Projecting back using 32 PCA components\n",
      "Used Annotations descriptions: ['769', '770']\n",
      "Not setting metadata\n",
      "40 matching events found\n",
      "No baseline correction applied\n",
      "0 projection items activated\n",
      "Using data from preloaded Raw for 40 events and 7681 original time points ...\n",
      "    Rejecting  epoch based on EEG : ['O2']\n",
      "    Rejecting  epoch based on EEG : ['O1', 'Oz', 'O2', 'PO4']\n",
      "    Rejecting  epoch based on EEG : ['O2', 'PO4']\n",
      "    Rejecting  epoch based on EEG : ['PO4']\n",
      "    Rejecting  epoch based on EEG : ['O2']\n",
      "5 bad epochs dropped\n",
      "Used Annotations descriptions: ['800']\n",
      "Not setting metadata\n",
      "40 matching events found\n",
      "No baseline correction applied\n",
      "0 projection items activated\n",
      "Using data from preloaded Raw for 40 events and 7681 original time points ...\n",
      "    Rejecting  epoch based on EEG : ['O1', 'O2']\n",
      "    Rejecting  epoch based on EEG : ['PO4', 'CP6', 'T8', 'FC6']\n",
      "    Rejecting  epoch based on EEG : ['O2', 'PO4', 'P8']\n",
      "    Rejecting  epoch based on EEG : ['O1', 'Oz', 'O2', 'PO4']\n",
      "    Rejecting  epoch based on EEG : ['O1']\n",
      "    Rejecting  epoch based on EEG : ['Oz', 'O2']\n",
      "    Rejecting  epoch based on EEG : ['O1']\n",
      "    Rejecting  epoch based on EEG : ['CP6', 'FC6']\n",
      "8 bad epochs dropped\n",
      "Not setting metadata\n",
      "67 matching events found\n",
      "No baseline correction applied\n",
      "Training classifier. This may take a while..\n",
      "Computing rank from data with rank={'eeg': 26, 'mag': 32}\n"
     ]
    },
    {
     "name": "stderr",
     "output_type": "stream",
     "text": [
      "D:\\RUG\\Term 2\\FYRP\\continuous_control_bci\\continuous_control_bci\\data\\preprocessing.py:83: RuntimeWarning: Concatenation of Annotations within Epochs is not supported yet. All annotations will be dropped.\n",
      "  epochs = mne.concatenate_epochs([epochs, rest_epochs], add_offset=False)\n",
      "D:\\RUG\\Term 2\\FYRP\\continuous_control_bci\\continuous_control_bci\\data\\preprocessing.py:83: RuntimeWarning: The events passed to the Epochs constructor are not chronologically ordered.\n",
      "  epochs = mne.concatenate_epochs([epochs, rest_epochs], add_offset=False)\n"
     ]
    },
    {
     "name": "stdout",
     "output_type": "stream",
     "text": [
      "    Setting small MAG eigenvalues to zero (without PCA)\n",
      "Reducing data rank from 32 -> 32\n",
      "Estimating covariance using SHRINKAGE\n",
      "Done.\n",
      "Computing rank from data with rank={'eeg': 26, 'mag': 32}\n",
      "    Setting small MAG eigenvalues to zero (without PCA)\n",
      "Reducing data rank from 32 -> 32\n",
      "Estimating covariance using SHRINKAGE\n",
      "Done.\n",
      "Computing rank from data with rank={'eeg': 26, 'mag': 32}\n",
      "    Setting small MAG eigenvalues to zero (without PCA)\n",
      "Reducing data rank from 32 -> 32\n",
      "Estimating covariance using SHRINKAGE\n",
      "Done.\n",
      "Computing rank from data with rank={'eeg': 26, 'mag': 32}\n",
      "    Setting small MAG eigenvalues to zero (without PCA)\n",
      "Reducing data rank from 32 -> 32\n",
      "Estimating covariance using SHRINKAGE\n",
      "Done.\n",
      "Computing rank from data with rank={'eeg': 26, 'mag': 32}\n",
      "    Setting small MAG eigenvalues to zero (without PCA)\n",
      "Reducing data rank from 32 -> 32\n",
      "Estimating covariance using SHRINKAGE\n",
      "Done.\n",
      "Computing rank from data with rank={'eeg': 26, 'mag': 32}\n",
      "    Setting small MAG eigenvalues to zero (without PCA)\n",
      "Reducing data rank from 32 -> 32\n",
      "Estimating covariance using SHRINKAGE\n",
      "Done.\n",
      "Computing rank from data with rank={'eeg': 26, 'mag': 32}\n",
      "    Setting small MAG eigenvalues to zero (without PCA)\n",
      "Reducing data rank from 32 -> 32\n",
      "Estimating covariance using SHRINKAGE\n",
      "Done.\n",
      "Computing rank from data with rank={'eeg': 26, 'mag': 32}\n",
      "    Setting small MAG eigenvalues to zero (without PCA)\n",
      "Reducing data rank from 32 -> 32\n",
      "Estimating covariance using SHRINKAGE\n",
      "Done.\n",
      "Computing rank from data with rank={'eeg': 26, 'mag': 32}\n",
      "    Setting small MAG eigenvalues to zero (without PCA)\n",
      "Reducing data rank from 32 -> 32\n",
      "Estimating covariance using SHRINKAGE\n",
      "Done.\n",
      "Computing rank from data with rank={'eeg': 26, 'mag': 32}\n",
      "    Setting small MAG eigenvalues to zero (without PCA)\n",
      "Reducing data rank from 32 -> 32\n",
      "Estimating covariance using SHRINKAGE\n",
      "Done.\n",
      "Computing rank from data with rank={'eeg': 26, 'mag': 32}\n",
      "    Setting small MAG eigenvalues to zero (without PCA)\n",
      "Reducing data rank from 32 -> 32\n",
      "Estimating covariance using SHRINKAGE\n",
      "Done.\n",
      "Computing rank from data with rank={'eeg': 26, 'mag': 32}\n",
      "    Setting small MAG eigenvalues to zero (without PCA)\n",
      "Reducing data rank from 32 -> 32\n",
      "Estimating covariance using SHRINKAGE\n",
      "Done.\n",
      "Computing rank from data with rank={'eeg': 26, 'mag': 32}\n",
      "    Setting small MAG eigenvalues to zero (without PCA)\n",
      "Reducing data rank from 32 -> 32\n",
      "Estimating covariance using SHRINKAGE\n",
      "Done.\n",
      "Computing rank from data with rank={'eeg': 26, 'mag': 32}\n",
      "    Setting small MAG eigenvalues to zero (without PCA)\n",
      "Reducing data rank from 32 -> 32\n",
      "Estimating covariance using SHRINKAGE\n",
      "Done.\n",
      "Computing rank from data with rank={'eeg': 26, 'mag': 32}\n",
      "    Setting small MAG eigenvalues to zero (without PCA)\n",
      "Reducing data rank from 32 -> 32\n",
      "Estimating covariance using SHRINKAGE\n",
      "Done.\n",
      "Computing rank from data with rank={'eeg': 26, 'mag': 32}\n",
      "    Setting small MAG eigenvalues to zero (without PCA)\n",
      "Reducing data rank from 32 -> 32\n",
      "Estimating covariance using SHRINKAGE\n",
      "Done.\n",
      "Computing rank from data with rank={'eeg': 26, 'mag': 32}\n",
      "    Setting small MAG eigenvalues to zero (without PCA)\n",
      "Reducing data rank from 32 -> 32\n",
      "Estimating covariance using SHRINKAGE\n",
      "Done.\n",
      "Computing rank from data with rank={'eeg': 26, 'mag': 32}\n",
      "    Setting small MAG eigenvalues to zero (without PCA)\n",
      "Reducing data rank from 32 -> 32\n",
      "Estimating covariance using SHRINKAGE\n",
      "Done.\n",
      "Classifier trained!\n",
      "Subject 126 calibration\n",
      "              precision    recall  f1-score   support\n",
      "\n",
      "        Left       0.59      0.56      0.57        18\n",
      "       Right       0.60      0.53      0.56        17\n",
      "        Rest       0.71      0.78      0.75        32\n",
      "\n",
      "    accuracy                           0.66        67\n",
      "   macro avg       0.63      0.62      0.63        67\n",
      "weighted avg       0.65      0.66      0.65        67\n",
      "\n",
      "Creating RawArray with float64 data, n_channels=40, n_times=5414722\n",
      "    Range : 0 ... 5414721 =      0.000 ...  2643.907 secs\n",
      "Ready.\n",
      "EEG channel type selected for re-referencing\n",
      "Applying average reference.\n",
      "Applying a custom ('EEG',) reference.\n"
     ]
    },
    {
     "name": "stderr",
     "output_type": "stream",
     "text": [
      "D:\\RUG\\Term 2\\FYRP\\continuous_control_bci\\continuous_control_bci\\data\\load_data.py:28: RuntimeWarning: The unit for channel(s) AF3, AF4, C3, C4, CP1, CP2, CP5, CP6, Cz, F3, F4, F7, F8, FC1, FC2, FC5, FC6, Fp1, Fp2, Fz, LHEOG, LVEOG, Left-extension, Left-flexion, O1, O2, Oz, P3, P4, P7, P8, PO3, PO4, Pz, RHEOG, Right-extension, Right-flexion, T7, T8, UVEOG has changed from NA to V.\n",
      "  streams.raw.set_channel_types(CHANNEL_TYPE_MAPPING)\n"
     ]
    },
    {
     "name": "stdout",
     "output_type": "stream",
     "text": [
      "Filtering raw data in 1 contiguous segment\n",
      "Setting up band-pass filter from 5 - 35 Hz\n",
      "\n",
      "FIR filter parameters\n",
      "---------------------\n",
      "Designing a one-pass, zero-phase, non-causal bandpass filter:\n",
      "- Windowed time-domain design (firwin) method\n",
      "- Hamming window with 0.0194 passband ripple and 53 dB stopband attenuation\n",
      "- Lower passband edge: 5.00\n",
      "- Lower transition bandwidth: 2.00 Hz (-6 dB cutoff frequency: 4.00 Hz)\n",
      "- Upper passband edge: 35.00 Hz\n",
      "- Upper transition bandwidth: 8.75 Hz (-6 dB cutoff frequency: 39.38 Hz)\n",
      "- Filter length: 3381 samples (1.651 s)\n",
      "\n"
     ]
    },
    {
     "name": "stderr",
     "output_type": "stream",
     "text": [
      "[Parallel(n_jobs=1)]: Using backend SequentialBackend with 1 concurrent workers.\n",
      "[Parallel(n_jobs=1)]: Done   1 out of   1 | elapsed:    0.0s remaining:    0.0s\n",
      "[Parallel(n_jobs=1)]: Done   2 out of   2 | elapsed:    0.2s remaining:    0.0s\n",
      "[Parallel(n_jobs=1)]: Done   3 out of   3 | elapsed:    0.3s remaining:    0.0s\n",
      "[Parallel(n_jobs=1)]: Done   4 out of   4 | elapsed:    0.4s remaining:    0.0s\n",
      "[Parallel(n_jobs=1)]: Done  32 out of  32 | elapsed:    3.9s finished\n"
     ]
    },
    {
     "name": "stdout",
     "output_type": "stream",
     "text": [
      "Reading D:/RUG/Term 2/FYRP/data/ica/P126-calibration-ica.fif ...\n",
      "Now restoring ICA solution ...\n",
      "Ready.\n",
      "Applying ICA to Raw instance\n",
      "    Transforming to ICA space (32 components)\n",
      "    Zeroing out 6 ICA components\n",
      "    Projecting back using 32 PCA components\n",
      "Not setting metadata\n",
      "13219 matching events found\n",
      "No baseline correction applied\n",
      "0 projection items activated\n",
      "Using data from preloaded Raw for 13219 events and 410 original time points ...\n",
      "0 bad epochs dropped\n"
     ]
    },
    {
     "name": "stderr",
     "output_type": "stream",
     "text": [
      " 17%|█▋        | 3/18 [01:52<09:15, 37.04s/it]"
     ]
    },
    {
     "name": "stdout",
     "output_type": "stream",
     "text": [
      "Transfer performance\n",
      "              precision    recall  f1-score   support\n",
      "\n",
      "        Left       0.41      0.21      0.28      4715\n",
      "       Right       0.36      0.48      0.41      3242\n",
      "        Rest       0.42      0.53      0.47      5262\n",
      "\n",
      "    accuracy                           0.40     13219\n",
      "   macro avg       0.40      0.40      0.39     13219\n",
      "weighted avg       0.40      0.40      0.39     13219\n",
      "\n",
      "Extracting EDF parameters from D:\\RUG\\Term 2\\FYRP\\data\\ivo_data\\sub-P280\\motor-imagery-csp-280-acquisition-[2024.02.02-16.08.52].gdf...\n",
      "GDF file detected\n",
      "Setting channel info structure...\n",
      "Could not determine channel type of the following channels, they will be set as EEG:\n",
      "Channel 1, Channel 2, Channel 3, Channel 4, Channel 5, Channel 6, Channel 7, Channel 8, Channel 9, Channel 10, Channel 11, Channel 12, Channel 13, Channel 14, Channel 15, Channel 16, Channel 17, Channel 18, Channel 19, Channel 20, Channel 21, Channel 22, Channel 23, Channel 24, Channel 25, Channel 26, Channel 27, Channel 28, Channel 29, Channel 30, Channel 31, Channel 32, EX 1, EX 2, EX 3, EX 4, EX 5, EX 6, EX 7, EX 8\n",
      "Creating raw.info structure...\n",
      "Reading 0 ... 882783  =      0.000 ...   431.046 secs...\n",
      "EEG channel type selected for re-referencing\n",
      "Applying average reference.\n",
      "Applying a custom ('EEG',) reference.\n",
      "Filtering raw data in 1 contiguous segment\n",
      "Setting up band-pass filter from 5 - 35 Hz\n",
      "\n",
      "FIR filter parameters\n",
      "---------------------\n",
      "Designing a one-pass, zero-phase, non-causal bandpass filter:\n",
      "- Windowed time-domain design (firwin) method\n",
      "- Hamming window with 0.0194 passband ripple and 53 dB stopband attenuation\n",
      "- Lower passband edge: 5.00\n",
      "- Lower transition bandwidth: 2.00 Hz (-6 dB cutoff frequency: 4.00 Hz)\n",
      "- Upper passband edge: 35.00 Hz\n",
      "- Upper transition bandwidth: 8.75 Hz (-6 dB cutoff frequency: 39.38 Hz)\n",
      "- Filter length: 3381 samples (1.651 s)\n",
      "\n"
     ]
    },
    {
     "name": "stderr",
     "output_type": "stream",
     "text": [
      "[Parallel(n_jobs=1)]: Using backend SequentialBackend with 1 concurrent workers.\n",
      "[Parallel(n_jobs=1)]: Done   1 out of   1 | elapsed:    0.0s remaining:    0.0s\n",
      "[Parallel(n_jobs=1)]: Done   2 out of   2 | elapsed:    0.0s remaining:    0.0s\n",
      "[Parallel(n_jobs=1)]: Done   3 out of   3 | elapsed:    0.0s remaining:    0.0s\n",
      "[Parallel(n_jobs=1)]: Done   4 out of   4 | elapsed:    0.0s remaining:    0.0s\n"
     ]
    },
    {
     "name": "stdout",
     "output_type": "stream",
     "text": [
      "Reading D:/RUG/Term 2/FYRP/data/ica/P280-calibration-ica.fif ...\n",
      "Now restoring ICA solution ...\n"
     ]
    },
    {
     "name": "stderr",
     "output_type": "stream",
     "text": [
      "[Parallel(n_jobs=1)]: Done  32 out of  32 | elapsed:    0.5s finished\n"
     ]
    },
    {
     "name": "stdout",
     "output_type": "stream",
     "text": [
      "Ready.\n",
      "Applying ICA to Raw instance\n",
      "    Transforming to ICA space (32 components)\n",
      "    Zeroing out 3 ICA components\n",
      "    Projecting back using 32 PCA components\n",
      "Used Annotations descriptions: ['769', '770']\n",
      "Not setting metadata\n",
      "40 matching events found\n",
      "No baseline correction applied\n",
      "0 projection items activated\n",
      "Using data from preloaded Raw for 40 events and 7681 original time points ...\n",
      "    Rejecting  epoch based on EEG : ['O1', 'Oz', 'O2']\n",
      "1 bad epochs dropped\n",
      "Used Annotations descriptions: ['800']\n",
      "Not setting metadata\n",
      "40 matching events found\n",
      "No baseline correction applied\n",
      "0 projection items activated\n",
      "Using data from preloaded Raw for 40 events and 7681 original time points ...\n",
      "0 bad epochs dropped\n",
      "Not setting metadata\n",
      "79 matching events found\n",
      "No baseline correction applied\n"
     ]
    },
    {
     "name": "stderr",
     "output_type": "stream",
     "text": [
      "D:\\RUG\\Term 2\\FYRP\\continuous_control_bci\\continuous_control_bci\\data\\preprocessing.py:83: RuntimeWarning: Concatenation of Annotations within Epochs is not supported yet. All annotations will be dropped.\n",
      "  epochs = mne.concatenate_epochs([epochs, rest_epochs], add_offset=False)\n",
      "D:\\RUG\\Term 2\\FYRP\\continuous_control_bci\\continuous_control_bci\\data\\preprocessing.py:83: RuntimeWarning: The events passed to the Epochs constructor are not chronologically ordered.\n",
      "  epochs = mne.concatenate_epochs([epochs, rest_epochs], add_offset=False)\n"
     ]
    },
    {
     "name": "stdout",
     "output_type": "stream",
     "text": [
      "Training classifier. This may take a while..\n",
      "Computing rank from data with rank={'eeg': 29, 'mag': 32}\n",
      "    Setting small MAG eigenvalues to zero (without PCA)\n",
      "Reducing data rank from 32 -> 32\n",
      "Estimating covariance using SHRINKAGE\n",
      "Done.\n",
      "Computing rank from data with rank={'eeg': 29, 'mag': 32}\n",
      "    Setting small MAG eigenvalues to zero (without PCA)\n",
      "Reducing data rank from 32 -> 32\n",
      "Estimating covariance using SHRINKAGE\n",
      "Done.\n",
      "Computing rank from data with rank={'eeg': 29, 'mag': 32}\n",
      "    Setting small MAG eigenvalues to zero (without PCA)\n",
      "Reducing data rank from 32 -> 32\n",
      "Estimating covariance using SHRINKAGE\n",
      "Done.\n",
      "Computing rank from data with rank={'eeg': 29, 'mag': 32}\n",
      "    Setting small MAG eigenvalues to zero (without PCA)\n",
      "Reducing data rank from 32 -> 32\n",
      "Estimating covariance using SHRINKAGE\n",
      "Done.\n",
      "Computing rank from data with rank={'eeg': 29, 'mag': 32}\n",
      "    Setting small MAG eigenvalues to zero (without PCA)\n",
      "Reducing data rank from 32 -> 32\n",
      "Estimating covariance using SHRINKAGE\n",
      "Done.\n",
      "Computing rank from data with rank={'eeg': 29, 'mag': 32}\n",
      "    Setting small MAG eigenvalues to zero (without PCA)\n",
      "Reducing data rank from 32 -> 32\n",
      "Estimating covariance using SHRINKAGE\n",
      "Done.\n",
      "Computing rank from data with rank={'eeg': 29, 'mag': 32}\n",
      "    Setting small MAG eigenvalues to zero (without PCA)\n",
      "Reducing data rank from 32 -> 32\n",
      "Estimating covariance using SHRINKAGE\n",
      "Done.\n",
      "Computing rank from data with rank={'eeg': 29, 'mag': 32}\n",
      "    Setting small MAG eigenvalues to zero (without PCA)\n",
      "Reducing data rank from 32 -> 32\n",
      "Estimating covariance using SHRINKAGE\n",
      "Done.\n",
      "Computing rank from data with rank={'eeg': 29, 'mag': 32}\n",
      "    Setting small MAG eigenvalues to zero (without PCA)\n",
      "Reducing data rank from 32 -> 32\n",
      "Estimating covariance using SHRINKAGE\n",
      "Done.\n",
      "Computing rank from data with rank={'eeg': 29, 'mag': 32}\n",
      "    Setting small MAG eigenvalues to zero (without PCA)\n",
      "Reducing data rank from 32 -> 32\n",
      "Estimating covariance using SHRINKAGE\n",
      "Done.\n",
      "Computing rank from data with rank={'eeg': 29, 'mag': 32}\n",
      "    Setting small MAG eigenvalues to zero (without PCA)\n",
      "Reducing data rank from 32 -> 32\n",
      "Estimating covariance using SHRINKAGE\n",
      "Done.\n",
      "Computing rank from data with rank={'eeg': 29, 'mag': 32}\n",
      "    Setting small MAG eigenvalues to zero (without PCA)\n",
      "Reducing data rank from 32 -> 32\n",
      "Estimating covariance using SHRINKAGE\n",
      "Done.\n",
      "Computing rank from data with rank={'eeg': 29, 'mag': 32}\n",
      "    Setting small MAG eigenvalues to zero (without PCA)\n",
      "Reducing data rank from 32 -> 32\n",
      "Estimating covariance using SHRINKAGE\n",
      "Done.\n",
      "Computing rank from data with rank={'eeg': 29, 'mag': 32}\n",
      "    Setting small MAG eigenvalues to zero (without PCA)\n",
      "Reducing data rank from 32 -> 32\n",
      "Estimating covariance using SHRINKAGE\n",
      "Done.\n",
      "Computing rank from data with rank={'eeg': 29, 'mag': 32}\n",
      "    Setting small MAG eigenvalues to zero (without PCA)\n",
      "Reducing data rank from 32 -> 32\n",
      "Estimating covariance using SHRINKAGE\n",
      "Done.\n",
      "Computing rank from data with rank={'eeg': 29, 'mag': 32}\n",
      "    Setting small MAG eigenvalues to zero (without PCA)\n",
      "Reducing data rank from 32 -> 32\n",
      "Estimating covariance using SHRINKAGE\n",
      "Done.\n",
      "Computing rank from data with rank={'eeg': 29, 'mag': 32}\n",
      "    Setting small MAG eigenvalues to zero (without PCA)\n",
      "Reducing data rank from 32 -> 32\n",
      "Estimating covariance using SHRINKAGE\n",
      "Done.\n",
      "Computing rank from data with rank={'eeg': 29, 'mag': 32}\n",
      "    Setting small MAG eigenvalues to zero (without PCA)\n",
      "Reducing data rank from 32 -> 32\n",
      "Estimating covariance using SHRINKAGE\n",
      "Done.\n",
      "Classifier trained!\n",
      "Subject 280 calibration\n",
      "              precision    recall  f1-score   support\n",
      "\n",
      "        Left       0.47      0.42      0.44        19\n",
      "       Right       0.50      0.30      0.37        20\n",
      "        Rest       0.62      0.78      0.69        40\n",
      "\n",
      "    accuracy                           0.57        79\n",
      "   macro avg       0.53      0.50      0.50        79\n",
      "weighted avg       0.55      0.57      0.55        79\n",
      "\n",
      "Creating RawArray with float64 data, n_channels=40, n_times=5527501\n",
      "    Range : 0 ... 5527500 =      0.000 ...  2698.975 secs\n",
      "Ready.\n",
      "EEG channel type selected for re-referencing\n",
      "Applying average reference.\n",
      "Applying a custom ('EEG',) reference.\n"
     ]
    },
    {
     "name": "stderr",
     "output_type": "stream",
     "text": [
      "D:\\RUG\\Term 2\\FYRP\\continuous_control_bci\\continuous_control_bci\\data\\load_data.py:28: RuntimeWarning: The unit for channel(s) AF3, AF4, C3, C4, CP1, CP2, CP5, CP6, Cz, F3, F4, F7, F8, FC1, FC2, FC5, FC6, Fp1, Fp2, Fz, LHEOG, LVEOG, Left-extension, Left-flexion, O1, O2, Oz, P3, P4, P7, P8, PO3, PO4, Pz, RHEOG, Right-extension, Right-flexion, T7, T8, UVEOG has changed from NA to V.\n",
      "  streams.raw.set_channel_types(CHANNEL_TYPE_MAPPING)\n"
     ]
    },
    {
     "name": "stdout",
     "output_type": "stream",
     "text": [
      "Filtering raw data in 1 contiguous segment\n",
      "Setting up band-pass filter from 5 - 35 Hz\n",
      "\n",
      "FIR filter parameters\n",
      "---------------------\n",
      "Designing a one-pass, zero-phase, non-causal bandpass filter:\n",
      "- Windowed time-domain design (firwin) method\n",
      "- Hamming window with 0.0194 passband ripple and 53 dB stopband attenuation\n",
      "- Lower passband edge: 5.00\n",
      "- Lower transition bandwidth: 2.00 Hz (-6 dB cutoff frequency: 4.00 Hz)\n",
      "- Upper passband edge: 35.00 Hz\n",
      "- Upper transition bandwidth: 8.75 Hz (-6 dB cutoff frequency: 39.38 Hz)\n",
      "- Filter length: 3381 samples (1.651 s)\n",
      "\n"
     ]
    },
    {
     "name": "stderr",
     "output_type": "stream",
     "text": [
      "[Parallel(n_jobs=1)]: Using backend SequentialBackend with 1 concurrent workers.\n",
      "[Parallel(n_jobs=1)]: Done   1 out of   1 | elapsed:    0.0s remaining:    0.0s\n",
      "[Parallel(n_jobs=1)]: Done   2 out of   2 | elapsed:    0.2s remaining:    0.0s\n",
      "[Parallel(n_jobs=1)]: Done   3 out of   3 | elapsed:    0.3s remaining:    0.0s\n",
      "[Parallel(n_jobs=1)]: Done   4 out of   4 | elapsed:    0.4s remaining:    0.0s\n",
      "[Parallel(n_jobs=1)]: Done  32 out of  32 | elapsed:    4.0s finished\n"
     ]
    },
    {
     "name": "stdout",
     "output_type": "stream",
     "text": [
      "Reading D:/RUG/Term 2/FYRP/data/ica/P280-calibration-ica.fif ...\n",
      "Now restoring ICA solution ...\n",
      "Ready.\n",
      "Applying ICA to Raw instance\n",
      "    Transforming to ICA space (32 components)\n",
      "    Zeroing out 3 ICA components\n",
      "    Projecting back using 32 PCA components\n",
      "Not setting metadata\n",
      "13494 matching events found\n",
      "No baseline correction applied\n",
      "0 projection items activated\n",
      "Using data from preloaded Raw for 13494 events and 410 original time points ...\n",
      "0 bad epochs dropped\n"
     ]
    },
    {
     "name": "stderr",
     "output_type": "stream",
     "text": [
      " 22%|██▏       | 4/18 [02:31<08:48, 37.74s/it]"
     ]
    },
    {
     "name": "stdout",
     "output_type": "stream",
     "text": [
      "Transfer performance\n",
      "              precision    recall  f1-score   support\n",
      "\n",
      "        Left       0.37      0.42      0.39      4356\n",
      "       Right       0.24      0.49      0.32      2798\n",
      "        Rest       0.53      0.23      0.32      6339\n",
      "\n",
      "    accuracy                           0.34     13493\n",
      "   macro avg       0.38      0.38      0.34     13493\n",
      "weighted avg       0.42      0.34      0.34     13493\n",
      "\n",
      "Extracting EDF parameters from D:\\RUG\\Term 2\\FYRP\\data\\ivo_data\\sub-P302\\motor-imagery-csp-302-acquisition-[2024.02.06-17.52.04].gdf...\n",
      "GDF file detected\n",
      "Setting channel info structure...\n",
      "Could not determine channel type of the following channels, they will be set as EEG:\n",
      "Channel 1, Channel 2, Channel 3, Channel 4, Channel 5, Channel 6, Channel 7, Channel 8, Channel 9, Channel 10, Channel 11, Channel 12, Channel 13, Channel 14, Channel 15, Channel 16, Channel 17, Channel 18, Channel 19, Channel 20, Channel 21, Channel 22, Channel 23, Channel 24, Channel 25, Channel 26, Channel 27, Channel 28, Channel 29, Channel 30, Channel 31, Channel 32, EX 1, EX 2, EX 3, EX 4, EX 5, EX 6, EX 7, EX 8\n",
      "Creating raw.info structure...\n",
      "Reading 0 ... 882687  =      0.000 ...   431.000 secs...\n",
      "EEG channel type selected for re-referencing\n",
      "Applying average reference.\n",
      "Applying a custom ('EEG',) reference.\n",
      "Filtering raw data in 1 contiguous segment\n",
      "Setting up band-pass filter from 5 - 35 Hz\n",
      "\n",
      "FIR filter parameters\n",
      "---------------------\n",
      "Designing a one-pass, zero-phase, non-causal bandpass filter:\n",
      "- Windowed time-domain design (firwin) method\n",
      "- Hamming window with 0.0194 passband ripple and 53 dB stopband attenuation\n",
      "- Lower passband edge: 5.00\n",
      "- Lower transition bandwidth: 2.00 Hz (-6 dB cutoff frequency: 4.00 Hz)\n",
      "- Upper passband edge: 35.00 Hz\n",
      "- Upper transition bandwidth: 8.75 Hz (-6 dB cutoff frequency: 39.38 Hz)\n",
      "- Filter length: 3381 samples (1.651 s)\n",
      "\n"
     ]
    },
    {
     "name": "stderr",
     "output_type": "stream",
     "text": [
      "[Parallel(n_jobs=1)]: Using backend SequentialBackend with 1 concurrent workers.\n",
      "[Parallel(n_jobs=1)]: Done   1 out of   1 | elapsed:    0.0s remaining:    0.0s\n",
      "[Parallel(n_jobs=1)]: Done   2 out of   2 | elapsed:    0.0s remaining:    0.0s\n",
      "[Parallel(n_jobs=1)]: Done   3 out of   3 | elapsed:    0.0s remaining:    0.0s\n",
      "[Parallel(n_jobs=1)]: Done   4 out of   4 | elapsed:    0.0s remaining:    0.0s\n"
     ]
    },
    {
     "name": "stdout",
     "output_type": "stream",
     "text": [
      "Reading D:/RUG/Term 2/FYRP/data/ica/P302-calibration-ica.fif ...\n",
      "Now restoring ICA solution ...\n",
      "Ready.\n",
      "Applying ICA to Raw instance\n",
      "    Transforming to ICA space (32 components)\n",
      "    Zeroing out 5 ICA components\n",
      "    Projecting back using 32 PCA components\n"
     ]
    },
    {
     "name": "stderr",
     "output_type": "stream",
     "text": [
      "[Parallel(n_jobs=1)]: Done  32 out of  32 | elapsed:    0.5s finished\n"
     ]
    },
    {
     "name": "stdout",
     "output_type": "stream",
     "text": [
      "Used Annotations descriptions: ['769', '770']\n",
      "Not setting metadata\n",
      "40 matching events found\n",
      "No baseline correction applied\n",
      "0 projection items activated\n",
      "Using data from preloaded Raw for 40 events and 7681 original time points ...\n",
      "0 bad epochs dropped\n",
      "Used Annotations descriptions: ['800']\n",
      "Not setting metadata\n",
      "40 matching events found\n",
      "No baseline correction applied\n",
      "0 projection items activated\n",
      "Using data from preloaded Raw for 40 events and 7681 original time points ...\n",
      "    Rejecting  epoch based on EEG : ['F8']\n",
      "    Rejecting  epoch based on EEG : ['FC5']\n",
      "2 bad epochs dropped\n",
      "Not setting metadata\n",
      "78 matching events found\n",
      "No baseline correction applied\n",
      "Training classifier. This may take a while..\n"
     ]
    },
    {
     "name": "stderr",
     "output_type": "stream",
     "text": [
      "D:\\RUG\\Term 2\\FYRP\\continuous_control_bci\\continuous_control_bci\\data\\preprocessing.py:83: RuntimeWarning: Concatenation of Annotations within Epochs is not supported yet. All annotations will be dropped.\n",
      "  epochs = mne.concatenate_epochs([epochs, rest_epochs], add_offset=False)\n",
      "D:\\RUG\\Term 2\\FYRP\\continuous_control_bci\\continuous_control_bci\\data\\preprocessing.py:83: RuntimeWarning: The events passed to the Epochs constructor are not chronologically ordered.\n",
      "  epochs = mne.concatenate_epochs([epochs, rest_epochs], add_offset=False)\n"
     ]
    },
    {
     "name": "stdout",
     "output_type": "stream",
     "text": [
      "Computing rank from data with rank={'eeg': 27, 'mag': 32}\n",
      "    Setting small MAG eigenvalues to zero (without PCA)\n",
      "Reducing data rank from 32 -> 32\n",
      "Estimating covariance using SHRINKAGE\n",
      "Done.\n",
      "Computing rank from data with rank={'eeg': 27, 'mag': 32}\n",
      "    Setting small MAG eigenvalues to zero (without PCA)\n",
      "Reducing data rank from 32 -> 32\n",
      "Estimating covariance using SHRINKAGE\n",
      "Done.\n",
      "Computing rank from data with rank={'eeg': 27, 'mag': 32}\n",
      "    Setting small MAG eigenvalues to zero (without PCA)\n",
      "Reducing data rank from 32 -> 32\n",
      "Estimating covariance using SHRINKAGE\n",
      "Done.\n",
      "Computing rank from data with rank={'eeg': 27, 'mag': 32}\n",
      "    Setting small MAG eigenvalues to zero (without PCA)\n",
      "Reducing data rank from 32 -> 32\n",
      "Estimating covariance using SHRINKAGE\n",
      "Done.\n",
      "Computing rank from data with rank={'eeg': 27, 'mag': 32}\n",
      "    Setting small MAG eigenvalues to zero (without PCA)\n",
      "Reducing data rank from 32 -> 32\n",
      "Estimating covariance using SHRINKAGE\n",
      "Done.\n",
      "Computing rank from data with rank={'eeg': 27, 'mag': 32}\n",
      "    Setting small MAG eigenvalues to zero (without PCA)\n",
      "Reducing data rank from 32 -> 32\n",
      "Estimating covariance using SHRINKAGE\n",
      "Done.\n",
      "Computing rank from data with rank={'eeg': 27, 'mag': 32}\n",
      "    Setting small MAG eigenvalues to zero (without PCA)\n",
      "Reducing data rank from 32 -> 32\n",
      "Estimating covariance using SHRINKAGE\n",
      "Done.\n",
      "Computing rank from data with rank={'eeg': 27, 'mag': 32}\n",
      "    Setting small MAG eigenvalues to zero (without PCA)\n",
      "Reducing data rank from 32 -> 32\n",
      "Estimating covariance using SHRINKAGE\n",
      "Done.\n",
      "Computing rank from data with rank={'eeg': 27, 'mag': 32}\n",
      "    Setting small MAG eigenvalues to zero (without PCA)\n",
      "Reducing data rank from 32 -> 32\n",
      "Estimating covariance using SHRINKAGE\n",
      "Done.\n",
      "Computing rank from data with rank={'eeg': 27, 'mag': 32}\n",
      "    Setting small MAG eigenvalues to zero (without PCA)\n",
      "Reducing data rank from 32 -> 32\n",
      "Estimating covariance using SHRINKAGE\n",
      "Done.\n",
      "Computing rank from data with rank={'eeg': 27, 'mag': 32}\n",
      "    Setting small MAG eigenvalues to zero (without PCA)\n",
      "Reducing data rank from 32 -> 32\n",
      "Estimating covariance using SHRINKAGE\n",
      "Done.\n",
      "Computing rank from data with rank={'eeg': 27, 'mag': 32}\n",
      "    Setting small MAG eigenvalues to zero (without PCA)\n",
      "Reducing data rank from 32 -> 32\n",
      "Estimating covariance using SHRINKAGE\n",
      "Done.\n",
      "Computing rank from data with rank={'eeg': 27, 'mag': 32}\n",
      "    Setting small MAG eigenvalues to zero (without PCA)\n",
      "Reducing data rank from 32 -> 32\n",
      "Estimating covariance using SHRINKAGE\n",
      "Done.\n",
      "Computing rank from data with rank={'eeg': 27, 'mag': 32}\n",
      "    Setting small MAG eigenvalues to zero (without PCA)\n",
      "Reducing data rank from 32 -> 32\n",
      "Estimating covariance using SHRINKAGE\n",
      "Done.\n",
      "Computing rank from data with rank={'eeg': 27, 'mag': 32}\n",
      "    Setting small MAG eigenvalues to zero (without PCA)\n",
      "Reducing data rank from 32 -> 32\n",
      "Estimating covariance using SHRINKAGE\n",
      "Done.\n",
      "Computing rank from data with rank={'eeg': 27, 'mag': 32}\n",
      "    Setting small MAG eigenvalues to zero (without PCA)\n",
      "Reducing data rank from 32 -> 32\n",
      "Estimating covariance using SHRINKAGE\n",
      "Done.\n",
      "Computing rank from data with rank={'eeg': 27, 'mag': 32}\n",
      "    Setting small MAG eigenvalues to zero (without PCA)\n",
      "Reducing data rank from 32 -> 32\n",
      "Estimating covariance using SHRINKAGE\n",
      "Done.\n",
      "Computing rank from data with rank={'eeg': 27, 'mag': 32}\n",
      "    Setting small MAG eigenvalues to zero (without PCA)\n",
      "Reducing data rank from 32 -> 32\n",
      "Estimating covariance using SHRINKAGE\n",
      "Done.\n",
      "Classifier trained!\n",
      "Subject 302 calibration\n",
      "              precision    recall  f1-score   support\n",
      "\n",
      "        Left       0.75      0.45      0.56        20\n",
      "       Right       0.53      0.50      0.51        20\n",
      "        Rest       0.68      0.84      0.75        38\n",
      "\n",
      "    accuracy                           0.65        78\n",
      "   macro avg       0.65      0.60      0.61        78\n",
      "weighted avg       0.66      0.65      0.64        78\n",
      "\n",
      "Creating RawArray with float64 data, n_channels=40, n_times=5300106\n",
      "    Range : 0 ... 5300105 =      0.000 ...  2587.942 secs\n",
      "Ready.\n",
      "EEG channel type selected for re-referencing\n",
      "Applying average reference.\n",
      "Applying a custom ('EEG',) reference.\n"
     ]
    },
    {
     "name": "stderr",
     "output_type": "stream",
     "text": [
      "D:\\RUG\\Term 2\\FYRP\\continuous_control_bci\\continuous_control_bci\\data\\load_data.py:28: RuntimeWarning: The unit for channel(s) AF3, AF4, C3, C4, CP1, CP2, CP5, CP6, Cz, F3, F4, F7, F8, FC1, FC2, FC5, FC6, Fp1, Fp2, Fz, LHEOG, LVEOG, Left-extension, Left-flexion, O1, O2, Oz, P3, P4, P7, P8, PO3, PO4, Pz, RHEOG, Right-extension, Right-flexion, T7, T8, UVEOG has changed from NA to V.\n",
      "  streams.raw.set_channel_types(CHANNEL_TYPE_MAPPING)\n"
     ]
    },
    {
     "name": "stdout",
     "output_type": "stream",
     "text": [
      "Filtering raw data in 1 contiguous segment\n",
      "Setting up band-pass filter from 5 - 35 Hz\n",
      "\n",
      "FIR filter parameters\n",
      "---------------------\n",
      "Designing a one-pass, zero-phase, non-causal bandpass filter:\n",
      "- Windowed time-domain design (firwin) method\n",
      "- Hamming window with 0.0194 passband ripple and 53 dB stopband attenuation\n",
      "- Lower passband edge: 5.00\n",
      "- Lower transition bandwidth: 2.00 Hz (-6 dB cutoff frequency: 4.00 Hz)\n",
      "- Upper passband edge: 35.00 Hz\n",
      "- Upper transition bandwidth: 8.75 Hz (-6 dB cutoff frequency: 39.38 Hz)\n",
      "- Filter length: 3381 samples (1.651 s)\n",
      "\n"
     ]
    },
    {
     "name": "stderr",
     "output_type": "stream",
     "text": [
      "[Parallel(n_jobs=1)]: Using backend SequentialBackend with 1 concurrent workers.\n",
      "[Parallel(n_jobs=1)]: Done   1 out of   1 | elapsed:    0.0s remaining:    0.0s\n",
      "[Parallel(n_jobs=1)]: Done   2 out of   2 | elapsed:    0.2s remaining:    0.0s\n",
      "[Parallel(n_jobs=1)]: Done   3 out of   3 | elapsed:    0.3s remaining:    0.0s\n",
      "[Parallel(n_jobs=1)]: Done   4 out of   4 | elapsed:    0.4s remaining:    0.0s\n",
      "[Parallel(n_jobs=1)]: Done  32 out of  32 | elapsed:    3.9s finished\n"
     ]
    },
    {
     "name": "stdout",
     "output_type": "stream",
     "text": [
      "Reading D:/RUG/Term 2/FYRP/data/ica/P302-calibration-ica.fif ...\n",
      "Now restoring ICA solution ...\n",
      "Ready.\n",
      "Applying ICA to Raw instance\n",
      "    Transforming to ICA space (32 components)\n",
      "    Zeroing out 5 ICA components\n",
      "    Projecting back using 32 PCA components\n",
      "Not setting metadata\n",
      "12939 matching events found\n",
      "No baseline correction applied\n",
      "0 projection items activated\n",
      "Using data from preloaded Raw for 12939 events and 410 original time points ...\n",
      "0 bad epochs dropped\n",
      "Transfer performance\n",
      "              precision    recall  f1-score   support\n",
      "\n",
      "        Left       0.36      0.29      0.32      4221\n",
      "       Right       0.24      0.37      0.29      3244\n",
      "        Rest       0.41      0.35      0.38      5474\n",
      "\n",
      "    accuracy                           0.33     12939\n",
      "   macro avg       0.34      0.33      0.33     12939\n",
      "weighted avg       0.35      0.33      0.34     12939\n",
      "\n"
     ]
    },
    {
     "name": "stderr",
     "output_type": "stream",
     "text": [
      " 28%|██▊       | 5/18 [03:09<08:09, 37.66s/it]"
     ]
    },
    {
     "name": "stdout",
     "output_type": "stream",
     "text": [
      "Extracting EDF parameters from D:\\RUG\\Term 2\\FYRP\\data\\ivo_data\\sub-P336\\motor-imagery-csp-336-acquisition-[2024.02.08-14.04.05].gdf...\n",
      "GDF file detected\n",
      "Setting channel info structure...\n",
      "Could not determine channel type of the following channels, they will be set as EEG:\n",
      "Channel 1, Channel 2, Channel 3, Channel 4, Channel 5, Channel 6, Channel 7, Channel 8, Channel 9, Channel 10, Channel 11, Channel 12, Channel 13, Channel 14, Channel 15, Channel 16, Channel 17, Channel 18, Channel 19, Channel 20, Channel 21, Channel 22, Channel 23, Channel 24, Channel 25, Channel 26, Channel 27, Channel 28, Channel 29, Channel 30, Channel 31, Channel 32, EX 1, EX 2, EX 3, EX 4, EX 5, EX 6, EX 7, EX 8\n",
      "Creating raw.info structure...\n",
      "Reading 0 ... 882751  =      0.000 ...   431.031 secs...\n",
      "EEG channel type selected for re-referencing\n",
      "Applying average reference.\n",
      "Applying a custom ('EEG',) reference.\n",
      "Filtering raw data in 1 contiguous segment\n",
      "Setting up band-pass filter from 5 - 35 Hz\n",
      "\n",
      "FIR filter parameters\n",
      "---------------------\n",
      "Designing a one-pass, zero-phase, non-causal bandpass filter:\n",
      "- Windowed time-domain design (firwin) method\n",
      "- Hamming window with 0.0194 passband ripple and 53 dB stopband attenuation\n",
      "- Lower passband edge: 5.00\n",
      "- Lower transition bandwidth: 2.00 Hz (-6 dB cutoff frequency: 4.00 Hz)\n",
      "- Upper passband edge: 35.00 Hz\n",
      "- Upper transition bandwidth: 8.75 Hz (-6 dB cutoff frequency: 39.38 Hz)\n",
      "- Filter length: 3381 samples (1.651 s)\n",
      "\n"
     ]
    },
    {
     "name": "stderr",
     "output_type": "stream",
     "text": [
      "[Parallel(n_jobs=1)]: Using backend SequentialBackend with 1 concurrent workers.\n",
      "[Parallel(n_jobs=1)]: Done   1 out of   1 | elapsed:    0.0s remaining:    0.0s\n",
      "[Parallel(n_jobs=1)]: Done   2 out of   2 | elapsed:    0.0s remaining:    0.0s\n",
      "[Parallel(n_jobs=1)]: Done   3 out of   3 | elapsed:    0.0s remaining:    0.0s\n",
      "[Parallel(n_jobs=1)]: Done   4 out of   4 | elapsed:    0.0s remaining:    0.0s\n"
     ]
    },
    {
     "name": "stdout",
     "output_type": "stream",
     "text": [
      "Reading D:/RUG/Term 2/FYRP/data/ica/P336-calibration-ica.fif ...\n",
      "Now restoring ICA solution ...\n"
     ]
    },
    {
     "name": "stderr",
     "output_type": "stream",
     "text": [
      "[Parallel(n_jobs=1)]: Done  32 out of  32 | elapsed:    0.4s finished\n"
     ]
    },
    {
     "name": "stdout",
     "output_type": "stream",
     "text": [
      "Ready.\n",
      "Applying ICA to Raw instance\n",
      "    Transforming to ICA space (32 components)\n",
      "    Zeroing out 4 ICA components\n",
      "    Projecting back using 32 PCA components\n",
      "Used Annotations descriptions: ['769', '770']\n",
      "Not setting metadata\n",
      "40 matching events found\n",
      "No baseline correction applied\n",
      "0 projection items activated\n",
      "Using data from preloaded Raw for 40 events and 7681 original time points ...\n",
      "0 bad epochs dropped\n",
      "Used Annotations descriptions: ['800']\n",
      "Not setting metadata\n",
      "40 matching events found\n",
      "No baseline correction applied\n",
      "0 projection items activated\n",
      "Using data from preloaded Raw for 40 events and 7681 original time points ...\n",
      "0 bad epochs dropped\n",
      "Not setting metadata\n",
      "80 matching events found\n",
      "No baseline correction applied\n",
      "Training classifier. This may take a while..\n",
      "Computing rank from data with rank={'eeg': 28, 'mag': 32}\n"
     ]
    },
    {
     "name": "stderr",
     "output_type": "stream",
     "text": [
      "D:\\RUG\\Term 2\\FYRP\\continuous_control_bci\\continuous_control_bci\\data\\preprocessing.py:83: RuntimeWarning: Concatenation of Annotations within Epochs is not supported yet. All annotations will be dropped.\n",
      "  epochs = mne.concatenate_epochs([epochs, rest_epochs], add_offset=False)\n",
      "D:\\RUG\\Term 2\\FYRP\\continuous_control_bci\\continuous_control_bci\\data\\preprocessing.py:83: RuntimeWarning: The events passed to the Epochs constructor are not chronologically ordered.\n",
      "  epochs = mne.concatenate_epochs([epochs, rest_epochs], add_offset=False)\n"
     ]
    },
    {
     "name": "stdout",
     "output_type": "stream",
     "text": [
      "    Setting small MAG eigenvalues to zero (without PCA)\n",
      "Reducing data rank from 32 -> 32\n",
      "Estimating covariance using SHRINKAGE\n",
      "Done.\n",
      "Computing rank from data with rank={'eeg': 28, 'mag': 32}\n",
      "    Setting small MAG eigenvalues to zero (without PCA)\n",
      "Reducing data rank from 32 -> 32\n",
      "Estimating covariance using SHRINKAGE\n",
      "Done.\n",
      "Computing rank from data with rank={'eeg': 28, 'mag': 32}\n",
      "    Setting small MAG eigenvalues to zero (without PCA)\n",
      "Reducing data rank from 32 -> 32\n",
      "Estimating covariance using SHRINKAGE\n",
      "Done.\n",
      "Computing rank from data with rank={'eeg': 28, 'mag': 32}\n",
      "    Setting small MAG eigenvalues to zero (without PCA)\n",
      "Reducing data rank from 32 -> 32\n",
      "Estimating covariance using SHRINKAGE\n",
      "Done.\n",
      "Computing rank from data with rank={'eeg': 28, 'mag': 32}\n",
      "    Setting small MAG eigenvalues to zero (without PCA)\n",
      "Reducing data rank from 32 -> 32\n",
      "Estimating covariance using SHRINKAGE\n",
      "Done.\n",
      "Computing rank from data with rank={'eeg': 28, 'mag': 32}\n",
      "    Setting small MAG eigenvalues to zero (without PCA)\n",
      "Reducing data rank from 32 -> 32\n",
      "Estimating covariance using SHRINKAGE\n",
      "Done.\n",
      "Computing rank from data with rank={'eeg': 28, 'mag': 32}\n",
      "    Setting small MAG eigenvalues to zero (without PCA)\n",
      "Reducing data rank from 32 -> 32\n",
      "Estimating covariance using SHRINKAGE\n",
      "Done.\n",
      "Computing rank from data with rank={'eeg': 28, 'mag': 32}\n",
      "    Setting small MAG eigenvalues to zero (without PCA)\n",
      "Reducing data rank from 32 -> 32\n",
      "Estimating covariance using SHRINKAGE\n",
      "Done.\n",
      "Computing rank from data with rank={'eeg': 28, 'mag': 32}\n",
      "    Setting small MAG eigenvalues to zero (without PCA)\n",
      "Reducing data rank from 32 -> 32\n",
      "Estimating covariance using SHRINKAGE\n",
      "Done.\n",
      "Computing rank from data with rank={'eeg': 28, 'mag': 32}\n",
      "    Setting small MAG eigenvalues to zero (without PCA)\n",
      "Reducing data rank from 32 -> 32\n",
      "Estimating covariance using SHRINKAGE\n",
      "Done.\n",
      "Computing rank from data with rank={'eeg': 28, 'mag': 32}\n",
      "    Setting small MAG eigenvalues to zero (without PCA)\n",
      "Reducing data rank from 32 -> 32\n",
      "Estimating covariance using SHRINKAGE\n",
      "Done.\n",
      "Computing rank from data with rank={'eeg': 28, 'mag': 32}\n",
      "    Setting small MAG eigenvalues to zero (without PCA)\n",
      "Reducing data rank from 32 -> 32\n",
      "Estimating covariance using SHRINKAGE\n",
      "Done.\n",
      "Computing rank from data with rank={'eeg': 28, 'mag': 32}\n",
      "    Setting small MAG eigenvalues to zero (without PCA)\n",
      "Reducing data rank from 32 -> 32\n",
      "Estimating covariance using SHRINKAGE\n",
      "Done.\n",
      "Computing rank from data with rank={'eeg': 28, 'mag': 32}\n",
      "    Setting small MAG eigenvalues to zero (without PCA)\n",
      "Reducing data rank from 32 -> 32\n",
      "Estimating covariance using SHRINKAGE\n",
      "Done.\n",
      "Computing rank from data with rank={'eeg': 28, 'mag': 32}\n",
      "    Setting small MAG eigenvalues to zero (without PCA)\n",
      "Reducing data rank from 32 -> 32\n",
      "Estimating covariance using SHRINKAGE\n",
      "Done.\n",
      "Computing rank from data with rank={'eeg': 28, 'mag': 32}\n",
      "    Setting small MAG eigenvalues to zero (without PCA)\n",
      "Reducing data rank from 32 -> 32\n",
      "Estimating covariance using SHRINKAGE\n",
      "Done.\n",
      "Computing rank from data with rank={'eeg': 28, 'mag': 32}\n",
      "    Setting small MAG eigenvalues to zero (without PCA)\n",
      "Reducing data rank from 32 -> 32\n",
      "Estimating covariance using SHRINKAGE\n",
      "Done.\n",
      "Computing rank from data with rank={'eeg': 28, 'mag': 32}\n",
      "    Setting small MAG eigenvalues to zero (without PCA)\n",
      "Reducing data rank from 32 -> 32\n",
      "Estimating covariance using SHRINKAGE\n",
      "Done.\n",
      "Classifier trained!\n",
      "Subject 336 calibration\n",
      "              precision    recall  f1-score   support\n",
      "\n",
      "        Left       0.50      0.30      0.37        20\n",
      "       Right       0.40      0.30      0.34        20\n",
      "        Rest       0.57      0.75      0.65        40\n",
      "\n",
      "    accuracy                           0.53        80\n",
      "   macro avg       0.49      0.45      0.45        80\n",
      "weighted avg       0.51      0.53      0.50        80\n",
      "\n",
      "Creating RawArray with float64 data, n_channels=40, n_times=4187102\n",
      "    Range : 0 ... 4187101 =      0.000 ...  2044.483 secs\n",
      "Ready.\n",
      "EEG channel type selected for re-referencing\n",
      "Applying average reference.\n",
      "Applying a custom ('EEG',) reference.\n"
     ]
    },
    {
     "name": "stderr",
     "output_type": "stream",
     "text": [
      "D:\\RUG\\Term 2\\FYRP\\continuous_control_bci\\continuous_control_bci\\data\\load_data.py:28: RuntimeWarning: The unit for channel(s) AF3, AF4, C3, C4, CP1, CP2, CP5, CP6, Cz, F3, F4, F7, F8, FC1, FC2, FC5, FC6, Fp1, Fp2, Fz, LHEOG, LVEOG, Left-extension, Left-flexion, O1, O2, Oz, P3, P4, P7, P8, PO3, PO4, Pz, RHEOG, Right-extension, Right-flexion, T7, T8, UVEOG has changed from NA to V.\n",
      "  streams.raw.set_channel_types(CHANNEL_TYPE_MAPPING)\n"
     ]
    },
    {
     "name": "stdout",
     "output_type": "stream",
     "text": [
      "Filtering raw data in 1 contiguous segment\n",
      "Setting up band-pass filter from 5 - 35 Hz\n",
      "\n",
      "FIR filter parameters\n",
      "---------------------\n",
      "Designing a one-pass, zero-phase, non-causal bandpass filter:\n",
      "- Windowed time-domain design (firwin) method\n",
      "- Hamming window with 0.0194 passband ripple and 53 dB stopband attenuation\n",
      "- Lower passband edge: 5.00\n",
      "- Lower transition bandwidth: 2.00 Hz (-6 dB cutoff frequency: 4.00 Hz)\n",
      "- Upper passband edge: 35.00 Hz\n",
      "- Upper transition bandwidth: 8.75 Hz (-6 dB cutoff frequency: 39.38 Hz)\n",
      "- Filter length: 3381 samples (1.651 s)\n",
      "\n"
     ]
    },
    {
     "name": "stderr",
     "output_type": "stream",
     "text": [
      "[Parallel(n_jobs=1)]: Using backend SequentialBackend with 1 concurrent workers.\n",
      "[Parallel(n_jobs=1)]: Done   1 out of   1 | elapsed:    0.0s remaining:    0.0s\n",
      "[Parallel(n_jobs=1)]: Done   2 out of   2 | elapsed:    0.1s remaining:    0.0s\n",
      "[Parallel(n_jobs=1)]: Done   3 out of   3 | elapsed:    0.2s remaining:    0.0s\n",
      "[Parallel(n_jobs=1)]: Done   4 out of   4 | elapsed:    0.3s remaining:    0.0s\n",
      "[Parallel(n_jobs=1)]: Done  32 out of  32 | elapsed:    2.9s finished\n"
     ]
    },
    {
     "name": "stdout",
     "output_type": "stream",
     "text": [
      "Reading D:/RUG/Term 2/FYRP/data/ica/P336-calibration-ica.fif ...\n",
      "Now restoring ICA solution ...\n",
      "Ready.\n",
      "Applying ICA to Raw instance\n",
      "    Transforming to ICA space (32 components)\n",
      "    Zeroing out 4 ICA components\n",
      "    Projecting back using 32 PCA components\n",
      "Not setting metadata\n",
      "10222 matching events found\n",
      "No baseline correction applied\n",
      "0 projection items activated\n",
      "Using data from preloaded Raw for 10222 events and 410 original time points ...\n",
      "0 bad epochs dropped\n"
     ]
    },
    {
     "name": "stderr",
     "output_type": "stream",
     "text": [
      " 33%|███▎      | 6/18 [03:39<07:03, 35.27s/it]"
     ]
    },
    {
     "name": "stdout",
     "output_type": "stream",
     "text": [
      "Transfer performance\n",
      "              precision    recall  f1-score   support\n",
      "\n",
      "        Left       0.41      0.06      0.11      3977\n",
      "       Right       0.28      0.05      0.09      2914\n",
      "        Rest       0.33      0.89      0.48      3331\n",
      "\n",
      "    accuracy                           0.33     10222\n",
      "   macro avg       0.34      0.33      0.22     10222\n",
      "weighted avg       0.34      0.33      0.22     10222\n",
      "\n",
      "Extracting EDF parameters from D:\\RUG\\Term 2\\FYRP\\data\\ivo_data\\sub-P381\\motor-imagery-csp-381-acquisition-[2024.02.09-09.37.02].gdf...\n",
      "GDF file detected\n",
      "Setting channel info structure...\n",
      "Could not determine channel type of the following channels, they will be set as EEG:\n",
      "Channel 1, Channel 2, Channel 3, Channel 4, Channel 5, Channel 6, Channel 7, Channel 8, Channel 9, Channel 10, Channel 11, Channel 12, Channel 13, Channel 14, Channel 15, Channel 16, Channel 17, Channel 18, Channel 19, Channel 20, Channel 21, Channel 22, Channel 23, Channel 24, Channel 25, Channel 26, Channel 27, Channel 28, Channel 29, Channel 30, Channel 31, Channel 32, EX 1, EX 2, EX 3, EX 4, EX 5, EX 6, EX 7, EX 8\n",
      "Creating raw.info structure...\n",
      "Reading 0 ... 882655  =      0.000 ...   430.984 secs...\n",
      "EEG channel type selected for re-referencing\n",
      "Applying average reference.\n",
      "Applying a custom ('EEG',) reference.\n",
      "Filtering raw data in 1 contiguous segment\n",
      "Setting up band-pass filter from 5 - 35 Hz\n",
      "\n",
      "FIR filter parameters\n",
      "---------------------\n",
      "Designing a one-pass, zero-phase, non-causal bandpass filter:\n",
      "- Windowed time-domain design (firwin) method\n",
      "- Hamming window with 0.0194 passband ripple and 53 dB stopband attenuation\n",
      "- Lower passband edge: 5.00\n",
      "- Lower transition bandwidth: 2.00 Hz (-6 dB cutoff frequency: 4.00 Hz)\n",
      "- Upper passband edge: 35.00 Hz\n",
      "- Upper transition bandwidth: 8.75 Hz (-6 dB cutoff frequency: 39.38 Hz)\n",
      "- Filter length: 3381 samples (1.651 s)\n",
      "\n"
     ]
    },
    {
     "name": "stderr",
     "output_type": "stream",
     "text": [
      "[Parallel(n_jobs=1)]: Using backend SequentialBackend with 1 concurrent workers.\n",
      "[Parallel(n_jobs=1)]: Done   1 out of   1 | elapsed:    0.0s remaining:    0.0s\n",
      "[Parallel(n_jobs=1)]: Done   2 out of   2 | elapsed:    0.0s remaining:    0.0s\n",
      "[Parallel(n_jobs=1)]: Done   3 out of   3 | elapsed:    0.0s remaining:    0.0s\n",
      "[Parallel(n_jobs=1)]: Done   4 out of   4 | elapsed:    0.0s remaining:    0.0s\n"
     ]
    },
    {
     "name": "stdout",
     "output_type": "stream",
     "text": [
      "Reading D:/RUG/Term 2/FYRP/data/ica/P381-calibration-ica.fif ...\n",
      "Now restoring ICA solution ...\n",
      "Ready.\n",
      "Applying ICA to Raw instance\n",
      "    Transforming to ICA space (32 components)\n",
      "    Zeroing out 3 ICA components\n",
      "    Projecting back using 32 PCA components\n"
     ]
    },
    {
     "name": "stderr",
     "output_type": "stream",
     "text": [
      "[Parallel(n_jobs=1)]: Done  32 out of  32 | elapsed:    0.4s finished\n"
     ]
    },
    {
     "name": "stdout",
     "output_type": "stream",
     "text": [
      "Used Annotations descriptions: ['769', '770']\n",
      "Not setting metadata\n",
      "40 matching events found\n",
      "No baseline correction applied\n",
      "0 projection items activated\n",
      "Using data from preloaded Raw for 40 events and 7681 original time points ...\n",
      "    Rejecting  epoch based on EEG : ['O2']\n",
      "1 bad epochs dropped\n",
      "Used Annotations descriptions: ['800']\n",
      "Not setting metadata\n",
      "40 matching events found\n",
      "No baseline correction applied\n",
      "0 projection items activated\n",
      "Using data from preloaded Raw for 40 events and 7681 original time points ...\n",
      "    Rejecting  epoch based on EEG : ['FC6', 'Fp2']\n",
      "    Rejecting  epoch based on EEG : ['F7', 'Fp2']\n",
      "    Rejecting  epoch based on EEG : ['F7', 'Fp2']\n",
      "3 bad epochs dropped\n",
      "Not setting metadata\n",
      "76 matching events found\n",
      "No baseline correction applied\n",
      "Training classifier. This may take a while..\n"
     ]
    },
    {
     "name": "stderr",
     "output_type": "stream",
     "text": [
      "D:\\RUG\\Term 2\\FYRP\\continuous_control_bci\\continuous_control_bci\\data\\preprocessing.py:83: RuntimeWarning: Concatenation of Annotations within Epochs is not supported yet. All annotations will be dropped.\n",
      "  epochs = mne.concatenate_epochs([epochs, rest_epochs], add_offset=False)\n",
      "D:\\RUG\\Term 2\\FYRP\\continuous_control_bci\\continuous_control_bci\\data\\preprocessing.py:83: RuntimeWarning: The events passed to the Epochs constructor are not chronologically ordered.\n",
      "  epochs = mne.concatenate_epochs([epochs, rest_epochs], add_offset=False)\n"
     ]
    },
    {
     "name": "stdout",
     "output_type": "stream",
     "text": [
      "Computing rank from data with rank={'eeg': 29, 'mag': 32}\n",
      "    Setting small MAG eigenvalues to zero (without PCA)\n",
      "Reducing data rank from 32 -> 32\n",
      "Estimating covariance using SHRINKAGE\n",
      "Done.\n",
      "Computing rank from data with rank={'eeg': 29, 'mag': 32}\n",
      "    Setting small MAG eigenvalues to zero (without PCA)\n",
      "Reducing data rank from 32 -> 32\n",
      "Estimating covariance using SHRINKAGE\n",
      "Done.\n",
      "Computing rank from data with rank={'eeg': 29, 'mag': 32}\n",
      "    Setting small MAG eigenvalues to zero (without PCA)\n",
      "Reducing data rank from 32 -> 32\n",
      "Estimating covariance using SHRINKAGE\n",
      "Done.\n",
      "Computing rank from data with rank={'eeg': 29, 'mag': 32}\n",
      "    Setting small MAG eigenvalues to zero (without PCA)\n",
      "Reducing data rank from 32 -> 32\n",
      "Estimating covariance using SHRINKAGE\n",
      "Done.\n",
      "Computing rank from data with rank={'eeg': 29, 'mag': 32}\n",
      "    Setting small MAG eigenvalues to zero (without PCA)\n",
      "Reducing data rank from 32 -> 32\n",
      "Estimating covariance using SHRINKAGE\n",
      "Done.\n",
      "Computing rank from data with rank={'eeg': 29, 'mag': 32}\n",
      "    Setting small MAG eigenvalues to zero (without PCA)\n",
      "Reducing data rank from 32 -> 32\n",
      "Estimating covariance using SHRINKAGE\n",
      "Done.\n",
      "Computing rank from data with rank={'eeg': 29, 'mag': 32}\n",
      "    Setting small MAG eigenvalues to zero (without PCA)\n",
      "Reducing data rank from 32 -> 32\n",
      "Estimating covariance using SHRINKAGE\n",
      "Done.\n",
      "Computing rank from data with rank={'eeg': 29, 'mag': 32}\n",
      "    Setting small MAG eigenvalues to zero (without PCA)\n",
      "Reducing data rank from 32 -> 32\n",
      "Estimating covariance using SHRINKAGE\n",
      "Done.\n",
      "Computing rank from data with rank={'eeg': 29, 'mag': 32}\n",
      "    Setting small MAG eigenvalues to zero (without PCA)\n",
      "Reducing data rank from 32 -> 32\n",
      "Estimating covariance using SHRINKAGE\n",
      "Done.\n",
      "Computing rank from data with rank={'eeg': 29, 'mag': 32}\n",
      "    Setting small MAG eigenvalues to zero (without PCA)\n",
      "Reducing data rank from 32 -> 32\n",
      "Estimating covariance using SHRINKAGE\n",
      "Done.\n",
      "Computing rank from data with rank={'eeg': 29, 'mag': 32}\n",
      "    Setting small MAG eigenvalues to zero (without PCA)\n",
      "Reducing data rank from 32 -> 32\n",
      "Estimating covariance using SHRINKAGE\n",
      "Done.\n",
      "Computing rank from data with rank={'eeg': 29, 'mag': 32}\n",
      "    Setting small MAG eigenvalues to zero (without PCA)\n",
      "Reducing data rank from 32 -> 32\n",
      "Estimating covariance using SHRINKAGE\n",
      "Done.\n",
      "Computing rank from data with rank={'eeg': 29, 'mag': 32}\n",
      "    Setting small MAG eigenvalues to zero (without PCA)\n",
      "Reducing data rank from 32 -> 32\n",
      "Estimating covariance using SHRINKAGE\n",
      "Done.\n",
      "Computing rank from data with rank={'eeg': 29, 'mag': 32}\n",
      "    Setting small MAG eigenvalues to zero (without PCA)\n",
      "Reducing data rank from 32 -> 32\n",
      "Estimating covariance using SHRINKAGE\n",
      "Done.\n",
      "Computing rank from data with rank={'eeg': 29, 'mag': 32}\n",
      "    Setting small MAG eigenvalues to zero (without PCA)\n",
      "Reducing data rank from 32 -> 32\n",
      "Estimating covariance using SHRINKAGE\n",
      "Done.\n",
      "Computing rank from data with rank={'eeg': 29, 'mag': 32}\n",
      "    Setting small MAG eigenvalues to zero (without PCA)\n",
      "Reducing data rank from 32 -> 32\n",
      "Estimating covariance using SHRINKAGE\n",
      "Done.\n",
      "Computing rank from data with rank={'eeg': 29, 'mag': 32}\n",
      "    Setting small MAG eigenvalues to zero (without PCA)\n",
      "Reducing data rank from 32 -> 32\n",
      "Estimating covariance using SHRINKAGE\n",
      "Done.\n",
      "Computing rank from data with rank={'eeg': 29, 'mag': 32}\n",
      "    Setting small MAG eigenvalues to zero (without PCA)\n",
      "Reducing data rank from 32 -> 32\n",
      "Estimating covariance using SHRINKAGE\n",
      "Done.\n",
      "Classifier trained!\n",
      "Subject 381 calibration\n",
      "              precision    recall  f1-score   support\n",
      "\n",
      "        Left       1.00      0.90      0.95        20\n",
      "       Right       0.84      0.84      0.84        19\n",
      "        Rest       0.87      0.92      0.89        37\n",
      "\n",
      "    accuracy                           0.89        76\n",
      "   macro avg       0.90      0.89      0.89        76\n",
      "weighted avg       0.90      0.89      0.90        76\n",
      "\n",
      "Creating RawArray with float64 data, n_channels=40, n_times=5313379\n",
      "    Range : 0 ... 5313378 =      0.000 ...  2594.423 secs\n",
      "Ready.\n",
      "EEG channel type selected for re-referencing\n",
      "Applying average reference.\n",
      "Applying a custom ('EEG',) reference.\n"
     ]
    },
    {
     "name": "stderr",
     "output_type": "stream",
     "text": [
      "D:\\RUG\\Term 2\\FYRP\\continuous_control_bci\\continuous_control_bci\\data\\load_data.py:28: RuntimeWarning: The unit for channel(s) AF3, AF4, C3, C4, CP1, CP2, CP5, CP6, Cz, F3, F4, F7, F8, FC1, FC2, FC5, FC6, Fp1, Fp2, Fz, LHEOG, LVEOG, Left-extension, Left-flexion, O1, O2, Oz, P3, P4, P7, P8, PO3, PO4, Pz, RHEOG, Right-extension, Right-flexion, T7, T8, UVEOG has changed from NA to V.\n",
      "  streams.raw.set_channel_types(CHANNEL_TYPE_MAPPING)\n"
     ]
    },
    {
     "name": "stdout",
     "output_type": "stream",
     "text": [
      "Filtering raw data in 1 contiguous segment\n",
      "Setting up band-pass filter from 5 - 35 Hz\n",
      "\n",
      "FIR filter parameters\n",
      "---------------------\n",
      "Designing a one-pass, zero-phase, non-causal bandpass filter:\n",
      "- Windowed time-domain design (firwin) method\n",
      "- Hamming window with 0.0194 passband ripple and 53 dB stopband attenuation\n",
      "- Lower passband edge: 5.00\n",
      "- Lower transition bandwidth: 2.00 Hz (-6 dB cutoff frequency: 4.00 Hz)\n",
      "- Upper passband edge: 35.00 Hz\n",
      "- Upper transition bandwidth: 8.75 Hz (-6 dB cutoff frequency: 39.38 Hz)\n",
      "- Filter length: 3381 samples (1.651 s)\n",
      "\n"
     ]
    },
    {
     "name": "stderr",
     "output_type": "stream",
     "text": [
      "[Parallel(n_jobs=1)]: Using backend SequentialBackend with 1 concurrent workers.\n",
      "[Parallel(n_jobs=1)]: Done   1 out of   1 | elapsed:    0.0s remaining:    0.0s\n",
      "[Parallel(n_jobs=1)]: Done   2 out of   2 | elapsed:    0.2s remaining:    0.0s\n",
      "[Parallel(n_jobs=1)]: Done   3 out of   3 | elapsed:    0.3s remaining:    0.0s\n",
      "[Parallel(n_jobs=1)]: Done   4 out of   4 | elapsed:    0.4s remaining:    0.0s\n",
      "[Parallel(n_jobs=1)]: Done  32 out of  32 | elapsed:    3.9s finished\n"
     ]
    },
    {
     "name": "stdout",
     "output_type": "stream",
     "text": [
      "Reading D:/RUG/Term 2/FYRP/data/ica/P381-calibration-ica.fif ...\n",
      "Now restoring ICA solution ...\n",
      "Ready.\n",
      "Applying ICA to Raw instance\n",
      "    Transforming to ICA space (32 components)\n",
      "    Zeroing out 3 ICA components\n",
      "    Projecting back using 32 PCA components\n",
      "Not setting metadata\n",
      "12972 matching events found\n",
      "No baseline correction applied\n",
      "0 projection items activated\n",
      "Using data from preloaded Raw for 12972 events and 410 original time points ...\n",
      "0 bad epochs dropped\n"
     ]
    },
    {
     "name": "stderr",
     "output_type": "stream",
     "text": [
      " 39%|███▉      | 7/18 [04:16<06:33, 35.78s/it]"
     ]
    },
    {
     "name": "stdout",
     "output_type": "stream",
     "text": [
      "Transfer performance\n",
      "              precision    recall  f1-score   support\n",
      "\n",
      "        Left       0.56      0.72      0.63      4339\n",
      "       Right       0.48      0.65      0.56      2722\n",
      "        Rest       0.54      0.34      0.41      5911\n",
      "\n",
      "    accuracy                           0.53     12972\n",
      "   macro avg       0.53      0.57      0.53     12972\n",
      "weighted avg       0.53      0.53      0.52     12972\n",
      "\n",
      "Extracting EDF parameters from D:\\RUG\\Term 2\\FYRP\\data\\ivo_data\\sub-P406\\motor-imagery-csp-406-acquisition-[2024.02.06-11.06.31].gdf...\n",
      "GDF file detected\n",
      "Setting channel info structure...\n",
      "Could not determine channel type of the following channels, they will be set as EEG:\n",
      "Channel 1, Channel 2, Channel 3, Channel 4, Channel 5, Channel 6, Channel 7, Channel 8, Channel 9, Channel 10, Channel 11, Channel 12, Channel 13, Channel 14, Channel 15, Channel 16, Channel 17, Channel 18, Channel 19, Channel 20, Channel 21, Channel 22, Channel 23, Channel 24, Channel 25, Channel 26, Channel 27, Channel 28, Channel 29, Channel 30, Channel 31, Channel 32, EX 1, EX 2, EX 3, EX 4, EX 5, EX 6, EX 7, EX 8\n",
      "Creating raw.info structure...\n",
      "Reading 0 ... 882783  =      0.000 ...   431.046 secs...\n",
      "EEG channel type selected for re-referencing\n",
      "Applying average reference.\n",
      "Applying a custom ('EEG',) reference.\n",
      "Filtering raw data in 1 contiguous segment\n",
      "Setting up band-pass filter from 5 - 35 Hz\n",
      "\n",
      "FIR filter parameters\n",
      "---------------------\n",
      "Designing a one-pass, zero-phase, non-causal bandpass filter:\n",
      "- Windowed time-domain design (firwin) method\n",
      "- Hamming window with 0.0194 passband ripple and 53 dB stopband attenuation\n",
      "- Lower passband edge: 5.00\n",
      "- Lower transition bandwidth: 2.00 Hz (-6 dB cutoff frequency: 4.00 Hz)\n",
      "- Upper passband edge: 35.00 Hz\n",
      "- Upper transition bandwidth: 8.75 Hz (-6 dB cutoff frequency: 39.38 Hz)\n",
      "- Filter length: 3381 samples (1.651 s)\n",
      "\n"
     ]
    },
    {
     "name": "stderr",
     "output_type": "stream",
     "text": [
      "[Parallel(n_jobs=1)]: Using backend SequentialBackend with 1 concurrent workers.\n",
      "[Parallel(n_jobs=1)]: Done   1 out of   1 | elapsed:    0.0s remaining:    0.0s\n",
      "[Parallel(n_jobs=1)]: Done   2 out of   2 | elapsed:    0.0s remaining:    0.0s\n",
      "[Parallel(n_jobs=1)]: Done   3 out of   3 | elapsed:    0.0s remaining:    0.0s\n",
      "[Parallel(n_jobs=1)]: Done   4 out of   4 | elapsed:    0.0s remaining:    0.0s\n"
     ]
    },
    {
     "name": "stdout",
     "output_type": "stream",
     "text": [
      "Reading D:/RUG/Term 2/FYRP/data/ica/P406-calibration-ica.fif ...\n",
      "Now restoring ICA solution ...\n",
      "Ready.\n",
      "Applying ICA to Raw instance\n",
      "    Transforming to ICA space (32 components)\n",
      "    Zeroing out 5 ICA components\n",
      "    Projecting back using 32 PCA components\n"
     ]
    },
    {
     "name": "stderr",
     "output_type": "stream",
     "text": [
      "[Parallel(n_jobs=1)]: Done  32 out of  32 | elapsed:    0.5s finished\n"
     ]
    },
    {
     "name": "stdout",
     "output_type": "stream",
     "text": [
      "Used Annotations descriptions: ['769', '770']\n",
      "Not setting metadata\n",
      "40 matching events found\n",
      "No baseline correction applied\n",
      "0 projection items activated\n",
      "Using data from preloaded Raw for 40 events and 7681 original time points ...\n",
      "    Rejecting  epoch based on EEG : ['Oz', 'O2']\n",
      "    Rejecting  epoch based on EEG : ['O2']\n",
      "    Rejecting  epoch based on EEG : ['O2']\n",
      "3 bad epochs dropped\n",
      "Used Annotations descriptions: ['800']\n",
      "Not setting metadata\n",
      "40 matching events found\n",
      "No baseline correction applied\n",
      "0 projection items activated\n",
      "Using data from preloaded Raw for 40 events and 7681 original time points ...\n",
      "    Rejecting  epoch based on EEG : ['O1']\n",
      "    Rejecting  epoch based on EEG : ['O2']\n",
      "    Rejecting  epoch based on EEG : ['O2']\n",
      "    Rejecting  epoch based on EEG : ['O2']\n",
      "    Rejecting  epoch based on EEG : ['Oz', 'O2']\n",
      "    Rejecting  epoch based on EEG : ['Pz', 'PO3', 'O1', 'Oz', 'O2', 'PO4']\n",
      "    Rejecting  epoch based on EEG : ['O2']\n",
      "7 bad epochs dropped\n",
      "Not setting metadata\n",
      "70 matching events found\n",
      "No baseline correction applied\n",
      "Training classifier. This may take a while..\n"
     ]
    },
    {
     "name": "stderr",
     "output_type": "stream",
     "text": [
      "D:\\RUG\\Term 2\\FYRP\\continuous_control_bci\\continuous_control_bci\\data\\preprocessing.py:83: RuntimeWarning: Concatenation of Annotations within Epochs is not supported yet. All annotations will be dropped.\n",
      "  epochs = mne.concatenate_epochs([epochs, rest_epochs], add_offset=False)\n",
      "D:\\RUG\\Term 2\\FYRP\\continuous_control_bci\\continuous_control_bci\\data\\preprocessing.py:83: RuntimeWarning: The events passed to the Epochs constructor are not chronologically ordered.\n",
      "  epochs = mne.concatenate_epochs([epochs, rest_epochs], add_offset=False)\n"
     ]
    },
    {
     "name": "stdout",
     "output_type": "stream",
     "text": [
      "Computing rank from data with rank={'eeg': 27, 'mag': 32}\n",
      "    Setting small MAG eigenvalues to zero (without PCA)\n",
      "Reducing data rank from 32 -> 32\n",
      "Estimating covariance using SHRINKAGE\n",
      "Done.\n",
      "Computing rank from data with rank={'eeg': 27, 'mag': 32}\n",
      "    Setting small MAG eigenvalues to zero (without PCA)\n",
      "Reducing data rank from 32 -> 32\n",
      "Estimating covariance using SHRINKAGE\n",
      "Done.\n",
      "Computing rank from data with rank={'eeg': 27, 'mag': 32}\n",
      "    Setting small MAG eigenvalues to zero (without PCA)\n",
      "Reducing data rank from 32 -> 32\n",
      "Estimating covariance using SHRINKAGE\n",
      "Done.\n",
      "Computing rank from data with rank={'eeg': 27, 'mag': 32}\n",
      "    Setting small MAG eigenvalues to zero (without PCA)\n",
      "Reducing data rank from 32 -> 32\n",
      "Estimating covariance using SHRINKAGE\n",
      "Done.\n",
      "Computing rank from data with rank={'eeg': 27, 'mag': 32}\n",
      "    Setting small MAG eigenvalues to zero (without PCA)\n",
      "Reducing data rank from 32 -> 32\n",
      "Estimating covariance using SHRINKAGE\n",
      "Done.\n",
      "Computing rank from data with rank={'eeg': 27, 'mag': 32}\n",
      "    Setting small MAG eigenvalues to zero (without PCA)\n",
      "Reducing data rank from 32 -> 32\n",
      "Estimating covariance using SHRINKAGE\n",
      "Done.\n",
      "Computing rank from data with rank={'eeg': 27, 'mag': 32}\n",
      "    Setting small MAG eigenvalues to zero (without PCA)\n",
      "Reducing data rank from 32 -> 32\n",
      "Estimating covariance using SHRINKAGE\n",
      "Done.\n",
      "Computing rank from data with rank={'eeg': 27, 'mag': 32}\n",
      "    Setting small MAG eigenvalues to zero (without PCA)\n",
      "Reducing data rank from 32 -> 32\n",
      "Estimating covariance using SHRINKAGE\n",
      "Done.\n",
      "Computing rank from data with rank={'eeg': 27, 'mag': 32}\n",
      "    Setting small MAG eigenvalues to zero (without PCA)\n",
      "Reducing data rank from 32 -> 32\n",
      "Estimating covariance using SHRINKAGE\n",
      "Done.\n",
      "Computing rank from data with rank={'eeg': 27, 'mag': 32}\n",
      "    Setting small MAG eigenvalues to zero (without PCA)\n",
      "Reducing data rank from 32 -> 32\n",
      "Estimating covariance using SHRINKAGE\n",
      "Done.\n",
      "Computing rank from data with rank={'eeg': 27, 'mag': 32}\n",
      "    Setting small MAG eigenvalues to zero (without PCA)\n",
      "Reducing data rank from 32 -> 32\n",
      "Estimating covariance using SHRINKAGE\n",
      "Done.\n",
      "Computing rank from data with rank={'eeg': 27, 'mag': 32}\n",
      "    Setting small MAG eigenvalues to zero (without PCA)\n",
      "Reducing data rank from 32 -> 32\n",
      "Estimating covariance using SHRINKAGE\n",
      "Done.\n",
      "Computing rank from data with rank={'eeg': 27, 'mag': 32}\n",
      "    Setting small MAG eigenvalues to zero (without PCA)\n",
      "Reducing data rank from 32 -> 32\n",
      "Estimating covariance using SHRINKAGE\n",
      "Done.\n",
      "Computing rank from data with rank={'eeg': 27, 'mag': 32}\n",
      "    Setting small MAG eigenvalues to zero (without PCA)\n",
      "Reducing data rank from 32 -> 32\n",
      "Estimating covariance using SHRINKAGE\n",
      "Done.\n",
      "Computing rank from data with rank={'eeg': 27, 'mag': 32}\n",
      "    Setting small MAG eigenvalues to zero (without PCA)\n",
      "Reducing data rank from 32 -> 32\n",
      "Estimating covariance using SHRINKAGE\n",
      "Done.\n",
      "Computing rank from data with rank={'eeg': 27, 'mag': 32}\n",
      "    Setting small MAG eigenvalues to zero (without PCA)\n",
      "Reducing data rank from 32 -> 32\n",
      "Estimating covariance using SHRINKAGE\n",
      "Done.\n",
      "Computing rank from data with rank={'eeg': 27, 'mag': 32}\n",
      "    Setting small MAG eigenvalues to zero (without PCA)\n",
      "Reducing data rank from 32 -> 32\n",
      "Estimating covariance using SHRINKAGE\n",
      "Done.\n",
      "Computing rank from data with rank={'eeg': 27, 'mag': 32}\n",
      "    Setting small MAG eigenvalues to zero (without PCA)\n",
      "Reducing data rank from 32 -> 32\n",
      "Estimating covariance using SHRINKAGE\n",
      "Done.\n",
      "Classifier trained!\n",
      "Subject 406 calibration\n",
      "              precision    recall  f1-score   support\n",
      "\n",
      "        Left       0.71      0.83      0.77        18\n",
      "       Right       0.67      0.42      0.52        19\n",
      "        Rest       0.68      0.76      0.71        33\n",
      "\n",
      "    accuracy                           0.69        70\n",
      "   macro avg       0.69      0.67      0.67        70\n",
      "weighted avg       0.68      0.69      0.67        70\n",
      "\n",
      "Creating RawArray with float64 data, n_channels=40, n_times=5191549\n",
      "    Range : 0 ... 5191548 =      0.000 ...  2534.936 secs\n",
      "Ready.\n",
      "EEG channel type selected for re-referencing\n",
      "Applying average reference.\n",
      "Applying a custom ('EEG',) reference.\n"
     ]
    },
    {
     "name": "stderr",
     "output_type": "stream",
     "text": [
      "D:\\RUG\\Term 2\\FYRP\\continuous_control_bci\\continuous_control_bci\\data\\load_data.py:28: RuntimeWarning: The unit for channel(s) AF3, AF4, C3, C4, CP1, CP2, CP5, CP6, Cz, F3, F4, F7, F8, FC1, FC2, FC5, FC6, Fp1, Fp2, Fz, LHEOG, LVEOG, Left-extension, Left-flexion, O1, O2, Oz, P3, P4, P7, P8, PO3, PO4, Pz, RHEOG, Right-extension, Right-flexion, T7, T8, UVEOG has changed from NA to V.\n",
      "  streams.raw.set_channel_types(CHANNEL_TYPE_MAPPING)\n"
     ]
    },
    {
     "name": "stdout",
     "output_type": "stream",
     "text": [
      "Filtering raw data in 1 contiguous segment\n",
      "Setting up band-pass filter from 5 - 35 Hz\n",
      "\n",
      "FIR filter parameters\n",
      "---------------------\n",
      "Designing a one-pass, zero-phase, non-causal bandpass filter:\n",
      "- Windowed time-domain design (firwin) method\n",
      "- Hamming window with 0.0194 passband ripple and 53 dB stopband attenuation\n",
      "- Lower passband edge: 5.00\n",
      "- Lower transition bandwidth: 2.00 Hz (-6 dB cutoff frequency: 4.00 Hz)\n",
      "- Upper passband edge: 35.00 Hz\n",
      "- Upper transition bandwidth: 8.75 Hz (-6 dB cutoff frequency: 39.38 Hz)\n",
      "- Filter length: 3381 samples (1.651 s)\n",
      "\n"
     ]
    },
    {
     "name": "stderr",
     "output_type": "stream",
     "text": [
      "[Parallel(n_jobs=1)]: Using backend SequentialBackend with 1 concurrent workers.\n",
      "[Parallel(n_jobs=1)]: Done   1 out of   1 | elapsed:    0.0s remaining:    0.0s\n",
      "[Parallel(n_jobs=1)]: Done   2 out of   2 | elapsed:    0.1s remaining:    0.0s\n",
      "[Parallel(n_jobs=1)]: Done   3 out of   3 | elapsed:    0.3s remaining:    0.0s\n",
      "[Parallel(n_jobs=1)]: Done   4 out of   4 | elapsed:    0.4s remaining:    0.0s\n",
      "[Parallel(n_jobs=1)]: Done  32 out of  32 | elapsed:    3.9s finished\n"
     ]
    },
    {
     "name": "stdout",
     "output_type": "stream",
     "text": [
      "Reading D:/RUG/Term 2/FYRP/data/ica/P406-calibration-ica.fif ...\n",
      "Now restoring ICA solution ...\n",
      "Ready.\n",
      "Applying ICA to Raw instance\n",
      "    Transforming to ICA space (32 components)\n",
      "    Zeroing out 5 ICA components\n",
      "    Projecting back using 32 PCA components\n",
      "Not setting metadata\n",
      "12674 matching events found\n",
      "No baseline correction applied\n",
      "0 projection items activated\n",
      "Using data from preloaded Raw for 12674 events and 410 original time points ...\n",
      "0 bad epochs dropped\n"
     ]
    },
    {
     "name": "stderr",
     "output_type": "stream",
     "text": [
      " 44%|████▍     | 8/18 [04:51<05:54, 35.44s/it]"
     ]
    },
    {
     "name": "stdout",
     "output_type": "stream",
     "text": [
      "Transfer performance\n",
      "              precision    recall  f1-score   support\n",
      "\n",
      "        Left       0.40      0.66      0.49      3873\n",
      "       Right       0.45      0.38      0.41      2561\n",
      "        Rest       0.53      0.34      0.42      6240\n",
      "\n",
      "    accuracy                           0.45     12674\n",
      "   macro avg       0.46      0.46      0.44     12674\n",
      "weighted avg       0.47      0.45      0.44     12674\n",
      "\n",
      "Extracting EDF parameters from D:\\RUG\\Term 2\\FYRP\\data\\ivo_data\\sub-P530\\motor-imagery-csp-530-acquisition-[2024.02.02-12.04.47].gdf...\n",
      "GDF file detected\n",
      "Setting channel info structure...\n",
      "Could not determine channel type of the following channels, they will be set as EEG:\n",
      "Channel 1, Channel 2, Channel 3, Channel 4, Channel 5, Channel 6, Channel 7, Channel 8, Channel 9, Channel 10, Channel 11, Channel 12, Channel 13, Channel 14, Channel 15, Channel 16, Channel 17, Channel 18, Channel 19, Channel 20, Channel 21, Channel 22, Channel 23, Channel 24, Channel 25, Channel 26, Channel 27, Channel 28, Channel 29, Channel 30, Channel 31, Channel 32, EX 1, EX 2, EX 3, EX 4, EX 5, EX 6, EX 7, EX 8\n",
      "Creating raw.info structure...\n",
      "Reading 0 ... 882783  =      0.000 ...   431.046 secs...\n",
      "EEG channel type selected for re-referencing\n",
      "Applying average reference.\n",
      "Applying a custom ('EEG',) reference.\n",
      "Filtering raw data in 1 contiguous segment\n",
      "Setting up band-pass filter from 5 - 35 Hz\n",
      "\n",
      "FIR filter parameters\n",
      "---------------------\n",
      "Designing a one-pass, zero-phase, non-causal bandpass filter:\n",
      "- Windowed time-domain design (firwin) method\n",
      "- Hamming window with 0.0194 passband ripple and 53 dB stopband attenuation\n",
      "- Lower passband edge: 5.00\n",
      "- Lower transition bandwidth: 2.00 Hz (-6 dB cutoff frequency: 4.00 Hz)\n",
      "- Upper passband edge: 35.00 Hz\n",
      "- Upper transition bandwidth: 8.75 Hz (-6 dB cutoff frequency: 39.38 Hz)\n",
      "- Filter length: 3381 samples (1.651 s)\n",
      "\n"
     ]
    },
    {
     "name": "stderr",
     "output_type": "stream",
     "text": [
      "[Parallel(n_jobs=1)]: Using backend SequentialBackend with 1 concurrent workers.\n",
      "[Parallel(n_jobs=1)]: Done   1 out of   1 | elapsed:    0.0s remaining:    0.0s\n",
      "[Parallel(n_jobs=1)]: Done   2 out of   2 | elapsed:    0.0s remaining:    0.0s\n",
      "[Parallel(n_jobs=1)]: Done   3 out of   3 | elapsed:    0.0s remaining:    0.0s\n",
      "[Parallel(n_jobs=1)]: Done   4 out of   4 | elapsed:    0.0s remaining:    0.0s\n"
     ]
    },
    {
     "name": "stdout",
     "output_type": "stream",
     "text": [
      "Reading D:/RUG/Term 2/FYRP/data/ica/P530-calibration-ica.fif ...\n",
      "Now restoring ICA solution ...\n",
      "Ready.\n",
      "Applying ICA to Raw instance\n",
      "    Transforming to ICA space (32 components)\n",
      "    Zeroing out 7 ICA components\n",
      "    Projecting back using 32 PCA components\n"
     ]
    },
    {
     "name": "stderr",
     "output_type": "stream",
     "text": [
      "[Parallel(n_jobs=1)]: Done  32 out of  32 | elapsed:    0.4s finished\n"
     ]
    },
    {
     "name": "stdout",
     "output_type": "stream",
     "text": [
      "Used Annotations descriptions: ['769', '770']\n",
      "Not setting metadata\n",
      "40 matching events found\n",
      "No baseline correction applied\n",
      "0 projection items activated\n",
      "Using data from preloaded Raw for 40 events and 7681 original time points ...\n",
      "    Rejecting  epoch based on EEG : ['Fp1', 'C4', 'T8', 'FC6', 'F4']\n",
      "1 bad epochs dropped\n",
      "Used Annotations descriptions: ['800']\n",
      "Not setting metadata\n",
      "40 matching events found\n",
      "No baseline correction applied\n",
      "0 projection items activated\n",
      "Using data from preloaded Raw for 40 events and 7681 original time points ...\n",
      "0 bad epochs dropped\n",
      "Not setting metadata\n",
      "79 matching events found\n",
      "No baseline correction applied\n",
      "Training classifier. This may take a while..\n"
     ]
    },
    {
     "name": "stderr",
     "output_type": "stream",
     "text": [
      "D:\\RUG\\Term 2\\FYRP\\continuous_control_bci\\continuous_control_bci\\data\\preprocessing.py:83: RuntimeWarning: Concatenation of Annotations within Epochs is not supported yet. All annotations will be dropped.\n",
      "  epochs = mne.concatenate_epochs([epochs, rest_epochs], add_offset=False)\n",
      "D:\\RUG\\Term 2\\FYRP\\continuous_control_bci\\continuous_control_bci\\data\\preprocessing.py:83: RuntimeWarning: The events passed to the Epochs constructor are not chronologically ordered.\n",
      "  epochs = mne.concatenate_epochs([epochs, rest_epochs], add_offset=False)\n"
     ]
    },
    {
     "name": "stdout",
     "output_type": "stream",
     "text": [
      "Computing rank from data with rank={'eeg': 25, 'mag': 32}\n",
      "    Setting small MAG eigenvalues to zero (without PCA)\n",
      "Reducing data rank from 32 -> 32\n",
      "Estimating covariance using SHRINKAGE\n",
      "Done.\n",
      "Computing rank from data with rank={'eeg': 25, 'mag': 32}\n",
      "    Setting small MAG eigenvalues to zero (without PCA)\n",
      "Reducing data rank from 32 -> 32\n",
      "Estimating covariance using SHRINKAGE\n",
      "Done.\n",
      "Computing rank from data with rank={'eeg': 25, 'mag': 32}\n",
      "    Setting small MAG eigenvalues to zero (without PCA)\n",
      "Reducing data rank from 32 -> 32\n",
      "Estimating covariance using SHRINKAGE\n",
      "Done.\n",
      "Computing rank from data with rank={'eeg': 25, 'mag': 32}\n",
      "    Setting small MAG eigenvalues to zero (without PCA)\n",
      "Reducing data rank from 32 -> 32\n",
      "Estimating covariance using SHRINKAGE\n",
      "Done.\n",
      "Computing rank from data with rank={'eeg': 25, 'mag': 32}\n",
      "    Setting small MAG eigenvalues to zero (without PCA)\n",
      "Reducing data rank from 32 -> 32\n",
      "Estimating covariance using SHRINKAGE\n",
      "Done.\n",
      "Computing rank from data with rank={'eeg': 25, 'mag': 32}\n",
      "    Setting small MAG eigenvalues to zero (without PCA)\n",
      "Reducing data rank from 32 -> 32\n",
      "Estimating covariance using SHRINKAGE\n",
      "Done.\n",
      "Computing rank from data with rank={'eeg': 25, 'mag': 32}\n",
      "    Setting small MAG eigenvalues to zero (without PCA)\n",
      "Reducing data rank from 32 -> 32\n",
      "Estimating covariance using SHRINKAGE\n",
      "Done.\n",
      "Computing rank from data with rank={'eeg': 25, 'mag': 32}\n",
      "    Setting small MAG eigenvalues to zero (without PCA)\n",
      "Reducing data rank from 32 -> 32\n",
      "Estimating covariance using SHRINKAGE\n",
      "Done.\n",
      "Computing rank from data with rank={'eeg': 25, 'mag': 32}\n",
      "    Setting small MAG eigenvalues to zero (without PCA)\n",
      "Reducing data rank from 32 -> 32\n",
      "Estimating covariance using SHRINKAGE\n",
      "Done.\n",
      "Computing rank from data with rank={'eeg': 25, 'mag': 32}\n",
      "    Setting small MAG eigenvalues to zero (without PCA)\n",
      "Reducing data rank from 32 -> 32\n",
      "Estimating covariance using SHRINKAGE\n",
      "Done.\n",
      "Computing rank from data with rank={'eeg': 25, 'mag': 32}\n",
      "    Setting small MAG eigenvalues to zero (without PCA)\n",
      "Reducing data rank from 32 -> 32\n",
      "Estimating covariance using SHRINKAGE\n",
      "Done.\n",
      "Computing rank from data with rank={'eeg': 25, 'mag': 32}\n",
      "    Setting small MAG eigenvalues to zero (without PCA)\n",
      "Reducing data rank from 32 -> 32\n",
      "Estimating covariance using SHRINKAGE\n",
      "Done.\n",
      "Computing rank from data with rank={'eeg': 25, 'mag': 32}\n",
      "    Setting small MAG eigenvalues to zero (without PCA)\n",
      "Reducing data rank from 32 -> 32\n",
      "Estimating covariance using SHRINKAGE\n",
      "Done.\n",
      "Computing rank from data with rank={'eeg': 25, 'mag': 32}\n",
      "    Setting small MAG eigenvalues to zero (without PCA)\n",
      "Reducing data rank from 32 -> 32\n",
      "Estimating covariance using SHRINKAGE\n",
      "Done.\n",
      "Computing rank from data with rank={'eeg': 25, 'mag': 32}\n",
      "    Setting small MAG eigenvalues to zero (without PCA)\n",
      "Reducing data rank from 32 -> 32\n",
      "Estimating covariance using SHRINKAGE\n",
      "Done.\n",
      "Computing rank from data with rank={'eeg': 25, 'mag': 32}\n",
      "    Setting small MAG eigenvalues to zero (without PCA)\n",
      "Reducing data rank from 32 -> 32\n",
      "Estimating covariance using SHRINKAGE\n",
      "Done.\n",
      "Computing rank from data with rank={'eeg': 25, 'mag': 32}\n",
      "    Setting small MAG eigenvalues to zero (without PCA)\n",
      "Reducing data rank from 32 -> 32\n",
      "Estimating covariance using SHRINKAGE\n",
      "Done.\n",
      "Computing rank from data with rank={'eeg': 25, 'mag': 32}\n",
      "    Setting small MAG eigenvalues to zero (without PCA)\n",
      "Reducing data rank from 32 -> 32\n",
      "Estimating covariance using SHRINKAGE\n",
      "Done.\n",
      "Classifier trained!\n",
      "Subject 530 calibration\n",
      "              precision    recall  f1-score   support\n",
      "\n",
      "        Left       0.80      0.60      0.69        20\n",
      "       Right       0.81      0.68      0.74        19\n",
      "        Rest       0.81      0.97      0.89        40\n",
      "\n",
      "    accuracy                           0.81        79\n",
      "   macro avg       0.81      0.75      0.77        79\n",
      "weighted avg       0.81      0.81      0.80        79\n",
      "\n",
      "Creating RawArray with float64 data, n_channels=40, n_times=3545010\n",
      "    Range : 0 ... 3545009 =      0.000 ...  1730.961 secs\n",
      "Ready.\n",
      "EEG channel type selected for re-referencing\n",
      "Applying average reference.\n",
      "Applying a custom ('EEG',) reference.\n"
     ]
    },
    {
     "name": "stderr",
     "output_type": "stream",
     "text": [
      "D:\\RUG\\Term 2\\FYRP\\continuous_control_bci\\continuous_control_bci\\data\\load_data.py:28: RuntimeWarning: The unit for channel(s) AF3, AF4, C3, C4, CP1, CP2, CP5, CP6, Cz, F3, F4, F7, F8, FC1, FC2, FC5, FC6, Fp1, Fp2, Fz, LHEOG, LVEOG, Left-extension, Left-flexion, O1, O2, Oz, P3, P4, P7, P8, PO3, PO4, Pz, RHEOG, Right-extension, Right-flexion, T7, T8, UVEOG has changed from NA to V.\n",
      "  streams.raw.set_channel_types(CHANNEL_TYPE_MAPPING)\n"
     ]
    },
    {
     "name": "stdout",
     "output_type": "stream",
     "text": [
      "Filtering raw data in 1 contiguous segment\n",
      "Setting up band-pass filter from 5 - 35 Hz\n",
      "\n",
      "FIR filter parameters\n",
      "---------------------\n",
      "Designing a one-pass, zero-phase, non-causal bandpass filter:\n",
      "- Windowed time-domain design (firwin) method\n",
      "- Hamming window with 0.0194 passband ripple and 53 dB stopband attenuation\n",
      "- Lower passband edge: 5.00\n",
      "- Lower transition bandwidth: 2.00 Hz (-6 dB cutoff frequency: 4.00 Hz)\n",
      "- Upper passband edge: 35.00 Hz\n",
      "- Upper transition bandwidth: 8.75 Hz (-6 dB cutoff frequency: 39.38 Hz)\n",
      "- Filter length: 3381 samples (1.651 s)\n",
      "\n"
     ]
    },
    {
     "name": "stderr",
     "output_type": "stream",
     "text": [
      "[Parallel(n_jobs=1)]: Using backend SequentialBackend with 1 concurrent workers.\n",
      "[Parallel(n_jobs=1)]: Done   1 out of   1 | elapsed:    0.0s remaining:    0.0s\n",
      "[Parallel(n_jobs=1)]: Done   2 out of   2 | elapsed:    0.1s remaining:    0.0s\n",
      "[Parallel(n_jobs=1)]: Done   3 out of   3 | elapsed:    0.1s remaining:    0.0s\n",
      "[Parallel(n_jobs=1)]: Done   4 out of   4 | elapsed:    0.2s remaining:    0.0s\n",
      "[Parallel(n_jobs=1)]: Done  32 out of  32 | elapsed:    2.5s finished\n"
     ]
    },
    {
     "name": "stdout",
     "output_type": "stream",
     "text": [
      "Reading D:/RUG/Term 2/FYRP/data/ica/P530-calibration-ica.fif ...\n",
      "Now restoring ICA solution ...\n",
      "Ready.\n",
      "Applying ICA to Raw instance\n",
      "    Transforming to ICA space (32 components)\n",
      "    Zeroing out 7 ICA components\n",
      "    Projecting back using 32 PCA components\n",
      "Not setting metadata\n",
      "8654 matching events found\n",
      "No baseline correction applied\n",
      "0 projection items activated\n",
      "Using data from preloaded Raw for 8654 events and 410 original time points ...\n",
      "0 bad epochs dropped\n"
     ]
    },
    {
     "name": "stderr",
     "output_type": "stream",
     "text": [
      " 50%|█████     | 9/18 [05:17<04:52, 32.55s/it]"
     ]
    },
    {
     "name": "stdout",
     "output_type": "stream",
     "text": [
      "Transfer performance\n",
      "              precision    recall  f1-score   support\n",
      "\n",
      "        Left       0.40      0.62      0.48      3111\n",
      "       Right       0.26      0.13      0.18      1941\n",
      "        Rest       0.50      0.39      0.44      3577\n",
      "\n",
      "    accuracy                           0.42      8629\n",
      "   macro avg       0.39      0.38      0.37      8629\n",
      "weighted avg       0.41      0.42      0.40      8629\n",
      "\n",
      "Extracting EDF parameters from D:\\RUG\\Term 2\\FYRP\\data\\ivo_data\\sub-P587\\motor-imagery-csp-587-acquisition-[2024.01.30-14.39.50].gdf...\n",
      "GDF file detected\n",
      "Setting channel info structure...\n",
      "Could not determine channel type of the following channels, they will be set as EEG:\n",
      "Channel 1, Channel 2, Channel 3, Channel 4, Channel 5, Channel 6, Channel 7, Channel 8, Channel 9, Channel 10, Channel 11, Channel 12, Channel 13, Channel 14, Channel 15, Channel 16, Channel 17, Channel 18, Channel 19, Channel 20, Channel 21, Channel 22, Channel 23, Channel 24, Channel 25, Channel 26, Channel 27, Channel 28, Channel 29, Channel 30, Channel 31, Channel 32, EX 1, EX 2, EX 3, EX 4, EX 5, EX 6, EX 7, EX 8\n",
      "Creating raw.info structure...\n",
      "Reading 0 ... 882687  =      0.000 ...   431.000 secs...\n",
      "EEG channel type selected for re-referencing\n",
      "Applying average reference.\n",
      "Applying a custom ('EEG',) reference.\n",
      "Filtering raw data in 1 contiguous segment\n",
      "Setting up band-pass filter from 5 - 35 Hz\n",
      "\n",
      "FIR filter parameters\n",
      "---------------------\n",
      "Designing a one-pass, zero-phase, non-causal bandpass filter:\n",
      "- Windowed time-domain design (firwin) method\n",
      "- Hamming window with 0.0194 passband ripple and 53 dB stopband attenuation\n",
      "- Lower passband edge: 5.00\n",
      "- Lower transition bandwidth: 2.00 Hz (-6 dB cutoff frequency: 4.00 Hz)\n",
      "- Upper passband edge: 35.00 Hz\n",
      "- Upper transition bandwidth: 8.75 Hz (-6 dB cutoff frequency: 39.38 Hz)\n",
      "- Filter length: 3381 samples (1.651 s)\n",
      "\n"
     ]
    },
    {
     "name": "stderr",
     "output_type": "stream",
     "text": [
      "[Parallel(n_jobs=1)]: Using backend SequentialBackend with 1 concurrent workers.\n",
      "[Parallel(n_jobs=1)]: Done   1 out of   1 | elapsed:    0.0s remaining:    0.0s\n",
      "[Parallel(n_jobs=1)]: Done   2 out of   2 | elapsed:    0.0s remaining:    0.0s\n",
      "[Parallel(n_jobs=1)]: Done   3 out of   3 | elapsed:    0.0s remaining:    0.0s\n",
      "[Parallel(n_jobs=1)]: Done   4 out of   4 | elapsed:    0.0s remaining:    0.0s\n"
     ]
    },
    {
     "name": "stdout",
     "output_type": "stream",
     "text": [
      "Reading D:/RUG/Term 2/FYRP/data/ica/P587-calibration-ica.fif ...\n",
      "Now restoring ICA solution ...\n",
      "Ready.\n",
      "Applying ICA to Raw instance\n",
      "    Transforming to ICA space (32 components)\n",
      "    Zeroing out 5 ICA components\n",
      "    Projecting back using 32 PCA components\n"
     ]
    },
    {
     "name": "stderr",
     "output_type": "stream",
     "text": [
      "[Parallel(n_jobs=1)]: Done  32 out of  32 | elapsed:    0.4s finished\n"
     ]
    },
    {
     "name": "stdout",
     "output_type": "stream",
     "text": [
      "Used Annotations descriptions: ['769', '770']\n",
      "Not setting metadata\n",
      "40 matching events found\n",
      "No baseline correction applied\n",
      "0 projection items activated\n",
      "Using data from preloaded Raw for 40 events and 7681 original time points ...\n",
      "0 bad epochs dropped\n",
      "Used Annotations descriptions: ['800']\n",
      "Not setting metadata\n",
      "40 matching events found\n",
      "No baseline correction applied\n",
      "0 projection items activated\n",
      "Using data from preloaded Raw for 40 events and 7681 original time points ...\n",
      "0 bad epochs dropped\n",
      "Not setting metadata\n",
      "80 matching events found\n",
      "No baseline correction applied\n",
      "Training classifier. This may take a while..\n"
     ]
    },
    {
     "name": "stderr",
     "output_type": "stream",
     "text": [
      "D:\\RUG\\Term 2\\FYRP\\continuous_control_bci\\continuous_control_bci\\data\\preprocessing.py:83: RuntimeWarning: Concatenation of Annotations within Epochs is not supported yet. All annotations will be dropped.\n",
      "  epochs = mne.concatenate_epochs([epochs, rest_epochs], add_offset=False)\n",
      "D:\\RUG\\Term 2\\FYRP\\continuous_control_bci\\continuous_control_bci\\data\\preprocessing.py:83: RuntimeWarning: The events passed to the Epochs constructor are not chronologically ordered.\n",
      "  epochs = mne.concatenate_epochs([epochs, rest_epochs], add_offset=False)\n"
     ]
    },
    {
     "name": "stdout",
     "output_type": "stream",
     "text": [
      "Computing rank from data with rank={'eeg': 27, 'mag': 32}\n",
      "    Setting small MAG eigenvalues to zero (without PCA)\n",
      "Reducing data rank from 32 -> 32\n",
      "Estimating covariance using SHRINKAGE\n",
      "Done.\n",
      "Computing rank from data with rank={'eeg': 27, 'mag': 32}\n",
      "    Setting small MAG eigenvalues to zero (without PCA)\n",
      "Reducing data rank from 32 -> 32\n",
      "Estimating covariance using SHRINKAGE\n",
      "Done.\n",
      "Computing rank from data with rank={'eeg': 27, 'mag': 32}\n",
      "    Setting small MAG eigenvalues to zero (without PCA)\n",
      "Reducing data rank from 32 -> 32\n",
      "Estimating covariance using SHRINKAGE\n",
      "Done.\n",
      "Computing rank from data with rank={'eeg': 27, 'mag': 32}\n",
      "    Setting small MAG eigenvalues to zero (without PCA)\n",
      "Reducing data rank from 32 -> 32\n",
      "Estimating covariance using SHRINKAGE\n",
      "Done.\n",
      "Computing rank from data with rank={'eeg': 27, 'mag': 32}\n",
      "    Setting small MAG eigenvalues to zero (without PCA)\n",
      "Reducing data rank from 32 -> 32\n",
      "Estimating covariance using SHRINKAGE\n",
      "Done.\n",
      "Computing rank from data with rank={'eeg': 27, 'mag': 32}\n",
      "    Setting small MAG eigenvalues to zero (without PCA)\n",
      "Reducing data rank from 32 -> 32\n",
      "Estimating covariance using SHRINKAGE\n",
      "Done.\n",
      "Computing rank from data with rank={'eeg': 27, 'mag': 32}\n",
      "    Setting small MAG eigenvalues to zero (without PCA)\n",
      "Reducing data rank from 32 -> 32\n",
      "Estimating covariance using SHRINKAGE\n",
      "Done.\n",
      "Computing rank from data with rank={'eeg': 27, 'mag': 32}\n",
      "    Setting small MAG eigenvalues to zero (without PCA)\n",
      "Reducing data rank from 32 -> 32\n",
      "Estimating covariance using SHRINKAGE\n",
      "Done.\n",
      "Computing rank from data with rank={'eeg': 27, 'mag': 32}\n",
      "    Setting small MAG eigenvalues to zero (without PCA)\n",
      "Reducing data rank from 32 -> 32\n",
      "Estimating covariance using SHRINKAGE\n",
      "Done.\n",
      "Computing rank from data with rank={'eeg': 27, 'mag': 32}\n",
      "    Setting small MAG eigenvalues to zero (without PCA)\n",
      "Reducing data rank from 32 -> 32\n",
      "Estimating covariance using SHRINKAGE\n",
      "Done.\n",
      "Computing rank from data with rank={'eeg': 27, 'mag': 32}\n",
      "    Setting small MAG eigenvalues to zero (without PCA)\n",
      "Reducing data rank from 32 -> 32\n",
      "Estimating covariance using SHRINKAGE\n",
      "Done.\n",
      "Computing rank from data with rank={'eeg': 27, 'mag': 32}\n",
      "    Setting small MAG eigenvalues to zero (without PCA)\n",
      "Reducing data rank from 32 -> 32\n",
      "Estimating covariance using SHRINKAGE\n",
      "Done.\n",
      "Computing rank from data with rank={'eeg': 27, 'mag': 32}\n",
      "    Setting small MAG eigenvalues to zero (without PCA)\n",
      "Reducing data rank from 32 -> 32\n",
      "Estimating covariance using SHRINKAGE\n",
      "Done.\n",
      "Computing rank from data with rank={'eeg': 27, 'mag': 32}\n",
      "    Setting small MAG eigenvalues to zero (without PCA)\n",
      "Reducing data rank from 32 -> 32\n",
      "Estimating covariance using SHRINKAGE\n",
      "Done.\n",
      "Computing rank from data with rank={'eeg': 27, 'mag': 32}\n",
      "    Setting small MAG eigenvalues to zero (without PCA)\n",
      "Reducing data rank from 32 -> 32\n",
      "Estimating covariance using SHRINKAGE\n",
      "Done.\n",
      "Computing rank from data with rank={'eeg': 27, 'mag': 32}\n",
      "    Setting small MAG eigenvalues to zero (without PCA)\n",
      "Reducing data rank from 32 -> 32\n",
      "Estimating covariance using SHRINKAGE\n",
      "Done.\n",
      "Computing rank from data with rank={'eeg': 27, 'mag': 32}\n",
      "    Setting small MAG eigenvalues to zero (without PCA)\n",
      "Reducing data rank from 32 -> 32\n",
      "Estimating covariance using SHRINKAGE\n",
      "Done.\n",
      "Computing rank from data with rank={'eeg': 27, 'mag': 32}\n",
      "    Setting small MAG eigenvalues to zero (without PCA)\n",
      "Reducing data rank from 32 -> 32\n",
      "Estimating covariance using SHRINKAGE\n",
      "Done.\n",
      "Classifier trained!\n",
      "Subject 587 calibration\n",
      "              precision    recall  f1-score   support\n",
      "\n",
      "        Left       0.47      0.35      0.40        20\n",
      "       Right       0.56      0.50      0.53        20\n",
      "        Rest       0.74      0.88      0.80        40\n",
      "\n",
      "    accuracy                           0.65        80\n",
      "   macro avg       0.59      0.58      0.58        80\n",
      "weighted avg       0.63      0.65      0.63        80\n",
      "\n",
      "Creating RawArray with float64 data, n_channels=40, n_times=5721939\n",
      "    Range : 0 ... 5721938 =      0.000 ...  2793.915 secs\n",
      "Ready.\n",
      "EEG channel type selected for re-referencing\n",
      "Applying average reference.\n",
      "Applying a custom ('EEG',) reference.\n"
     ]
    },
    {
     "name": "stderr",
     "output_type": "stream",
     "text": [
      "D:\\RUG\\Term 2\\FYRP\\continuous_control_bci\\continuous_control_bci\\data\\load_data.py:28: RuntimeWarning: The unit for channel(s) AF3, AF4, C3, C4, CP1, CP2, CP5, CP6, Cz, F3, F4, F7, F8, FC1, FC2, FC5, FC6, Fp1, Fp2, Fz, LHEOG, LVEOG, Left-extension, Left-flexion, O1, O2, Oz, P3, P4, P7, P8, PO3, PO4, Pz, RHEOG, Right-extension, Right-flexion, T7, T8, UVEOG has changed from NA to V.\n",
      "  streams.raw.set_channel_types(CHANNEL_TYPE_MAPPING)\n"
     ]
    },
    {
     "name": "stdout",
     "output_type": "stream",
     "text": [
      "Filtering raw data in 1 contiguous segment\n",
      "Setting up band-pass filter from 5 - 35 Hz\n",
      "\n",
      "FIR filter parameters\n",
      "---------------------\n",
      "Designing a one-pass, zero-phase, non-causal bandpass filter:\n",
      "- Windowed time-domain design (firwin) method\n",
      "- Hamming window with 0.0194 passband ripple and 53 dB stopband attenuation\n",
      "- Lower passband edge: 5.00\n",
      "- Lower transition bandwidth: 2.00 Hz (-6 dB cutoff frequency: 4.00 Hz)\n",
      "- Upper passband edge: 35.00 Hz\n",
      "- Upper transition bandwidth: 8.75 Hz (-6 dB cutoff frequency: 39.38 Hz)\n",
      "- Filter length: 3381 samples (1.651 s)\n",
      "\n"
     ]
    },
    {
     "name": "stderr",
     "output_type": "stream",
     "text": [
      "[Parallel(n_jobs=1)]: Using backend SequentialBackend with 1 concurrent workers.\n",
      "[Parallel(n_jobs=1)]: Done   1 out of   1 | elapsed:    0.0s remaining:    0.0s\n",
      "[Parallel(n_jobs=1)]: Done   2 out of   2 | elapsed:    0.2s remaining:    0.0s\n",
      "[Parallel(n_jobs=1)]: Done   3 out of   3 | elapsed:    0.3s remaining:    0.0s\n",
      "[Parallel(n_jobs=1)]: Done   4 out of   4 | elapsed:    0.5s remaining:    0.0s\n",
      "[Parallel(n_jobs=1)]: Done  32 out of  32 | elapsed:    4.3s finished\n"
     ]
    },
    {
     "name": "stdout",
     "output_type": "stream",
     "text": [
      "Reading D:/RUG/Term 2/FYRP/data/ica/P587-calibration-ica.fif ...\n",
      "Now restoring ICA solution ...\n",
      "Ready.\n",
      "Applying ICA to Raw instance\n",
      "    Transforming to ICA space (32 components)\n",
      "    Zeroing out 5 ICA components\n",
      "    Projecting back using 32 PCA components\n",
      "Not setting metadata\n",
      "13969 matching events found\n",
      "No baseline correction applied\n",
      "0 projection items activated\n",
      "Using data from preloaded Raw for 13969 events and 410 original time points ...\n",
      "0 bad epochs dropped\n"
     ]
    },
    {
     "name": "stderr",
     "output_type": "stream",
     "text": [
      " 56%|█████▌    | 10/18 [05:54<04:32, 34.04s/it]"
     ]
    },
    {
     "name": "stdout",
     "output_type": "stream",
     "text": [
      "Transfer performance\n",
      "              precision    recall  f1-score   support\n",
      "\n",
      "        Left       0.34      0.38      0.36      4373\n",
      "       Right       0.23      0.22      0.22      2898\n",
      "        Rest       0.54      0.51      0.52      6698\n",
      "\n",
      "    accuracy                           0.41     13969\n",
      "   macro avg       0.37      0.37      0.37     13969\n",
      "weighted avg       0.41      0.41      0.41     13969\n",
      "\n",
      "Extracting EDF parameters from D:\\RUG\\Term 2\\FYRP\\data\\ivo_data\\sub-P643\\motor-imagery-csp-643-acquisition-[2024.02.06-14.59.12].gdf...\n",
      "GDF file detected\n",
      "Setting channel info structure...\n",
      "Could not determine channel type of the following channels, they will be set as EEG:\n",
      "Channel 1, Channel 2, Channel 3, Channel 4, Channel 5, Channel 6, Channel 7, Channel 8, Channel 9, Channel 10, Channel 11, Channel 12, Channel 13, Channel 14, Channel 15, Channel 16, Channel 17, Channel 18, Channel 19, Channel 20, Channel 21, Channel 22, Channel 23, Channel 24, Channel 25, Channel 26, Channel 27, Channel 28, Channel 29, Channel 30, Channel 31, Channel 32, EX 1, EX 2, EX 3, EX 4, EX 5, EX 6, EX 7, EX 8\n",
      "Creating raw.info structure...\n",
      "Reading 0 ... 882815  =      0.000 ...   431.062 secs...\n",
      "EEG channel type selected for re-referencing\n",
      "Applying average reference.\n",
      "Applying a custom ('EEG',) reference.\n",
      "Filtering raw data in 1 contiguous segment\n",
      "Setting up band-pass filter from 5 - 35 Hz\n",
      "\n",
      "FIR filter parameters\n",
      "---------------------\n",
      "Designing a one-pass, zero-phase, non-causal bandpass filter:\n",
      "- Windowed time-domain design (firwin) method\n",
      "- Hamming window with 0.0194 passband ripple and 53 dB stopband attenuation\n",
      "- Lower passband edge: 5.00\n",
      "- Lower transition bandwidth: 2.00 Hz (-6 dB cutoff frequency: 4.00 Hz)\n",
      "- Upper passband edge: 35.00 Hz\n",
      "- Upper transition bandwidth: 8.75 Hz (-6 dB cutoff frequency: 39.38 Hz)\n",
      "- Filter length: 3381 samples (1.651 s)\n",
      "\n"
     ]
    },
    {
     "name": "stderr",
     "output_type": "stream",
     "text": [
      "[Parallel(n_jobs=1)]: Using backend SequentialBackend with 1 concurrent workers.\n",
      "[Parallel(n_jobs=1)]: Done   1 out of   1 | elapsed:    0.0s remaining:    0.0s\n",
      "[Parallel(n_jobs=1)]: Done   2 out of   2 | elapsed:    0.0s remaining:    0.0s\n",
      "[Parallel(n_jobs=1)]: Done   3 out of   3 | elapsed:    0.0s remaining:    0.0s\n",
      "[Parallel(n_jobs=1)]: Done   4 out of   4 | elapsed:    0.0s remaining:    0.0s\n"
     ]
    },
    {
     "name": "stdout",
     "output_type": "stream",
     "text": [
      "Reading D:/RUG/Term 2/FYRP/data/ica/P643-calibration-ica.fif ...\n",
      "Now restoring ICA solution ...\n",
      "Ready.\n",
      "Applying ICA to Raw instance\n"
     ]
    },
    {
     "name": "stderr",
     "output_type": "stream",
     "text": [
      "[Parallel(n_jobs=1)]: Done  32 out of  32 | elapsed:    0.5s finished\n"
     ]
    },
    {
     "name": "stdout",
     "output_type": "stream",
     "text": [
      "    Transforming to ICA space (32 components)\n",
      "    Zeroing out 2 ICA components\n",
      "    Projecting back using 32 PCA components\n",
      "Used Annotations descriptions: ['769', '770']\n",
      "Not setting metadata\n",
      "40 matching events found\n",
      "No baseline correction applied\n",
      "0 projection items activated\n",
      "Using data from preloaded Raw for 40 events and 7681 original time points ...\n",
      "0 bad epochs dropped\n",
      "Used Annotations descriptions: ['800']\n",
      "Not setting metadata\n",
      "40 matching events found\n",
      "No baseline correction applied\n",
      "0 projection items activated\n",
      "Using data from preloaded Raw for 40 events and 7681 original time points ...\n",
      "0 bad epochs dropped\n",
      "Not setting metadata\n",
      "80 matching events found\n",
      "No baseline correction applied\n"
     ]
    },
    {
     "name": "stderr",
     "output_type": "stream",
     "text": [
      "D:\\RUG\\Term 2\\FYRP\\continuous_control_bci\\continuous_control_bci\\data\\preprocessing.py:83: RuntimeWarning: Concatenation of Annotations within Epochs is not supported yet. All annotations will be dropped.\n",
      "  epochs = mne.concatenate_epochs([epochs, rest_epochs], add_offset=False)\n",
      "D:\\RUG\\Term 2\\FYRP\\continuous_control_bci\\continuous_control_bci\\data\\preprocessing.py:83: RuntimeWarning: The events passed to the Epochs constructor are not chronologically ordered.\n",
      "  epochs = mne.concatenate_epochs([epochs, rest_epochs], add_offset=False)\n"
     ]
    },
    {
     "name": "stdout",
     "output_type": "stream",
     "text": [
      "Training classifier. This may take a while..\n",
      "Computing rank from data with rank={'eeg': 30, 'mag': 32}\n",
      "    Setting small MAG eigenvalues to zero (without PCA)\n",
      "Reducing data rank from 32 -> 32\n",
      "Estimating covariance using SHRINKAGE\n",
      "Done.\n",
      "Computing rank from data with rank={'eeg': 30, 'mag': 32}\n",
      "    Setting small MAG eigenvalues to zero (without PCA)\n",
      "Reducing data rank from 32 -> 32\n",
      "Estimating covariance using SHRINKAGE\n",
      "Done.\n",
      "Computing rank from data with rank={'eeg': 30, 'mag': 32}\n",
      "    Setting small MAG eigenvalues to zero (without PCA)\n",
      "Reducing data rank from 32 -> 32\n",
      "Estimating covariance using SHRINKAGE\n",
      "Done.\n",
      "Computing rank from data with rank={'eeg': 30, 'mag': 32}\n",
      "    Setting small MAG eigenvalues to zero (without PCA)\n",
      "Reducing data rank from 32 -> 32\n",
      "Estimating covariance using SHRINKAGE\n",
      "Done.\n",
      "Computing rank from data with rank={'eeg': 30, 'mag': 32}\n",
      "    Setting small MAG eigenvalues to zero (without PCA)\n",
      "Reducing data rank from 32 -> 32\n",
      "Estimating covariance using SHRINKAGE\n",
      "Done.\n",
      "Computing rank from data with rank={'eeg': 30, 'mag': 32}\n",
      "    Setting small MAG eigenvalues to zero (without PCA)\n",
      "Reducing data rank from 32 -> 32\n",
      "Estimating covariance using SHRINKAGE\n",
      "Done.\n",
      "Computing rank from data with rank={'eeg': 30, 'mag': 32}\n",
      "    Setting small MAG eigenvalues to zero (without PCA)\n",
      "Reducing data rank from 32 -> 32\n",
      "Estimating covariance using SHRINKAGE\n",
      "Done.\n",
      "Computing rank from data with rank={'eeg': 30, 'mag': 32}\n",
      "    Setting small MAG eigenvalues to zero (without PCA)\n",
      "Reducing data rank from 32 -> 32\n",
      "Estimating covariance using SHRINKAGE\n",
      "Done.\n",
      "Computing rank from data with rank={'eeg': 30, 'mag': 32}\n",
      "    Setting small MAG eigenvalues to zero (without PCA)\n",
      "Reducing data rank from 32 -> 32\n",
      "Estimating covariance using SHRINKAGE\n",
      "Done.\n",
      "Computing rank from data with rank={'eeg': 30, 'mag': 32}\n",
      "    Setting small MAG eigenvalues to zero (without PCA)\n",
      "Reducing data rank from 32 -> 32\n",
      "Estimating covariance using SHRINKAGE\n",
      "Done.\n",
      "Computing rank from data with rank={'eeg': 30, 'mag': 32}\n",
      "    Setting small MAG eigenvalues to zero (without PCA)\n",
      "Reducing data rank from 32 -> 32\n",
      "Estimating covariance using SHRINKAGE\n",
      "Done.\n",
      "Computing rank from data with rank={'eeg': 30, 'mag': 32}\n",
      "    Setting small MAG eigenvalues to zero (without PCA)\n",
      "Reducing data rank from 32 -> 32\n",
      "Estimating covariance using SHRINKAGE\n",
      "Done.\n",
      "Computing rank from data with rank={'eeg': 30, 'mag': 32}\n",
      "    Setting small MAG eigenvalues to zero (without PCA)\n",
      "Reducing data rank from 32 -> 32\n",
      "Estimating covariance using SHRINKAGE\n",
      "Done.\n",
      "Computing rank from data with rank={'eeg': 30, 'mag': 32}\n",
      "    Setting small MAG eigenvalues to zero (without PCA)\n",
      "Reducing data rank from 32 -> 32\n",
      "Estimating covariance using SHRINKAGE\n",
      "Done.\n",
      "Computing rank from data with rank={'eeg': 30, 'mag': 32}\n",
      "    Setting small MAG eigenvalues to zero (without PCA)\n",
      "Reducing data rank from 32 -> 32\n",
      "Estimating covariance using SHRINKAGE\n",
      "Done.\n",
      "Computing rank from data with rank={'eeg': 30, 'mag': 32}\n",
      "    Setting small MAG eigenvalues to zero (without PCA)\n",
      "Reducing data rank from 32 -> 32\n",
      "Estimating covariance using SHRINKAGE\n",
      "Done.\n",
      "Computing rank from data with rank={'eeg': 30, 'mag': 32}\n",
      "    Setting small MAG eigenvalues to zero (without PCA)\n",
      "Reducing data rank from 32 -> 32\n",
      "Estimating covariance using SHRINKAGE\n",
      "Done.\n",
      "Computing rank from data with rank={'eeg': 30, 'mag': 32}\n",
      "    Setting small MAG eigenvalues to zero (without PCA)\n",
      "Reducing data rank from 32 -> 32\n",
      "Estimating covariance using SHRINKAGE\n",
      "Done.\n",
      "Classifier trained!\n",
      "Subject 643 calibration\n",
      "              precision    recall  f1-score   support\n",
      "\n",
      "        Left       0.54      0.35      0.42        20\n",
      "       Right       0.56      0.50      0.53        20\n",
      "        Rest       0.71      0.88      0.79        40\n",
      "\n",
      "    accuracy                           0.65        80\n",
      "   macro avg       0.60      0.58      0.58        80\n",
      "weighted avg       0.63      0.65      0.63        80\n",
      "\n",
      "Creating RawArray with float64 data, n_channels=40, n_times=5496650\n",
      "    Range : 0 ... 5496649 =      0.000 ...  2683.911 secs\n",
      "Ready.\n",
      "EEG channel type selected for re-referencing\n",
      "Applying average reference.\n",
      "Applying a custom ('EEG',) reference.\n"
     ]
    },
    {
     "name": "stderr",
     "output_type": "stream",
     "text": [
      "D:\\RUG\\Term 2\\FYRP\\continuous_control_bci\\continuous_control_bci\\data\\load_data.py:28: RuntimeWarning: The unit for channel(s) AF3, AF4, C3, C4, CP1, CP2, CP5, CP6, Cz, F3, F4, F7, F8, FC1, FC2, FC5, FC6, Fp1, Fp2, Fz, LHEOG, LVEOG, Left-extension, Left-flexion, O1, O2, Oz, P3, P4, P7, P8, PO3, PO4, Pz, RHEOG, Right-extension, Right-flexion, T7, T8, UVEOG has changed from NA to V.\n",
      "  streams.raw.set_channel_types(CHANNEL_TYPE_MAPPING)\n"
     ]
    },
    {
     "name": "stdout",
     "output_type": "stream",
     "text": [
      "Filtering raw data in 1 contiguous segment\n",
      "Setting up band-pass filter from 5 - 35 Hz\n",
      "\n",
      "FIR filter parameters\n",
      "---------------------\n",
      "Designing a one-pass, zero-phase, non-causal bandpass filter:\n",
      "- Windowed time-domain design (firwin) method\n",
      "- Hamming window with 0.0194 passband ripple and 53 dB stopband attenuation\n",
      "- Lower passband edge: 5.00\n",
      "- Lower transition bandwidth: 2.00 Hz (-6 dB cutoff frequency: 4.00 Hz)\n",
      "- Upper passband edge: 35.00 Hz\n",
      "- Upper transition bandwidth: 8.75 Hz (-6 dB cutoff frequency: 39.38 Hz)\n",
      "- Filter length: 3381 samples (1.651 s)\n",
      "\n"
     ]
    },
    {
     "name": "stderr",
     "output_type": "stream",
     "text": [
      "[Parallel(n_jobs=1)]: Using backend SequentialBackend with 1 concurrent workers.\n",
      "[Parallel(n_jobs=1)]: Done   1 out of   1 | elapsed:    0.0s remaining:    0.0s\n",
      "[Parallel(n_jobs=1)]: Done   2 out of   2 | elapsed:    0.2s remaining:    0.0s\n",
      "[Parallel(n_jobs=1)]: Done   3 out of   3 | elapsed:    0.3s remaining:    0.0s\n",
      "[Parallel(n_jobs=1)]: Done   4 out of   4 | elapsed:    0.5s remaining:    0.0s\n",
      "[Parallel(n_jobs=1)]: Done  32 out of  32 | elapsed:    4.2s finished\n"
     ]
    },
    {
     "name": "stdout",
     "output_type": "stream",
     "text": [
      "Reading D:/RUG/Term 2/FYRP/data/ica/P643-calibration-ica.fif ...\n",
      "Now restoring ICA solution ...\n",
      "Ready.\n",
      "Applying ICA to Raw instance\n",
      "    Transforming to ICA space (32 components)\n",
      "    Zeroing out 2 ICA components\n",
      "    Projecting back using 32 PCA components\n",
      "Not setting metadata\n",
      "13419 matching events found\n",
      "No baseline correction applied\n",
      "0 projection items activated\n",
      "Using data from preloaded Raw for 13419 events and 410 original time points ...\n",
      "0 bad epochs dropped\n"
     ]
    },
    {
     "name": "stderr",
     "output_type": "stream",
     "text": [
      " 61%|██████    | 11/18 [06:31<04:04, 34.92s/it]"
     ]
    },
    {
     "name": "stdout",
     "output_type": "stream",
     "text": [
      "Transfer performance\n",
      "              precision    recall  f1-score   support\n",
      "\n",
      "        Left       0.39      0.35      0.37      4242\n",
      "       Right       0.27      0.20      0.23      2727\n",
      "        Rest       0.52      0.61      0.56      6450\n",
      "\n",
      "    accuracy                           0.44     13419\n",
      "   macro avg       0.39      0.39      0.39     13419\n",
      "weighted avg       0.43      0.44      0.43     13419\n",
      "\n",
      "Extracting EDF parameters from D:\\RUG\\Term 2\\FYRP\\data\\ivo_data\\sub-P656\\motor-imagery-csp-656-acquisition-[2024.02.08-09.39.52].gdf...\n",
      "GDF file detected\n",
      "Setting channel info structure...\n",
      "Could not determine channel type of the following channels, they will be set as EEG:\n",
      "Channel 1, Channel 2, Channel 3, Channel 4, Channel 5, Channel 6, Channel 7, Channel 8, Channel 9, Channel 10, Channel 11, Channel 12, Channel 13, Channel 14, Channel 15, Channel 16, Channel 17, Channel 18, Channel 19, Channel 20, Channel 21, Channel 22, Channel 23, Channel 24, Channel 25, Channel 26, Channel 27, Channel 28, Channel 29, Channel 30, Channel 31, Channel 32, EX 1, EX 2, EX 3, EX 4, EX 5, EX 6, EX 7, EX 8\n",
      "Creating raw.info structure...\n",
      "Reading 0 ... 882783  =      0.000 ...   431.046 secs...\n",
      "EEG channel type selected for re-referencing\n",
      "Applying average reference.\n",
      "Applying a custom ('EEG',) reference.\n",
      "Filtering raw data in 1 contiguous segment\n",
      "Setting up band-pass filter from 5 - 35 Hz\n",
      "\n",
      "FIR filter parameters\n",
      "---------------------\n",
      "Designing a one-pass, zero-phase, non-causal bandpass filter:\n",
      "- Windowed time-domain design (firwin) method\n",
      "- Hamming window with 0.0194 passband ripple and 53 dB stopband attenuation\n",
      "- Lower passband edge: 5.00\n",
      "- Lower transition bandwidth: 2.00 Hz (-6 dB cutoff frequency: 4.00 Hz)\n",
      "- Upper passband edge: 35.00 Hz\n",
      "- Upper transition bandwidth: 8.75 Hz (-6 dB cutoff frequency: 39.38 Hz)\n",
      "- Filter length: 3381 samples (1.651 s)\n",
      "\n"
     ]
    },
    {
     "name": "stderr",
     "output_type": "stream",
     "text": [
      "[Parallel(n_jobs=1)]: Using backend SequentialBackend with 1 concurrent workers.\n",
      "[Parallel(n_jobs=1)]: Done   1 out of   1 | elapsed:    0.0s remaining:    0.0s\n",
      "[Parallel(n_jobs=1)]: Done   2 out of   2 | elapsed:    0.0s remaining:    0.0s\n",
      "[Parallel(n_jobs=1)]: Done   3 out of   3 | elapsed:    0.0s remaining:    0.0s\n",
      "[Parallel(n_jobs=1)]: Done   4 out of   4 | elapsed:    0.0s remaining:    0.0s\n"
     ]
    },
    {
     "name": "stdout",
     "output_type": "stream",
     "text": [
      "Reading D:/RUG/Term 2/FYRP/data/ica/P656-calibration-ica.fif ...\n",
      "Now restoring ICA solution ...\n",
      "Ready.\n",
      "Applying ICA to Raw instance\n",
      "    Transforming to ICA space (32 components)\n",
      "    Zeroing out 6 ICA components\n",
      "    Projecting back using 32 PCA components\n"
     ]
    },
    {
     "name": "stderr",
     "output_type": "stream",
     "text": [
      "[Parallel(n_jobs=1)]: Done  32 out of  32 | elapsed:    0.4s finished\n"
     ]
    },
    {
     "name": "stdout",
     "output_type": "stream",
     "text": [
      "Used Annotations descriptions: ['769', '770']\n",
      "Not setting metadata\n",
      "40 matching events found\n",
      "No baseline correction applied\n",
      "0 projection items activated\n",
      "Using data from preloaded Raw for 40 events and 7681 original time points ...\n",
      "    Rejecting  epoch based on EEG : ['Fp2']\n",
      "1 bad epochs dropped\n",
      "Used Annotations descriptions: ['800']\n",
      "Not setting metadata\n",
      "40 matching events found\n",
      "No baseline correction applied\n",
      "0 projection items activated\n",
      "Using data from preloaded Raw for 40 events and 7681 original time points ...\n",
      "    Rejecting  epoch based on EEG : ['Fp2']\n",
      "1 bad epochs dropped\n",
      "Not setting metadata\n",
      "78 matching events found\n",
      "No baseline correction applied\n",
      "Training classifier. This may take a while.."
     ]
    },
    {
     "name": "stderr",
     "output_type": "stream",
     "text": [
      "D:\\RUG\\Term 2\\FYRP\\continuous_control_bci\\continuous_control_bci\\data\\preprocessing.py:83: RuntimeWarning: Concatenation of Annotations within Epochs is not supported yet. All annotations will be dropped.\n",
      "  epochs = mne.concatenate_epochs([epochs, rest_epochs], add_offset=False)\n",
      "D:\\RUG\\Term 2\\FYRP\\continuous_control_bci\\continuous_control_bci\\data\\preprocessing.py:83: RuntimeWarning: The events passed to the Epochs constructor are not chronologically ordered.\n",
      "  epochs = mne.concatenate_epochs([epochs, rest_epochs], add_offset=False)\n"
     ]
    },
    {
     "name": "stdout",
     "output_type": "stream",
     "text": [
      "\n",
      "Computing rank from data with rank={'eeg': 26, 'mag': 32}\n",
      "    Setting small MAG eigenvalues to zero (without PCA)\n",
      "Reducing data rank from 32 -> 32\n",
      "Estimating covariance using SHRINKAGE\n",
      "Done.\n",
      "Computing rank from data with rank={'eeg': 26, 'mag': 32}\n",
      "    Setting small MAG eigenvalues to zero (without PCA)\n",
      "Reducing data rank from 32 -> 32\n",
      "Estimating covariance using SHRINKAGE\n",
      "Done.\n",
      "Computing rank from data with rank={'eeg': 26, 'mag': 32}\n",
      "    Setting small MAG eigenvalues to zero (without PCA)\n",
      "Reducing data rank from 32 -> 32\n",
      "Estimating covariance using SHRINKAGE\n",
      "Done.\n",
      "Computing rank from data with rank={'eeg': 26, 'mag': 32}\n",
      "    Setting small MAG eigenvalues to zero (without PCA)\n",
      "Reducing data rank from 32 -> 32\n",
      "Estimating covariance using SHRINKAGE\n",
      "Done.\n",
      "Computing rank from data with rank={'eeg': 26, 'mag': 32}\n",
      "    Setting small MAG eigenvalues to zero (without PCA)\n",
      "Reducing data rank from 32 -> 32\n",
      "Estimating covariance using SHRINKAGE\n",
      "Done.\n",
      "Computing rank from data with rank={'eeg': 26, 'mag': 32}\n",
      "    Setting small MAG eigenvalues to zero (without PCA)\n",
      "Reducing data rank from 32 -> 32\n",
      "Estimating covariance using SHRINKAGE\n",
      "Done.\n",
      "Computing rank from data with rank={'eeg': 26, 'mag': 32}\n",
      "    Setting small MAG eigenvalues to zero (without PCA)\n",
      "Reducing data rank from 32 -> 32\n",
      "Estimating covariance using SHRINKAGE\n",
      "Done.\n",
      "Computing rank from data with rank={'eeg': 26, 'mag': 32}\n",
      "    Setting small MAG eigenvalues to zero (without PCA)\n",
      "Reducing data rank from 32 -> 32\n",
      "Estimating covariance using SHRINKAGE\n",
      "Done.\n",
      "Computing rank from data with rank={'eeg': 26, 'mag': 32}\n",
      "    Setting small MAG eigenvalues to zero (without PCA)\n",
      "Reducing data rank from 32 -> 32\n",
      "Estimating covariance using SHRINKAGE\n",
      "Done.\n",
      "Computing rank from data with rank={'eeg': 26, 'mag': 32}\n",
      "    Setting small MAG eigenvalues to zero (without PCA)\n",
      "Reducing data rank from 32 -> 32\n",
      "Estimating covariance using SHRINKAGE\n",
      "Done.\n",
      "Computing rank from data with rank={'eeg': 26, 'mag': 32}\n",
      "    Setting small MAG eigenvalues to zero (without PCA)\n",
      "Reducing data rank from 32 -> 32\n",
      "Estimating covariance using SHRINKAGE\n",
      "Done.\n",
      "Computing rank from data with rank={'eeg': 26, 'mag': 32}\n",
      "    Setting small MAG eigenvalues to zero (without PCA)\n",
      "Reducing data rank from 32 -> 32\n",
      "Estimating covariance using SHRINKAGE\n",
      "Done.\n",
      "Computing rank from data with rank={'eeg': 26, 'mag': 32}\n",
      "    Setting small MAG eigenvalues to zero (without PCA)\n",
      "Reducing data rank from 32 -> 32\n",
      "Estimating covariance using SHRINKAGE\n",
      "Done.\n",
      "Computing rank from data with rank={'eeg': 26, 'mag': 32}\n",
      "    Setting small MAG eigenvalues to zero (without PCA)\n",
      "Reducing data rank from 32 -> 32\n",
      "Estimating covariance using SHRINKAGE\n",
      "Done.\n",
      "Computing rank from data with rank={'eeg': 26, 'mag': 32}\n",
      "    Setting small MAG eigenvalues to zero (without PCA)\n",
      "Reducing data rank from 32 -> 32\n",
      "Estimating covariance using SHRINKAGE\n",
      "Done.\n",
      "Computing rank from data with rank={'eeg': 26, 'mag': 32}\n",
      "    Setting small MAG eigenvalues to zero (without PCA)\n",
      "Reducing data rank from 32 -> 32\n",
      "Estimating covariance using SHRINKAGE\n",
      "Done.\n",
      "Computing rank from data with rank={'eeg': 26, 'mag': 32}\n",
      "    Setting small MAG eigenvalues to zero (without PCA)\n",
      "Reducing data rank from 32 -> 32\n",
      "Estimating covariance using SHRINKAGE\n",
      "Done.\n",
      "Computing rank from data with rank={'eeg': 26, 'mag': 32}\n",
      "    Setting small MAG eigenvalues to zero (without PCA)\n",
      "Reducing data rank from 32 -> 32\n",
      "Estimating covariance using SHRINKAGE\n",
      "Done.\n",
      "Classifier trained!\n",
      "Subject 656 calibration\n",
      "              precision    recall  f1-score   support\n",
      "\n",
      "        Left       0.62      0.53      0.57        19\n",
      "       Right       0.62      0.65      0.63        20\n",
      "        Rest       0.85      0.90      0.88        39\n",
      "\n",
      "    accuracy                           0.74        78\n",
      "   macro avg       0.70      0.69      0.69        78\n",
      "weighted avg       0.74      0.74      0.74        78\n",
      "\n",
      "Creating RawArray with float64 data, n_channels=40, n_times=5590908\n",
      "    Range : 0 ... 5590907 =      0.000 ...  2729.935 secs\n",
      "Ready.\n",
      "EEG channel type selected for re-referencing\n",
      "Applying average reference.\n",
      "Applying a custom ('EEG',) reference.\n"
     ]
    },
    {
     "name": "stderr",
     "output_type": "stream",
     "text": [
      "D:\\RUG\\Term 2\\FYRP\\continuous_control_bci\\continuous_control_bci\\data\\load_data.py:28: RuntimeWarning: The unit for channel(s) AF3, AF4, C3, C4, CP1, CP2, CP5, CP6, Cz, F3, F4, F7, F8, FC1, FC2, FC5, FC6, Fp1, Fp2, Fz, LHEOG, LVEOG, Left-extension, Left-flexion, O1, O2, Oz, P3, P4, P7, P8, PO3, PO4, Pz, RHEOG, Right-extension, Right-flexion, T7, T8, UVEOG has changed from NA to V.\n",
      "  streams.raw.set_channel_types(CHANNEL_TYPE_MAPPING)\n"
     ]
    },
    {
     "name": "stdout",
     "output_type": "stream",
     "text": [
      "Filtering raw data in 1 contiguous segment\n",
      "Setting up band-pass filter from 5 - 35 Hz\n",
      "\n",
      "FIR filter parameters\n",
      "---------------------\n",
      "Designing a one-pass, zero-phase, non-causal bandpass filter:\n",
      "- Windowed time-domain design (firwin) method\n",
      "- Hamming window with 0.0194 passband ripple and 53 dB stopband attenuation\n",
      "- Lower passband edge: 5.00\n",
      "- Lower transition bandwidth: 2.00 Hz (-6 dB cutoff frequency: 4.00 Hz)\n",
      "- Upper passband edge: 35.00 Hz\n",
      "- Upper transition bandwidth: 8.75 Hz (-6 dB cutoff frequency: 39.38 Hz)\n",
      "- Filter length: 3381 samples (1.651 s)\n",
      "\n"
     ]
    },
    {
     "name": "stderr",
     "output_type": "stream",
     "text": [
      "[Parallel(n_jobs=1)]: Using backend SequentialBackend with 1 concurrent workers.\n",
      "[Parallel(n_jobs=1)]: Done   1 out of   1 | elapsed:    0.0s remaining:    0.0s\n",
      "[Parallel(n_jobs=1)]: Done   2 out of   2 | elapsed:    0.2s remaining:    0.0s\n",
      "[Parallel(n_jobs=1)]: Done   3 out of   3 | elapsed:    0.3s remaining:    0.0s\n",
      "[Parallel(n_jobs=1)]: Done   4 out of   4 | elapsed:    0.5s remaining:    0.0s\n",
      "[Parallel(n_jobs=1)]: Done  32 out of  32 | elapsed:    4.1s finished\n"
     ]
    },
    {
     "name": "stdout",
     "output_type": "stream",
     "text": [
      "Reading D:/RUG/Term 2/FYRP/data/ica/P656-calibration-ica.fif ...\n",
      "Now restoring ICA solution ...\n",
      "Ready.\n",
      "Applying ICA to Raw instance\n",
      "    Transforming to ICA space (32 components)\n",
      "    Zeroing out 6 ICA components\n",
      "    Projecting back using 32 PCA components\n",
      "Not setting metadata\n",
      "13649 matching events found\n",
      "No baseline correction applied\n",
      "0 projection items activated\n",
      "Using data from preloaded Raw for 13649 events and 410 original time points ...\n",
      "0 bad epochs dropped\n"
     ]
    },
    {
     "name": "stderr",
     "output_type": "stream",
     "text": [
      " 67%|██████▋   | 12/18 [07:07<03:30, 35.02s/it]"
     ]
    },
    {
     "name": "stdout",
     "output_type": "stream",
     "text": [
      "Transfer performance\n",
      "              precision    recall  f1-score   support\n",
      "\n",
      "        Left       0.38      0.51      0.44      4095\n",
      "       Right       0.27      0.20      0.23      2808\n",
      "        Rest       0.58      0.52      0.55      6746\n",
      "\n",
      "    accuracy                           0.45     13649\n",
      "   macro avg       0.41      0.41      0.40     13649\n",
      "weighted avg       0.46      0.45      0.45     13649\n",
      "\n",
      "Extracting EDF parameters from D:\\RUG\\Term 2\\FYRP\\data\\ivo_data\\sub-P744\\motor-imagery-csp-744-acquisition-[2024.02.05-14.17.28].gdf...\n",
      "GDF file detected\n",
      "Setting channel info structure...\n",
      "Could not determine channel type of the following channels, they will be set as EEG:\n",
      "Channel 1, Channel 2, Channel 3, Channel 4, Channel 5, Channel 6, Channel 7, Channel 8, Channel 9, Channel 10, Channel 11, Channel 12, Channel 13, Channel 14, Channel 15, Channel 16, Channel 17, Channel 18, Channel 19, Channel 20, Channel 21, Channel 22, Channel 23, Channel 24, Channel 25, Channel 26, Channel 27, Channel 28, Channel 29, Channel 30, Channel 31, Channel 32, EX 1, EX 2, EX 3, EX 4, EX 5, EX 6, EX 7, EX 8\n",
      "Creating raw.info structure...\n",
      "Reading 0 ... 882783  =      0.000 ...   431.046 secs...\n",
      "EEG channel type selected for re-referencing\n",
      "Applying average reference.\n",
      "Applying a custom ('EEG',) reference.\n",
      "Filtering raw data in 1 contiguous segment\n",
      "Setting up band-pass filter from 5 - 35 Hz\n",
      "\n",
      "FIR filter parameters\n",
      "---------------------\n",
      "Designing a one-pass, zero-phase, non-causal bandpass filter:\n",
      "- Windowed time-domain design (firwin) method\n",
      "- Hamming window with 0.0194 passband ripple and 53 dB stopband attenuation\n",
      "- Lower passband edge: 5.00\n",
      "- Lower transition bandwidth: 2.00 Hz (-6 dB cutoff frequency: 4.00 Hz)\n",
      "- Upper passband edge: 35.00 Hz\n",
      "- Upper transition bandwidth: 8.75 Hz (-6 dB cutoff frequency: 39.38 Hz)\n",
      "- Filter length: 3381 samples (1.651 s)\n",
      "\n"
     ]
    },
    {
     "name": "stderr",
     "output_type": "stream",
     "text": [
      "[Parallel(n_jobs=1)]: Using backend SequentialBackend with 1 concurrent workers.\n",
      "[Parallel(n_jobs=1)]: Done   1 out of   1 | elapsed:    0.0s remaining:    0.0s\n",
      "[Parallel(n_jobs=1)]: Done   2 out of   2 | elapsed:    0.0s remaining:    0.0s\n",
      "[Parallel(n_jobs=1)]: Done   3 out of   3 | elapsed:    0.0s remaining:    0.0s\n",
      "[Parallel(n_jobs=1)]: Done   4 out of   4 | elapsed:    0.0s remaining:    0.0s\n"
     ]
    },
    {
     "name": "stdout",
     "output_type": "stream",
     "text": [
      "Reading D:/RUG/Term 2/FYRP/data/ica/P744-calibration-ica.fif ...\n",
      "Now restoring ICA solution ...\n",
      "Ready.\n",
      "Applying ICA to Raw instance\n",
      "    Transforming to ICA space (32 components)\n",
      "    Zeroing out 5 ICA components\n",
      "    Projecting back using 32 PCA components\n"
     ]
    },
    {
     "name": "stderr",
     "output_type": "stream",
     "text": [
      "[Parallel(n_jobs=1)]: Done  32 out of  32 | elapsed:    0.4s finished\n"
     ]
    },
    {
     "name": "stdout",
     "output_type": "stream",
     "text": [
      "Used Annotations descriptions: ['769', '770']\n",
      "Not setting metadata\n",
      "40 matching events found\n",
      "No baseline correction applied\n",
      "0 projection items activated\n",
      "Using data from preloaded Raw for 40 events and 7681 original time points ...\n",
      "0 bad epochs dropped\n",
      "Used Annotations descriptions: ['800']\n",
      "Not setting metadata\n",
      "40 matching events found\n",
      "No baseline correction applied\n",
      "0 projection items activated\n",
      "Using data from preloaded Raw for 40 events and 7681 original time points ...\n",
      "0 bad epochs dropped\n",
      "Not setting metadata\n",
      "80 matching events found\n",
      "No baseline correction applied\n",
      "Training classifier. This may take a while..\n"
     ]
    },
    {
     "name": "stderr",
     "output_type": "stream",
     "text": [
      "D:\\RUG\\Term 2\\FYRP\\continuous_control_bci\\continuous_control_bci\\data\\preprocessing.py:83: RuntimeWarning: Concatenation of Annotations within Epochs is not supported yet. All annotations will be dropped.\n",
      "  epochs = mne.concatenate_epochs([epochs, rest_epochs], add_offset=False)\n",
      "D:\\RUG\\Term 2\\FYRP\\continuous_control_bci\\continuous_control_bci\\data\\preprocessing.py:83: RuntimeWarning: The events passed to the Epochs constructor are not chronologically ordered.\n",
      "  epochs = mne.concatenate_epochs([epochs, rest_epochs], add_offset=False)\n"
     ]
    },
    {
     "name": "stdout",
     "output_type": "stream",
     "text": [
      "Computing rank from data with rank={'eeg': 27, 'mag': 32}\n",
      "    Setting small MAG eigenvalues to zero (without PCA)\n",
      "Reducing data rank from 32 -> 32\n",
      "Estimating covariance using SHRINKAGE\n",
      "Done.\n",
      "Computing rank from data with rank={'eeg': 27, 'mag': 32}\n",
      "    Setting small MAG eigenvalues to zero (without PCA)\n",
      "Reducing data rank from 32 -> 32\n",
      "Estimating covariance using SHRINKAGE\n",
      "Done.\n",
      "Computing rank from data with rank={'eeg': 27, 'mag': 32}\n",
      "    Setting small MAG eigenvalues to zero (without PCA)\n",
      "Reducing data rank from 32 -> 32\n",
      "Estimating covariance using SHRINKAGE\n",
      "Done.\n",
      "Computing rank from data with rank={'eeg': 27, 'mag': 32}\n",
      "    Setting small MAG eigenvalues to zero (without PCA)\n",
      "Reducing data rank from 32 -> 32\n",
      "Estimating covariance using SHRINKAGE\n",
      "Done.\n",
      "Computing rank from data with rank={'eeg': 27, 'mag': 32}\n",
      "    Setting small MAG eigenvalues to zero (without PCA)\n",
      "Reducing data rank from 32 -> 32\n",
      "Estimating covariance using SHRINKAGE\n",
      "Done.\n",
      "Computing rank from data with rank={'eeg': 27, 'mag': 32}\n",
      "    Setting small MAG eigenvalues to zero (without PCA)\n",
      "Reducing data rank from 32 -> 32\n",
      "Estimating covariance using SHRINKAGE\n",
      "Done.\n",
      "Computing rank from data with rank={'eeg': 27, 'mag': 32}\n",
      "    Setting small MAG eigenvalues to zero (without PCA)\n",
      "Reducing data rank from 32 -> 32\n",
      "Estimating covariance using SHRINKAGE\n",
      "Done.\n",
      "Computing rank from data with rank={'eeg': 27, 'mag': 32}\n",
      "    Setting small MAG eigenvalues to zero (without PCA)\n",
      "Reducing data rank from 32 -> 32\n",
      "Estimating covariance using SHRINKAGE\n",
      "Done.\n",
      "Computing rank from data with rank={'eeg': 27, 'mag': 32}\n",
      "    Setting small MAG eigenvalues to zero (without PCA)\n",
      "Reducing data rank from 32 -> 32\n",
      "Estimating covariance using SHRINKAGE\n",
      "Done.\n",
      "Computing rank from data with rank={'eeg': 27, 'mag': 32}\n",
      "    Setting small MAG eigenvalues to zero (without PCA)\n",
      "Reducing data rank from 32 -> 32\n",
      "Estimating covariance using SHRINKAGE\n",
      "Done.\n",
      "Computing rank from data with rank={'eeg': 27, 'mag': 32}\n",
      "    Setting small MAG eigenvalues to zero (without PCA)\n",
      "Reducing data rank from 32 -> 32\n",
      "Estimating covariance using SHRINKAGE\n",
      "Done.\n",
      "Computing rank from data with rank={'eeg': 27, 'mag': 32}\n",
      "    Setting small MAG eigenvalues to zero (without PCA)\n",
      "Reducing data rank from 32 -> 32\n",
      "Estimating covariance using SHRINKAGE\n",
      "Done.\n",
      "Computing rank from data with rank={'eeg': 27, 'mag': 32}\n",
      "    Setting small MAG eigenvalues to zero (without PCA)\n",
      "Reducing data rank from 32 -> 32\n",
      "Estimating covariance using SHRINKAGE\n",
      "Done.\n",
      "Computing rank from data with rank={'eeg': 27, 'mag': 32}\n",
      "    Setting small MAG eigenvalues to zero (without PCA)\n",
      "Reducing data rank from 32 -> 32\n",
      "Estimating covariance using SHRINKAGE\n",
      "Done.\n",
      "Computing rank from data with rank={'eeg': 27, 'mag': 32}\n",
      "    Setting small MAG eigenvalues to zero (without PCA)\n",
      "Reducing data rank from 32 -> 32\n",
      "Estimating covariance using SHRINKAGE\n",
      "Done.\n",
      "Computing rank from data with rank={'eeg': 27, 'mag': 32}\n",
      "    Setting small MAG eigenvalues to zero (without PCA)\n",
      "Reducing data rank from 32 -> 32\n",
      "Estimating covariance using SHRINKAGE\n",
      "Done.\n",
      "Computing rank from data with rank={'eeg': 27, 'mag': 32}\n",
      "    Setting small MAG eigenvalues to zero (without PCA)\n",
      "Reducing data rank from 32 -> 32\n",
      "Estimating covariance using SHRINKAGE\n",
      "Done.\n",
      "Computing rank from data with rank={'eeg': 27, 'mag': 32}\n",
      "    Setting small MAG eigenvalues to zero (without PCA)\n",
      "Reducing data rank from 32 -> 32\n",
      "Estimating covariance using SHRINKAGE\n",
      "Done.\n",
      "Classifier trained!\n",
      "Subject 744 calibration\n",
      "              precision    recall  f1-score   support\n",
      "\n",
      "        Left       0.45      0.50      0.48        20\n",
      "       Right       0.58      0.35      0.44        20\n",
      "        Rest       0.65      0.75      0.70        40\n",
      "\n",
      "    accuracy                           0.59        80\n",
      "   macro avg       0.56      0.53      0.54        80\n",
      "weighted avg       0.59      0.59      0.58        80\n",
      "\n",
      "Creating RawArray with float64 data, n_channels=40, n_times=5035974\n",
      "    Range : 0 ... 5035973 =      0.000 ...  2458.971 secs\n",
      "Ready.\n",
      "EEG channel type selected for re-referencing\n",
      "Applying average reference.\n",
      "Applying a custom ('EEG',) reference.\n"
     ]
    },
    {
     "name": "stderr",
     "output_type": "stream",
     "text": [
      "D:\\RUG\\Term 2\\FYRP\\continuous_control_bci\\continuous_control_bci\\data\\load_data.py:28: RuntimeWarning: The unit for channel(s) AF3, AF4, C3, C4, CP1, CP2, CP5, CP6, Cz, F3, F4, F7, F8, FC1, FC2, FC5, FC6, Fp1, Fp2, Fz, LHEOG, LVEOG, Left-extension, Left-flexion, O1, O2, Oz, P3, P4, P7, P8, PO3, PO4, Pz, RHEOG, Right-extension, Right-flexion, T7, T8, UVEOG has changed from NA to V.\n",
      "  streams.raw.set_channel_types(CHANNEL_TYPE_MAPPING)\n"
     ]
    },
    {
     "name": "stdout",
     "output_type": "stream",
     "text": [
      "Filtering raw data in 1 contiguous segment\n",
      "Setting up band-pass filter from 5 - 35 Hz\n",
      "\n",
      "FIR filter parameters\n",
      "---------------------\n",
      "Designing a one-pass, zero-phase, non-causal bandpass filter:\n",
      "- Windowed time-domain design (firwin) method\n",
      "- Hamming window with 0.0194 passband ripple and 53 dB stopband attenuation\n",
      "- Lower passband edge: 5.00\n",
      "- Lower transition bandwidth: 2.00 Hz (-6 dB cutoff frequency: 4.00 Hz)\n",
      "- Upper passband edge: 35.00 Hz\n",
      "- Upper transition bandwidth: 8.75 Hz (-6 dB cutoff frequency: 39.38 Hz)\n",
      "- Filter length: 3381 samples (1.651 s)\n",
      "\n"
     ]
    },
    {
     "name": "stderr",
     "output_type": "stream",
     "text": [
      "[Parallel(n_jobs=1)]: Using backend SequentialBackend with 1 concurrent workers.\n",
      "[Parallel(n_jobs=1)]: Done   1 out of   1 | elapsed:    0.0s remaining:    0.0s\n",
      "[Parallel(n_jobs=1)]: Done   2 out of   2 | elapsed:    0.1s remaining:    0.0s\n",
      "[Parallel(n_jobs=1)]: Done   3 out of   3 | elapsed:    0.3s remaining:    0.0s\n",
      "[Parallel(n_jobs=1)]: Done   4 out of   4 | elapsed:    0.4s remaining:    0.0s\n",
      "[Parallel(n_jobs=1)]: Done  32 out of  32 | elapsed:    3.5s finished\n"
     ]
    },
    {
     "name": "stdout",
     "output_type": "stream",
     "text": [
      "Reading D:/RUG/Term 2/FYRP/data/ica/P744-calibration-ica.fif ...\n",
      "Now restoring ICA solution ...\n",
      "Ready.\n",
      "Applying ICA to Raw instance\n",
      "    Transforming to ICA space (32 components)\n",
      "    Zeroing out 5 ICA components\n",
      "    Projecting back using 32 PCA components\n",
      "Not setting metadata\n",
      "12294 matching events found\n",
      "No baseline correction applied\n",
      "0 projection items activated\n",
      "Using data from preloaded Raw for 12294 events and 410 original time points ...\n",
      "0 bad epochs dropped\n"
     ]
    },
    {
     "name": "stderr",
     "output_type": "stream",
     "text": [
      " 72%|███████▏  | 13/18 [07:41<02:54, 34.81s/it]"
     ]
    },
    {
     "name": "stdout",
     "output_type": "stream",
     "text": [
      "Transfer performance\n",
      "              precision    recall  f1-score   support\n",
      "\n",
      "        Left       0.37      0.40      0.38      3865\n",
      "       Right       0.21      0.44      0.29      2465\n",
      "        Rest       0.56      0.29      0.38      5964\n",
      "\n",
      "    accuracy                           0.35     12294\n",
      "   macro avg       0.38      0.37      0.35     12294\n",
      "weighted avg       0.43      0.35      0.36     12294\n",
      "\n",
      "Extracting EDF parameters from D:\\RUG\\Term 2\\FYRP\\data\\ivo_data\\sub-P812\\motor-imagery-csp-812-acquisition-[2024.01.29-11.21.29].gdf...\n",
      "GDF file detected\n",
      "Setting channel info structure...\n",
      "Could not determine channel type of the following channels, they will be set as EEG:\n",
      "Channel 1, Channel 2, Channel 3, Channel 4, Channel 5, Channel 6, Channel 7, Channel 8, Channel 9, Channel 10, Channel 11, Channel 12, Channel 13, Channel 14, Channel 15, Channel 16, Channel 17, Channel 18, Channel 19, Channel 20, Channel 21, Channel 22, Channel 23, Channel 24, Channel 25, Channel 26, Channel 27, Channel 28, Channel 29, Channel 30, Channel 31, Channel 32, EX 1, EX 2, EX 3, EX 4, EX 5, EX 6, EX 7, EX 8\n",
      "Creating raw.info structure...\n",
      "Reading 0 ... 882815  =      0.000 ...   431.062 secs...\n",
      "EEG channel type selected for re-referencing\n",
      "Applying average reference.\n",
      "Applying a custom ('EEG',) reference.\n",
      "Filtering raw data in 1 contiguous segment\n",
      "Setting up band-pass filter from 5 - 35 Hz\n",
      "\n",
      "FIR filter parameters\n",
      "---------------------\n",
      "Designing a one-pass, zero-phase, non-causal bandpass filter:\n",
      "- Windowed time-domain design (firwin) method\n",
      "- Hamming window with 0.0194 passband ripple and 53 dB stopband attenuation\n",
      "- Lower passband edge: 5.00\n",
      "- Lower transition bandwidth: 2.00 Hz (-6 dB cutoff frequency: 4.00 Hz)\n",
      "- Upper passband edge: 35.00 Hz\n",
      "- Upper transition bandwidth: 8.75 Hz (-6 dB cutoff frequency: 39.38 Hz)\n",
      "- Filter length: 3381 samples (1.651 s)\n",
      "\n"
     ]
    },
    {
     "name": "stderr",
     "output_type": "stream",
     "text": [
      "[Parallel(n_jobs=1)]: Using backend SequentialBackend with 1 concurrent workers.\n",
      "[Parallel(n_jobs=1)]: Done   1 out of   1 | elapsed:    0.0s remaining:    0.0s\n",
      "[Parallel(n_jobs=1)]: Done   2 out of   2 | elapsed:    0.0s remaining:    0.0s\n",
      "[Parallel(n_jobs=1)]: Done   3 out of   3 | elapsed:    0.0s remaining:    0.0s\n",
      "[Parallel(n_jobs=1)]: Done   4 out of   4 | elapsed:    0.0s remaining:    0.0s\n"
     ]
    },
    {
     "name": "stdout",
     "output_type": "stream",
     "text": [
      "Reading D:/RUG/Term 2/FYRP/data/ica/P812-calibration-ica.fif ...\n",
      "Now restoring ICA solution ...\n",
      "Ready.\n",
      "Applying ICA to Raw instance\n",
      "    Transforming to ICA space (32 components)\n",
      "    Zeroing out 5 ICA components\n",
      "    Projecting back using 32 PCA components\n"
     ]
    },
    {
     "name": "stderr",
     "output_type": "stream",
     "text": [
      "[Parallel(n_jobs=1)]: Done  32 out of  32 | elapsed:    0.4s finished\n"
     ]
    },
    {
     "name": "stdout",
     "output_type": "stream",
     "text": [
      "Used Annotations descriptions: ['769', '770']\n",
      "Not setting metadata\n",
      "40 matching events found\n",
      "No baseline correction applied\n",
      "0 projection items activated\n",
      "Using data from preloaded Raw for 40 events and 7681 original time points ...\n",
      "0 bad epochs dropped\n",
      "Used Annotations descriptions: ['800']\n",
      "Not setting metadata\n",
      "40 matching events found\n",
      "No baseline correction applied\n",
      "0 projection items activated\n",
      "Using data from preloaded Raw for 40 events and 7681 original time points ...\n",
      "0 bad epochs dropped\n",
      "Not setting metadata\n",
      "80 matching events found\n",
      "No baseline correction applied\n"
     ]
    },
    {
     "name": "stderr",
     "output_type": "stream",
     "text": [
      "D:\\RUG\\Term 2\\FYRP\\continuous_control_bci\\continuous_control_bci\\data\\preprocessing.py:83: RuntimeWarning: Concatenation of Annotations within Epochs is not supported yet. All annotations will be dropped.\n",
      "  epochs = mne.concatenate_epochs([epochs, rest_epochs], add_offset=False)\n",
      "D:\\RUG\\Term 2\\FYRP\\continuous_control_bci\\continuous_control_bci\\data\\preprocessing.py:83: RuntimeWarning: The events passed to the Epochs constructor are not chronologically ordered.\n",
      "  epochs = mne.concatenate_epochs([epochs, rest_epochs], add_offset=False)\n"
     ]
    },
    {
     "name": "stdout",
     "output_type": "stream",
     "text": [
      "Training classifier. This may take a while..\n",
      "Computing rank from data with rank={'eeg': 27, 'mag': 32}\n",
      "    Setting small MAG eigenvalues to zero (without PCA)\n",
      "Reducing data rank from 32 -> 32\n",
      "Estimating covariance using SHRINKAGE\n",
      "Done.\n",
      "Computing rank from data with rank={'eeg': 27, 'mag': 32}\n",
      "    Setting small MAG eigenvalues to zero (without PCA)\n",
      "Reducing data rank from 32 -> 32\n",
      "Estimating covariance using SHRINKAGE\n",
      "Done.\n",
      "Computing rank from data with rank={'eeg': 27, 'mag': 32}\n",
      "    Setting small MAG eigenvalues to zero (without PCA)\n",
      "Reducing data rank from 32 -> 32\n",
      "Estimating covariance using SHRINKAGE\n",
      "Done.\n",
      "Computing rank from data with rank={'eeg': 27, 'mag': 32}\n",
      "    Setting small MAG eigenvalues to zero (without PCA)\n",
      "Reducing data rank from 32 -> 32\n",
      "Estimating covariance using SHRINKAGE\n",
      "Done.\n",
      "Computing rank from data with rank={'eeg': 27, 'mag': 32}\n",
      "    Setting small MAG eigenvalues to zero (without PCA)\n",
      "Reducing data rank from 32 -> 32\n",
      "Estimating covariance using SHRINKAGE\n",
      "Done.\n",
      "Computing rank from data with rank={'eeg': 27, 'mag': 32}\n",
      "    Setting small MAG eigenvalues to zero (without PCA)\n",
      "Reducing data rank from 32 -> 32\n",
      "Estimating covariance using SHRINKAGE\n",
      "Done.\n",
      "Computing rank from data with rank={'eeg': 27, 'mag': 32}\n",
      "    Setting small MAG eigenvalues to zero (without PCA)\n",
      "Reducing data rank from 32 -> 32\n",
      "Estimating covariance using SHRINKAGE\n",
      "Done.\n",
      "Computing rank from data with rank={'eeg': 27, 'mag': 32}\n",
      "    Setting small MAG eigenvalues to zero (without PCA)\n",
      "Reducing data rank from 32 -> 32\n",
      "Estimating covariance using SHRINKAGE\n",
      "Done.\n",
      "Computing rank from data with rank={'eeg': 27, 'mag': 32}\n",
      "    Setting small MAG eigenvalues to zero (without PCA)\n",
      "Reducing data rank from 32 -> 32\n",
      "Estimating covariance using SHRINKAGE\n",
      "Done.\n",
      "Computing rank from data with rank={'eeg': 27, 'mag': 32}\n",
      "    Setting small MAG eigenvalues to zero (without PCA)\n",
      "Reducing data rank from 32 -> 32\n",
      "Estimating covariance using SHRINKAGE\n",
      "Done.\n",
      "Computing rank from data with rank={'eeg': 27, 'mag': 32}\n",
      "    Setting small MAG eigenvalues to zero (without PCA)\n",
      "Reducing data rank from 32 -> 32\n",
      "Estimating covariance using SHRINKAGE\n",
      "Done.\n",
      "Computing rank from data with rank={'eeg': 27, 'mag': 32}\n",
      "    Setting small MAG eigenvalues to zero (without PCA)\n",
      "Reducing data rank from 32 -> 32\n",
      "Estimating covariance using SHRINKAGE\n",
      "Done.\n",
      "Computing rank from data with rank={'eeg': 27, 'mag': 32}\n",
      "    Setting small MAG eigenvalues to zero (without PCA)\n",
      "Reducing data rank from 32 -> 32\n",
      "Estimating covariance using SHRINKAGE\n",
      "Done.\n",
      "Computing rank from data with rank={'eeg': 27, 'mag': 32}\n",
      "    Setting small MAG eigenvalues to zero (without PCA)\n",
      "Reducing data rank from 32 -> 32\n",
      "Estimating covariance using SHRINKAGE\n",
      "Done.\n",
      "Computing rank from data with rank={'eeg': 27, 'mag': 32}\n",
      "    Setting small MAG eigenvalues to zero (without PCA)\n",
      "Reducing data rank from 32 -> 32\n",
      "Estimating covariance using SHRINKAGE\n",
      "Done.\n",
      "Computing rank from data with rank={'eeg': 27, 'mag': 32}\n",
      "    Setting small MAG eigenvalues to zero (without PCA)\n",
      "Reducing data rank from 32 -> 32\n",
      "Estimating covariance using SHRINKAGE\n",
      "Done.\n",
      "Computing rank from data with rank={'eeg': 27, 'mag': 32}\n",
      "    Setting small MAG eigenvalues to zero (without PCA)\n",
      "Reducing data rank from 32 -> 32\n",
      "Estimating covariance using SHRINKAGE\n",
      "Done.\n",
      "Computing rank from data with rank={'eeg': 27, 'mag': 32}\n",
      "    Setting small MAG eigenvalues to zero (without PCA)\n",
      "Reducing data rank from 32 -> 32\n",
      "Estimating covariance using SHRINKAGE\n",
      "Done.\n",
      "Classifier trained!\n",
      "Subject 812 calibration\n",
      "              precision    recall  f1-score   support\n",
      "\n",
      "        Left       0.71      0.75      0.73        20\n",
      "       Right       0.84      0.80      0.82        20\n",
      "        Rest       0.82      0.82      0.82        40\n",
      "\n",
      "    accuracy                           0.80        80\n",
      "   macro avg       0.79      0.79      0.79        80\n",
      "weighted avg       0.80      0.80      0.80        80\n",
      "\n",
      "Creating RawArray with float64 data, n_channels=40, n_times=5750675\n",
      "    Range : 0 ... 5750674 =      0.000 ...  2807.946 secs\n",
      "Ready.\n",
      "EEG channel type selected for re-referencing\n",
      "Applying average reference.\n",
      "Applying a custom ('EEG',) reference.\n"
     ]
    },
    {
     "name": "stderr",
     "output_type": "stream",
     "text": [
      "D:\\RUG\\Term 2\\FYRP\\continuous_control_bci\\continuous_control_bci\\data\\load_data.py:28: RuntimeWarning: The unit for channel(s) AF3, AF4, C3, C4, CP1, CP2, CP5, CP6, Cz, F3, F4, F7, F8, FC1, FC2, FC5, FC6, Fp1, Fp2, Fz, LHEOG, LVEOG, Left-extension, Left-flexion, O1, O2, Oz, P3, P4, P7, P8, PO3, PO4, Pz, RHEOG, Right-extension, Right-flexion, T7, T8, UVEOG has changed from NA to V.\n",
      "  streams.raw.set_channel_types(CHANNEL_TYPE_MAPPING)\n"
     ]
    },
    {
     "name": "stdout",
     "output_type": "stream",
     "text": [
      "Filtering raw data in 1 contiguous segment\n",
      "Setting up band-pass filter from 5 - 35 Hz\n",
      "\n",
      "FIR filter parameters\n",
      "---------------------\n",
      "Designing a one-pass, zero-phase, non-causal bandpass filter:\n",
      "- Windowed time-domain design (firwin) method\n",
      "- Hamming window with 0.0194 passband ripple and 53 dB stopband attenuation\n",
      "- Lower passband edge: 5.00\n",
      "- Lower transition bandwidth: 2.00 Hz (-6 dB cutoff frequency: 4.00 Hz)\n",
      "- Upper passband edge: 35.00 Hz\n",
      "- Upper transition bandwidth: 8.75 Hz (-6 dB cutoff frequency: 39.38 Hz)\n",
      "- Filter length: 3381 samples (1.651 s)\n",
      "\n"
     ]
    },
    {
     "name": "stderr",
     "output_type": "stream",
     "text": [
      "[Parallel(n_jobs=1)]: Using backend SequentialBackend with 1 concurrent workers.\n",
      "[Parallel(n_jobs=1)]: Done   1 out of   1 | elapsed:    0.0s remaining:    0.0s\n",
      "[Parallel(n_jobs=1)]: Done   2 out of   2 | elapsed:    0.2s remaining:    0.0s\n",
      "[Parallel(n_jobs=1)]: Done   3 out of   3 | elapsed:    0.3s remaining:    0.0s\n",
      "[Parallel(n_jobs=1)]: Done   4 out of   4 | elapsed:    0.4s remaining:    0.0s\n",
      "[Parallel(n_jobs=1)]: Done  32 out of  32 | elapsed:    4.1s finished\n"
     ]
    },
    {
     "name": "stdout",
     "output_type": "stream",
     "text": [
      "Reading D:/RUG/Term 2/FYRP/data/ica/P812-calibration-ica.fif ...\n",
      "Now restoring ICA solution ...\n",
      "Ready.\n",
      "Applying ICA to Raw instance\n",
      "    Transforming to ICA space (32 components)\n",
      "    Zeroing out 5 ICA components\n",
      "    Projecting back using 32 PCA components\n",
      "Not setting metadata\n",
      "14039 matching events found\n",
      "No baseline correction applied\n",
      "0 projection items activated\n",
      "Using data from preloaded Raw for 14039 events and 410 original time points ...\n",
      "0 bad epochs dropped\n",
      "Transfer performance\n",
      "              precision    recall  f1-score   support\n",
      "\n",
      "        Left       0.52      0.42      0.47      4565\n",
      "       Right       0.46      0.57      0.51      3018\n",
      "        Rest       0.52      0.53      0.53      6456\n",
      "\n",
      "    accuracy                           0.50     14039\n",
      "   macro avg       0.50      0.51      0.50     14039\n",
      "weighted avg       0.51      0.50      0.50     14039\n",
      "\n"
     ]
    },
    {
     "name": "stderr",
     "output_type": "stream",
     "text": [
      " 78%|███████▊  | 14/18 [08:21<02:25, 36.32s/it]"
     ]
    },
    {
     "name": "stdout",
     "output_type": "stream",
     "text": [
      "Extracting EDF parameters from D:\\RUG\\Term 2\\FYRP\\data\\ivo_data\\sub-P840\\motor-imagery-csp-840-acquisition-[2024.01.23-14.39.09].gdf...\n",
      "GDF file detected\n",
      "Setting channel info structure...\n",
      "Could not determine channel type of the following channels, they will be set as EEG:\n",
      "Channel 1, Channel 2, Channel 3, Channel 4, Channel 5, Channel 6, Channel 7, Channel 8, Channel 9, Channel 10, Channel 11, Channel 12, Channel 13, Channel 14, Channel 15, Channel 16, Channel 17, Channel 18, Channel 19, Channel 20, Channel 21, Channel 22, Channel 23, Channel 24, Channel 25, Channel 26, Channel 27, Channel 28, Channel 29, Channel 30, Channel 31, Channel 32, EX 1, EX 2, EX 3, EX 4, EX 5, EX 6, EX 7, EX 8\n",
      "Creating raw.info structure...\n",
      "Reading 0 ... 882815  =      0.000 ...   431.062 secs...\n",
      "EEG channel type selected for re-referencing\n",
      "Applying average reference.\n",
      "Applying a custom ('EEG',) reference.\n",
      "Filtering raw data in 1 contiguous segment\n",
      "Setting up band-pass filter from 5 - 35 Hz\n",
      "\n",
      "FIR filter parameters\n",
      "---------------------\n",
      "Designing a one-pass, zero-phase, non-causal bandpass filter:\n",
      "- Windowed time-domain design (firwin) method\n",
      "- Hamming window with 0.0194 passband ripple and 53 dB stopband attenuation\n",
      "- Lower passband edge: 5.00\n",
      "- Lower transition bandwidth: 2.00 Hz (-6 dB cutoff frequency: 4.00 Hz)\n",
      "- Upper passband edge: 35.00 Hz\n",
      "- Upper transition bandwidth: 8.75 Hz (-6 dB cutoff frequency: 39.38 Hz)\n",
      "- Filter length: 3381 samples (1.651 s)\n",
      "\n"
     ]
    },
    {
     "name": "stderr",
     "output_type": "stream",
     "text": [
      "[Parallel(n_jobs=1)]: Using backend SequentialBackend with 1 concurrent workers.\n",
      "[Parallel(n_jobs=1)]: Done   1 out of   1 | elapsed:    0.0s remaining:    0.0s\n",
      "[Parallel(n_jobs=1)]: Done   2 out of   2 | elapsed:    0.0s remaining:    0.0s\n",
      "[Parallel(n_jobs=1)]: Done   3 out of   3 | elapsed:    0.0s remaining:    0.0s\n",
      "[Parallel(n_jobs=1)]: Done   4 out of   4 | elapsed:    0.0s remaining:    0.0s\n"
     ]
    },
    {
     "name": "stdout",
     "output_type": "stream",
     "text": [
      "Reading D:/RUG/Term 2/FYRP/data/ica/P840-calibration-ica.fif ...\n",
      "Now restoring ICA solution ...\n",
      "Ready.\n",
      "Applying ICA to Raw instance\n"
     ]
    },
    {
     "name": "stderr",
     "output_type": "stream",
     "text": [
      "[Parallel(n_jobs=1)]: Done  32 out of  32 | elapsed:    0.5s finished\n"
     ]
    },
    {
     "name": "stdout",
     "output_type": "stream",
     "text": [
      "    Transforming to ICA space (32 components)\n",
      "    Zeroing out 7 ICA components\n",
      "    Projecting back using 32 PCA components\n",
      "Used Annotations descriptions: ['769', '770']\n",
      "Not setting metadata\n",
      "40 matching events found\n",
      "No baseline correction applied\n",
      "0 projection items activated\n",
      "Using data from preloaded Raw for 40 events and 7681 original time points ...\n",
      "    Rejecting  epoch based on EEG : ['F4', 'F8']\n",
      "    Rejecting  epoch based on EEG : ['O2']\n",
      "2 bad epochs dropped\n",
      "Used Annotations descriptions: ['800']\n",
      "Not setting metadata\n",
      "40 matching events found\n",
      "No baseline correction applied\n",
      "0 projection items activated\n",
      "Using data from preloaded Raw for 40 events and 7681 original time points ...\n",
      "    Rejecting  epoch based on EEG : ['FC6', 'F4']\n",
      "    Rejecting  epoch based on EEG : ['F8']\n",
      "2 bad epochs dropped\n",
      "Not setting metadata\n",
      "76 matching events found\n",
      "No baseline correction applied\n"
     ]
    },
    {
     "name": "stderr",
     "output_type": "stream",
     "text": [
      "D:\\RUG\\Term 2\\FYRP\\continuous_control_bci\\continuous_control_bci\\data\\preprocessing.py:83: RuntimeWarning: Concatenation of Annotations within Epochs is not supported yet. All annotations will be dropped.\n",
      "  epochs = mne.concatenate_epochs([epochs, rest_epochs], add_offset=False)\n",
      "D:\\RUG\\Term 2\\FYRP\\continuous_control_bci\\continuous_control_bci\\data\\preprocessing.py:83: RuntimeWarning: The events passed to the Epochs constructor are not chronologically ordered.\n",
      "  epochs = mne.concatenate_epochs([epochs, rest_epochs], add_offset=False)\n"
     ]
    },
    {
     "name": "stdout",
     "output_type": "stream",
     "text": [
      "Training classifier. This may take a while..\n",
      "Computing rank from data with rank={'eeg': 25, 'mag': 32}\n",
      "    Setting small MAG eigenvalues to zero (without PCA)\n",
      "Reducing data rank from 32 -> 32\n",
      "Estimating covariance using SHRINKAGE\n",
      "Done.\n",
      "Computing rank from data with rank={'eeg': 25, 'mag': 32}\n",
      "    Setting small MAG eigenvalues to zero (without PCA)\n",
      "Reducing data rank from 32 -> 32\n",
      "Estimating covariance using SHRINKAGE\n",
      "Done.\n",
      "Computing rank from data with rank={'eeg': 25, 'mag': 32}\n",
      "    Setting small MAG eigenvalues to zero (without PCA)\n",
      "Reducing data rank from 32 -> 32\n",
      "Estimating covariance using SHRINKAGE\n",
      "Done.\n",
      "Computing rank from data with rank={'eeg': 25, 'mag': 32}\n",
      "    Setting small MAG eigenvalues to zero (without PCA)\n",
      "Reducing data rank from 32 -> 32\n",
      "Estimating covariance using SHRINKAGE\n",
      "Done.\n",
      "Computing rank from data with rank={'eeg': 25, 'mag': 32}\n",
      "    Setting small MAG eigenvalues to zero (without PCA)\n",
      "Reducing data rank from 32 -> 32\n",
      "Estimating covariance using SHRINKAGE\n",
      "Done.\n",
      "Computing rank from data with rank={'eeg': 25, 'mag': 32}\n",
      "    Setting small MAG eigenvalues to zero (without PCA)\n",
      "Reducing data rank from 32 -> 32\n",
      "Estimating covariance using SHRINKAGE\n",
      "Done.\n",
      "Computing rank from data with rank={'eeg': 25, 'mag': 32}\n",
      "    Setting small MAG eigenvalues to zero (without PCA)\n",
      "Reducing data rank from 32 -> 32\n",
      "Estimating covariance using SHRINKAGE\n",
      "Done.\n",
      "Computing rank from data with rank={'eeg': 25, 'mag': 32}\n",
      "    Setting small MAG eigenvalues to zero (without PCA)\n",
      "Reducing data rank from 32 -> 32\n",
      "Estimating covariance using SHRINKAGE\n",
      "Done.\n",
      "Computing rank from data with rank={'eeg': 25, 'mag': 32}\n",
      "    Setting small MAG eigenvalues to zero (without PCA)\n",
      "Reducing data rank from 32 -> 32\n",
      "Estimating covariance using SHRINKAGE\n",
      "Done.\n",
      "Computing rank from data with rank={'eeg': 25, 'mag': 32}\n",
      "    Setting small MAG eigenvalues to zero (without PCA)\n",
      "Reducing data rank from 32 -> 32\n",
      "Estimating covariance using SHRINKAGE\n",
      "Done.\n",
      "Computing rank from data with rank={'eeg': 25, 'mag': 32}\n",
      "    Setting small MAG eigenvalues to zero (without PCA)\n",
      "Reducing data rank from 32 -> 32\n",
      "Estimating covariance using SHRINKAGE\n",
      "Done.\n",
      "Computing rank from data with rank={'eeg': 25, 'mag': 32}\n",
      "    Setting small MAG eigenvalues to zero (without PCA)\n",
      "Reducing data rank from 32 -> 32\n",
      "Estimating covariance using SHRINKAGE\n",
      "Done.\n",
      "Computing rank from data with rank={'eeg': 25, 'mag': 32}\n",
      "    Setting small MAG eigenvalues to zero (without PCA)\n",
      "Reducing data rank from 32 -> 32\n",
      "Estimating covariance using SHRINKAGE\n",
      "Done.\n",
      "Computing rank from data with rank={'eeg': 25, 'mag': 32}\n",
      "    Setting small MAG eigenvalues to zero (without PCA)\n",
      "Reducing data rank from 32 -> 32\n",
      "Estimating covariance using SHRINKAGE\n",
      "Done.\n",
      "Computing rank from data with rank={'eeg': 25, 'mag': 32}\n",
      "    Setting small MAG eigenvalues to zero (without PCA)\n",
      "Reducing data rank from 32 -> 32\n",
      "Estimating covariance using SHRINKAGE\n",
      "Done.\n",
      "Computing rank from data with rank={'eeg': 25, 'mag': 32}\n",
      "    Setting small MAG eigenvalues to zero (without PCA)\n",
      "Reducing data rank from 32 -> 32\n",
      "Estimating covariance using SHRINKAGE\n",
      "Done.\n",
      "Computing rank from data with rank={'eeg': 25, 'mag': 32}\n",
      "    Setting small MAG eigenvalues to zero (without PCA)\n",
      "Reducing data rank from 32 -> 32\n",
      "Estimating covariance using SHRINKAGE\n",
      "Done.\n",
      "Computing rank from data with rank={'eeg': 25, 'mag': 32}\n",
      "    Setting small MAG eigenvalues to zero (without PCA)\n",
      "Reducing data rank from 32 -> 32\n",
      "Estimating covariance using SHRINKAGE\n",
      "Done.\n",
      "Classifier trained!\n",
      "Subject 840 calibration\n",
      "              precision    recall  f1-score   support\n",
      "\n",
      "        Left       0.71      0.53      0.61        19\n",
      "       Right       0.67      0.63      0.65        19\n",
      "        Rest       0.68      0.79      0.73        38\n",
      "\n",
      "    accuracy                           0.68        76\n",
      "   macro avg       0.69      0.65      0.66        76\n",
      "weighted avg       0.69      0.68      0.68        76\n",
      "\n",
      "Creating RawArray with float64 data, n_channels=40, n_times=7372669\n",
      "    Range : 0 ... 7372668 =      0.000 ...  3599.936 secs\n",
      "Ready.\n",
      "EEG channel type selected for re-referencing\n",
      "Applying average reference.\n",
      "Applying a custom ('EEG',) reference.\n"
     ]
    },
    {
     "name": "stderr",
     "output_type": "stream",
     "text": [
      "D:\\RUG\\Term 2\\FYRP\\continuous_control_bci\\continuous_control_bci\\data\\load_data.py:28: RuntimeWarning: The unit for channel(s) AF3, AF4, C3, C4, CP1, CP2, CP5, CP6, Cz, F3, F4, F7, F8, FC1, FC2, FC5, FC6, Fp1, Fp2, Fz, LHEOG, LVEOG, Left-extension, Left-flexion, O1, O2, Oz, P3, P4, P7, P8, PO3, PO4, Pz, RHEOG, Right-extension, Right-flexion, T7, T8, UVEOG has changed from NA to V.\n",
      "  streams.raw.set_channel_types(CHANNEL_TYPE_MAPPING)\n"
     ]
    },
    {
     "name": "stdout",
     "output_type": "stream",
     "text": [
      "Filtering raw data in 1 contiguous segment\n",
      "Setting up band-pass filter from 5 - 35 Hz\n",
      "\n",
      "FIR filter parameters\n",
      "---------------------\n",
      "Designing a one-pass, zero-phase, non-causal bandpass filter:\n",
      "- Windowed time-domain design (firwin) method\n",
      "- Hamming window with 0.0194 passband ripple and 53 dB stopband attenuation\n",
      "- Lower passband edge: 5.00\n",
      "- Lower transition bandwidth: 2.00 Hz (-6 dB cutoff frequency: 4.00 Hz)\n",
      "- Upper passband edge: 35.00 Hz\n",
      "- Upper transition bandwidth: 8.75 Hz (-6 dB cutoff frequency: 39.38 Hz)\n",
      "- Filter length: 3381 samples (1.651 s)\n",
      "\n"
     ]
    },
    {
     "name": "stderr",
     "output_type": "stream",
     "text": [
      "[Parallel(n_jobs=1)]: Using backend SequentialBackend with 1 concurrent workers.\n",
      "[Parallel(n_jobs=1)]: Done   1 out of   1 | elapsed:    0.1s remaining:    0.0s\n",
      "[Parallel(n_jobs=1)]: Done   2 out of   2 | elapsed:    0.3s remaining:    0.0s\n",
      "[Parallel(n_jobs=1)]: Done   3 out of   3 | elapsed:    0.5s remaining:    0.0s\n",
      "[Parallel(n_jobs=1)]: Done   4 out of   4 | elapsed:    0.7s remaining:    0.0s\n",
      "[Parallel(n_jobs=1)]: Done  32 out of  32 | elapsed:    5.6s finished\n"
     ]
    },
    {
     "name": "stdout",
     "output_type": "stream",
     "text": [
      "Reading D:/RUG/Term 2/FYRP/data/ica/P840-calibration-ica.fif ...\n",
      "Now restoring ICA solution ...\n",
      "Ready.\n",
      "Applying ICA to Raw instance\n",
      "    Transforming to ICA space (32 components)\n",
      "    Zeroing out 7 ICA components\n",
      "    Projecting back using 32 PCA components\n",
      "Not setting metadata\n",
      "17999 matching events found\n",
      "No baseline correction applied\n",
      "0 projection items activated\n",
      "Using data from preloaded Raw for 17999 events and 410 original time points ...\n",
      "0 bad epochs dropped\n",
      "Transfer performance\n",
      "              precision    recall  f1-score   support\n",
      "\n",
      "        Left       0.34      0.35      0.34      5208\n",
      "       Right       0.24      0.34      0.28      3353\n",
      "        Rest       0.58      0.48      0.52      9438\n",
      "\n",
      "    accuracy                           0.41     17999\n",
      "   macro avg       0.38      0.39      0.38     17999\n",
      "weighted avg       0.44      0.41      0.42     17999\n",
      "\n"
     ]
    },
    {
     "name": "stderr",
     "output_type": "stream",
     "text": [
      " 83%|████████▎ | 15/18 [09:14<02:04, 41.34s/it]"
     ]
    },
    {
     "name": "stdout",
     "output_type": "stream",
     "text": [
      "Extracting EDF parameters from D:\\RUG\\Term 2\\FYRP\\data\\ivo_data\\sub-P854\\motor-imagery-csp-854-acquisition-[2024.01.30-10.40.45].gdf...\n",
      "GDF file detected\n",
      "Setting channel info structure...\n",
      "Could not determine channel type of the following channels, they will be set as EEG:\n",
      "Channel 1, Channel 2, Channel 3, Channel 4, Channel 5, Channel 6, Channel 7, Channel 8, Channel 9, Channel 10, Channel 11, Channel 12, Channel 13, Channel 14, Channel 15, Channel 16, Channel 17, Channel 18, Channel 19, Channel 20, Channel 21, Channel 22, Channel 23, Channel 24, Channel 25, Channel 26, Channel 27, Channel 28, Channel 29, Channel 30, Channel 31, Channel 32, EX 1, EX 2, EX 3, EX 4, EX 5, EX 6, EX 7, EX 8\n",
      "Creating raw.info structure...\n",
      "Reading 0 ... 882783  =      0.000 ...   431.046 secs...\n",
      "EEG channel type selected for re-referencing\n",
      "Applying average reference.\n",
      "Applying a custom ('EEG',) reference.\n",
      "Filtering raw data in 1 contiguous segment\n",
      "Setting up band-pass filter from 5 - 35 Hz\n",
      "\n",
      "FIR filter parameters\n",
      "---------------------\n",
      "Designing a one-pass, zero-phase, non-causal bandpass filter:\n",
      "- Windowed time-domain design (firwin) method\n",
      "- Hamming window with 0.0194 passband ripple and 53 dB stopband attenuation\n",
      "- Lower passband edge: 5.00\n",
      "- Lower transition bandwidth: 2.00 Hz (-6 dB cutoff frequency: 4.00 Hz)\n",
      "- Upper passband edge: 35.00 Hz\n",
      "- Upper transition bandwidth: 8.75 Hz (-6 dB cutoff frequency: 39.38 Hz)\n",
      "- Filter length: 3381 samples (1.651 s)\n",
      "\n"
     ]
    },
    {
     "name": "stderr",
     "output_type": "stream",
     "text": [
      "[Parallel(n_jobs=1)]: Using backend SequentialBackend with 1 concurrent workers.\n",
      "[Parallel(n_jobs=1)]: Done   1 out of   1 | elapsed:    0.0s remaining:    0.0s\n",
      "[Parallel(n_jobs=1)]: Done   2 out of   2 | elapsed:    0.0s remaining:    0.0s\n",
      "[Parallel(n_jobs=1)]: Done   3 out of   3 | elapsed:    0.0s remaining:    0.0s\n",
      "[Parallel(n_jobs=1)]: Done   4 out of   4 | elapsed:    0.0s remaining:    0.0s\n"
     ]
    },
    {
     "name": "stdout",
     "output_type": "stream",
     "text": [
      "Reading D:/RUG/Term 2/FYRP/data/ica/P854-calibration-ica.fif ...\n"
     ]
    },
    {
     "name": "stderr",
     "output_type": "stream",
     "text": [
      "[Parallel(n_jobs=1)]: Done  32 out of  32 | elapsed:    0.6s finished\n"
     ]
    },
    {
     "name": "stdout",
     "output_type": "stream",
     "text": [
      "Now restoring ICA solution ...\n",
      "Ready.\n",
      "Applying ICA to Raw instance\n",
      "    Transforming to ICA space (32 components)\n",
      "    Zeroing out 3 ICA components\n",
      "    Projecting back using 32 PCA components\n",
      "Used Annotations descriptions: ['769', '770']\n",
      "Not setting metadata\n",
      "40 matching events found\n",
      "No baseline correction applied\n",
      "0 projection items activated\n",
      "Using data from preloaded Raw for 40 events and 7681 original time points ...\n",
      "0 bad epochs dropped\n",
      "Used Annotations descriptions: ['800']\n",
      "Not setting metadata\n",
      "40 matching events found\n",
      "No baseline correction applied\n",
      "0 projection items activated\n",
      "Using data from preloaded Raw for 40 events and 7681 original time points ...\n",
      "    Rejecting  epoch based on EEG : ['F8', 'Fp2']\n",
      "    Rejecting  epoch based on EEG : ['Fp1', 'AF3', 'F7', 'O1', 'O2', 'FC6', 'F4', 'F8', 'AF4', 'Fp2']\n",
      "2 bad epochs dropped\n",
      "Not setting metadata\n",
      "78 matching events found\n",
      "No baseline correction applied\n"
     ]
    },
    {
     "name": "stderr",
     "output_type": "stream",
     "text": [
      "D:\\RUG\\Term 2\\FYRP\\continuous_control_bci\\continuous_control_bci\\data\\preprocessing.py:83: RuntimeWarning: Concatenation of Annotations within Epochs is not supported yet. All annotations will be dropped.\n",
      "  epochs = mne.concatenate_epochs([epochs, rest_epochs], add_offset=False)\n",
      "D:\\RUG\\Term 2\\FYRP\\continuous_control_bci\\continuous_control_bci\\data\\preprocessing.py:83: RuntimeWarning: The events passed to the Epochs constructor are not chronologically ordered.\n",
      "  epochs = mne.concatenate_epochs([epochs, rest_epochs], add_offset=False)\n"
     ]
    },
    {
     "name": "stdout",
     "output_type": "stream",
     "text": [
      "Training classifier. This may take a while..\n",
      "Computing rank from data with rank={'eeg': 29, 'mag': 32}\n",
      "    Setting small MAG eigenvalues to zero (without PCA)\n",
      "Reducing data rank from 32 -> 32\n",
      "Estimating covariance using SHRINKAGE\n",
      "Done.\n",
      "Computing rank from data with rank={'eeg': 29, 'mag': 32}\n",
      "    Setting small MAG eigenvalues to zero (without PCA)\n",
      "Reducing data rank from 32 -> 32\n",
      "Estimating covariance using SHRINKAGE\n",
      "Done.\n",
      "Computing rank from data with rank={'eeg': 29, 'mag': 32}\n",
      "    Setting small MAG eigenvalues to zero (without PCA)\n",
      "Reducing data rank from 32 -> 32\n",
      "Estimating covariance using SHRINKAGE\n",
      "Done.\n",
      "Computing rank from data with rank={'eeg': 29, 'mag': 32}\n",
      "    Setting small MAG eigenvalues to zero (without PCA)\n",
      "Reducing data rank from 32 -> 32\n",
      "Estimating covariance using SHRINKAGE\n",
      "Done.\n",
      "Computing rank from data with rank={'eeg': 29, 'mag': 32}\n",
      "    Setting small MAG eigenvalues to zero (without PCA)\n",
      "Reducing data rank from 32 -> 32\n",
      "Estimating covariance using SHRINKAGE\n",
      "Done.\n",
      "Computing rank from data with rank={'eeg': 29, 'mag': 32}\n",
      "    Setting small MAG eigenvalues to zero (without PCA)\n",
      "Reducing data rank from 32 -> 32\n",
      "Estimating covariance using SHRINKAGE\n",
      "Done.\n",
      "Computing rank from data with rank={'eeg': 29, 'mag': 32}\n",
      "    Setting small MAG eigenvalues to zero (without PCA)\n",
      "Reducing data rank from 32 -> 32\n",
      "Estimating covariance using SHRINKAGE\n",
      "Done.\n",
      "Computing rank from data with rank={'eeg': 29, 'mag': 32}\n",
      "    Setting small MAG eigenvalues to zero (without PCA)\n",
      "Reducing data rank from 32 -> 32\n",
      "Estimating covariance using SHRINKAGE\n",
      "Done.\n",
      "Computing rank from data with rank={'eeg': 29, 'mag': 32}\n",
      "    Setting small MAG eigenvalues to zero (without PCA)\n",
      "Reducing data rank from 32 -> 32\n",
      "Estimating covariance using SHRINKAGE\n",
      "Done.\n",
      "Computing rank from data with rank={'eeg': 29, 'mag': 32}\n",
      "    Setting small MAG eigenvalues to zero (without PCA)\n",
      "Reducing data rank from 32 -> 32\n",
      "Estimating covariance using SHRINKAGE\n",
      "Done.\n",
      "Computing rank from data with rank={'eeg': 29, 'mag': 32}\n",
      "    Setting small MAG eigenvalues to zero (without PCA)\n",
      "Reducing data rank from 32 -> 32\n",
      "Estimating covariance using SHRINKAGE\n",
      "Done.\n",
      "Computing rank from data with rank={'eeg': 29, 'mag': 32}\n",
      "    Setting small MAG eigenvalues to zero (without PCA)\n",
      "Reducing data rank from 32 -> 32\n",
      "Estimating covariance using SHRINKAGE\n",
      "Done.\n",
      "Computing rank from data with rank={'eeg': 29, 'mag': 32}\n",
      "    Setting small MAG eigenvalues to zero (without PCA)\n",
      "Reducing data rank from 32 -> 32\n",
      "Estimating covariance using SHRINKAGE\n",
      "Done.\n",
      "Computing rank from data with rank={'eeg': 29, 'mag': 32}\n",
      "    Setting small MAG eigenvalues to zero (without PCA)\n",
      "Reducing data rank from 32 -> 32\n",
      "Estimating covariance using SHRINKAGE\n",
      "Done.\n",
      "Computing rank from data with rank={'eeg': 29, 'mag': 32}\n",
      "    Setting small MAG eigenvalues to zero (without PCA)\n",
      "Reducing data rank from 32 -> 32\n",
      "Estimating covariance using SHRINKAGE\n",
      "Done.\n",
      "Computing rank from data with rank={'eeg': 29, 'mag': 32}\n",
      "    Setting small MAG eigenvalues to zero (without PCA)\n",
      "Reducing data rank from 32 -> 32\n",
      "Estimating covariance using SHRINKAGE\n",
      "Done.\n",
      "Computing rank from data with rank={'eeg': 29, 'mag': 32}\n",
      "    Setting small MAG eigenvalues to zero (without PCA)\n",
      "Reducing data rank from 32 -> 32\n",
      "Estimating covariance using SHRINKAGE\n",
      "Done.\n",
      "Computing rank from data with rank={'eeg': 29, 'mag': 32}\n",
      "    Setting small MAG eigenvalues to zero (without PCA)\n",
      "Reducing data rank from 32 -> 32\n",
      "Estimating covariance using SHRINKAGE\n",
      "Done.\n",
      "Classifier trained!\n",
      "Subject 854 calibration\n",
      "              precision    recall  f1-score   support\n",
      "\n",
      "        Left       0.44      0.35      0.39        20\n",
      "       Right       0.46      0.30      0.36        20\n",
      "        Rest       0.69      0.89      0.78        38\n",
      "\n",
      "    accuracy                           0.60        78\n",
      "   macro avg       0.53      0.51      0.51        78\n",
      "weighted avg       0.57      0.60      0.57        78\n",
      "\n",
      "Creating RawArray with float64 data, n_channels=40, n_times=5495732\n",
      "    Range : 0 ... 5495731 =      0.000 ...  2683.462 secs\n",
      "Ready.\n",
      "EEG channel type selected for re-referencing\n",
      "Applying average reference.\n",
      "Applying a custom ('EEG',) reference.\n"
     ]
    },
    {
     "name": "stderr",
     "output_type": "stream",
     "text": [
      "D:\\RUG\\Term 2\\FYRP\\continuous_control_bci\\continuous_control_bci\\data\\load_data.py:28: RuntimeWarning: The unit for channel(s) AF3, AF4, C3, C4, CP1, CP2, CP5, CP6, Cz, F3, F4, F7, F8, FC1, FC2, FC5, FC6, Fp1, Fp2, Fz, LHEOG, LVEOG, Left-extension, Left-flexion, O1, O2, Oz, P3, P4, P7, P8, PO3, PO4, Pz, RHEOG, Right-extension, Right-flexion, T7, T8, UVEOG has changed from NA to V.\n",
      "  streams.raw.set_channel_types(CHANNEL_TYPE_MAPPING)\n"
     ]
    },
    {
     "name": "stdout",
     "output_type": "stream",
     "text": [
      "Filtering raw data in 1 contiguous segment\n",
      "Setting up band-pass filter from 5 - 35 Hz\n",
      "\n",
      "FIR filter parameters\n",
      "---------------------\n",
      "Designing a one-pass, zero-phase, non-causal bandpass filter:\n",
      "- Windowed time-domain design (firwin) method\n",
      "- Hamming window with 0.0194 passband ripple and 53 dB stopband attenuation\n",
      "- Lower passband edge: 5.00\n",
      "- Lower transition bandwidth: 2.00 Hz (-6 dB cutoff frequency: 4.00 Hz)\n",
      "- Upper passband edge: 35.00 Hz\n",
      "- Upper transition bandwidth: 8.75 Hz (-6 dB cutoff frequency: 39.38 Hz)\n",
      "- Filter length: 3381 samples (1.651 s)\n",
      "\n"
     ]
    },
    {
     "name": "stderr",
     "output_type": "stream",
     "text": [
      "[Parallel(n_jobs=1)]: Using backend SequentialBackend with 1 concurrent workers.\n",
      "[Parallel(n_jobs=1)]: Done   1 out of   1 | elapsed:    0.1s remaining:    0.0s\n",
      "[Parallel(n_jobs=1)]: Done   2 out of   2 | elapsed:    0.2s remaining:    0.0s\n",
      "[Parallel(n_jobs=1)]: Done   3 out of   3 | elapsed:    0.3s remaining:    0.0s\n",
      "[Parallel(n_jobs=1)]: Done   4 out of   4 | elapsed:    0.5s remaining:    0.0s\n",
      "[Parallel(n_jobs=1)]: Done  32 out of  32 | elapsed:    4.4s finished\n"
     ]
    },
    {
     "name": "stdout",
     "output_type": "stream",
     "text": [
      "Reading D:/RUG/Term 2/FYRP/data/ica/P854-calibration-ica.fif ...\n",
      "Now restoring ICA solution ...\n",
      "Ready.\n",
      "Applying ICA to Raw instance\n",
      "    Transforming to ICA space (32 components)\n",
      "    Zeroing out 3 ICA components\n",
      "    Projecting back using 32 PCA components\n",
      "Not setting metadata\n",
      "13417 matching events found\n",
      "No baseline correction applied\n",
      "0 projection items activated\n",
      "Using data from preloaded Raw for 13417 events and 410 original time points ...\n",
      "0 bad epochs dropped\n"
     ]
    },
    {
     "name": "stderr",
     "output_type": "stream",
     "text": [
      " 83%|████████▎ | 15/18 [10:10<02:02, 40.72s/it]"
     ]
    },
    {
     "name": "stdout",
     "output_type": "stream",
     "text": [
      "Transfer performance\n"
     ]
    },
    {
     "name": "stderr",
     "output_type": "stream",
     "text": [
      "\n"
     ]
    },
    {
     "ename": "ValueError",
     "evalue": "Found input variables with inconsistent numbers of samples: [0, 13417]",
     "output_type": "error",
     "traceback": [
      "\u001B[1;31m---------------------------------------------------------------------------\u001B[0m",
      "\u001B[1;31mValueError\u001B[0m                                Traceback (most recent call last)",
      "Cell \u001B[1;32mIn[14], line 49\u001B[0m\n\u001B[0;32m     46\u001B[0m y_driving_pred \u001B[38;5;241m=\u001B[39m predict_against_threshold(clf, X_driving, \u001B[38;5;241m0.2\u001B[39m)\n\u001B[0;32m     48\u001B[0m \u001B[38;5;28mprint\u001B[39m(\u001B[38;5;124mf\u001B[39m\u001B[38;5;124m\"\u001B[39m\u001B[38;5;124mTransfer performance\u001B[39m\u001B[38;5;124m\"\u001B[39m)\n\u001B[1;32m---> 49\u001B[0m \u001B[38;5;28mprint\u001B[39m(\u001B[43mclassification_report\u001B[49m\u001B[43m(\u001B[49m\u001B[43my_driving\u001B[49m\u001B[43m,\u001B[49m\u001B[43m \u001B[49m\u001B[43my_driving_pred\u001B[49m\u001B[43m,\u001B[49m\u001B[43m \u001B[49m\u001B[43mtarget_names\u001B[49m\u001B[38;5;241;43m=\u001B[39;49m\u001B[43mtarget_names\u001B[49m\u001B[43m)\u001B[49m)\n\u001B[0;32m     51\u001B[0m ConfusionMatrixDisplay\u001B[38;5;241m.\u001B[39mfrom_predictions(y_driving, y_driving_pred, display_labels\u001B[38;5;241m=\u001B[39mtarget_names,\n\u001B[0;32m     52\u001B[0m                                         normalize\u001B[38;5;241m=\u001B[39m\u001B[38;5;124m'\u001B[39m\u001B[38;5;124mtrue\u001B[39m\u001B[38;5;124m'\u001B[39m)\n\u001B[0;32m     53\u001B[0m f1 \u001B[38;5;241m=\u001B[39m f1_score(y_driving, y_driving_pred, average\u001B[38;5;241m=\u001B[39m\u001B[38;5;124m'\u001B[39m\u001B[38;5;124mmicro\u001B[39m\u001B[38;5;124m'\u001B[39m)\n",
      "File \u001B[1;32mD:\\Artificial Intelligence\\Bac Thesis\\Thesis_code\\venv\\lib\\site-packages\\sklearn\\metrics\\_classification.py:2310\u001B[0m, in \u001B[0;36mclassification_report\u001B[1;34m(y_true, y_pred, labels, target_names, sample_weight, digits, output_dict, zero_division)\u001B[0m\n\u001B[0;32m   2195\u001B[0m \u001B[38;5;28;01mdef\u001B[39;00m \u001B[38;5;21mclassification_report\u001B[39m(\n\u001B[0;32m   2196\u001B[0m     y_true,\n\u001B[0;32m   2197\u001B[0m     y_pred,\n\u001B[1;32m   (...)\u001B[0m\n\u001B[0;32m   2204\u001B[0m     zero_division\u001B[38;5;241m=\u001B[39m\u001B[38;5;124m\"\u001B[39m\u001B[38;5;124mwarn\u001B[39m\u001B[38;5;124m\"\u001B[39m,\n\u001B[0;32m   2205\u001B[0m ):\n\u001B[0;32m   2206\u001B[0m \u001B[38;5;250m    \u001B[39m\u001B[38;5;124;03m\"\"\"Build a text report showing the main classification metrics.\u001B[39;00m\n\u001B[0;32m   2207\u001B[0m \n\u001B[0;32m   2208\u001B[0m \u001B[38;5;124;03m    Read more in the :ref:`User Guide <classification_report>`.\u001B[39;00m\n\u001B[1;32m   (...)\u001B[0m\n\u001B[0;32m   2307\u001B[0m \u001B[38;5;124;03m    <BLANKLINE>\u001B[39;00m\n\u001B[0;32m   2308\u001B[0m \u001B[38;5;124;03m    \"\"\"\u001B[39;00m\n\u001B[1;32m-> 2310\u001B[0m     y_type, y_true, y_pred \u001B[38;5;241m=\u001B[39m \u001B[43m_check_targets\u001B[49m\u001B[43m(\u001B[49m\u001B[43my_true\u001B[49m\u001B[43m,\u001B[49m\u001B[43m \u001B[49m\u001B[43my_pred\u001B[49m\u001B[43m)\u001B[49m\n\u001B[0;32m   2312\u001B[0m     \u001B[38;5;28;01mif\u001B[39;00m labels \u001B[38;5;129;01mis\u001B[39;00m \u001B[38;5;28;01mNone\u001B[39;00m:\n\u001B[0;32m   2313\u001B[0m         labels \u001B[38;5;241m=\u001B[39m unique_labels(y_true, y_pred)\n",
      "File \u001B[1;32mD:\\Artificial Intelligence\\Bac Thesis\\Thesis_code\\venv\\lib\\site-packages\\sklearn\\metrics\\_classification.py:86\u001B[0m, in \u001B[0;36m_check_targets\u001B[1;34m(y_true, y_pred)\u001B[0m\n\u001B[0;32m     59\u001B[0m \u001B[38;5;28;01mdef\u001B[39;00m \u001B[38;5;21m_check_targets\u001B[39m(y_true, y_pred):\n\u001B[0;32m     60\u001B[0m \u001B[38;5;250m    \u001B[39m\u001B[38;5;124;03m\"\"\"Check that y_true and y_pred belong to the same classification task.\u001B[39;00m\n\u001B[0;32m     61\u001B[0m \n\u001B[0;32m     62\u001B[0m \u001B[38;5;124;03m    This converts multiclass or binary types to a common shape, and raises a\u001B[39;00m\n\u001B[1;32m   (...)\u001B[0m\n\u001B[0;32m     84\u001B[0m \u001B[38;5;124;03m    y_pred : array or indicator matrix\u001B[39;00m\n\u001B[0;32m     85\u001B[0m \u001B[38;5;124;03m    \"\"\"\u001B[39;00m\n\u001B[1;32m---> 86\u001B[0m     \u001B[43mcheck_consistent_length\u001B[49m\u001B[43m(\u001B[49m\u001B[43my_true\u001B[49m\u001B[43m,\u001B[49m\u001B[43m \u001B[49m\u001B[43my_pred\u001B[49m\u001B[43m)\u001B[49m\n\u001B[0;32m     87\u001B[0m     type_true \u001B[38;5;241m=\u001B[39m type_of_target(y_true, input_name\u001B[38;5;241m=\u001B[39m\u001B[38;5;124m\"\u001B[39m\u001B[38;5;124my_true\u001B[39m\u001B[38;5;124m\"\u001B[39m)\n\u001B[0;32m     88\u001B[0m     type_pred \u001B[38;5;241m=\u001B[39m type_of_target(y_pred, input_name\u001B[38;5;241m=\u001B[39m\u001B[38;5;124m\"\u001B[39m\u001B[38;5;124my_pred\u001B[39m\u001B[38;5;124m\"\u001B[39m)\n",
      "File \u001B[1;32mD:\\Artificial Intelligence\\Bac Thesis\\Thesis_code\\venv\\lib\\site-packages\\sklearn\\utils\\validation.py:397\u001B[0m, in \u001B[0;36mcheck_consistent_length\u001B[1;34m(*arrays)\u001B[0m\n\u001B[0;32m    395\u001B[0m uniques \u001B[38;5;241m=\u001B[39m np\u001B[38;5;241m.\u001B[39munique(lengths)\n\u001B[0;32m    396\u001B[0m \u001B[38;5;28;01mif\u001B[39;00m \u001B[38;5;28mlen\u001B[39m(uniques) \u001B[38;5;241m>\u001B[39m \u001B[38;5;241m1\u001B[39m:\n\u001B[1;32m--> 397\u001B[0m     \u001B[38;5;28;01mraise\u001B[39;00m \u001B[38;5;167;01mValueError\u001B[39;00m(\n\u001B[0;32m    398\u001B[0m         \u001B[38;5;124m\"\u001B[39m\u001B[38;5;124mFound input variables with inconsistent numbers of samples: \u001B[39m\u001B[38;5;132;01m%r\u001B[39;00m\u001B[38;5;124m\"\u001B[39m\n\u001B[0;32m    399\u001B[0m         \u001B[38;5;241m%\u001B[39m [\u001B[38;5;28mint\u001B[39m(l) \u001B[38;5;28;01mfor\u001B[39;00m l \u001B[38;5;129;01min\u001B[39;00m lengths]\n\u001B[0;32m    400\u001B[0m     )\n",
      "\u001B[1;31mValueError\u001B[0m: Found input variables with inconsistent numbers of samples: [0, 13417]"
     ]
    },
    {
     "data": {
      "text/plain": "<Figure size 640x480 with 2 Axes>",
      "image/png": "[encoded data removed]"
     },
     "metadata": {},
     "output_type": "display_data"
    },
    {
     "data": {
      "text/plain": "<Figure size 640x480 with 2 Axes>",
      "image/png": "[encoded data removed]"
     },
     "metadata": {},
     "output_type": "display_data"
    },
    {
     "data": {
      "text/plain": "<Figure size 640x480 with 2 Axes>",
      "image/png": "[encoded data removed]"
     },
     "metadata": {},
     "output_type": "display_data"
    },
    {
     "data": {
      "text/plain": "<Figure size 640x480 with 2 Axes>",
      "image/png": "[encoded data removed]"
     },
     "metadata": {},
     "output_type": "display_data"
    },
    {
     "data": {
      "text/plain": "<Figure size 640x480 with 2 Axes>",
      "image/png": "[encoded data removed]"
     },
     "metadata": {},
     "output_type": "display_data"
    },
    {
     "data": {
      "text/plain": "<Figure size 640x480 with 2 Axes>",
      "image/png": "[encoded data removed]"
     },
     "metadata": {},
     "output_type": "display_data"
    },
    {
     "data": {
      "text/plain": "<Figure size 640x480 with 2 Axes>",
      "image/png": "[encoded data removed]"
     },
     "metadata": {},
     "output_type": "display_data"
    },
    {
     "data": {
      "text/plain": "<Figure size 640x480 with 2 Axes>",
      "image/png": "[encoded data removed]"
     },
     "metadata": {},
     "output_type": "display_data"
    },
    {
     "data": {
      "text/plain": "<Figure size 640x480 with 2 Axes>",
      "image/png": "[encoded data removed]"
     },
     "metadata": {},
     "output_type": "display_data"
    },
    {
     "data": {
      "text/plain": "<Figure size 640x480 with 2 Axes>",
      "image/png": "[encoded data removed]"
     },
     "metadata": {},
     "output_type": "display_data"
    },
    {
     "data": {
      "text/plain": "<Figure size 640x480 with 2 Axes>",
      "image/png": "[encoded data removed]"
     },
     "metadata": {},
     "output_type": "display_data"
    },
    {
     "data": {
      "text/plain": "<Figure size 640x480 with 2 Axes>",
      "image/png": "[encoded data removed]"
     },
     "metadata": {},
     "output_type": "display_data"
    },
    {
     "data": {
      "text/plain": "<Figure size 640x480 with 2 Axes>",
      "image/png": "[encoded data removed]"
     },
     "metadata": {},
     "output_type": "display_data"
    },
    {
     "data": {
      "text/plain": "<Figure size 640x480 with 2 Axes>",
      "image/png": "[encoded data removed]"
     },
     "metadata": {},
     "output_type": "display_data"
    },
    {
     "data": {
      "text/plain": "<Figure size 640x480 with 2 Axes>",
      "image/png": "[encoded data removed]"
     },
     "metadata": {},
     "output_type": "display_data"
    }
   ],
   "source": [
    "f1s = []\n",
    "all_y_true = []\n",
    "all_y_pred = []\n",
    "\n",
    "include_rest = True\n",
    "if include_rest:\n",
    "    target_names = [\"Left\", \"Right\", \"Rest\"]\n",
    "else:\n",
    "    target_names = [\"Left\", \"Right\"]\n",
    "\n",
    "for subject_id in tqdm(SUBJECT_IDS):\n",
    "    raw = load_calibration(subject_id)\n",
    "    raw.set_eeg_reference()\n",
    "    raw.filter(l_freq=5, h_freq=35)\n",
    "\n",
    "    ica = read_ica(f'D:/RUG/Term 2/FYRP/data/ica/P{subject_id}-calibration-ica.fif')\n",
    "    ica.apply(raw)\n",
    "\n",
    "    epochs = make_epochs(raw, include_rest=include_rest)\n",
    "    X_train, _, y_train, _ = epochs_to_train_test(epochs)\n",
    "    print(\"Training classifier. This may take a while..\")\n",
    "    rank = {\n",
    "        'eeg': X_train.shape[1] - len(ica.exclude),\n",
    "        'mag': 32,\n",
    "    }\n",
    "    clf, y_pred = create_csp_classifier(X_train, y_train, rank)\n",
    "    print(\"Classifier trained!\")\n",
    "\n",
    "    print(f\"Subject {subject_id} calibration\")\n",
    "    print(classification_report(y_train, y_pred, target_names=target_names))\n",
    "\n",
    "    X_driving, y_driving = get_sliding_driving_epochs_data(subject_id, duration=0.2)\n",
    "\n",
    "    if X_driving.shape[0] > y_driving.shape[0]:\n",
    "        diff = X_driving.shape[0]-y_driving.shape[0]\n",
    "        X_driving = X_driving[:-diff,:,:]\n",
    "    else:\n",
    "        diff = y_driving.shape[0]-X_driving.shape[0]\n",
    "        y_driving = y_driving[:-diff]\n",
    "\n",
    "    #threshold_samples = int(X_driving.shape[0] * 0.1)\n",
    "    #print(threshold_samples)\n",
    "    #ts = np.linspace(0, 1, 30)\n",
    "    #t_scores = [f1_score(y_driving[:threshold_samples], predict_against_threshold(clf, X_driving[:threshold_samples], t), average='micro') for t in ts]\n",
    "    #best_t = ts[np.argmax(t_scores)]\n",
    "    y_driving_pred = predict_against_threshold(clf, X_driving, 0.2)\n",
    "\n",
    "    print(f\"Transfer performance\")\n",
    "    print(classification_report(y_driving, y_driving_pred, target_names=target_names))\n",
    "\n",
    "    ConfusionMatrixDisplay.from_predictions(y_driving, y_driving_pred, display_labels=target_names,\n",
    "                                            normalize='true')\n",
    "    f1 = f1_score(y_driving, y_driving_pred, average='micro')\n",
    "    f1s.append(f1)\n",
    "    all_y_true.append(y_driving)\n",
    "    all_y_pred.append(y_driving_pred)\n",
    "\n",
    "print(np.mean(f1s))\n",
    "print(np.std(f1s))\n",
    "print(f1s)\n",
    "for f1 in f1s:\n",
    "    print(f1)\n",
    "\n",
    "all_y_true = np.concatenate(all_y_true)\n",
    "all_y_pred = np.concatenate(all_y_pred)\n",
    "\n",
    "print(classification_report(all_y_true, all_y_pred, target_names=target_names))\n",
    "ConfusionMatrixDisplay.from_predictions(all_y_true, all_y_pred, display_labels=target_names,\n",
    "                                        normalize='true')\n",
    "\n"
   ],
   "metadata": {
    "collapsed": false,
    "pycharm": {
     "name": "#%%\n"
    }
   }
  },
  {
   "cell_type": "markdown",
   "source": [
    "I take 200ms (maybe overlap of 100ms) or shorter sliding windows, make a prediction and then if multiple windows have the same prediction or based on a majority voting (testing what works better) give a final prediction for the timewindow.\n",
    "\n",
    " - For now using Ivos algorithm:\n",
    "Make the sliding window based on larger windows. (How big should those windows be?) -> Make predicitions for those windows. (Already Implemented) -> Vote/ Cumulate last few windwos to transalte it into a prediction. How can this be evaluated? Maybe do the same with EMG predictions in the respective time windwos.\n",
    " - Frequency Bank, SVM or other Version\n",
    "\n",
    "\n",
    "So i have the sliding window, it predicts something and then after certain amount of predictions i make a bigger prediction. So this means i should loop over the epochs individually and make predictions on them and then aggregate these predictions to from a final one for any given timewindow.\n",
    "# No Overlap 2 second windows"
   ],
   "metadata": {
    "collapsed": false,
    "pycharm": {
     "name": "#%% md\n"
    }
   }
  },
  {
   "cell_type": "code",
   "execution_count": 1,
   "outputs": [],
   "source": [
    "import numpy as np\n",
    "import mne\n",
    "from mne.preprocessing import read_ica\n",
    "from sklearn.metrics import classification_report, ConfusionMatrixDisplay\n",
    "from sklearn.model_selection import cross_val_predict, GridSearchCV\n",
    "from sklearn.feature_selection import mutual_info_classif, SelectKBest\n",
    "from sklearn.svm import SVC, SVR\n",
    "from sklearn.pipeline import Pipeline\n",
    "from sklearn.linear_model import LogisticRegression\n",
    "from mne.decoding import CSP, SPoC\n",
    "from continuous_control_bci.util import emg_classes_to_eeg_classes, SUBJECT_IDS\n",
    "from tqdm import tqdm\n",
    "import matplotlib as plt\n",
    "\n",
    "from continuous_control_bci.data.load_data import load_calibration, load_driving\n",
    "from continuous_control_bci.data.preprocessing import make_epochs, epochs_to_train_test\n",
    "from continuous_control_bci.modelling.csp_classifier import create_csp_classifier, get_driving_epochs_for_csp\n",
    "from sklearn.metrics import f1_score"
   ],
   "metadata": {
    "collapsed": false,
    "pycharm": {
     "name": "#%%\n"
    }
   }
  },
  {
   "cell_type": "code",
   "execution_count": 2,
   "outputs": [],
   "source": [
    "# Define used functions here:\n",
    "def get_windows(data, window_size, sample_rate):\n",
    "    \"\"\"\"\n",
    "    Sliding window for the EEG data, currently steps 1 second\n",
    "    - data: numpy array\n",
    "    - window size: size in seconds\n",
    "\n",
    "    - returns: a numpy array for that current window\n",
    "    \"\"\"\n",
    "    step = int(sample_rate*window_size)\n",
    "    windows = []\n",
    "    for start in range(0, data.shape[1]-step+1, step):\n",
    "        end = start + step\n",
    "        windows.append(data[:,start:end])\n",
    "    return windows\n",
    "\n",
    "def create_csp_svm_classifier(X_train: np.ndarray, y_train: np.ndarray, rank):\n",
    "    \"\"\"\n",
    "    Trains a CSP classifier on all the data.\n",
    "    First, however it runs 5-fold cross validation to make cross-validated predictions.\n",
    "    This the resulting predictions are returns for a fair evaluation, with an optimal model for the training data.\n",
    "    :param X_train:\n",
    "    :param y_train:\n",
    "    :return:\n",
    "    \"\"\"\n",
    "    clf_eeg = Pipeline([\n",
    "        (\"CSP\", CSP(n_components=6, reg='shrinkage', log=True, rank=rank)),\n",
    "        (\"SVC\", SVC(C=10, gamma=0.1, kernel=\"rbf\"))]) #'SVC__C': 10, 'SVC__gamma': 0.1, 'SVC__kernel': 'rbf'\n",
    "    param_grid = {'SVC__C': [0.1, 1, 10, 100, 1000],\n",
    "                  'SVC__gamma': [1, 0.1, 0.01, 0.001, 0.0001],\n",
    "                  'SVC__kernel': ['rbf', 'gauss']}\n",
    "    #    search = GridSearchCV(clf_eeg, param_grid, n_jobs=2, cv=5)\n",
    "    #    search.fit(X_train, y_train)\n",
    "    #    print(\"BEST PARAMETERS!!!!!!!\",search.best_params_)\n",
    "    #    params = search.get_params()\n",
    "\n",
    "    y_pred = cross_val_predict(clf_eeg, X_train, y_train, cv=5)\n",
    "\n",
    "    clf_eeg.fit(X_train, y_train)\n",
    "\n",
    "    return clf_eeg, y_pred #params\n",
    "\n",
    "def create_csp_svr_classifier(X_train: np.ndarray, y_train: np.ndarray, rank):\n",
    "    \"\"\"\n",
    "    Trains a CSP classifier on all the data.\n",
    "    First, however it runs 5-fold cross validation to make cross-validated predictions.\n",
    "    This the resulting predictions are returns for a fair evaluation, with an optimal model for the training data.\n",
    "    :param X_train:\n",
    "    :param y_train:\n",
    "    :return:\n",
    "    \"\"\"\n",
    "\n",
    "    clf_eeg = Pipeline([\n",
    "        (\"CSP\", CSP(n_components=6, reg='shrinkage', log=True, rank=rank)),\n",
    "        (\"SVR\", SVR())])\n",
    "\n",
    "    y_pred = cross_val_predict(clf_eeg, X_train, y_train, cv=5)\n",
    "\n",
    "    clf_eeg.fit(X_train, y_train)\n",
    "\n",
    "    return clf_eeg, y_pred"
   ],
   "metadata": {
    "collapsed": false,
    "pycharm": {
     "name": "#%%\n"
    }
   }
  },
  {
   "cell_type": "markdown",
   "source": [],
   "metadata": {
    "collapsed": false,
    "pycharm": {
     "name": "#%% md\n"
    }
   }
  },
  {
   "cell_type": "code",
   "execution_count": 3,
   "outputs": [
    {
     "name": "stdout",
     "output_type": "stream",
     "text": [
      "Extracting EDF parameters from D:\\RUG\\Term 2\\FYRP\\data\\ivo_data\\sub-P061\\motor-imagery-csp-061-acquisition-[2024.02.07-14.35.15].gdf...\n",
      "GDF file detected\n",
      "Setting channel info structure...\n",
      "Could not determine channel type of the following channels, they will be set as EEG:\n",
      "Channel 1, Channel 2, Channel 3, Channel 4, Channel 5, Channel 6, Channel 7, Channel 8, Channel 9, Channel 10, Channel 11, Channel 12, Channel 13, Channel 14, Channel 15, Channel 16, Channel 17, Channel 18, Channel 19, Channel 20, Channel 21, Channel 22, Channel 23, Channel 24, Channel 25, Channel 26, Channel 27, Channel 28, Channel 29, Channel 30, Channel 31, Channel 32, EX 1, EX 2, EX 3, EX 4, EX 5, EX 6, EX 7, EX 8\n",
      "Creating raw.info structure...\n",
      "Reading 0 ... 882783  =      0.000 ...   431.046 secs...\n",
      "EEG channel type selected for re-referencing\n",
      "Applying average reference.\n",
      "Applying a custom ('EEG',) reference.\n",
      "Filtering raw data in 1 contiguous segment\n",
      "Setting up band-pass filter from 5 - 35 Hz\n",
      "\n",
      "FIR filter parameters\n",
      "---------------------\n",
      "Designing a one-pass, zero-phase, non-causal bandpass filter:\n",
      "- Windowed time-domain design (firwin) method\n",
      "- Hamming window with 0.0194 passband ripple and 53 dB stopband attenuation\n",
      "- Lower passband edge: 5.00\n",
      "- Lower transition bandwidth: 2.00 Hz (-6 dB cutoff frequency: 4.00 Hz)\n",
      "- Upper passband edge: 35.00 Hz\n",
      "- Upper transition bandwidth: 8.75 Hz (-6 dB cutoff frequency: 39.38 Hz)\n",
      "- Filter length: 3381 samples (1.651 s)\n",
      "\n"
     ]
    },
    {
     "name": "stderr",
     "output_type": "stream",
     "text": [
      "[Parallel(n_jobs=1)]: Using backend SequentialBackend with 1 concurrent workers.\n",
      "[Parallel(n_jobs=1)]: Done   1 out of   1 | elapsed:    0.0s remaining:    0.0s\n",
      "[Parallel(n_jobs=1)]: Done   2 out of   2 | elapsed:    0.0s remaining:    0.0s\n",
      "[Parallel(n_jobs=1)]: Done   3 out of   3 | elapsed:    0.0s remaining:    0.0s\n",
      "[Parallel(n_jobs=1)]: Done   4 out of   4 | elapsed:    0.0s remaining:    0.0s\n"
     ]
    },
    {
     "name": "stdout",
     "output_type": "stream",
     "text": [
      "Reading D:/RUG/Term 2/FYRP/data/ica/P061-calibration-ica.fif ...\n",
      "Now restoring ICA solution ...\n",
      "Ready.\n",
      "Applying ICA to Raw instance\n"
     ]
    },
    {
     "name": "stderr",
     "output_type": "stream",
     "text": [
      "[Parallel(n_jobs=1)]: Done  32 out of  32 | elapsed:    0.4s finished\n"
     ]
    },
    {
     "name": "stdout",
     "output_type": "stream",
     "text": [
      "    Transforming to ICA space (32 components)\n",
      "    Zeroing out 2 ICA components\n",
      "    Projecting back using 32 PCA components\n",
      "Used Annotations descriptions: ['769', '770']\n",
      "Not setting metadata\n",
      "40 matching events found\n",
      "No baseline correction applied\n",
      "0 projection items activated\n",
      "Using data from preloaded Raw for 40 events and 7681 original time points ...\n",
      "0 bad epochs dropped\n",
      "Used Annotations descriptions: ['800']\n",
      "Not setting metadata\n",
      "40 matching events found\n",
      "No baseline correction applied\n",
      "0 projection items activated\n",
      "Using data from preloaded Raw for 40 events and 7681 original time points ...\n",
      "0 bad epochs dropped\n",
      "Not setting metadata\n",
      "80 matching events found\n",
      "No baseline correction applied\n"
     ]
    },
    {
     "name": "stderr",
     "output_type": "stream",
     "text": [
      "D:\\RUG\\Term 2\\FYRP\\continuous_control_bci\\continuous_control_bci\\data\\preprocessing.py:83: RuntimeWarning: Concatenation of Annotations within Epochs is not supported yet. All annotations will be dropped.\n",
      "  epochs = mne.concatenate_epochs([epochs, rest_epochs], add_offset=False)\n",
      "D:\\RUG\\Term 2\\FYRP\\continuous_control_bci\\continuous_control_bci\\data\\preprocessing.py:83: RuntimeWarning: The events passed to the Epochs constructor are not chronologically ordered.\n",
      "  epochs = mne.concatenate_epochs([epochs, rest_epochs], add_offset=False)\n"
     ]
    }
   ],
   "source": [
    "# Subject 61 should have fairly good EEG data and performance\n",
    "subject_id = \"061\"\n",
    "include_rest = True\n",
    "raw = load_calibration(subject_id)\n",
    "raw.set_eeg_reference()\n",
    "raw.filter(l_freq=5, h_freq=35)\n",
    "\n",
    "ica = read_ica(f'D:/RUG/Term 2/FYRP/data/ica/P{subject_id}-calibration-ica.fif')\n",
    "ica.apply(raw)\n",
    "\n",
    "epochs = make_epochs(raw, include_rest=include_rest)"
   ],
   "metadata": {
    "collapsed": false,
    "pycharm": {
     "name": "#%%\n"
    }
   }
  },
  {
   "cell_type": "code",
   "execution_count": 4,
   "outputs": [
    {
     "name": "stdout",
     "output_type": "stream",
     "text": [
      "Training classifier. This may take a while..\n",
      "Computing rank from data with rank={'eeg': 30, 'mag': 32}\n",
      "    Setting small MAG eigenvalues to zero (without PCA)\n",
      "Reducing data rank from 32 -> 32\n",
      "Estimating covariance using SHRINKAGE\n",
      "Done.\n",
      "Computing rank from data with rank={'eeg': 30, 'mag': 32}\n",
      "    Setting small MAG eigenvalues to zero (without PCA)\n",
      "Reducing data rank from 32 -> 32\n",
      "Estimating covariance using SHRINKAGE\n",
      "Done.\n",
      "Computing rank from data with rank={'eeg': 30, 'mag': 32}\n",
      "    Setting small MAG eigenvalues to zero (without PCA)\n",
      "Reducing data rank from 32 -> 32\n",
      "Estimating covariance using SHRINKAGE\n",
      "Done.\n",
      "Computing rank from data with rank={'eeg': 30, 'mag': 32}\n",
      "    Setting small MAG eigenvalues to zero (without PCA)\n",
      "Reducing data rank from 32 -> 32\n",
      "Estimating covariance using SHRINKAGE\n",
      "Done.\n",
      "Computing rank from data with rank={'eeg': 30, 'mag': 32}\n",
      "    Setting small MAG eigenvalues to zero (without PCA)\n",
      "Reducing data rank from 32 -> 32\n",
      "Estimating covariance using SHRINKAGE\n",
      "Done.\n",
      "Computing rank from data with rank={'eeg': 30, 'mag': 32}\n",
      "    Setting small MAG eigenvalues to zero (without PCA)\n",
      "Reducing data rank from 32 -> 32\n",
      "Estimating covariance using SHRINKAGE\n",
      "Done.\n",
      "Computing rank from data with rank={'eeg': 30, 'mag': 32}\n",
      "    Setting small MAG eigenvalues to zero (without PCA)\n",
      "Reducing data rank from 32 -> 32\n",
      "Estimating covariance using SHRINKAGE\n",
      "Done.\n",
      "Computing rank from data with rank={'eeg': 30, 'mag': 32}\n",
      "    Setting small MAG eigenvalues to zero (without PCA)\n",
      "Reducing data rank from 32 -> 32\n",
      "Estimating covariance using SHRINKAGE\n",
      "Done.\n",
      "Computing rank from data with rank={'eeg': 30, 'mag': 32}\n",
      "    Setting small MAG eigenvalues to zero (without PCA)\n",
      "Reducing data rank from 32 -> 32\n",
      "Estimating covariance using SHRINKAGE\n",
      "Done.\n",
      "Computing rank from data with rank={'eeg': 30, 'mag': 32}\n",
      "    Setting small MAG eigenvalues to zero (without PCA)\n",
      "Reducing data rank from 32 -> 32\n",
      "Estimating covariance using SHRINKAGE\n",
      "Done.\n",
      "Computing rank from data with rank={'eeg': 30, 'mag': 32}\n",
      "    Setting small MAG eigenvalues to zero (without PCA)\n",
      "Reducing data rank from 32 -> 32\n",
      "Estimating covariance using SHRINKAGE\n",
      "Done.\n",
      "Computing rank from data with rank={'eeg': 30, 'mag': 32}\n",
      "    Setting small MAG eigenvalues to zero (without PCA)\n",
      "Reducing data rank from 32 -> 32\n",
      "Estimating covariance using SHRINKAGE\n",
      "Done.\n",
      "Computing rank from data with rank={'eeg': 30, 'mag': 32}\n",
      "    Setting small MAG eigenvalues to zero (without PCA)\n",
      "Reducing data rank from 32 -> 32\n",
      "Estimating covariance using SHRINKAGE\n",
      "Done.\n",
      "Computing rank from data with rank={'eeg': 30, 'mag': 32}\n",
      "    Setting small MAG eigenvalues to zero (without PCA)\n",
      "Reducing data rank from 32 -> 32\n",
      "Estimating covariance using SHRINKAGE\n",
      "Done.\n",
      "Computing rank from data with rank={'eeg': 30, 'mag': 32}\n",
      "    Setting small MAG eigenvalues to zero (without PCA)\n",
      "Reducing data rank from 32 -> 32\n",
      "Estimating covariance using SHRINKAGE\n",
      "Done.\n",
      "Computing rank from data with rank={'eeg': 30, 'mag': 32}\n",
      "    Setting small MAG eigenvalues to zero (without PCA)\n",
      "Reducing data rank from 32 -> 32\n",
      "Estimating covariance using SHRINKAGE\n",
      "Done.\n",
      "Computing rank from data with rank={'eeg': 30, 'mag': 32}\n",
      "    Setting small MAG eigenvalues to zero (without PCA)\n",
      "Reducing data rank from 32 -> 32\n",
      "Estimating covariance using SHRINKAGE\n",
      "Done.\n",
      "Computing rank from data with rank={'eeg': 30, 'mag': 32}\n",
      "    Setting small MAG eigenvalues to zero (without PCA)\n",
      "Reducing data rank from 32 -> 32\n",
      "Estimating covariance using SHRINKAGE\n",
      "Done.\n",
      "Computing rank from data with rank={'eeg': 30, 'mag': 32}\n",
      "    Setting small MAG eigenvalues to zero (without PCA)\n",
      "Reducing data rank from 32 -> 32\n",
      "Estimating covariance using SHRINKAGE\n",
      "Done.\n",
      "Computing rank from data with rank={'eeg': 30, 'mag': 32}\n",
      "    Setting small MAG eigenvalues to zero (without PCA)\n",
      "Reducing data rank from 32 -> 32\n",
      "Estimating covariance using SHRINKAGE\n",
      "Done.\n",
      "Computing rank from data with rank={'eeg': 30, 'mag': 32}\n",
      "    Setting small MAG eigenvalues to zero (without PCA)\n",
      "Reducing data rank from 32 -> 32\n",
      "Estimating covariance using SHRINKAGE\n",
      "Done.\n",
      "Computing rank from data with rank={'eeg': 30, 'mag': 32}\n",
      "    Setting small MAG eigenvalues to zero (without PCA)\n",
      "Reducing data rank from 32 -> 32\n",
      "Estimating covariance using SHRINKAGE\n",
      "Done.\n",
      "Computing rank from data with rank={'eeg': 30, 'mag': 32}\n",
      "    Setting small MAG eigenvalues to zero (without PCA)\n",
      "Reducing data rank from 32 -> 32\n",
      "Estimating covariance using SHRINKAGE\n",
      "Done.\n",
      "Computing rank from data with rank={'eeg': 30, 'mag': 32}\n",
      "    Setting small MAG eigenvalues to zero (without PCA)\n",
      "Reducing data rank from 32 -> 32\n",
      "Estimating covariance using SHRINKAGE\n",
      "Done.\n",
      "Computing rank from data with rank={'eeg': 30, 'mag': 32}\n",
      "    Setting small MAG eigenvalues to zero (without PCA)\n",
      "Reducing data rank from 32 -> 32\n",
      "Estimating covariance using SHRINKAGE\n",
      "Done.\n",
      "Computing rank from data with rank={'eeg': 30, 'mag': 32}\n",
      "    Setting small MAG eigenvalues to zero (without PCA)\n",
      "Reducing data rank from 32 -> 32\n",
      "Estimating covariance using SHRINKAGE\n",
      "Done.\n",
      "Computing rank from data with rank={'eeg': 30, 'mag': 32}\n",
      "    Setting small MAG eigenvalues to zero (without PCA)\n",
      "Reducing data rank from 32 -> 32\n",
      "Estimating covariance using SHRINKAGE\n",
      "Done.\n",
      "Computing rank from data with rank={'eeg': 30, 'mag': 32}\n",
      "    Setting small MAG eigenvalues to zero (without PCA)\n",
      "Reducing data rank from 32 -> 32\n",
      "Estimating covariance using SHRINKAGE\n",
      "Done.\n",
      "Computing rank from data with rank={'eeg': 30, 'mag': 32}\n",
      "    Setting small MAG eigenvalues to zero (without PCA)\n",
      "Reducing data rank from 32 -> 32\n",
      "Estimating covariance using SHRINKAGE\n",
      "Done.\n",
      "Computing rank from data with rank={'eeg': 30, 'mag': 32}\n",
      "    Setting small MAG eigenvalues to zero (without PCA)\n",
      "Reducing data rank from 32 -> 32\n",
      "Estimating covariance using SHRINKAGE\n",
      "Done.\n",
      "Computing rank from data with rank={'eeg': 30, 'mag': 32}\n",
      "    Setting small MAG eigenvalues to zero (without PCA)\n",
      "Reducing data rank from 32 -> 32\n",
      "Estimating covariance using SHRINKAGE\n",
      "Done.\n",
      "Computing rank from data with rank={'eeg': 30, 'mag': 32}\n",
      "    Setting small MAG eigenvalues to zero (without PCA)\n",
      "Reducing data rank from 32 -> 32\n",
      "Estimating covariance using SHRINKAGE\n",
      "Done.\n",
      "Computing rank from data with rank={'eeg': 30, 'mag': 32}\n",
      "    Setting small MAG eigenvalues to zero (without PCA)\n",
      "Reducing data rank from 32 -> 32\n",
      "Estimating covariance using SHRINKAGE\n",
      "Done.\n",
      "Computing rank from data with rank={'eeg': 30, 'mag': 32}\n",
      "    Setting small MAG eigenvalues to zero (without PCA)\n",
      "Reducing data rank from 32 -> 32\n",
      "Estimating covariance using SHRINKAGE\n",
      "Done.\n",
      "Computing rank from data with rank={'eeg': 30, 'mag': 32}\n",
      "    Setting small MAG eigenvalues to zero (without PCA)\n",
      "Reducing data rank from 32 -> 32\n",
      "Estimating covariance using SHRINKAGE\n",
      "Done.\n",
      "Computing rank from data with rank={'eeg': 30, 'mag': 32}\n",
      "    Setting small MAG eigenvalues to zero (without PCA)\n",
      "Reducing data rank from 32 -> 32\n",
      "Estimating covariance using SHRINKAGE\n",
      "Done.\n",
      "Classifier trained!\n"
     ]
    }
   ],
   "source": [
    "\n",
    "X_train, _, y_train, _ = epochs_to_train_test(epochs)\n",
    "print(\"Training classifier. This may take a while..\")\n",
    "rank = {\n",
    "    'eeg': X_train.shape[1] - len(ica.exclude),\n",
    "    'mag': 32,\n",
    "}\n",
    "clf, y_pred = create_csp_classifier(X_train, y_train, rank)\n",
    "svm_model, y_svm_pred = create_csp_svm_classifier(X_train, y_train, rank)\n",
    "print(\"Classifier trained!\")"
   ],
   "metadata": {
    "collapsed": false,
    "pycharm": {
     "name": "#%%\n"
    }
   }
  },
  {
   "cell_type": "code",
   "execution_count": 4,
   "outputs": [],
   "source": [],
   "metadata": {
    "collapsed": false,
    "pycharm": {
     "name": "#%%\n"
    }
   }
  },
  {
   "cell_type": "code",
   "execution_count": 5,
   "outputs": [
    {
     "name": "stdout",
     "output_type": "stream",
     "text": [
      "Creating RawArray with float64 data, n_channels=40, n_times=5494682\n",
      "    Range : 0 ... 5494681 =      0.000 ...  2682.950 secs\n",
      "Ready.\n",
      "EEG channel type selected for re-referencing\n",
      "Applying average reference.\n",
      "Applying a custom ('EEG',) reference.\n"
     ]
    },
    {
     "name": "stderr",
     "output_type": "stream",
     "text": [
      "D:\\RUG\\Term 2\\FYRP\\continuous_control_bci\\continuous_control_bci\\data\\load_data.py:28: RuntimeWarning: The unit for channel(s) AF3, AF4, C3, C4, CP1, CP2, CP5, CP6, Cz, F3, F4, F7, F8, FC1, FC2, FC5, FC6, Fp1, Fp2, Fz, LHEOG, LVEOG, Left-extension, Left-flexion, O1, O2, Oz, P3, P4, P7, P8, PO3, PO4, Pz, RHEOG, Right-extension, Right-flexion, T7, T8, UVEOG has changed from NA to V.\n",
      "  streams.raw.set_channel_types(CHANNEL_TYPE_MAPPING)\n"
     ]
    },
    {
     "name": "stdout",
     "output_type": "stream",
     "text": [
      "Filtering raw data in 1 contiguous segment\n",
      "Setting up band-pass filter from 5 - 35 Hz\n",
      "\n",
      "FIR filter parameters\n",
      "---------------------\n",
      "Designing a one-pass, zero-phase, non-causal bandpass filter:\n",
      "- Windowed time-domain design (firwin) method\n",
      "- Hamming window with 0.0194 passband ripple and 53 dB stopband attenuation\n",
      "- Lower passband edge: 5.00\n",
      "- Lower transition bandwidth: 2.00 Hz (-6 dB cutoff frequency: 4.00 Hz)\n",
      "- Upper passband edge: 35.00 Hz\n",
      "- Upper transition bandwidth: 8.75 Hz (-6 dB cutoff frequency: 39.38 Hz)\n",
      "- Filter length: 3381 samples (1.651 s)\n",
      "\n"
     ]
    },
    {
     "name": "stderr",
     "output_type": "stream",
     "text": [
      "[Parallel(n_jobs=1)]: Using backend SequentialBackend with 1 concurrent workers.\n",
      "[Parallel(n_jobs=1)]: Done   1 out of   1 | elapsed:    0.0s remaining:    0.0s\n",
      "[Parallel(n_jobs=1)]: Done   2 out of   2 | elapsed:    0.1s remaining:    0.0s\n",
      "[Parallel(n_jobs=1)]: Done   3 out of   3 | elapsed:    0.3s remaining:    0.0s\n",
      "[Parallel(n_jobs=1)]: Done   4 out of   4 | elapsed:    0.4s remaining:    0.0s\n",
      "[Parallel(n_jobs=1)]: Done  32 out of  32 | elapsed:    3.6s finished\n"
     ]
    },
    {
     "name": "stdout",
     "output_type": "stream",
     "text": [
      "Applying ICA to Raw instance\n",
      "    Transforming to ICA space (32 components)\n",
      "    Zeroing out 2 ICA components\n",
      "    Projecting back using 32 PCA components\n"
     ]
    },
    {
     "data": {
      "text/plain": "<RawArray | 40 x 5494682 (2682.9 s), ~1.64 GB, data loaded>",
      "text/html": "<details open>\n    <summary><strong>General</strong></summary>\n    <table class=\"table table-hover table-striped table-sm table-responsive small\">\n        <tr>\n            <th>Measurement date</th>\n            \n            <td>Unknown</td>\n            \n        </tr>\n        <tr>\n            <th>Experimenter</th>\n            \n            <td>Unknown</td>\n            \n        </tr>\n        <tr>\n            <th>Participant</th>\n            \n            <td>Unknown</td>\n            \n        </tr>\n    </table>\n    </details>\n    <details open>\n        <summary><strong>Channels</strong></summary>\n        <table class=\"table table-hover table-striped table-sm table-responsive small\">\n            <tr>\n                <th>Digitized points</th>\n                \n                <td>35 points</td>\n                \n            </tr>\n            <tr>\n                <th>Good channels</th>\n                <td>32 EEG, 4 EMG, 4 EOG</td>\n            </tr>\n            <tr>\n                <th>Bad channels</th>\n                <td>None</td>\n            </tr>\n            <tr>\n                <th>EOG channels</th>\n                <td>LHEOG, RHEOG, UVEOG, LVEOG</td>\n            </tr>\n            <tr>\n                <th>ECG channels</th>\n                <td>Not available</td>\n            </tr>\n        </table>\n        </details>\n        <details open>\n            <summary><strong>Data</strong></summary>\n            <table class=\"table table-hover table-striped table-sm table-responsive small\">\n                \n                <tr>\n                    <th>Sampling frequency</th>\n                    <td>2048.00 Hz</td>\n                </tr>\n                \n                \n                <tr>\n                    <th>Highpass</th>\n                    <td>5.00 Hz</td>\n                </tr>\n                \n                \n                <tr>\n                    <th>Lowpass</th>\n                    <td>35.00 Hz</td>\n                </tr>\n                \n                \n                \n                \n                <tr>\n                    <th>Duration</th>\n                    <td>00:44:43 (HH:MM:SS)</td>\n                </tr>\n                \n            </table>\n            </details>"
     },
     "execution_count": 5,
     "metadata": {},
     "output_type": "execute_result"
    }
   ],
   "source": [
    "driving = load_driving(subject_id)\n",
    "driving.raw.set_eeg_reference()\n",
    "driving.raw.filter(l_freq=5, h_freq=35)\n",
    "ica.apply(driving.raw)"
   ],
   "metadata": {
    "collapsed": false,
    "pycharm": {
     "name": "#%%\n"
    }
   }
  },
  {
   "cell_type": "code",
   "execution_count": 6,
   "outputs": [
    {
     "name": "stdout",
     "output_type": "stream",
     "text": [
      "Not setting metadata\n",
      "13414 matching events found\n",
      "No baseline correction applied\n",
      "0 projection items activated\n",
      "Using data from preloaded Raw for 13414 events and 410 original time points ...\n",
      "0 bad epochs dropped\n",
      "(13414, 32, 410)\n",
      "(13414,)\n"
     ]
    }
   ],
   "source": [
    "# EEG Data Stream\n",
    "eeg_channel_indices = mne.pick_types(raw.info, eeg=True, emg=False)\n",
    "eeg_data, eeg_time = driving.raw[eeg_channel_indices]\n",
    "# Those windows are basically my epochs on which I try to predict something, if a certain amount of windows have the same prediction (3.5 sec or smth) this can then be used to controll the car\n",
    "eeg_windows = mne.make_fixed_length_epochs(driving.raw, duration=0.2, preload=True, reject_by_annotation=False)\n",
    "\n",
    "X_driving = eeg_windows.get_data(copy=False, picks=eeg_channel_indices)\n",
    "\n",
    "# Making predictions based on EEG windows\n",
    "# -1 left, 0 rest, 1 right\n",
    "y_driving = driving.emg_prediction_stream['time_series']\n",
    "y_driving = emg_classes_to_eeg_classes(y_driving)\n",
    "y_driving = np.squeeze(y_driving)\n",
    "print(X_driving.shape)\n",
    "print(y_driving[:-1].shape)"
   ],
   "metadata": {
    "collapsed": false,
    "pycharm": {
     "name": "#%%\n"
    }
   }
  },
  {
   "cell_type": "code",
   "execution_count": 7,
   "outputs": [],
   "source": [
    "def predict_against_threshold(clf, X, t):\n",
    "    y_driving_pred_prob = clf.predict_proba(X)\n",
    "    rest = y_driving_pred_prob[:, 2] > t\n",
    "    y_driving_pred = np.array([2] * len(rest))\n",
    "    y_driving_pred[~rest] = y_driving_pred_prob[~rest, :2].argmax(axis=1)\n",
    "    return y_driving_pred\n",
    "\n",
    "def predict_against_threshold_indiv(clf, X, t):\n",
    "    y_driving_pred_prob = clf.predict_proba(X)\n",
    "    if y_driving_pred_prob [:, 2] > t:\n",
    "        y_pred = 2\n",
    "    elif y_driving_pred_prob [:, 0] > y_driving_pred_prob [:, 1]:\n",
    "        y_pred = 0\n",
    "    else:\n",
    "        y_pred = 1\n",
    "\n",
    "    return y_pred\n",
    "\n"
   ],
   "metadata": {
    "collapsed": false,
    "pycharm": {
     "name": "#%%\n"
    }
   }
  },
  {
   "cell_type": "code",
   "execution_count": 8,
   "outputs": [
    {
     "data": {
      "text/plain": "(13414, 32, 410)"
     },
     "execution_count": 8,
     "metadata": {},
     "output_type": "execute_result"
    }
   ],
   "source": [
    "#for epoch in X_driving:\n",
    "X_driving.shape"
   ],
   "metadata": {
    "collapsed": false,
    "pycharm": {
     "name": "#%%\n"
    }
   }
  },
  {
   "cell_type": "code",
   "execution_count": 28,
   "outputs": [
    {
     "data": {
      "text/plain": "array([[0.0339809 , 0.27647992, 0.68953918]])"
     },
     "execution_count": 28,
     "metadata": {},
     "output_type": "execute_result"
    }
   ],
   "source": [
    "clf.predict_proba(X_driving[0:1,:,:])"
   ],
   "metadata": {
    "collapsed": false,
    "pycharm": {
     "name": "#%%\n"
    }
   }
  },
  {
   "cell_type": "code",
   "execution_count": 29,
   "outputs": [],
   "source": [
    "y_preds = []\n",
    "majority_pred = []\n",
    "# left, right, rest\n",
    "pred_direct = [0,0,0]\n",
    "for i, epoch in enumerate(X_driving):\n",
    "    # Predicting each 200ms windows individually\n",
    "    y_driving_pred = predict_against_threshold_indiv(clf, X_driving[i:i+1,:,:], 0.2)\n",
    "    pred_direct[y_driving_pred] += 1\n",
    "    y_preds.append(y_driving_pred)\n",
    "\n",
    "\n",
    "     # Now aggregate over 2sec time window\n",
    "    if i % 10 == 0:\n",
    "        majority_pred.append(pred_direct.index(max(pred_direct)))\n",
    "        pred_direct = [0,0,0]\n",
    "\n",
    "\n",
    "y_preds = np.asarray(y_preds)\n",
    "majority_pred = np.asarray(majority_pred)"
   ],
   "metadata": {
    "collapsed": false,
    "pycharm": {
     "name": "#%%\n"
    }
   }
  },
  {
   "cell_type": "code",
   "execution_count": 30,
   "outputs": [
    {
     "data": {
      "text/plain": "array([2., 2., 2., ..., 2., 2., 2.], dtype=float32)"
     },
     "execution_count": 30,
     "metadata": {},
     "output_type": "execute_result"
    }
   ],
   "source": [
    "y_driving[::10]"
   ],
   "metadata": {
    "collapsed": false,
    "pycharm": {
     "name": "#%%\n"
    }
   }
  },
  {
   "cell_type": "code",
   "execution_count": 31,
   "outputs": [
    {
     "name": "stdout",
     "output_type": "stream",
     "text": [
      "              precision    recall  f1-score   support\n",
      "\n",
      "        Left       0.52      0.95      0.67       444\n",
      "       Right       0.61      0.56      0.58       290\n",
      "        Rest       0.80      0.35      0.49       608\n",
      "\n",
      "    accuracy                           0.59      1342\n",
      "   macro avg       0.64      0.62      0.58      1342\n",
      "weighted avg       0.67      0.59      0.57      1342\n",
      "\n"
     ]
    }
   ],
   "source": [
    "print(classification_report(y_driving[::10], majority_pred, target_names=[\"Left\", \"Right\", \"Rest\"]))"
   ],
   "metadata": {
    "collapsed": false,
    "pycharm": {
     "name": "#%%\n"
    }
   }
  },
  {
   "cell_type": "markdown",
   "source": [
    "# 100 MS Overlap, 1s windows"
   ],
   "metadata": {
    "collapsed": false,
    "pycharm": {
     "name": "#%% md\n"
    }
   }
  },
  {
   "cell_type": "code",
   "execution_count": 32,
   "outputs": [
    {
     "name": "stdout",
     "output_type": "stream",
     "text": [
      "Not setting metadata\n",
      "26828 matching events found\n",
      "No baseline correction applied\n",
      "0 projection items activated\n",
      "Using data from preloaded Raw for 26828 events and 410 original time points ...\n",
      "0 bad epochs dropped\n"
     ]
    }
   ],
   "source": [
    "eeg_channel_indices = mne.pick_types(raw.info, eeg=True, emg=False)\n",
    "eeg_data, eeg_time = driving.raw[eeg_channel_indices]\n",
    "# Those windows are basically my epochs on which I try to predict something, if a certain amount of windows have the same prediction (3.5 sec or smth) this can then be used to controll the car\n",
    "eeg_channel_indices = mne.pick_types(raw.info, eeg=True, emg=False)\n",
    "eeg_windows = mne.make_fixed_length_epochs(driving.raw, duration=0.2, overlap=0.1, preload=True, reject_by_annotation=False)\n",
    "\n",
    "X_driving = eeg_windows.get_data(copy=False, picks=eeg_channel_indices)"
   ],
   "metadata": {
    "collapsed": false,
    "pycharm": {
     "name": "#%%\n"
    }
   }
  },
  {
   "cell_type": "code",
   "execution_count": 17,
   "outputs": [
    {
     "data": {
      "text/plain": "(13414, 32, 410)"
     },
     "execution_count": 17,
     "metadata": {},
     "output_type": "execute_result"
    }
   ],
   "source": [
    "X_driving.shape"
   ],
   "metadata": {
    "collapsed": false,
    "pycharm": {
     "name": "#%%\n"
    }
   }
  },
  {
   "cell_type": "code",
   "execution_count": 34,
   "outputs": [],
   "source": [
    "y_preds = []\n",
    "majority_pred = []\n",
    "# left, right, rest\n",
    "pred_direct = [0,0,0]\n",
    "for i, epoch in enumerate(X_driving):\n",
    "    # Predicting each 200ms windows individually\n",
    "    y_driving_pred = predict_against_threshold_indiv(clf, X_driving[i:i+1,:,:], 0.2)\n",
    "    pred_direct[y_driving_pred] += 1\n",
    "    y_preds.append(y_driving_pred)\n",
    "\n",
    "    # Now aggregate over 2sec time window\n",
    "    if i % 10 == 0:\n",
    "        majority_pred.append(pred_direct.index(max(pred_direct)))\n",
    "        pred_direct = [0,0,0]\n",
    "\n",
    "\n",
    "y_preds = np.asarray(y_preds)\n",
    "majority_pred = np.asarray(majority_pred)"
   ],
   "metadata": {
    "collapsed": false,
    "pycharm": {
     "name": "#%%\n"
    }
   }
  },
  {
   "cell_type": "code",
   "execution_count": 35,
   "outputs": [
    {
     "name": "stdout",
     "output_type": "stream",
     "text": [
      "              precision    recall  f1-score   support\n",
      "\n",
      "        Left       0.52      0.92      0.66       885\n",
      "       Right       0.60      0.58      0.59       567\n",
      "        Rest       0.73      0.33      0.46      1231\n",
      "\n",
      "    accuracy                           0.58      2683\n",
      "   macro avg       0.62      0.61      0.57      2683\n",
      "weighted avg       0.63      0.58      0.55      2683\n",
      "\n"
     ]
    }
   ],
   "source": [
    "print(classification_report(y_driving[::5], majority_pred, target_names=[\"Left\", \"Right\", \"Rest\"]))"
   ],
   "metadata": {
    "collapsed": false,
    "pycharm": {
     "name": "#%%\n"
    }
   }
  },
  {
   "cell_type": "code",
   "execution_count": 8,
   "outputs": [],
   "source": [
    "from FBCSP_Multiclass import FBCSP_Multiclass"
   ],
   "metadata": {
    "collapsed": false,
    "pycharm": {
     "name": "#%%\n"
    }
   }
  },
  {
   "cell_type": "code",
   "execution_count": 9,
   "outputs": [],
   "source": [
    "# for this to work I need a dictionary with classes and the trials for those classes\n",
    "eeg_channel_indices = mne.pick_types(raw.info, eeg=True, emg=False)\n",
    "event_dict = {\"left\":epochs[\"left\"].get_data(picks=eeg_channel_indices), \"right\":epochs[\"right\"].get_data(picks=eeg_channel_indices), \"rest\":epochs[\"rest\"].get_data(picks=eeg_channel_indices)}"
   ],
   "metadata": {
    "collapsed": false,
    "pycharm": {
     "name": "#%%\n"
    }
   }
  },
  {
   "cell_type": "code",
   "execution_count": 10,
   "outputs": [
    {
     "data": {
      "text/plain": "(20, 32, 7681)"
     },
     "execution_count": 10,
     "metadata": {},
     "output_type": "execute_result"
    }
   ],
   "source": [
    "event_dict[\"left\"].shape"
   ],
   "metadata": {
    "collapsed": false,
    "pycharm": {
     "name": "#%%\n"
    }
   }
  },
  {
   "cell_type": "code",
   "execution_count": 23,
   "outputs": [
    {
     "name": "stdout",
     "output_type": "stream",
     "text": [
      "Iteration number:  0  -  left vs Others\n",
      "Binary Dicionary create\n",
      "Features used for classification:  8\n",
      "Accuracy on TRAIN set:  0.8333333333333334\n",
      "Accuracy on TEST set:  0.85 \n",
      "\n",
      "FBCSP object creation and training complete\n",
      "Cycle at:  33.33333333333333 %\n",
      "Execution time of the cycle: 6.0168\n",
      "- - - - - - - - - - - - - - - - - - - - - - - - \n",
      "\n",
      "Iteration number:  1  -  right vs Others\n",
      "Binary Dicionary create\n",
      "Features used for classification:  6\n",
      "Accuracy on TRAIN set:  0.8\n",
      "Accuracy on TEST set:  0.6 \n",
      "\n",
      "FBCSP object creation and training complete\n",
      "Cycle at:  66.66666666666666 %\n",
      "Execution time of the cycle: 5.3523\n",
      "- - - - - - - - - - - - - - - - - - - - - - - - \n",
      "\n",
      "Iteration number:  2  -  rest vs Others\n",
      "Binary Dicionary create\n",
      "Features used for classification:  8\n",
      "Accuracy on TRAIN set:  0.9833333333333333\n",
      "Accuracy on TEST set:  0.9 \n",
      "\n",
      "FBCSP object creation and training complete\n",
      "Cycle at:  100.0 %\n",
      "Execution time of the cycle: 6.1827\n",
      "- - - - - - - - - - - - - - - - - - - - - - - - \n",
      "\n",
      "Time to execute:  17.551811695098877\n"
     ]
    }
   ],
   "source": [
    "test = FBCSP_Multiclass(event_dict, 2048, n_w=2, n_features=4, print_var=True, classifier=SVC())"
   ],
   "metadata": {
    "collapsed": false,
    "pycharm": {
     "name": "#%%\n"
    }
   }
  },
  {
   "cell_type": "code",
   "execution_count": 24,
   "outputs": [
    {
     "ename": "AttributeError",
     "evalue": "predict_proba is not available when  probability=False",
     "output_type": "error",
     "traceback": [
      "\u001B[1;31m---------------------------------------------------------------------------\u001B[0m",
      "\u001B[1;31mAttributeError\u001B[0m                            Traceback (most recent call last)",
      "Cell \u001B[1;32mIn[24], line 4\u001B[0m\n\u001B[0;32m      2\u001B[0m all_y \u001B[38;5;241m=\u001B[39m []\n\u001B[0;32m      3\u001B[0m \u001B[38;5;28;01mwhile\u001B[39;00m i \u001B[38;5;241m<\u001B[39m X_driving\u001B[38;5;241m.\u001B[39mshape[\u001B[38;5;241m0\u001B[39m]:\n\u001B[1;32m----> 4\u001B[0m     temp_y \u001B[38;5;241m=\u001B[39m \u001B[43mtest\u001B[49m\u001B[38;5;241;43m.\u001B[39;49m\u001B[43mevaluateTrial\u001B[49m\u001B[43m(\u001B[49m\u001B[43mX_driving\u001B[49m\u001B[43m[\u001B[49m\u001B[43mi\u001B[49m\u001B[43m:\u001B[49m\u001B[43mi\u001B[49m\u001B[38;5;241;43m+\u001B[39;49m\u001B[38;5;241;43m1\u001B[39;49m\u001B[43m,\u001B[49m\u001B[43m:\u001B[49m\u001B[43m,\u001B[49m\u001B[43m:\u001B[49m\u001B[43m]\u001B[49m\u001B[43m)\u001B[49m\n\u001B[0;32m      5\u001B[0m     all_y\u001B[38;5;241m.\u001B[39mappend(temp_y)\n\u001B[0;32m      6\u001B[0m     i \u001B[38;5;241m+\u001B[39m\u001B[38;5;241m=\u001B[39m \u001B[38;5;241m1\u001B[39m\n",
      "File \u001B[1;32mD:\\RUG\\Term 2\\FYRP\\continuous_control_bci\\FBCSP_Multiclass.py:111\u001B[0m, in \u001B[0;36mFBCSP_Multiclass.evaluateTrial\u001B[1;34m(self, trials_matrix)\u001B[0m\n\u001B[0;32m    107\u001B[0m \u001B[38;5;66;03m# Evaluate the trial(s)\u001B[39;00m\n\u001B[0;32m    108\u001B[0m \u001B[38;5;28;01mfor\u001B[39;00m clf, i \u001B[38;5;129;01min\u001B[39;00m \u001B[38;5;28mzip\u001B[39m(\u001B[38;5;28mself\u001B[39m\u001B[38;5;241m.\u001B[39mFBCSP_list, \u001B[38;5;28mrange\u001B[39m(\u001B[38;5;28mlen\u001B[39m(\u001B[38;5;28mself\u001B[39m\u001B[38;5;241m.\u001B[39mFBCSP_list))):\n\u001B[0;32m    109\u001B[0m     \u001B[38;5;66;03m# Predict label\u001B[39;00m\n\u001B[0;32m    110\u001B[0m     \u001B[38;5;66;03m# print(i)\u001B[39;00m\n\u001B[1;32m--> 111\u001B[0m     label, prob \u001B[38;5;241m=\u001B[39m \u001B[43mclf\u001B[49m\u001B[38;5;241;43m.\u001B[39;49m\u001B[43mevaluateTrial\u001B[49m\u001B[43m(\u001B[49m\u001B[43mtrials_matrix\u001B[49m\u001B[43m)\u001B[49m\n\u001B[0;32m    113\u001B[0m     \u001B[38;5;66;03m# Save the results\u001B[39;00m\n\u001B[0;32m    114\u001B[0m     \u001B[38;5;28mself\u001B[39m\u001B[38;5;241m.\u001B[39mpred_label_array[:, i] \u001B[38;5;241m=\u001B[39m label\n",
      "File \u001B[1;32mD:\\RUG\\Term 2\\FYRP\\continuous_control_bci\\FBCSP_V4.py:639\u001B[0m, in \u001B[0;36mFBCSP_V4.evaluateTrial\u001B[1;34m(self, trials_matrix, plot)\u001B[0m\n\u001B[0;32m    631\u001B[0m y \u001B[38;5;241m=\u001B[39m \u001B[38;5;28mself\u001B[39m\u001B[38;5;241m.\u001B[39mclassifier\u001B[38;5;241m.\u001B[39mpredict(features_input)\n\u001B[0;32m    633\u001B[0m \u001B[38;5;66;03m# Evaluate the probabilty\u001B[39;00m\n\u001B[0;32m    634\u001B[0m \u001B[38;5;66;03m# if(self.classifier.__class__.__name__ == 'LinearDiscriminantAnalysis'):\u001B[39;00m\n\u001B[0;32m    635\u001B[0m \u001B[38;5;66;03m#     y_prob = self.classifier.predict_proba(features_input)\u001B[39;00m\n\u001B[0;32m    636\u001B[0m \u001B[38;5;66;03m# else:\u001B[39;00m\n\u001B[0;32m    637\u001B[0m \u001B[38;5;66;03m#     y_prob = np.zeros(2)\u001B[39;00m\n\u001B[1;32m--> 639\u001B[0m y_prob \u001B[38;5;241m=\u001B[39m \u001B[38;5;28;43mself\u001B[39;49m\u001B[38;5;241;43m.\u001B[39;49m\u001B[43mclassifier\u001B[49m\u001B[38;5;241;43m.\u001B[39;49m\u001B[43mpredict_proba\u001B[49m(features_input)\n\u001B[0;32m    641\u001B[0m \u001B[38;5;28;01mreturn\u001B[39;00m y, y_prob\n",
      "File \u001B[1;32mD:\\Artificial Intelligence\\Bac Thesis\\Thesis_code\\venv\\lib\\site-packages\\sklearn\\utils\\_available_if.py:32\u001B[0m, in \u001B[0;36m_AvailableIfDescriptor.__get__\u001B[1;34m(self, obj, owner)\u001B[0m\n\u001B[0;32m     26\u001B[0m attr_err \u001B[38;5;241m=\u001B[39m \u001B[38;5;167;01mAttributeError\u001B[39;00m(\n\u001B[0;32m     27\u001B[0m     \u001B[38;5;124mf\u001B[39m\u001B[38;5;124m\"\u001B[39m\u001B[38;5;124mThis \u001B[39m\u001B[38;5;132;01m{\u001B[39;00m\u001B[38;5;28mrepr\u001B[39m(owner\u001B[38;5;241m.\u001B[39m\u001B[38;5;18m__name__\u001B[39m)\u001B[38;5;132;01m}\u001B[39;00m\u001B[38;5;124m has no attribute \u001B[39m\u001B[38;5;132;01m{\u001B[39;00m\u001B[38;5;28mrepr\u001B[39m(\u001B[38;5;28mself\u001B[39m\u001B[38;5;241m.\u001B[39mattribute_name)\u001B[38;5;132;01m}\u001B[39;00m\u001B[38;5;124m\"\u001B[39m\n\u001B[0;32m     28\u001B[0m )\n\u001B[0;32m     29\u001B[0m \u001B[38;5;28;01mif\u001B[39;00m obj \u001B[38;5;129;01mis\u001B[39;00m \u001B[38;5;129;01mnot\u001B[39;00m \u001B[38;5;28;01mNone\u001B[39;00m:\n\u001B[0;32m     30\u001B[0m     \u001B[38;5;66;03m# delegate only on instances, not the classes.\u001B[39;00m\n\u001B[0;32m     31\u001B[0m     \u001B[38;5;66;03m# this is to allow access to the docstrings.\u001B[39;00m\n\u001B[1;32m---> 32\u001B[0m     \u001B[38;5;28;01mif\u001B[39;00m \u001B[38;5;129;01mnot\u001B[39;00m \u001B[38;5;28;43mself\u001B[39;49m\u001B[38;5;241;43m.\u001B[39;49m\u001B[43mcheck\u001B[49m\u001B[43m(\u001B[49m\u001B[43mobj\u001B[49m\u001B[43m)\u001B[49m:\n\u001B[0;32m     33\u001B[0m         \u001B[38;5;28;01mraise\u001B[39;00m attr_err\n\u001B[0;32m     34\u001B[0m     out \u001B[38;5;241m=\u001B[39m MethodType(\u001B[38;5;28mself\u001B[39m\u001B[38;5;241m.\u001B[39mfn, obj)\n",
      "File \u001B[1;32mD:\\Artificial Intelligence\\Bac Thesis\\Thesis_code\\venv\\lib\\site-packages\\sklearn\\svm\\_base.py:829\u001B[0m, in \u001B[0;36mBaseSVC._check_proba\u001B[1;34m(self)\u001B[0m\n\u001B[0;32m    827\u001B[0m \u001B[38;5;28;01mdef\u001B[39;00m \u001B[38;5;21m_check_proba\u001B[39m(\u001B[38;5;28mself\u001B[39m):\n\u001B[0;32m    828\u001B[0m     \u001B[38;5;28;01mif\u001B[39;00m \u001B[38;5;129;01mnot\u001B[39;00m \u001B[38;5;28mself\u001B[39m\u001B[38;5;241m.\u001B[39mprobability:\n\u001B[1;32m--> 829\u001B[0m         \u001B[38;5;28;01mraise\u001B[39;00m \u001B[38;5;167;01mAttributeError\u001B[39;00m(\n\u001B[0;32m    830\u001B[0m             \u001B[38;5;124m\"\u001B[39m\u001B[38;5;124mpredict_proba is not available when  probability=False\u001B[39m\u001B[38;5;124m\"\u001B[39m\n\u001B[0;32m    831\u001B[0m         )\n\u001B[0;32m    832\u001B[0m     \u001B[38;5;28;01mif\u001B[39;00m \u001B[38;5;28mself\u001B[39m\u001B[38;5;241m.\u001B[39m_impl \u001B[38;5;129;01mnot\u001B[39;00m \u001B[38;5;129;01min\u001B[39;00m (\u001B[38;5;124m\"\u001B[39m\u001B[38;5;124mc_svc\u001B[39m\u001B[38;5;124m\"\u001B[39m, \u001B[38;5;124m\"\u001B[39m\u001B[38;5;124mnu_svc\u001B[39m\u001B[38;5;124m\"\u001B[39m):\n\u001B[0;32m    833\u001B[0m         \u001B[38;5;28;01mraise\u001B[39;00m \u001B[38;5;167;01mAttributeError\u001B[39;00m(\u001B[38;5;124m\"\u001B[39m\u001B[38;5;124mpredict_proba only implemented for SVC and NuSVC\u001B[39m\u001B[38;5;124m\"\u001B[39m)\n",
      "\u001B[1;31mAttributeError\u001B[0m: predict_proba is not available when  probability=False"
     ]
    }
   ],
   "source": [
    "i = 0\n",
    "all_y = []\n",
    "while i < X_driving.shape[0]:\n",
    "    temp_y = test.evaluateTrial(X_driving[i:i+1,:,:])\n",
    "    all_y.append(temp_y)\n",
    "    i += 1"
   ],
   "metadata": {
    "collapsed": false,
    "pycharm": {
     "name": "#%%\n"
    }
   }
  },
  {
   "cell_type": "code",
   "execution_count": 15,
   "outputs": [],
   "source": [
    "new_all_y = []\n",
    "for i, entry in enumerate(all_y):\n",
    "    new_all_y.append(entry[0])\n",
    "new_all_y = np.array(new_all_y)-1\n"
   ],
   "metadata": {
    "collapsed": false,
    "pycharm": {
     "name": "#%%\n"
    }
   }
  },
  {
   "cell_type": "code",
   "execution_count": 16,
   "outputs": [
    {
     "name": "stdout",
     "output_type": "stream",
     "text": [
      "              precision    recall  f1-score   support\n",
      "\n",
      "        Left       0.46      0.53      0.50      4338\n",
      "       Right       0.32      0.48      0.39      2923\n",
      "        Rest       0.49      0.33      0.39      6153\n",
      "\n",
      "    accuracy                           0.43     13414\n",
      "   macro avg       0.43      0.45      0.42     13414\n",
      "weighted avg       0.44      0.43      0.42     13414\n",
      "\n"
     ]
    }
   ],
   "source": [
    "print(classification_report(y_driving[:-1], new_all_y, target_names=[\"Left\", \"Right\", \"Rest\"]))"
   ],
   "metadata": {
    "collapsed": false,
    "pycharm": {
     "name": "#%%\n"
    }
   }
  },
  {
   "cell_type": "markdown",
   "source": [
    "# For the Filter Bank method\n",
    "    1. Bandpass filter the signal with a Chebyshev Type 2 Filter at equal intervals\n",
    "    2. Apply CSP to all those filtered signals\n",
    "    3. Perform feature extraction based on for instance Mutual Information\n",
    "    4. Use selected features for SVM or other Classifier\n"
   ],
   "metadata": {
    "collapsed": false,
    "pycharm": {
     "name": "#%% md\n"
    }
   }
  },
  {
   "cell_type": "code",
   "execution_count": 9,
   "outputs": [],
   "source": [
    "from scipy.signal import cheby2, sosfiltfilt\n",
    "# Function for filtering the signal\n",
    "freq_bands = [[4,8],[4,12],[8,12],[10,14],[12,16],[13,30]]\n",
    "\n",
    "def filter_bank(raw:np.ndarray, order:int):\n",
    "    filtered_signals = [[] for _ in range(len(freq_bands))]\n",
    "    for i, freq_band in enumerate(freq_bands):\n",
    "        iir_params = dict(order=order, ftype=\"cheby2\", output='sos', rs=20) # what exactly is rs? How do i know which order to use?\n",
    "        iir_params = mne.filter.construct_iir_filter(iir_params, f_pass=freq_band, sfreq=2048, btype=\"bandpass\")\n",
    "        filtered_raw = sosfiltfilt(iir_params['sos'], raw)\n",
    "        filtered_signals[i].append(filtered_raw)\n",
    "    filtered_signals = np.asarray(filtered_signals)\n",
    "    filtered_signals = filtered_signals[:,0]\n",
    "    return filtered_signals\n",
    "\n",
    "\n",
    "\n",
    "\n",
    "# Apply CSP to all filter bands\n",
    "# Then SKlearns mutual_info_classif to optain best features for SVM\n",
    "# Then make a pipeline for it"
   ],
   "metadata": {
    "collapsed": false,
    "pycharm": {
     "name": "#%%\n"
    }
   }
  },
  {
   "cell_type": "code",
   "execution_count": 10,
   "outputs": [
    {
     "name": "stdout",
     "output_type": "stream",
     "text": [
      "\n",
      "IIR filter parameters\n",
      "---------------------\n",
      "Chebyshev II bandpass zero-phase (two-pass forward and reverse) non-causal filter:\n",
      "- Filter order 16 (effective, after forward-backward)\n",
      "- Cutoffs at 4.00, 8.00 Hz: -40.00, -40.00 dB\n",
      "\n",
      "\n",
      "IIR filter parameters\n",
      "---------------------\n",
      "Chebyshev II bandpass zero-phase (two-pass forward and reverse) non-causal filter:\n",
      "- Filter order 16 (effective, after forward-backward)\n",
      "- Cutoffs at 4.00, 12.00 Hz: -40.00, -40.00 dB\n",
      "\n",
      "\n",
      "IIR filter parameters\n",
      "---------------------\n",
      "Chebyshev II bandpass zero-phase (two-pass forward and reverse) non-causal filter:\n",
      "- Filter order 16 (effective, after forward-backward)\n",
      "- Cutoffs at 8.00, 12.00 Hz: -40.00, -40.00 dB\n",
      "\n",
      "\n",
      "IIR filter parameters\n",
      "---------------------\n",
      "Chebyshev II bandpass zero-phase (two-pass forward and reverse) non-causal filter:\n",
      "- Filter order 16 (effective, after forward-backward)\n",
      "- Cutoffs at 10.00, 14.00 Hz: -40.00, -40.00 dB\n",
      "\n",
      "\n",
      "IIR filter parameters\n",
      "---------------------\n",
      "Chebyshev II bandpass zero-phase (two-pass forward and reverse) non-causal filter:\n",
      "- Filter order 16 (effective, after forward-backward)\n",
      "- Cutoffs at 12.00, 16.00 Hz: -40.00, -40.00 dB\n",
      "\n",
      "\n",
      "IIR filter parameters\n",
      "---------------------\n",
      "Chebyshev II bandpass zero-phase (two-pass forward and reverse) non-causal filter:\n",
      "- Filter order 16 (effective, after forward-backward)\n",
      "- Cutoffs at 13.00, 30.00 Hz: -40.00, -40.00 dB\n",
      "\n"
     ]
    }
   ],
   "source": [
    "x = filter_bank(epochs.get_data(picks=eeg_channel_indices), 4)"
   ],
   "metadata": {
    "collapsed": false,
    "pycharm": {
     "name": "#%%\n"
    }
   }
  },
  {
   "cell_type": "code",
   "execution_count": 11,
   "outputs": [
    {
     "data": {
      "text/plain": "(6, 80, 32, 7681)"
     },
     "execution_count": 11,
     "metadata": {},
     "output_type": "execute_result"
    }
   ],
   "source": [
    "# First dimension is the filter second the epochs third EEG Channels forth time series\n",
    "x.shape"
   ],
   "metadata": {
    "collapsed": false,
    "pycharm": {
     "name": "#%%\n"
    }
   }
  },
  {
   "cell_type": "markdown",
   "source": [],
   "metadata": {
    "collapsed": false,
    "pycharm": {
     "name": "#%% md\n"
    }
   }
  },
  {
   "cell_type": "markdown",
   "source": [
    "Now CSP, Then Feature extraction"
   ],
   "metadata": {
    "collapsed": false,
    "pycharm": {
     "name": "#%% md\n"
    }
   }
  },
  {
   "cell_type": "code",
   "execution_count": 12,
   "outputs": [
    {
     "name": "stderr",
     "output_type": "stream",
     "text": [
      "C:\\Users\\stadl\\AppData\\Local\\Temp\\ipykernel_11328\\854070821.py:1: FutureWarning: The current default of copy=False will change to copy=True in 1.7. Set the value of copy explicitly to avoid this warning\n",
      "  epochs.get_data().shape\n"
     ]
    },
    {
     "data": {
      "text/plain": "(80, 40, 7681)"
     },
     "execution_count": 12,
     "metadata": {},
     "output_type": "execute_result"
    }
   ],
   "source": [
    "epochs.get_data().shape"
   ],
   "metadata": {
    "collapsed": false,
    "pycharm": {
     "name": "#%%\n"
    }
   }
  },
  {
   "cell_type": "code",
   "execution_count": 15,
   "outputs": [
    {
     "name": "stdout",
     "output_type": "stream",
     "text": [
      "Computing rank from data with rank={'eeg': 30, 'mag': 32}\n",
      "    Setting small MAG eigenvalues to zero (without PCA)\n",
      "Reducing data rank from 32 -> 32\n",
      "Estimating covariance using SHRINKAGE\n",
      "Done.\n",
      "Computing rank from data with rank={'eeg': 30, 'mag': 32}\n",
      "    Setting small MAG eigenvalues to zero (without PCA)\n",
      "Reducing data rank from 32 -> 32\n",
      "Estimating covariance using SHRINKAGE\n",
      "Done.\n",
      "Computing rank from data with rank={'eeg': 30, 'mag': 32}\n",
      "    Setting small MAG eigenvalues to zero (without PCA)\n",
      "Reducing data rank from 32 -> 32\n",
      "Estimating covariance using SHRINKAGE\n",
      "Done.\n",
      "Computing rank from data with rank={'eeg': 30, 'mag': 32}\n",
      "    Setting small MAG eigenvalues to zero (without PCA)\n",
      "Reducing data rank from 32 -> 32\n",
      "Estimating covariance using SHRINKAGE\n",
      "Done.\n",
      "Computing rank from data with rank={'eeg': 30, 'mag': 32}\n",
      "    Setting small MAG eigenvalues to zero (without PCA)\n",
      "Reducing data rank from 32 -> 32\n",
      "Estimating covariance using SHRINKAGE\n",
      "Done.\n",
      "Computing rank from data with rank={'eeg': 30, 'mag': 32}\n",
      "    Setting small MAG eigenvalues to zero (without PCA)\n",
      "Reducing data rank from 32 -> 32\n",
      "Estimating covariance using SHRINKAGE\n",
      "Done.\n",
      "Computing rank from data with rank={'eeg': 30, 'mag': 32}\n",
      "    Setting small MAG eigenvalues to zero (without PCA)\n",
      "Reducing data rank from 32 -> 32\n",
      "Estimating covariance using SHRINKAGE\n",
      "Done.\n",
      "Computing rank from data with rank={'eeg': 30, 'mag': 32}\n",
      "    Setting small MAG eigenvalues to zero (without PCA)\n",
      "Reducing data rank from 32 -> 32\n",
      "Estimating covariance using SHRINKAGE\n",
      "Done.\n",
      "Computing rank from data with rank={'eeg': 30, 'mag': 32}\n",
      "    Setting small MAG eigenvalues to zero (without PCA)\n",
      "Reducing data rank from 32 -> 32\n",
      "Estimating covariance using SHRINKAGE\n",
      "Done.\n",
      "Computing rank from data with rank={'eeg': 30, 'mag': 32}\n",
      "    Setting small MAG eigenvalues to zero (without PCA)\n",
      "Reducing data rank from 32 -> 32\n",
      "Estimating covariance using SHRINKAGE\n",
      "Done.\n",
      "Computing rank from data with rank={'eeg': 30, 'mag': 32}\n",
      "    Setting small MAG eigenvalues to zero (without PCA)\n",
      "Reducing data rank from 32 -> 32\n",
      "Estimating covariance using SHRINKAGE\n",
      "Done.\n",
      "Computing rank from data with rank={'eeg': 30, 'mag': 32}\n",
      "    Setting small MAG eigenvalues to zero (without PCA)\n",
      "Reducing data rank from 32 -> 32\n",
      "Estimating covariance using SHRINKAGE\n",
      "Done.\n",
      "Computing rank from data with rank={'eeg': 30, 'mag': 32}\n",
      "    Setting small MAG eigenvalues to zero (without PCA)\n",
      "Reducing data rank from 32 -> 32\n",
      "Estimating covariance using SHRINKAGE\n",
      "Done.\n",
      "Computing rank from data with rank={'eeg': 30, 'mag': 32}\n",
      "    Setting small MAG eigenvalues to zero (without PCA)\n",
      "Reducing data rank from 32 -> 32\n",
      "Estimating covariance using SHRINKAGE\n",
      "Done.\n",
      "Computing rank from data with rank={'eeg': 30, 'mag': 32}\n",
      "    Setting small MAG eigenvalues to zero (without PCA)\n",
      "Reducing data rank from 32 -> 32\n",
      "Estimating covariance using SHRINKAGE\n",
      "Done.\n",
      "Computing rank from data with rank={'eeg': 30, 'mag': 32}\n",
      "    Setting small MAG eigenvalues to zero (without PCA)\n",
      "Reducing data rank from 32 -> 32\n",
      "Estimating covariance using SHRINKAGE\n",
      "Done.\n",
      "Computing rank from data with rank={'eeg': 30, 'mag': 32}\n",
      "    Setting small MAG eigenvalues to zero (without PCA)\n",
      "Reducing data rank from 32 -> 32\n",
      "Estimating covariance using SHRINKAGE\n",
      "Done.\n",
      "Computing rank from data with rank={'eeg': 30, 'mag': 32}\n",
      "    Setting small MAG eigenvalues to zero (without PCA)\n",
      "Reducing data rank from 32 -> 32\n",
      "Estimating covariance using SHRINKAGE\n",
      "Done.\n",
      "Computing rank from data with rank={'eeg': 30, 'mag': 32}\n",
      "    Setting small MAG eigenvalues to zero (without PCA)\n",
      "Reducing data rank from 32 -> 32\n",
      "Estimating covariance using SHRINKAGE\n",
      "Done.\n",
      "Computing rank from data with rank={'eeg': 30, 'mag': 32}\n",
      "    Setting small MAG eigenvalues to zero (without PCA)\n",
      "Reducing data rank from 32 -> 32\n",
      "Estimating covariance using SHRINKAGE\n",
      "Done.\n",
      "Computing rank from data with rank={'eeg': 30, 'mag': 32}\n",
      "    Setting small MAG eigenvalues to zero (without PCA)\n",
      "Reducing data rank from 32 -> 32\n",
      "Estimating covariance using SHRINKAGE\n",
      "Done.\n",
      "Computing rank from data with rank={'eeg': 30, 'mag': 32}\n",
      "    Setting small MAG eigenvalues to zero (without PCA)\n",
      "Reducing data rank from 32 -> 32\n",
      "Estimating covariance using SHRINKAGE\n",
      "Done.\n",
      "Computing rank from data with rank={'eeg': 30, 'mag': 32}\n",
      "    Setting small MAG eigenvalues to zero (without PCA)\n",
      "Reducing data rank from 32 -> 32\n",
      "Estimating covariance using SHRINKAGE\n",
      "Done.\n",
      "Computing rank from data with rank={'eeg': 30, 'mag': 32}\n",
      "    Setting small MAG eigenvalues to zero (without PCA)\n",
      "Reducing data rank from 32 -> 32\n",
      "Estimating covariance using SHRINKAGE\n",
      "Done.\n",
      "Computing rank from data with rank={'eeg': 30, 'mag': 32}\n",
      "    Setting small MAG eigenvalues to zero (without PCA)\n",
      "Reducing data rank from 32 -> 32\n",
      "Estimating covariance using SHRINKAGE\n",
      "Done.\n",
      "Computing rank from data with rank={'eeg': 30, 'mag': 32}\n",
      "    Setting small MAG eigenvalues to zero (without PCA)\n",
      "Reducing data rank from 32 -> 32\n",
      "Estimating covariance using SHRINKAGE\n",
      "Done.\n",
      "Computing rank from data with rank={'eeg': 30, 'mag': 32}\n",
      "    Setting small MAG eigenvalues to zero (without PCA)\n",
      "Reducing data rank from 32 -> 32\n",
      "Estimating covariance using SHRINKAGE\n",
      "Done.\n",
      "Computing rank from data with rank={'eeg': 30, 'mag': 32}\n",
      "    Setting small MAG eigenvalues to zero (without PCA)\n",
      "Reducing data rank from 32 -> 32\n",
      "Estimating covariance using SHRINKAGE\n",
      "Done.\n",
      "Computing rank from data with rank={'eeg': 30, 'mag': 32}\n",
      "    Setting small MAG eigenvalues to zero (without PCA)\n",
      "Reducing data rank from 32 -> 32\n",
      "Estimating covariance using SHRINKAGE\n",
      "Done.\n",
      "Computing rank from data with rank={'eeg': 30, 'mag': 32}\n",
      "    Setting small MAG eigenvalues to zero (without PCA)\n",
      "Reducing data rank from 32 -> 32\n",
      "Estimating covariance using SHRINKAGE\n",
      "Done.\n",
      "Computing rank from data with rank={'eeg': 30, 'mag': 32}\n",
      "    Setting small MAG eigenvalues to zero (without PCA)\n",
      "Reducing data rank from 32 -> 32\n",
      "Estimating covariance using SHRINKAGE\n",
      "Done.\n",
      "Computing rank from data with rank={'eeg': 30, 'mag': 32}\n",
      "    Setting small MAG eigenvalues to zero (without PCA)\n",
      "Reducing data rank from 32 -> 32\n",
      "Estimating covariance using SHRINKAGE\n",
      "Done.\n",
      "Computing rank from data with rank={'eeg': 30, 'mag': 32}\n",
      "    Setting small MAG eigenvalues to zero (without PCA)\n",
      "Reducing data rank from 32 -> 32\n",
      "Estimating covariance using SHRINKAGE\n",
      "Done.\n",
      "Computing rank from data with rank={'eeg': 30, 'mag': 32}\n",
      "    Setting small MAG eigenvalues to zero (without PCA)\n",
      "Reducing data rank from 32 -> 32\n",
      "Estimating covariance using SHRINKAGE\n",
      "Done.\n",
      "Computing rank from data with rank={'eeg': 30, 'mag': 32}\n",
      "    Setting small MAG eigenvalues to zero (without PCA)\n",
      "Reducing data rank from 32 -> 32\n",
      "Estimating covariance using SHRINKAGE\n",
      "Done.\n",
      "Computing rank from data with rank={'eeg': 30, 'mag': 32}\n",
      "    Setting small MAG eigenvalues to zero (without PCA)\n",
      "Reducing data rank from 32 -> 32\n",
      "Estimating covariance using SHRINKAGE\n",
      "Done.\n"
     ]
    }
   ],
   "source": [
    "# So i need to get CSP features from all feature bands and them find the best ones from all of them\n",
    "csp_ = CSP(n_components=6, reg='shrinkage', log=True, rank=rank)\n",
    "new_x = []\n",
    "test = []\n",
    "for filter in x:\n",
    "    #feature_selector = SelectKBest(score_func=mutual_info_classif, k=10)\n",
    "    cs = csp_.fit(filter, y_train)\n",
    "    test.append(cs)\n",
    "    filter = csp_.fit_transform(filter,y_train)\n",
    "    new_x.append(filter)"
   ],
   "metadata": {
    "collapsed": false,
    "pycharm": {
     "name": "#%%\n"
    }
   }
  },
  {
   "cell_type": "code",
   "execution_count": 23,
   "outputs": [
    {
     "data": {
      "text/plain": "array([[-3.88236399e-01, -6.48482741e-01, -4.40728710e-02,\n        -1.09497887e+00, -1.31301342e+00, -4.97801965e-01],\n       [-5.74632846e-01, -1.14842924e+00, -1.76422148e-01,\n         3.58124498e-01, -6.92707543e-01, -1.70544538e-02],\n       [-7.66840282e-01, -3.94842945e-01, -6.22965171e-01,\n         6.10772502e-01,  4.16584330e-01, -3.33680373e-01],\n       [-1.00821124e+00, -9.49685486e-01,  4.66447743e-01,\n        -9.79785900e-01, -7.65186376e-01, -2.12715624e-01],\n       [-6.84525538e-01, -5.15063813e-01, -4.22460609e-01,\n        -7.42464649e-02, -3.90217714e-01, -7.36518792e-01],\n       [-5.27121632e-01, -6.80334518e-01, -3.97447812e-01,\n        -1.47822131e-01, -8.10577926e-01, -3.21197514e-01],\n       [ 3.26367198e-01, -6.53052771e-01, -5.15789923e-01,\n        -4.15217731e-01, -4.00950207e-01, -5.83334264e-01],\n       [-1.71539034e-01, -7.29267477e-01,  8.22895790e-02,\n        -9.24193533e-01, -1.43589516e+00, -8.40087090e-01],\n       [ 1.35480554e-01, -5.59493099e-01, -6.01210649e-01,\n         7.70331483e-02,  9.36267612e-02, -2.74208720e-01],\n       [ 3.85550561e-01, -1.22539817e+00, -3.24245500e-02,\n         1.19631472e-01, -2.28519132e-01,  1.41377856e-01],\n       [ 2.56725959e-01, -3.80561514e-01, -3.10885798e-02,\n        -6.58040162e-01, -2.13070666e-01, -2.21216254e-01],\n       [ 8.98370932e-01, -4.84566864e-01, -1.61357037e-01,\n        -4.07270911e-01, -6.93271381e-01, -5.67470075e-01],\n       [-5.44504000e-01, -1.13617916e+00, -3.44049887e-01,\n        -1.99850141e-02, -5.79173677e-01, -1.26037670e-01],\n       [-4.38497043e-01, -4.74368686e-01, -5.32160885e-01,\n        -5.40361744e-01, -1.13462014e+00, -2.21352346e-01],\n       [-1.43095920e-01, -8.86764928e-01, -5.31539972e-01,\n         3.89358235e-01,  1.54519562e+00, -2.05509829e-01],\n       [-6.88894315e-03, -9.40237654e-01, -6.08327437e-01,\n        -5.75448761e-01, -6.41456013e-01,  2.72627212e-01],\n       [ 3.83594153e-01, -1.47242253e-01,  3.14333687e-02,\n        -5.02607802e-01, -1.08815072e+00, -7.00787185e-01],\n       [ 5.66351157e-01, -2.67168654e-01, -6.17928564e-01,\n        -8.40181590e-01, -1.02553659e+00,  6.19873615e-02],\n       [-3.92819984e-01, -7.59950207e-01, -9.14803098e-01,\n        -1.55077656e-01, -5.53065628e-01, -7.56951504e-01],\n       [ 3.46039881e-01,  4.00704834e-01,  1.23401766e-01,\n        -6.94429625e-01, -1.66544068e-01, -8.41200938e-01],\n       [-7.93090457e-01, -7.40494996e-01, -1.47700583e-01,\n         2.39724523e-01, -1.07474735e-01, -4.03219921e-01],\n       [ 8.53707399e-02,  1.64592533e-02, -1.70711339e-01,\n        -5.77603228e-01, -4.35008454e-01, -8.88188912e-02],\n       [ 1.02645836e-01, -6.72646714e-01, -4.21550790e-01,\n        -9.56187958e-02, -3.94695347e-01, -3.86394747e-01],\n       [ 3.62196846e-02,  2.06433776e-02, -9.09671113e-01,\n        -1.51981880e+00, -6.09387823e-01, -3.85020439e-01],\n       [-4.30289634e-01, -1.21908414e+00, -3.46903524e-01,\n        -6.68388237e-01, -2.88433259e-01, -4.70250324e-01],\n       [-1.67054691e-02, -1.68248154e+00, -5.77429887e-01,\n        -3.52645667e-01, -7.15148359e-01, -5.78016813e-01],\n       [-6.58103632e-02, -1.02220397e+00, -6.87021047e-01,\n        -9.00350419e-01, -7.85644464e-01, -2.85902082e-01],\n       [ 7.43122997e-01, -3.89836466e-01,  1.22728802e-01,\n        -5.07288949e-01, -1.20287071e+00, -1.80742860e-01],\n       [-7.02679474e-01, -1.88833685e+00, -6.49867698e-01,\n        -8.99976249e-01, -2.74812016e-01, -2.86079560e-01],\n       [ 1.06582166e+00, -1.15950135e-01, -1.57326186e-01,\n        -1.08607365e+00, -8.35127032e-01, -2.87325222e-01],\n       [ 8.19080517e-01,  5.15930569e-01,  1.50872380e-01,\n        -3.90534605e-01, -4.33467801e-01, -2.36841998e-01],\n       [ 2.11348865e-01, -5.59609532e-02, -3.74722317e-01,\n        -7.28289026e-01, -9.37125424e-01, -1.34842561e-01],\n       [ 1.30349836e-01, -4.56096272e-01, -1.41310324e-01,\n        -7.99992756e-01, -1.10244923e+00, -6.22756161e-01],\n       [ 1.22212170e-01,  3.96346143e-01,  1.26473627e-01,\n        -1.31748219e+00, -6.03196376e-01, -5.07379686e-01],\n       [-1.26824222e-01, -9.65260996e-01, -4.20099464e-01,\n         2.91726708e-01, -2.81891179e-01, -1.07161926e-01],\n       [ 5.85034986e-01, -8.40052157e-02, -2.11507864e-01,\n        -6.98031567e-01, -9.92905115e-01, -6.65598120e-01],\n       [-3.62297098e-01, -6.07642775e-01, -8.10079996e-01,\n        -1.47571909e-01,  1.55647736e-01,  1.17018763e-01],\n       [-6.87580651e-01, -1.22322254e+00, -2.76127038e-01,\n        -1.08220835e+00, -2.44942711e-01, -8.24900890e-01],\n       [ 2.89468066e-01, -2.04761366e-01,  2.58765647e-01,\n        -6.19904200e-01, -4.33566869e-01, -4.32764954e-02],\n       [-1.90540185e-01,  5.29707805e-01,  8.86426362e-02,\n        -4.01803662e-01, -8.83464250e-01, -5.86769126e-01],\n       [-5.28255027e-01, -1.45907781e-01, -3.24306015e-01,\n        -3.69348701e-01, -2.33701436e-01, -8.22839503e-01],\n       [-6.46575527e-01, -1.20792675e+00,  3.91556604e-01,\n        -6.06690788e-02, -9.75618755e-01,  3.83814669e-01],\n       [-1.08177053e+00, -1.87702681e-01, -3.33924726e-01,\n        -4.51884858e-01, -4.66844015e-01, -2.63652993e-01],\n       [-7.36074218e-01, -1.13730468e+00,  6.33134769e-02,\n        -6.13509703e-02, -1.10667506e+00,  1.48555032e-01],\n       [-9.41740443e-01, -5.47754252e-01, -7.91519148e-01,\n        -1.39251719e-01, -8.25793789e-01,  4.31216186e-01],\n       [ 1.88791662e-01, -3.05144486e-01, -4.51068731e-03,\n        -1.34456974e-01, -6.81962913e-01,  3.92331854e-01],\n       [-6.25618626e-01,  3.26741482e-01,  1.74179931e-01,\n         1.89414431e-01, -6.08687772e-01, -2.93964822e-01],\n       [-5.19900624e-01, -4.69847831e-02,  2.86054475e-02,\n        -4.12488675e-01, -8.46740962e-01,  4.07479659e-01],\n       [ 1.83097008e-01,  1.19781778e-01, -5.58547157e-02,\n        -2.99825809e-01, -7.13721936e-01, -3.13327890e-01],\n       [ 5.56012660e-02, -3.28644552e-01,  3.46286152e-01,\n        -3.85465123e-01, -3.40039514e-01,  4.10128581e-01],\n       [-4.17482592e-01, -8.72283672e-01,  9.30230653e-02,\n         3.36959165e-01, -2.12915511e-01,  1.93386640e-01],\n       [-1.97680572e-01, -1.08578834e+00,  5.18522763e-01,\n        -2.53160971e-01, -7.51713943e-01, -1.04939064e-01],\n       [ 1.82330571e-01, -4.66029205e-01,  5.37769183e-01,\n        -6.86258024e-01, -3.64390031e-01, -3.37852289e-02],\n       [ 2.78849842e-01, -1.12238618e+00,  4.47015437e-01,\n         1.56133236e-01, -1.11745725e+00,  2.22151385e-01],\n       [-9.83355345e-02, -9.54282017e-01,  1.55513686e-01,\n         1.71114971e-01, -5.63794423e-01, -5.36393335e-02],\n       [ 3.19267683e-01, -4.34409135e-01, -4.96018266e-01,\n         1.95166531e-02, -1.24809066e+00,  1.17033492e-01],\n       [ 4.28144135e-01, -6.83361732e-01,  3.48545335e-01,\n        -9.26109974e-02, -3.72725250e-01,  1.42235832e-01],\n       [-1.75939047e-01, -3.76628815e-01, -5.51653525e-01,\n        -3.32736488e-02, -5.52076473e-01,  1.31503725e-02],\n       [-6.41175617e-01, -1.11181497e-01, -3.67203802e-02,\n         8.76968189e-02, -2.15847174e-01, -4.60245409e-01],\n       [ 1.52712253e-01, -4.62192077e-01, -1.94073396e-01,\n        -6.03028570e-01, -8.59690306e-01, -1.88196269e-01],\n       [-1.86870498e-01, -3.50249481e-02, -3.22380275e-02,\n        -5.77138799e-01, -1.14749384e+00, -1.82720960e-01],\n       [-6.88603478e-02,  6.49378834e-02,  5.67882756e-01,\n        -2.95541007e-02, -6.44401074e-02, -4.24193792e-01],\n       [ 2.13151168e-01, -6.13037626e-01,  1.58280343e-01,\n        -2.00229068e-01, -6.27804023e-01,  1.32023219e-01],\n       [ 5.50101048e-02, -1.20169337e+00, -1.28506227e-01,\n        -5.77279901e-01, -3.86345690e-01, -6.60985961e-02],\n       [-3.23770837e-01, -1.05704943e+00,  3.48849465e-01,\n        -7.91011420e-01, -7.45986025e-01, -4.95470739e-02],\n       [-5.77752004e-02, -6.06056689e-01, -3.08715718e-01,\n         3.46311524e-01, -5.78306675e-01,  1.93130869e-01],\n       [-2.44216760e-01, -1.38908599e+00,  8.74541853e-02,\n        -2.10830331e-02, -6.93153924e-01,  5.41771157e-01],\n       [-1.44360320e-01, -9.69560002e-01, -4.08801230e-01,\n        -2.50729978e-01, -8.87276875e-01,  4.73348798e-01],\n       [-2.20890526e-02, -8.72135435e-01,  3.66669695e-02,\n        -1.19268554e+00, -5.97596984e-01,  2.51045707e-01],\n       [-6.64508718e-01, -3.62758400e-01, -4.20749910e-01,\n         2.49604294e-01, -3.07357764e-01,  4.09136002e-01],\n       [ 2.62987563e-01, -8.27079646e-01,  3.47784159e-02,\n         6.57666318e-02, -6.59583866e-01,  1.88328328e-01],\n       [-5.03226714e-01, -7.24979533e-01, -6.73908860e-02,\n        -3.44597613e-01, -2.91780342e-01, -5.06086569e-02],\n       [ 4.61928958e-01, -2.22637817e-01, -3.35271124e-01,\n        -7.59431769e-01, -9.43247605e-01, -1.41260833e-01],\n       [-2.81356317e-01, -1.02089664e+00, -3.42172389e-01,\n        -5.97770284e-01, -7.41267847e-01,  1.96489098e-01],\n       [-4.11911574e-01, -7.88038839e-01, -4.73282694e-01,\n        -3.39774476e-01, -1.20652693e+00, -4.56899029e-01],\n       [-2.32703700e-01, -3.85380800e-01, -6.28323613e-01,\n        -5.55734431e-01, -7.56613658e-02, -3.19222379e-04],\n       [-3.89149315e-01, -1.88370948e-01,  2.37310535e-01,\n        -2.79489592e-01, -4.24756319e-01,  4.24155152e-01],\n       [-8.24938571e-01, -1.02117496e+00,  3.32022686e-01,\n        -5.04749276e-01, -5.14312182e-01,  3.60817198e-01],\n       [-6.99490721e-01, -4.31477674e-01, -2.90141876e-01,\n        -1.66486883e-02, -8.36512531e-01,  1.17108332e-01],\n       [-3.28350609e-01, -4.77019852e-01,  3.46130342e-01,\n        -4.43539533e-01, -8.65900491e-02, -6.33555525e-01]])"
     },
     "execution_count": 23,
     "metadata": {},
     "output_type": "execute_result"
    }
   ],
   "source": [
    "new_x = np.asarray(new_x)\n",
    "new_x[0]"
   ],
   "metadata": {
    "collapsed": false,
    "pycharm": {
     "name": "#%%\n"
    }
   }
  },
  {
   "cell_type": "markdown",
   "source": [
    "Get the features into one 80x36 array and perform feature extraction on it"
   ],
   "metadata": {
    "collapsed": false,
    "pycharm": {
     "name": "#%% md\n"
    }
   }
  },
  {
   "cell_type": "code",
   "execution_count": 29,
   "outputs": [
    {
     "name": "stdout",
     "output_type": "stream",
     "text": [
      "Computing rank from data with rank={'eeg': 30, 'mag': 32}\n",
      "    Setting small MAG eigenvalues to zero (without PCA)\n",
      "Reducing data rank from 32 -> 32\n",
      "Estimating covariance using SHRINKAGE\n",
      "Done.\n",
      "Computing rank from data with rank={'eeg': 30, 'mag': 32}\n",
      "    Setting small MAG eigenvalues to zero (without PCA)\n",
      "Reducing data rank from 32 -> 32\n",
      "Estimating covariance using SHRINKAGE\n",
      "Done.\n",
      "Computing rank from data with rank={'eeg': 30, 'mag': 32}\n",
      "    Setting small MAG eigenvalues to zero (without PCA)\n",
      "Reducing data rank from 32 -> 32\n",
      "Estimating covariance using SHRINKAGE\n",
      "Done.\n"
     ]
    }
   ],
   "source": [
    "# using SKlearn feature Union:\n",
    "from sklearn.pipeline import FeatureUnion\n",
    "union = FeatureUnion([(\"csp\", CSP(n_components=6, reg='shrinkage', log=True, rank=rank))]) #\"feature_ex\", SelectKBest(score_func=mutual_info_classif, k=10)]\n",
    "union.fit(x[0],y_train)\n",
    "\n"
   ],
   "metadata": {
    "collapsed": false,
    "pycharm": {
     "name": "#%%\n"
    }
   }
  },
  {
   "cell_type": "code",
   "execution_count": 31,
   "outputs": [
    {
     "data": {
      "text/plain": "<bound method FeatureUnion.get_params of FeatureUnion(transformer_list=[('csp',\n                                CSP({'component_order': 'mutual_info',\n 'cov_est': 'concat',\n 'cov_method_params': None,\n 'log': True,\n 'n_components': 6,\n 'norm_trace': False,\n 'rank': {'eeg': 30, 'mag': 32},\n 'reg': 'shrinkage',\n 'transform_into': 'average_power'}))])>"
     },
     "execution_count": 31,
     "metadata": {},
     "output_type": "execute_result"
    }
   ],
   "source": [],
   "metadata": {
    "collapsed": false,
    "pycharm": {
     "name": "#%%\n"
    }
   }
  },
  {
   "cell_type": "code",
   "execution_count": null,
   "outputs": [],
   "source": [],
   "metadata": {
    "collapsed": false,
    "pycharm": {
     "name": "#%%\n"
    }
   }
  }
 ],
 "metadata": {
  "kernelspec": {
   "display_name": "Python 3",
   "language": "python",
   "name": "python3"
  },
  "language_info": {
   "codemirror_mode": {
    "name": "ipython",
    "version": 2
   },
   "file_extension": ".py",
   "mimetype": "text/x-python",
   "name": "python",
   "nbconvert_exporter": "python",
   "pygments_lexer": "ipython2",
   "version": "2.7.6"
  }
 },
 "nbformat": 4,
 "nbformat_minor": 0
}